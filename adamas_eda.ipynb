{
 "cells": [
  {
   "cell_type": "code",
   "execution_count": 3,
   "id": "026c40ab",
   "metadata": {
    "tags": []
   },
   "outputs": [],
   "source": [
    "import pandas as pd\n",
    "import numpy as np\n",
    "import itertools\n",
    "import re\n",
    "import datetime as dt\n",
    "import warnings\n",
    "warnings.filterwarnings('ignore')\n",
    "import json\n",
    "\n",
    "pd.options.display.max_columns=None\n",
    "pd.set_option('max_colwidth', 120)\n",
    "pd.set_option('display.width', 500)\n",
    "#pd.options.display.float_format ='{:,.2f}'.format"
   ]
  },
  {
   "cell_type": "code",
   "execution_count": 5,
   "id": "50f1029c",
   "metadata": {
    "tags": []
   },
   "outputs": [],
   "source": [
    "day_now, month_now, year_now = dt.date.today().day, dt.date.today().month, dt.date.today().year\n",
    "adamas = pd.read_csv(fr'C:\\Users\\Trenkin.Sergey\\Desktop\\parsers\\workspace\\adamas_all_{day_now}_{month_now}_{year_now}.csv')"
   ]
  },
  {
   "cell_type": "code",
   "execution_count": 7,
   "id": "5a80a733",
   "metadata": {
    "tags": []
   },
   "outputs": [],
   "source": [
    "adamas.insert(1, 'shop', 'Adamas')"
   ]
  },
  {
   "cell_type": "code",
   "execution_count": 8,
   "id": "d6f64c3a",
   "metadata": {
    "tags": []
   },
   "outputs": [
    {
     "data": {
      "text/html": [
       "<div>\n",
       "<style scoped>\n",
       "    .dataframe tbody tr th:only-of-type {\n",
       "        vertical-align: middle;\n",
       "    }\n",
       "\n",
       "    .dataframe tbody tr th {\n",
       "        vertical-align: top;\n",
       "    }\n",
       "\n",
       "    .dataframe thead th {\n",
       "        text-align: right;\n",
       "    }\n",
       "</style>\n",
       "<table border=\"1\" class=\"dataframe\">\n",
       "  <thead>\n",
       "    <tr style=\"text-align: right;\">\n",
       "      <th></th>\n",
       "      <th>date</th>\n",
       "      <th>shop</th>\n",
       "      <th>group</th>\n",
       "      <th>name</th>\n",
       "      <th>article</th>\n",
       "      <th>weight</th>\n",
       "      <th>size</th>\n",
       "      <th>price_old</th>\n",
       "      <th>price</th>\n",
       "      <th>params</th>\n",
       "      <th>url</th>\n",
       "    </tr>\n",
       "  </thead>\n",
       "  <tbody>\n",
       "    <tr>\n",
       "      <th>0</th>\n",
       "      <td>14.03.2024</td>\n",
       "      <td>Adamas</td>\n",
       "      <td>304</td>\n",
       "      <td>Кольцо</td>\n",
       "      <td>1212150-А501Ф-01</td>\n",
       "      <td>3.30</td>\n",
       "      <td>838.0</td>\n",
       "      <td>97290</td>\n",
       "      <td>58374</td>\n",
       "      <td>[{'Категория': 304}, {'Тип кольца': 319}, {'Цвет металла': 40}, {'Металл': 8}, {'Вставка': 397}, {'Тематика': 2592},...</td>\n",
       "      <td>https://adamas.ru/catalog/rings/1212150-A501F-01/</td>\n",
       "    </tr>\n",
       "    <tr>\n",
       "      <th>1</th>\n",
       "      <td>14.03.2024</td>\n",
       "      <td>Adamas</td>\n",
       "      <td>302</td>\n",
       "      <td>Цепь, плетение Гарибальди</td>\n",
       "      <td>ЦГРП250СА6-А51</td>\n",
       "      <td>7.91</td>\n",
       "      <td>826.0</td>\n",
       "      <td>60990</td>\n",
       "      <td>60990</td>\n",
       "      <td>[{'Категория': 302}, {'Вид плетения': 256}, {'Плетение': 145}, {'Цвет металла': 40}, {'Металл': 8}, {'Вставка': 397}...</td>\n",
       "      <td>https://adamas.ru/catalog/chains/TSGRP250SA6-A51/</td>\n",
       "    </tr>\n",
       "    <tr>\n",
       "      <th>2</th>\n",
       "      <td>14.03.2024</td>\n",
       "      <td>Adamas</td>\n",
       "      <td>304</td>\n",
       "      <td>Кольцо</td>\n",
       "      <td>12039153/01-А50-01</td>\n",
       "      <td>1.81</td>\n",
       "      <td>838.0</td>\n",
       "      <td>56690</td>\n",
       "      <td>34014</td>\n",
       "      <td>[{'Категория': 304}, {'Тип кольца': 319}, {'Цвет металла': 40}, {'Металл': 8}, {'Вставка': 397}, {'Пол': 291}, {'Тем...</td>\n",
       "      <td>https://adamas.ru/catalog/rings/12039153-01-A50-01/</td>\n",
       "    </tr>\n",
       "    <tr>\n",
       "      <th>3</th>\n",
       "      <td>14.03.2024</td>\n",
       "      <td>Adamas</td>\n",
       "      <td>304</td>\n",
       "      <td>Обручальное кольцо из красного золота 585 пробы с бриллиантом</td>\n",
       "      <td>1254553/01-А50Д-41</td>\n",
       "      <td>2.38</td>\n",
       "      <td>821.0</td>\n",
       "      <td>162490</td>\n",
       "      <td>64996</td>\n",
       "      <td>[{'Категория': 304}, {'Тип кольца': 319}, {'Цвет металла': 40}, {'Металл': 8}, {'Вставка': 59}, {'Обработка': 296}, ...</td>\n",
       "      <td>https://adamas.ru/catalog/rings/1254553-01-A50D-41/</td>\n",
       "    </tr>\n",
       "    <tr>\n",
       "      <th>4</th>\n",
       "      <td>14.03.2024</td>\n",
       "      <td>Adamas</td>\n",
       "      <td>305</td>\n",
       "      <td>Серьги из красного золота 585 пробы с бриллиантом</td>\n",
       "      <td>2457923/01-А507Д-41</td>\n",
       "      <td>3.71</td>\n",
       "      <td>NaN</td>\n",
       "      <td>64490</td>\n",
       "      <td>64490</td>\n",
       "      <td>[{'Категория': 305}, {'Тип серег': 321}, {'Цвет металла': 40}, {'Металл': 8}, {'Вставка': 59}, {'Обработка': 294}, {...</td>\n",
       "      <td>https://adamas.ru/catalog/earrings/2457923-01-A507D-41/</td>\n",
       "    </tr>\n",
       "  </tbody>\n",
       "</table>\n",
       "</div>"
      ],
      "text/plain": [
       "         date    shop  group                                                           name              article  weight   size  price_old  price                                                                                                                   params                                                      url\n",
       "0  14.03.2024  Adamas    304                                                         Кольцо     1212150-А501Ф-01    3.30  838.0      97290  58374  [{'Категория': 304}, {'Тип кольца': 319}, {'Цвет металла': 40}, {'Металл': 8}, {'Вставка': 397}, {'Тематика': 2592},...        https://adamas.ru/catalog/rings/1212150-A501F-01/\n",
       "1  14.03.2024  Adamas    302                                      Цепь, плетение Гарибальди       ЦГРП250СА6-А51    7.91  826.0      60990  60990  [{'Категория': 302}, {'Вид плетения': 256}, {'Плетение': 145}, {'Цвет металла': 40}, {'Металл': 8}, {'Вставка': 397}...        https://adamas.ru/catalog/chains/TSGRP250SA6-A51/\n",
       "2  14.03.2024  Adamas    304                                                         Кольцо   12039153/01-А50-01    1.81  838.0      56690  34014  [{'Категория': 304}, {'Тип кольца': 319}, {'Цвет металла': 40}, {'Металл': 8}, {'Вставка': 397}, {'Пол': 291}, {'Тем...      https://adamas.ru/catalog/rings/12039153-01-A50-01/\n",
       "3  14.03.2024  Adamas    304  Обручальное кольцо из красного золота 585 пробы с бриллиантом   1254553/01-А50Д-41    2.38  821.0     162490  64996  [{'Категория': 304}, {'Тип кольца': 319}, {'Цвет металла': 40}, {'Металл': 8}, {'Вставка': 59}, {'Обработка': 296}, ...      https://adamas.ru/catalog/rings/1254553-01-A50D-41/\n",
       "4  14.03.2024  Adamas    305              Серьги из красного золота 585 пробы с бриллиантом  2457923/01-А507Д-41    3.71    NaN      64490  64490  [{'Категория': 305}, {'Тип серег': 321}, {'Цвет металла': 40}, {'Металл': 8}, {'Вставка': 59}, {'Обработка': 294}, {...  https://adamas.ru/catalog/earrings/2457923-01-A507D-41/"
      ]
     },
     "execution_count": 8,
     "metadata": {},
     "output_type": "execute_result"
    }
   ],
   "source": [
    "adamas.head()"
   ]
  },
  {
   "cell_type": "code",
   "execution_count": 9,
   "id": "ba1b84df",
   "metadata": {
    "tags": []
   },
   "outputs": [],
   "source": [
    "def dict_params(x):\n",
    "    dict_list = eval(x)\n",
    "    result = {}\n",
    "    for d in dict_list:\n",
    "        result.update(d)\n",
    "    return result\n",
    "adamas['params'] = adamas['params'].apply(dict_params)"
   ]
  },
  {
   "cell_type": "code",
   "execution_count": 10,
   "id": "1a3f4776",
   "metadata": {
    "tags": []
   },
   "outputs": [],
   "source": [
    "params_keys = list(set(itertools.chain(*[list(p.keys()) for p in adamas['params']])))"
   ]
  },
  {
   "cell_type": "code",
   "execution_count": 11,
   "id": "d2330a75",
   "metadata": {
    "tags": []
   },
   "outputs": [
    {
     "data": {
      "text/plain": [
       "{'',\n",
       " 'Вес',\n",
       " 'Вид',\n",
       " 'Вид замка',\n",
       " 'Вид плетения',\n",
       " 'Вставка',\n",
       " 'Вставки',\n",
       " 'Знак зодиака',\n",
       " 'Категория',\n",
       " 'Количество камней',\n",
       " 'Коллекция',\n",
       " 'Металл',\n",
       " 'Обработка',\n",
       " 'Плетение',\n",
       " 'По случаю',\n",
       " 'Пол',\n",
       " 'Стиль',\n",
       " 'Тематика',\n",
       " 'Тип браслета',\n",
       " 'Тип кольца',\n",
       " 'Тип пирсинга',\n",
       " 'Тип подвески',\n",
       " 'Тип серег',\n",
       " 'Цвет металла'}"
      ]
     },
     "execution_count": 11,
     "metadata": {},
     "output_type": "execute_result"
    }
   ],
   "source": [
    "set(params_keys)"
   ]
  },
  {
   "cell_type": "code",
   "execution_count": 12,
   "id": "ad4b438a",
   "metadata": {
    "tags": []
   },
   "outputs": [],
   "source": [
    "adamas[['color_metal', 'metal', 'insert']] = np.nan\n",
    "for i in adamas.index:\n",
    "    par_keys = adamas['params'][i].keys()\n",
    "    try:\n",
    "        if 'Цвет металла' in par_keys:\n",
    "            adamas['color_metal'][i] = adamas['params'][i]['Цвет металла']\n",
    "        if 'Металл' in par_keys:\n",
    "            adamas['metal'][i] = adamas['params'][i]['Металл']\n",
    "        if 'Вставка' in par_keys:\n",
    "            adamas['insert'][i] = adamas['params'][i]['Вставка']\n",
    "        if 'Вставки' in par_keys:\n",
    "            adamas['insert'][i] = adamas['params'][i]['Вставки']\n",
    "    except:\n",
    "        if 'Вставка' in par_keys:\n",
    "            try:\n",
    "                adamas['insert'][i] = ', '.join(map(str, adamas['params'][i]['Вставка']))\n",
    "            except Exception as e:\n",
    "                print(i)\n",
    "                print(e)"
   ]
  },
  {
   "cell_type": "code",
   "execution_count": 13,
   "id": "370ba92a",
   "metadata": {
    "tags": []
   },
   "outputs": [],
   "source": [
    "group_dict = {\n",
    "    304: 'Кольца',\n",
    "    302: 'Цепи',\n",
    "    305: 'Серьги',\n",
    "    303: 'Браслеты',\n",
    "    306: 'Подвески',\n",
    "    307: 'Колье',\n",
    "    308: 'Броши',\n",
    "    311: 'Пирсинг',\n",
    "    315: 'Слиток золота'\n",
    "}"
   ]
  },
  {
   "cell_type": "code",
   "execution_count": 14,
   "id": "dfbe0842",
   "metadata": {
    "tags": []
   },
   "outputs": [],
   "source": [
    "for i in adamas['group'].unique():\n",
    "    if i not in group_dict.keys():\n",
    "        print(i)"
   ]
  },
  {
   "cell_type": "code",
   "execution_count": 15,
   "id": "4fd8e98d-ba43-4940-827a-c6af25e7838a",
   "metadata": {
    "tags": []
   },
   "outputs": [
    {
     "data": {
      "text/html": [
       "<div>\n",
       "<style scoped>\n",
       "    .dataframe tbody tr th:only-of-type {\n",
       "        vertical-align: middle;\n",
       "    }\n",
       "\n",
       "    .dataframe tbody tr th {\n",
       "        vertical-align: top;\n",
       "    }\n",
       "\n",
       "    .dataframe thead th {\n",
       "        text-align: right;\n",
       "    }\n",
       "</style>\n",
       "<table border=\"1\" class=\"dataframe\">\n",
       "  <thead>\n",
       "    <tr style=\"text-align: right;\">\n",
       "      <th></th>\n",
       "      <th>date</th>\n",
       "      <th>shop</th>\n",
       "      <th>group</th>\n",
       "      <th>name</th>\n",
       "      <th>article</th>\n",
       "      <th>weight</th>\n",
       "      <th>size</th>\n",
       "      <th>price_old</th>\n",
       "      <th>price</th>\n",
       "      <th>params</th>\n",
       "      <th>url</th>\n",
       "      <th>color_metal</th>\n",
       "      <th>metal</th>\n",
       "      <th>insert</th>\n",
       "    </tr>\n",
       "  </thead>\n",
       "  <tbody>\n",
       "  </tbody>\n",
       "</table>\n",
       "</div>"
      ],
      "text/plain": [
       "Empty DataFrame\n",
       "Columns: [date, shop, group, name, article, weight, size, price_old, price, params, url, color_metal, metal, insert]\n",
       "Index: []"
      ]
     },
     "execution_count": 15,
     "metadata": {},
     "output_type": "execute_result"
    }
   ],
   "source": [
    "adamas.query(\"group == 315\")"
   ]
  },
  {
   "cell_type": "code",
   "execution_count": 16,
   "id": "36a7f117",
   "metadata": {
    "tags": []
   },
   "outputs": [],
   "source": [
    "adamas['group_new'] = np.nan\n",
    "for i in adamas.index:\n",
    "    adamas['group_new'][i] = group_dict[adamas['group'][i]]\n",
    "adamas['group_new'], adamas['group'] = adamas['group'], adamas['group_new']"
   ]
  },
  {
   "cell_type": "code",
   "execution_count": 17,
   "id": "0a26ea81",
   "metadata": {
    "tags": []
   },
   "outputs": [],
   "source": [
    "adamas['metal'] = adamas['metal'].astype('int')"
   ]
  },
  {
   "cell_type": "code",
   "execution_count": 18,
   "id": "5f79962b",
   "metadata": {
    "tags": []
   },
   "outputs": [],
   "source": [
    "metal_dict = {\n",
    "    3: 'Серебро 925',\n",
    "    8: 'Золото 585',\n",
    "    18: 'Не драгоценный',\n",
    "    9: 'Золото 750'\n",
    "}"
   ]
  },
  {
   "cell_type": "code",
   "execution_count": 19,
   "id": "b247257a",
   "metadata": {
    "tags": []
   },
   "outputs": [],
   "source": [
    "for i in adamas['metal'].unique():\n",
    "    if i not in metal_dict.keys():\n",
    "        print(i)\n",
    "        print(adamas[adamas['metal'] == i].head(1))\n",
    "        print('='*100)"
   ]
  },
  {
   "cell_type": "code",
   "execution_count": 20,
   "id": "9cf5c9cf",
   "metadata": {
    "tags": []
   },
   "outputs": [],
   "source": [
    "adamas['metal_new'] = np.nan\n",
    "for i in adamas.index:\n",
    "    adamas['metal_new'][i] = metal_dict[adamas['metal'][i]]\n",
    "adamas['metal_new'], adamas['metal'] = adamas['metal'], adamas['metal_new']"
   ]
  },
  {
   "cell_type": "code",
   "execution_count": 21,
   "id": "85f7cb0f",
   "metadata": {
    "tags": []
   },
   "outputs": [],
   "source": [
    "color_metal_dict ={\n",
    "    40: 'Красный',\n",
    "    37: 'Белый',\n",
    "    38: 'Желтый',\n",
    "    0: 'Не определено'\n",
    "}"
   ]
  },
  {
   "cell_type": "code",
   "execution_count": 22,
   "id": "8c1086af",
   "metadata": {
    "tags": []
   },
   "outputs": [],
   "source": [
    "adamas['color_metal'] = adamas['color_metal'].fillna(0).astype('int')"
   ]
  },
  {
   "cell_type": "code",
   "execution_count": 23,
   "id": "b1d7949f",
   "metadata": {
    "tags": []
   },
   "outputs": [],
   "source": [
    "for i in adamas['color_metal'].unique():\n",
    "    if i not in color_metal_dict.keys():\n",
    "        print(i)"
   ]
  },
  {
   "cell_type": "code",
   "execution_count": 24,
   "id": "46acf7bd",
   "metadata": {
    "tags": []
   },
   "outputs": [],
   "source": [
    "adamas['color_met'] = np.nan\n",
    "for i in adamas.index:\n",
    "    adamas['color_met'][i] = color_metal_dict[adamas['color_metal'][i]]\n",
    "adamas['color_met'], adamas['color_metal'] = adamas['color_metal'], adamas['color_met']"
   ]
  },
  {
   "cell_type": "code",
   "execution_count": 25,
   "id": "66084120",
   "metadata": {
    "tags": []
   },
   "outputs": [],
   "source": [
    "adamas['proba'] = adamas['metal'].apply(lambda x: x.split(' ')[1])"
   ]
  },
  {
   "cell_type": "code",
   "execution_count": 26,
   "id": "a63e8c74",
   "metadata": {
    "tags": []
   },
   "outputs": [
    {
     "data": {
      "text/plain": [
       "array(['Кольца', 'Цепи', 'Серьги', 'Подвески', 'Браслеты', 'Колье',\n",
       "       'Пирсинг', 'Броши'], dtype=object)"
      ]
     },
     "execution_count": 26,
     "metadata": {},
     "output_type": "execute_result"
    }
   ],
   "source": [
    "adamas.group.unique()"
   ]
  },
  {
   "cell_type": "code",
   "execution_count": 27,
   "id": "0f9a3202",
   "metadata": {
    "tags": []
   },
   "outputs": [],
   "source": [
    "adamas['sizes'] = 'Нет информации'"
   ]
  },
  {
   "cell_type": "code",
   "execution_count": 28,
   "id": "7f23a500",
   "metadata": {
    "tags": []
   },
   "outputs": [],
   "source": [
    "adamas.loc[(adamas['insert'] == 397), 'insert'] = 'Без вставки'\n",
    "adamas.loc[(adamas['insert'] == 106), 'insert'] = 'Фианит'\n",
    "adamas.loc[(adamas['insert'] == '<без вставок>'), 'insert'] = 'Без вставки'"
   ]
  },
  {
   "cell_type": "code",
   "execution_count": 29,
   "id": "aed4f0e0",
   "metadata": {
    "tags": []
   },
   "outputs": [],
   "source": [
    "adamas['type_insert'] = np.where(\n",
    "    adamas['insert'].str.lower().str.contains('бр|рубин|сапф|изумруд'), 'Драг', np.where(\n",
    "    adamas['insert'].str.contains('Бр|БР'), 'Драг', np.where(\n",
    "    adamas['insert'].str.lower().str.contains('аквамар|пер|ренит|лудраг|sky| гр |ончр|азурит|патит|арабин|ирит|топ|амет|ризокол|топлон|акрил|гранат|праз|марказ|жем|кварц|морганит|оникс|опал|перламутр|родолит|ситалл|султанит|топаз|турмалин|параиба|хризолит|цитрин|циркон|циркон|сваровски|александрит|шпинель|янтарь|керамика|агат|танзанит|хрусталь|муассанит|кристалл|коралл|малахит|смола|корунд|лабрадорит|лунный|бирюза|амазонит|авантюрин|вулканическая|ляпис|рубеллит|финифть|иолит|празиолит|дюмортьерит'), 'Полудраг', np.where(\n",
    "    adamas['insert'].str.lower().str.contains('фиан|стекло|фианит'), 'Фианит', np.where(\n",
    "    adamas['insert'].str.lower().str.contains('эмаль|без вставки'), 'Без вставки', 'другое'\n",
    ")))))"
   ]
  },
  {
   "cell_type": "code",
   "execution_count": 30,
   "id": "2ee00bbf",
   "metadata": {
    "tags": []
   },
   "outputs": [
    {
     "data": {
      "text/plain": [
       "insert\n",
       "белое золото                               5\n",
       "1 Янт овал-кабошон 14.00*10.00             2\n",
       "1 Мал площадка 10.00*7.00                  2\n",
       "2 Мал площадка 10.00*7.00                  1\n",
       "16 Турм овал 7.00*5.00,8 Турм круг 1.25    1\n",
       "130 из (O) круг 1.25 3/3 0.764             1\n",
       "130 Руб (F) круг 1.25 2/2 1.444            1\n",
       "1 Swarovski Ф Круг 3.00 0.040 б/ц          1\n",
       "Name: count, dtype: int64"
      ]
     },
     "execution_count": 30,
     "metadata": {},
     "output_type": "execute_result"
    }
   ],
   "source": [
    "adamas[adamas['type_insert'] == 'другое']['insert'].value_counts()"
   ]
  },
  {
   "cell_type": "code",
   "execution_count": 31,
   "id": "a792c80c",
   "metadata": {
    "tags": []
   },
   "outputs": [
    {
     "data": {
      "text/plain": [
       "type_insert\n",
       "Драг           2848\n",
       "Полудраг        730\n",
       "Без вставки     493\n",
       "Фианит          237\n",
       "другое           14\n",
       "Name: count, dtype: int64"
      ]
     },
     "execution_count": 31,
     "metadata": {},
     "output_type": "execute_result"
    }
   ],
   "source": [
    "adamas['type_insert'].value_counts()"
   ]
  },
  {
   "cell_type": "code",
   "execution_count": 32,
   "id": "5e42de7d",
   "metadata": {
    "tags": []
   },
   "outputs": [],
   "source": [
    "for i in adamas[adamas['type_insert'] == 'другое'].index:\n",
    "    if type(adamas['params'][i]['Вставка']) != int:\n",
    "        adamas['insert'][i] = ', '.join([str(i) for i in adamas['params'][i]['Вставка']])\n",
    "    else:\n",
    "        adamas['insert'][i] = str(adamas['params'][i]['Вставка'])"
   ]
  },
  {
   "cell_type": "code",
   "execution_count": 33,
   "id": "785fd1db",
   "metadata": {
    "tags": []
   },
   "outputs": [],
   "source": [
    "adamas.loc[(adamas['insert'] == '397'), 'insert'] = 'Без вставки'\n",
    "adamas.loc[(adamas['insert'] == '117'), 'insert'] = 'Янтарь'\n",
    "adamas.loc[(adamas['insert'] == '78'), 'insert'] = 'Малахит'\n",
    "adamas.loc[(adamas['insert'] == '79, 397'), 'insert'] = 'Полудрагоценный микс'\n",
    "adamas.loc[(adamas['insert'] == '106, 397'), 'insert'] = 'Фианит'\n",
    "adamas.loc[(adamas['insert'] == '105, 106'), 'insert'] = 'Турмалин, Фианит'"
   ]
  },
  {
   "cell_type": "code",
   "execution_count": 34,
   "id": "b75ee253",
   "metadata": {
    "tags": []
   },
   "outputs": [],
   "source": [
    "adamas['type_insert'] = np.where(\n",
    "    adamas['insert'].str.lower().str.contains('бр|рубин|сапф|изумруд'), 'Драг', np.where(\n",
    "    adamas['insert'].str.contains('Бр|БР'), 'Драг', np.where(\n",
    "    adamas['insert'].str.lower().str.contains('аквамар|пер|ренит|лудраг|sky| гр |ончр|азурит|патит|арабин|ирит|топ|амет|ризокол|топлон|акрил|гранат|праз|марказ|жем|кварц|морганит|оникс|опал|перламутр|родолит|ситалл|султанит|топаз|турмалин|параиба|хризолит|цитрин|циркон|циркон|сваровски|александрит|шпинель|янтарь|керамика|агат|танзанит|хрусталь|муассанит|кристалл|коралл|малахит|смола|корунд|лабрадорит|лунный|бирюза|амазонит|авантюрин|вулканическая|ляпис|рубеллит|финифть|иолит|празиолит|дюмортьерит'), 'Полудраг', np.where(\n",
    "    adamas['insert'].str.lower().str.contains('фиан|стекло|фианит'), 'Фианит', np.where(\n",
    "    adamas['insert'].str.lower().str.contains('эмаль|без вставки'), 'Без вставки', 'другое'\n",
    ")))))"
   ]
  },
  {
   "cell_type": "code",
   "execution_count": 35,
   "id": "fc27ca0f",
   "metadata": {
    "tags": []
   },
   "outputs": [
    {
     "data": {
      "text/plain": [
       "3"
      ]
     },
     "execution_count": 35,
     "metadata": {},
     "output_type": "execute_result"
    }
   ],
   "source": [
    "adamas[adamas['type_insert'] == 'другое'].shape[0]"
   ]
  },
  {
   "cell_type": "code",
   "execution_count": 36,
   "id": "c698de81",
   "metadata": {
    "scrolled": true,
    "tags": []
   },
   "outputs": [
    {
     "data": {
      "text/plain": [
       "type_insert\n",
       "Драг           2848\n",
       "Полудраг        736\n",
       "Без вставки     498\n",
       "Фианит          237\n",
       "другое            3\n",
       "Name: count, dtype: int64"
      ]
     },
     "execution_count": 36,
     "metadata": {},
     "output_type": "execute_result"
    }
   ],
   "source": [
    "adamas['type_insert'].value_counts()"
   ]
  },
  {
   "cell_type": "code",
   "execution_count": 37,
   "id": "8cfd29f7",
   "metadata": {
    "tags": []
   },
   "outputs": [],
   "source": [
    "adamas_fin = adamas[[\n",
    "    'date', 'shop', 'group', 'article', 'name', 'metal', 'color_metal', 'proba', 'weight', 'sizes', 'insert', 'type_insert', \n",
    "    'params', 'price_old', 'price', 'url'\n",
    "]]"
   ]
  },
  {
   "cell_type": "code",
   "execution_count": 38,
   "id": "c97a0ebe",
   "metadata": {
    "tags": []
   },
   "outputs": [],
   "source": [
    "adamas_fin.columns = [\n",
    "    'Дата парсинга', 'Наименование конкурента', 'Группа товаров', 'Артикул', 'Название изделия', 'Материал', 'Цвет металла', \n",
    "    'Проба', 'Вес', 'Размерный ряд', 'Вставка', 'Тип вставки', 'Прочая информация', 'Цена до скидок', 'Цена со скидками', \n",
    "    'Ссылка'\n",
    "\n",
    "]"
   ]
  },
  {
   "cell_type": "code",
   "execution_count": 39,
   "id": "7856ca34",
   "metadata": {
    "scrolled": true,
    "tags": []
   },
   "outputs": [
    {
     "data": {
      "text/html": [
       "<div>\n",
       "<style scoped>\n",
       "    .dataframe tbody tr th:only-of-type {\n",
       "        vertical-align: middle;\n",
       "    }\n",
       "\n",
       "    .dataframe tbody tr th {\n",
       "        vertical-align: top;\n",
       "    }\n",
       "\n",
       "    .dataframe thead th {\n",
       "        text-align: right;\n",
       "    }\n",
       "</style>\n",
       "<table border=\"1\" class=\"dataframe\">\n",
       "  <thead>\n",
       "    <tr style=\"text-align: right;\">\n",
       "      <th></th>\n",
       "      <th>Дата парсинга</th>\n",
       "      <th>Наименование конкурента</th>\n",
       "      <th>Группа товаров</th>\n",
       "      <th>Артикул</th>\n",
       "      <th>Название изделия</th>\n",
       "      <th>Материал</th>\n",
       "      <th>Цвет металла</th>\n",
       "      <th>Проба</th>\n",
       "      <th>Вес</th>\n",
       "      <th>Размерный ряд</th>\n",
       "      <th>Вставка</th>\n",
       "      <th>Тип вставки</th>\n",
       "      <th>Прочая информация</th>\n",
       "      <th>Цена до скидок</th>\n",
       "      <th>Цена со скидками</th>\n",
       "      <th>Ссылка</th>\n",
       "    </tr>\n",
       "  </thead>\n",
       "  <tbody>\n",
       "    <tr>\n",
       "      <th>0</th>\n",
       "      <td>14.03.2024</td>\n",
       "      <td>Adamas</td>\n",
       "      <td>Кольца</td>\n",
       "      <td>1212150-А501Ф-01</td>\n",
       "      <td>Кольцо</td>\n",
       "      <td>Золото 585</td>\n",
       "      <td>Красный</td>\n",
       "      <td>585</td>\n",
       "      <td>3.30</td>\n",
       "      <td>Нет информации</td>\n",
       "      <td>Без вставки</td>\n",
       "      <td>Без вставки</td>\n",
       "      <td>{'Категория': 304, 'Тип кольца': 319, 'Цвет металла': 40, 'Металл': 8, 'Вставка': 397, 'Тематика': 2592, 'Вес': '3.3'}</td>\n",
       "      <td>97290</td>\n",
       "      <td>58374</td>\n",
       "      <td>https://adamas.ru/catalog/rings/1212150-A501F-01/</td>\n",
       "    </tr>\n",
       "    <tr>\n",
       "      <th>1</th>\n",
       "      <td>14.03.2024</td>\n",
       "      <td>Adamas</td>\n",
       "      <td>Цепи</td>\n",
       "      <td>ЦГРП250СА6-А51</td>\n",
       "      <td>Цепь, плетение Гарибальди</td>\n",
       "      <td>Золото 585</td>\n",
       "      <td>Красный</td>\n",
       "      <td>585</td>\n",
       "      <td>7.91</td>\n",
       "      <td>Нет информации</td>\n",
       "      <td>Без вставки</td>\n",
       "      <td>Без вставки</td>\n",
       "      <td>{'Категория': 302, 'Вид плетения': 256, 'Плетение': 145, 'Цвет металла': 40, 'Металл': 8, 'Вставка': 397, 'Обработка...</td>\n",
       "      <td>60990</td>\n",
       "      <td>60990</td>\n",
       "      <td>https://adamas.ru/catalog/chains/TSGRP250SA6-A51/</td>\n",
       "    </tr>\n",
       "    <tr>\n",
       "      <th>2</th>\n",
       "      <td>14.03.2024</td>\n",
       "      <td>Adamas</td>\n",
       "      <td>Кольца</td>\n",
       "      <td>12039153/01-А50-01</td>\n",
       "      <td>Кольцо</td>\n",
       "      <td>Золото 585</td>\n",
       "      <td>Красный</td>\n",
       "      <td>585</td>\n",
       "      <td>1.81</td>\n",
       "      <td>Нет информации</td>\n",
       "      <td>Без вставки</td>\n",
       "      <td>Без вставки</td>\n",
       "      <td>{'Категория': 304, 'Тип кольца': 319, 'Цвет металла': 40, 'Металл': 8, 'Вставка': 397, 'Пол': 291, 'Тематика': 2592,...</td>\n",
       "      <td>56690</td>\n",
       "      <td>34014</td>\n",
       "      <td>https://adamas.ru/catalog/rings/12039153-01-A50-01/</td>\n",
       "    </tr>\n",
       "    <tr>\n",
       "      <th>3</th>\n",
       "      <td>14.03.2024</td>\n",
       "      <td>Adamas</td>\n",
       "      <td>Кольца</td>\n",
       "      <td>1254553/01-А50Д-41</td>\n",
       "      <td>Обручальное кольцо из красного золота 585 пробы с бриллиантом</td>\n",
       "      <td>Золото 585</td>\n",
       "      <td>Красный</td>\n",
       "      <td>585</td>\n",
       "      <td>2.38</td>\n",
       "      <td>Нет информации</td>\n",
       "      <td>3 Бриллиант Круг 57 0.009 200-400 4/6А;</td>\n",
       "      <td>Драг</td>\n",
       "      <td>{'Категория': 304, 'Тип кольца': 319, 'Цвет металла': 40, 'Металл': 8, 'Вставка': 59, 'Обработка': 296, 'Вид': [1260...</td>\n",
       "      <td>162490</td>\n",
       "      <td>64996</td>\n",
       "      <td>https://adamas.ru/catalog/rings/1254553-01-A50D-41/</td>\n",
       "    </tr>\n",
       "    <tr>\n",
       "      <th>4</th>\n",
       "      <td>14.03.2024</td>\n",
       "      <td>Adamas</td>\n",
       "      <td>Серьги</td>\n",
       "      <td>2457923/01-А507Д-41</td>\n",
       "      <td>Серьги из красного золота 585 пробы с бриллиантом</td>\n",
       "      <td>Золото 585</td>\n",
       "      <td>Красный</td>\n",
       "      <td>585</td>\n",
       "      <td>3.71</td>\n",
       "      <td>Нет информации</td>\n",
       "      <td>40 бриллианты 0,11802ct 2/3А кр-17 ; 2 бриллианты 0,05782ct 4/6А кр-57</td>\n",
       "      <td>Драг</td>\n",
       "      <td>{'Категория': 305, 'Тип серег': 321, 'Цвет металла': 40, 'Металл': 8, 'Вставка': 59, 'Обработка': 294, 'Пол': 291, '...</td>\n",
       "      <td>64490</td>\n",
       "      <td>64490</td>\n",
       "      <td>https://adamas.ru/catalog/earrings/2457923-01-A507D-41/</td>\n",
       "    </tr>\n",
       "  </tbody>\n",
       "</table>\n",
       "</div>"
      ],
      "text/plain": [
       "  Дата парсинга Наименование конкурента Группа товаров              Артикул                                               Название изделия    Материал Цвет металла Проба   Вес   Размерный ряд                                                                 Вставка  Тип вставки                                                                                                        Прочая информация  Цена до скидок  Цена со скидками                                                   Ссылка\n",
       "0    14.03.2024                  Adamas         Кольца     1212150-А501Ф-01                                                         Кольцо  Золото 585      Красный   585  3.30  Нет информации                                                             Без вставки  Без вставки   {'Категория': 304, 'Тип кольца': 319, 'Цвет металла': 40, 'Металл': 8, 'Вставка': 397, 'Тематика': 2592, 'Вес': '3.3'}           97290             58374        https://adamas.ru/catalog/rings/1212150-A501F-01/\n",
       "1    14.03.2024                  Adamas           Цепи       ЦГРП250СА6-А51                                      Цепь, плетение Гарибальди  Золото 585      Красный   585  7.91  Нет информации                                                             Без вставки  Без вставки  {'Категория': 302, 'Вид плетения': 256, 'Плетение': 145, 'Цвет металла': 40, 'Металл': 8, 'Вставка': 397, 'Обработка...           60990             60990        https://adamas.ru/catalog/chains/TSGRP250SA6-A51/\n",
       "2    14.03.2024                  Adamas         Кольца   12039153/01-А50-01                                                         Кольцо  Золото 585      Красный   585  1.81  Нет информации                                                             Без вставки  Без вставки  {'Категория': 304, 'Тип кольца': 319, 'Цвет металла': 40, 'Металл': 8, 'Вставка': 397, 'Пол': 291, 'Тематика': 2592,...           56690             34014      https://adamas.ru/catalog/rings/12039153-01-A50-01/\n",
       "3    14.03.2024                  Adamas         Кольца   1254553/01-А50Д-41  Обручальное кольцо из красного золота 585 пробы с бриллиантом  Золото 585      Красный   585  2.38  Нет информации                                 3 Бриллиант Круг 57 0.009 200-400 4/6А;         Драг  {'Категория': 304, 'Тип кольца': 319, 'Цвет металла': 40, 'Металл': 8, 'Вставка': 59, 'Обработка': 296, 'Вид': [1260...          162490             64996      https://adamas.ru/catalog/rings/1254553-01-A50D-41/\n",
       "4    14.03.2024                  Adamas         Серьги  2457923/01-А507Д-41              Серьги из красного золота 585 пробы с бриллиантом  Золото 585      Красный   585  3.71  Нет информации  40 бриллианты 0,11802ct 2/3А кр-17 ; 2 бриллианты 0,05782ct 4/6А кр-57         Драг  {'Категория': 305, 'Тип серег': 321, 'Цвет металла': 40, 'Металл': 8, 'Вставка': 59, 'Обработка': 294, 'Пол': 291, '...           64490             64490  https://adamas.ru/catalog/earrings/2457923-01-A507D-41/"
      ]
     },
     "execution_count": 39,
     "metadata": {},
     "output_type": "execute_result"
    }
   ],
   "source": [
    "adamas_fin.head()"
   ]
  },
  {
   "cell_type": "code",
   "execution_count": 40,
   "id": "560c0eca",
   "metadata": {
    "tags": []
   },
   "outputs": [],
   "source": [
    "adamas_fin.to_csv(rf'\\\\gold585.int\\uk\\Общее хранилище файлов\\Служба аналитики\\МЮР\\parsed_data\\adamas_all_{day_now}_{month_now}_{year_now}.csv', index=False)"
   ]
  },
  {
   "cell_type": "code",
   "execution_count": 41,
   "id": "32048b0f",
   "metadata": {},
   "outputs": [],
   "source": [
    "adamas_fin.to_csv(rf'C:\\Users\\Trenkin.Sergey\\Desktop\\parsers\\workspace\\adamas_all_{day_now}_{month_now}_{year_now}.csv', index=False)"
   ]
  },
  {
   "cell_type": "code",
   "execution_count": null,
   "id": "154be52d",
   "metadata": {},
   "outputs": [],
   "source": []
  }
 ],
 "metadata": {
  "kernelspec": {
   "display_name": "Python 3 (ipykernel)",
   "language": "python",
   "name": "python3"
  },
  "language_info": {
   "codemirror_mode": {
    "name": "ipython",
    "version": 3
   },
   "file_extension": ".py",
   "mimetype": "text/x-python",
   "name": "python",
   "nbconvert_exporter": "python",
   "pygments_lexer": "ipython3",
   "version": "3.12.0"
  }
 },
 "nbformat": 4,
 "nbformat_minor": 5
}
