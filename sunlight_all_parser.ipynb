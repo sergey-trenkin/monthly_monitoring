{
 "cells": [
  {
   "cell_type": "code",
   "execution_count": 2,
   "id": "0de2798c-82a4-4564-9f25-675ef49ea9a7",
   "metadata": {
    "tags": []
   },
   "outputs": [],
   "source": [
    "import json\n",
    "import re\n",
    "import time\n",
    "import requests\n",
    "import numpy as np\n",
    "import pandas as pd\n",
    "import os\n",
    "import glob\n",
    "from tqdm.auto import tqdm\n",
    "from datetime import datetime\n",
    "from bs4 import BeautifulSoup\n",
    "from fake_useragent import UserAgent\n",
    "import warnings\n",
    "warnings.filterwarnings('ignore')\n",
    "from random import choice"
   ]
  },
  {
   "cell_type": "code",
   "execution_count": 3,
   "id": "6073ea0a-a53b-4c27-9a06-2c13d2c38e0e",
   "metadata": {
    "tags": []
   },
   "outputs": [],
   "source": [
    "current_datetime = datetime.now().strftime(\"%d-%m-%Y\")\n",
    "month_now = datetime.now().month\n",
    "day_now = datetime.now().day"
   ]
  },
  {
   "cell_type": "code",
   "execution_count": 4,
   "id": "f1b2c84c-310c-4502-8df1-f40d8729159c",
   "metadata": {
    "tags": []
   },
   "outputs": [],
   "source": [
    "# proxy_list = []\n",
    "# with open(r'C:\\Users\\Trenkin.Sergey\\Downloads\\Proxy-23-01-2024.txt','r') as reader :\n",
    "#     for line in reader :\n",
    "#         proxy = line.split('\\n', 1)[0]\n",
    "#         http_proxy =  'socks5://'+proxy\n",
    "#         https_proxy = 'socks5://'+proxy\n",
    "#         proxy_list.append({\n",
    "#             'http': http_proxy,\n",
    "#             'https': https_proxy,\n",
    "#         })"
   ]
  },
  {
   "cell_type": "markdown",
   "id": "28c397fc-d1ff-43b7-9815-46ec328e9fb5",
   "metadata": {},
   "source": [
    "# Cookies and Headers для парсинга скидки и цены"
   ]
  },
  {
   "cell_type": "code",
   "execution_count": 5,
   "id": "8f8f8bd1-9a62-4c54-b774-8aa3a44c1d1d",
   "metadata": {
    "tags": []
   },
   "outputs": [],
   "source": [
    "cookies_discount = {\n",
    "    'tmr_lvid': '286726132090325c59b36aa6b5e4aeaa',\n",
    "    'tmr_lvidTS': '1692163620235',\n",
    "    '_ym_uid': '1692163620496112993',\n",
    "    '_ym_d': '1692163620',\n",
    "    'city_id': '118',\n",
    "    'city_name': '%D0%A1%D0%B0%D0%BD%D0%BA%D1%82-%D0%9F%D0%B5%D1%82%D0%B5%D1%80%D0%B1%D1%83%D1%80%D0%B3',\n",
    "    'city_full_name': '%D0%A1%D0%B0%D0%BD%D0%BA%D1%82-%D0%9F%D0%B5%D1%82%D0%B5%D1%80%D0%B1%D1%83%D1%80%D0%B3',\n",
    "    'region_id': '090a0c31-3b91-49a3-aa35-0c784898170b',\n",
    "    'region_name': '%D0%A1%D0%B0%D0%BD%D0%BA%D1%82-%D0%9F%D0%B5%D1%82%D0%B5%D1%80%D0%B1%D1%83%D1%80%D0%B3',\n",
    "    'region_subdomain': 'spb',\n",
    "    '_tt_enable_cookie': '1',\n",
    "    '_ttp': 'tbKEEA3IkGrgdKpaT6-HRNf0K8h',\n",
    "    'ccart': 'off',\n",
    "    'uxs_uid': '898ab7e0-3bf5-11ee-8efe-f5b770db12a1',\n",
    "    'loggedin': '%D0%AE%D1%80%D0%B8%D0%B9',\n",
    "    'cseid': 'f4935df6bdac0029832e99cef94a5bc2',\n",
    "    'sessionid': 'nr24mlml3ze25rk734gkkmgx3yv9ou7x',\n",
    "    'authorization': 'true',\n",
    "    'mindboxDeviceUUID': 'c254fa3f-cfcd-4146-9778-65be21c6a4df',\n",
    "    'directCrm-session': '%7B%22deviceGuid%22%3A%22c254fa3f-cfcd-4146-9778-65be21c6a4df%22%7D',\n",
    "    'auid': '651660ce-a06e-4b17-bd6f-69feaf135b08:1r5lu8:WYtTZugo2xVE6SqAc5ZSp_W-n1s5ztPHYxPs8YIwGQA',\n",
    "    '_ga_G74SVHM1ZG': 'GS1.2.1700824600.19.0.1700824600.60.0.0',\n",
    "    '_ga_GRDJMMMRHQ': 'GS1.2.1700824600.33.0.1700824601.59.0.0',\n",
    "    '_ga_GRSMPDQ6SE': 'GS1.2.1700824598.88.1.1700825516.60.0.0',\n",
    "    '_ga_M9ZHPEJXBM': 'GS1.2.1700824599.88.1.1700825517.60.0.0',\n",
    "    'qr-go-to-the-app-banner': '1',\n",
    "    'sncid': 'b36ee46b-981d-11e5-add2-0050568f2465:1rBa43:O1Wy8KuwGDddSCM7NMHFsjGhdPaqxcjhdblvWWbVams',\n",
    "    'clt': 'new_old',\n",
    "    '_ym_isad': '2',\n",
    "    '_gid': 'GA1.2.2131018395.1702274408',\n",
    "    'city_auto_popup_shown': '1',\n",
    "    '_ym_visorc': 'b',\n",
    "    '_ga': 'GA1.2.333284150.1692163620',\n",
    "    '_ga_HJNSJ6NG5J': 'GS1.1.1702276831.120.1.1702280271.20.0.0',\n",
    "    'digi_uc': 'W1sidiIsIjM0OTMxNCIsMTcwMjI4MTIxMjA0Nl0sWyJ2IiwiODQwMjIiLDE3MDIyODAyMzEzNjZdLFsidiIsIjQ2Nzk3IiwxNzAyMjgwMTI4Mzc3XSxbInYiLCI5OTM3NTQiLDE3MDIyNzgwMTczMjddLFsidiIsIjE0NjUyMSIsMTcwMjI3NzI5NDExM10sWyJ2IiwiOTI2ODAiLDE3MDIyNzY5NDQ1NDRdLFsidiIsIjg4MjEzIiwxNzAxODU5MjE3OTg0XSxbInYiLCI5MTAyMSIsMTcwMTg1OTA2ODA2MF0sWyJ2IiwiOTg3MDUwIiwxNzAxNzc4NDc0NzY5XSxbInYiLCIyNTYyMTciLDE3MDEzNDIzNTc4NTRdXQ==',\n",
    "}\n",
    "\n",
    "headers_discount = {\n",
    "    'AB-TESTS': '{}',\n",
    "    'Accept': 'application/json, text/javascript, */*; q=0.01',\n",
    "    'Accept-Language': 'ru-RU,ru;q=0.9,en-US;q=0.8,en;q=0.7',\n",
    "    'Connection': 'keep-alive',\n",
    "    'Content-Type': 'application/json',\n",
    "    # 'Cookie': 'tmr_lvid=286726132090325c59b36aa6b5e4aeaa; tmr_lvidTS=1692163620235; _ym_uid=1692163620496112993; _ym_d=1692163620; city_id=118; city_name=%D0%A1%D0%B0%D0%BD%D0%BA%D1%82-%D0%9F%D0%B5%D1%82%D0%B5%D1%80%D0%B1%D1%83%D1%80%D0%B3; city_full_name=%D0%A1%D0%B0%D0%BD%D0%BA%D1%82-%D0%9F%D0%B5%D1%82%D0%B5%D1%80%D0%B1%D1%83%D1%80%D0%B3; region_id=090a0c31-3b91-49a3-aa35-0c784898170b; region_name=%D0%A1%D0%B0%D0%BD%D0%BA%D1%82-%D0%9F%D0%B5%D1%82%D0%B5%D1%80%D0%B1%D1%83%D1%80%D0%B3; region_subdomain=spb; _tt_enable_cookie=1; _ttp=tbKEEA3IkGrgdKpaT6-HRNf0K8h; ccart=off; uxs_uid=898ab7e0-3bf5-11ee-8efe-f5b770db12a1; loggedin=%D0%AE%D1%80%D0%B8%D0%B9; cseid=f4935df6bdac0029832e99cef94a5bc2; sessionid=nr24mlml3ze25rk734gkkmgx3yv9ou7x; authorization=true; mindboxDeviceUUID=c254fa3f-cfcd-4146-9778-65be21c6a4df; directCrm-session=%7B%22deviceGuid%22%3A%22c254fa3f-cfcd-4146-9778-65be21c6a4df%22%7D; auid=651660ce-a06e-4b17-bd6f-69feaf135b08:1r5lu8:WYtTZugo2xVE6SqAc5ZSp_W-n1s5ztPHYxPs8YIwGQA; _ga_G74SVHM1ZG=GS1.2.1700824600.19.0.1700824600.60.0.0; _ga_GRDJMMMRHQ=GS1.2.1700824600.33.0.1700824601.59.0.0; _ga_GRSMPDQ6SE=GS1.2.1700824598.88.1.1700825516.60.0.0; _ga_M9ZHPEJXBM=GS1.2.1700824599.88.1.1700825517.60.0.0; qr-go-to-the-app-banner=1; sncid=b36ee46b-981d-11e5-add2-0050568f2465:1rBa43:O1Wy8KuwGDddSCM7NMHFsjGhdPaqxcjhdblvWWbVams; clt=new_old; _ym_isad=2; _gid=GA1.2.2131018395.1702274408; city_auto_popup_shown=1; _ym_visorc=b; _ga=GA1.2.333284150.1692163620; _ga_HJNSJ6NG5J=GS1.1.1702276831.120.1.1702280271.20.0.0; digi_uc=W1sidiIsIjM0OTMxNCIsMTcwMjI4MTIxMjA0Nl0sWyJ2IiwiODQwMjIiLDE3MDIyODAyMzEzNjZdLFsidiIsIjQ2Nzk3IiwxNzAyMjgwMTI4Mzc3XSxbInYiLCI5OTM3NTQiLDE3MDIyNzgwMTczMjddLFsidiIsIjE0NjUyMSIsMTcwMjI3NzI5NDExM10sWyJ2IiwiOTI2ODAiLDE3MDIyNzY5NDQ1NDRdLFsidiIsIjg4MjEzIiwxNzAxODU5MjE3OTg0XSxbInYiLCI5MTAyMSIsMTcwMTg1OTA2ODA2MF0sWyJ2IiwiOTg3MDUwIiwxNzAxNzc4NDc0NzY5XSxbInYiLCIyNTYyMTciLDE3MDEzNDIzNTc4NTRdXQ==',\n",
    "    'Origin': 'https://spb.sunlight.net',\n",
    "    'Sec-Fetch-Dest': 'empty',\n",
    "    'Sec-Fetch-Mode': 'cors',\n",
    "    'Sec-Fetch-Site': 'same-site',\n",
    "    'User-Agent': 'Mozilla/5.0 (Windows NT 10.0; Win64; x64) AppleWebKit/537.36 (KHTML, like Gecko) Chrome/120.0.0.0 Safari/537.36',\n",
    "    'X-Requested-With': 'SunlightFrontendApp',\n",
    "    'sec-ch-ua': '\"Not_A Brand\";v=\"8\", \"Chromium\";v=\"120\", \"Google Chrome\";v=\"120\"',\n",
    "    'sec-ch-ua-mobile': '?0',\n",
    "    'sec-ch-ua-platform': '\"Windows\"',\n",
    "}\n",
    "\n",
    "# params = {\n",
    "#     'article': '35517',\n",
    "#     'city_id': '118',\n",
    "# }\n",
    "\n",
    "# response = requests.get(\n",
    "#     'https://api.sunlight.net/v6/catalog/products/card/purchase/',\n",
    "#     params=params,\n",
    "#     cookies=cookies_discount,\n",
    "#     headers=headers_discount,\n",
    "# )"
   ]
  },
  {
   "cell_type": "markdown",
   "id": "80c71c8e-ef5b-4839-9dfc-1e6182abcd2c",
   "metadata": {},
   "source": [
    "# Сбор скидок и цен"
   ]
  },
  {
   "cell_type": "code",
   "execution_count": 6,
   "id": "544d1d64-1b8a-4c62-a5b4-529f239d6cb5",
   "metadata": {
    "tags": []
   },
   "outputs": [],
   "source": [
    "def get_personal_price(table):\n",
    "    data_price = []\n",
    "    for art in tqdm(range(len(table['article']))):\n",
    "        # prx = choice(proxy_list)\n",
    "        params = {\n",
    "            'article': table['article'][art],\n",
    "            'city_id': '118'\n",
    "        }\n",
    "        try:\n",
    "            price_json = requests.get(\n",
    "                'https://api.sunlight.net/v6/catalog/products/card/prices/',\n",
    "                params=params,\n",
    "                cookies=cookies_discount,\n",
    "                headers=headers_discount,\n",
    "                timeout=15,\n",
    "                verify=False\n",
    "        )\n",
    "        except:\n",
    "            time.sleep(6)\n",
    "            price_json = requests.get(\n",
    "                'https://api.sunlight.net/v6/catalog/products/card/prices/',\n",
    "                params=params,\n",
    "                cookies=cookies_discount,\n",
    "                headers=headers_discount,\n",
    "                timeout=15,\n",
    "                verify=False\n",
    "                            )\n",
    "        try:\n",
    "            discount_json = requests.get(\n",
    "                'https://api.sunlight.net/v6/catalog/products/card/purchase/',\n",
    "                params=params,\n",
    "                cookies=cookies_discount,\n",
    "                headers=headers_discount,\n",
    "                timeout=15,\n",
    "                verify=False\n",
    "                            )\n",
    "        except:\n",
    "            time.sleep(6)\n",
    "            discount_json = requests.get(\n",
    "                'https://api.sunlight.net/v6/catalog/products/card/purchase/',\n",
    "                params=params,\n",
    "                cookies=cookies_discount,\n",
    "                headers=headers_discount,\n",
    "                timeout=15,\n",
    "                verify=False\n",
    "                            )\n",
    "        discount = []\n",
    "        try:\n",
    "            price_old = price_json.json()['content']['default_price']['base_sum']\n",
    "        except:\n",
    "            price_old = np.nan\n",
    "        try:\n",
    "            price = price_json.json()['content']['default_price'][('result_sum')]\n",
    "        except:\n",
    "            price = np.nan\n",
    "        try:\n",
    "            price_personal = price_json.json()['content']['default_price']['personal_block']['value']\n",
    "        except:\n",
    "            price_personal = np.nan\n",
    "\n",
    "        try:\n",
    "            for i in range(len(discount_json.json()['content']['nameplates'])):\n",
    "                discount.append(discount_json.json()['content']['nameplates'][i]['text']['label'])\n",
    "        except:\n",
    "            discount.append(np.nan)\n",
    "            \n",
    "        data_price.append({\n",
    "            'article': table['article'][art],\n",
    "            'price_old': price_old,\n",
    "            'price': price,\n",
    "            'price_personal': price_personal,\n",
    "            'discount': discount\n",
    "\n",
    "        })\n",
    "    return data_price"
   ]
  },
  {
   "cell_type": "markdown",
   "id": "039dc4ab-e90b-422e-a7eb-da872ef9a0cc",
   "metadata": {},
   "source": [
    "# Сбор цены, названия, группы, артикула"
   ]
  },
  {
   "cell_type": "code",
   "execution_count": 7,
   "id": "18788b3a-7f05-42fc-8856-81487b576762",
   "metadata": {},
   "outputs": [],
   "source": [
    "def get_sunlight(soup):\n",
    "    try:\n",
    "        price = soup.find(class_=\"supreme-product-card__price-discount-price\").text\n",
    "        price = re.sub(r'\\D', '', str(price))\n",
    "    except:\n",
    "        price = np.nan\n",
    "    try:\n",
    "        name_product = soup.find('h1', class_=\"supreme-product-card__about-title\").text\n",
    "    except:\n",
    "        name_product = np.nan\n",
    "    try:\n",
    "        group_product = soup.find_all('span', {'property': 'name'})[1].text\n",
    "    except:\n",
    "        group_product = np.nan\n",
    "    try:\n",
    "        article_product = soup.find_all('div', class_=\"supreme-product-card__product-article\")[0].find('span').text\n",
    "        article_product = re.sub('\\D', '', str(article_product))\n",
    "    except:\n",
    "        article_product = np.nan\n",
    "    return price, name_product, group_product, article_product"
   ]
  },
  {
   "cell_type": "markdown",
   "id": "9147182a-9bbe-4c10-99f5-e7c12cea41ac",
   "metadata": {},
   "source": [
    "# Сбор всех параметров словарем"
   ]
  },
  {
   "cell_type": "code",
   "execution_count": 8,
   "id": "54919764-c77c-48ed-87a7-f0821c4ffbd6",
   "metadata": {
    "tags": []
   },
   "outputs": [],
   "source": [
    "def get_params(soup):\n",
    "    names = []\n",
    "    values = []\n",
    "    leight = len(soup.find_all('span', {'class': 'supreme-product-card-description__item-text'}))\n",
    "    list_names = soup.find_all('div', {'class': 'supreme-product-card-description__item-title'})[-leight:]\n",
    "    for i in range(leight):\n",
    "        try:\n",
    "            nam = list_names[i].text\n",
    "            names.append(nam.replace('\\n', '').strip())\n",
    "        except:\n",
    "            names.append(np.nan)\n",
    "        try:\n",
    "            values.append(soup.find_all('span', {'class': 'supreme-product-card-description__item-text'})[i].text)\n",
    "        except:\n",
    "            values.append(np.nan)\n",
    "    sunlight_params = dict(zip(names, values))\n",
    "    return sunlight_params"
   ]
  },
  {
   "cell_type": "markdown",
   "id": "e3a98a99-7b19-4585-8689-7664e5a26baf",
   "metadata": {
    "tags": []
   },
   "source": [
    "# Сбор ссылок"
   ]
  },
  {
   "cell_type": "code",
   "execution_count": 20,
   "id": "340b4cef-0f0b-4bab-93c0-d2c5c5b79393",
   "metadata": {
    "tags": []
   },
   "outputs": [],
   "source": [
    "def get_links(url_sunlight):\n",
    "    home = 'https://sunlight.net'\n",
    "    links = []\n",
    "    pages_max = 250\n",
    "    pages = int(pages_max + 1)\n",
    "    for i in tqdm(range(1, pages)):\n",
    "        url = f'{url_sunlight}&page={i}'\n",
    "        resp = requests.get(url, headers={'User-Agent': UserAgent().chrome}, verify=False, timeout=70)\n",
    "        soup = BeautifulSoup(resp.text, 'html.parser')\n",
    "        for link in soup.find_all('div', class_=\"cl-item js-cl-item\"):\n",
    "            links.append(home + link.find('a', href=True)['href'])\n",
    "    links = list(map(lambda x: x.replace('#product-reviews', ''), links))\n",
    "    return links"
   ]
  },
  {
   "cell_type": "code",
   "execution_count": 21,
   "id": "32007c87-98fb-4fc1-87d5-998e0387e134",
   "metadata": {
    "tags": []
   },
   "outputs": [],
   "source": [
    "# proxy = {'http': f'socks5://{choice(proxy_list)}','https': f'socks5://{choice(proxy_list)}'}\n",
    "# print(proxy)"
   ]
  },
  {
   "cell_type": "code",
   "execution_count": 22,
   "id": "4c34b1f3-2ad9-4f33-b927-a9288ba8ebfe",
   "metadata": {
    "tags": []
   },
   "outputs": [],
   "source": [
    "# proxy = choice(proxy_list)\n",
    "# print(proxy)"
   ]
  },
  {
   "cell_type": "markdown",
   "id": "3ed459ba-afaf-4562-afd3-38fc8accc435",
   "metadata": {
    "tags": []
   },
   "source": [
    "# Общий сбор данных"
   ]
  },
  {
   "cell_type": "code",
   "execution_count": 23,
   "id": "4ff1e528-5aad-43fa-bb38-7a84fd5871d9",
   "metadata": {
    "tags": []
   },
   "outputs": [],
   "source": [
    "def sunlight_parser(links):\n",
    "    data = []\n",
    "    click = 0\n",
    "    for link_pars in tqdm(links):\n",
    "        # prx = choice(proxy_list)\n",
    "        try:\n",
    "            resp = requests.get(link_pars, headers={'User-Agent': UserAgent().chrome}, timeout=70, verify=False)\n",
    "        except:\n",
    "            time.sleep(6)\n",
    "            resp = requests.get(link_pars, headers={'User-Agent': UserAgent().chrome}, timeout=70, verify=False)\n",
    "        good = BeautifulSoup(resp.text, 'lxml')\n",
    "        data.append({\"date\": current_datetime,\n",
    "                    \"competitor\": \"Sunlight\",\n",
    "                    \"name\": get_sunlight(good)[1],\n",
    "                    \"group\": get_sunlight(good)[2],\n",
    "                    \"params\": get_params(good),\n",
    "                    \"price\": get_sunlight(good)[0],\n",
    "                    \"article\": get_sunlight(good)[3],\n",
    "                    'url': link_pars\n",
    "                    })\n",
    "        if click == 50:\n",
    "            click = 0\n",
    "            time.sleep(0.5)\n",
    "        else:\n",
    "            continue\n",
    "    data = pd.DataFrame(data)\n",
    "    return data"
   ]
  },
  {
   "cell_type": "code",
   "execution_count": 24,
   "id": "c8a8da36-e515-4a32-9e1a-da4b5607da23",
   "metadata": {
    "tags": []
   },
   "outputs": [
    {
     "data": {
      "application/vnd.jupyter.widget-view+json": {
       "model_id": "f63604bb225348559fe3b77639cc6591",
       "version_major": 2,
       "version_minor": 0
      },
      "text/plain": [
       "  0%|          | 0/250 [00:00<?, ?it/s]"
      ]
     },
     "metadata": {},
     "output_type": "display_data"
    }
   ],
   "source": [
    "links_sunlight = get_links('https://spb.sunlight.net/catalog/?proba=2494')"
   ]
  },
  {
   "cell_type": "code",
   "execution_count": 27,
   "id": "814a6cdd",
   "metadata": {},
   "outputs": [],
   "source": [
    "b = pd.DataFrame(links_sunlight)"
   ]
  },
  {
   "cell_type": "code",
   "execution_count": 28,
   "id": "9c932189",
   "metadata": {},
   "outputs": [
    {
     "data": {
      "text/plain": [
       "14934"
      ]
     },
     "execution_count": 28,
     "metadata": {},
     "output_type": "execute_result"
    }
   ],
   "source": [
    "len(b.drop_duplicates())"
   ]
  },
  {
   "cell_type": "code",
   "execution_count": 29,
   "id": "e448f1c9-0512-4bec-a461-fccb0e3fcf80",
   "metadata": {
    "tags": []
   },
   "outputs": [],
   "source": [
    "# Чтобы данные точно собрались нужно разделить ссылки на 100 чанков\n",
    "chunks = np.array_split(links_sunlight, 100)"
   ]
  },
  {
   "cell_type": "code",
   "execution_count": 30,
   "id": "289e454a-ff1d-4c0c-a012-f3a6427f81df",
   "metadata": {
    "tags": []
   },
   "outputs": [
    {
     "name": "stdout",
     "output_type": "stream",
     "text": [
      "начало парсинга 1 части ссылок\n"
     ]
    },
    {
     "data": {
      "application/vnd.jupyter.widget-view+json": {
       "model_id": "753f857a356f4a15bb86b61333f5f0c2",
       "version_major": 2,
       "version_minor": 0
      },
      "text/plain": [
       "  0%|          | 0/150 [00:00<?, ?it/s]"
      ]
     },
     "metadata": {},
     "output_type": "display_data"
    },
    {
     "name": "stdout",
     "output_type": "stream",
     "text": [
      "\n",
      "------------------------------------\n",
      "начало парсинга 2 части ссылок\n"
     ]
    },
    {
     "data": {
      "application/vnd.jupyter.widget-view+json": {
       "model_id": "98bb4045718f4d8a8a27d977338f5517",
       "version_major": 2,
       "version_minor": 0
      },
      "text/plain": [
       "  0%|          | 0/150 [00:00<?, ?it/s]"
      ]
     },
     "metadata": {},
     "output_type": "display_data"
    },
    {
     "name": "stdout",
     "output_type": "stream",
     "text": [
      "\n",
      "------------------------------------\n",
      "начало парсинга 3 части ссылок\n"
     ]
    },
    {
     "data": {
      "application/vnd.jupyter.widget-view+json": {
       "model_id": "fc5be802d0fc46a1af44c0e76057ae19",
       "version_major": 2,
       "version_minor": 0
      },
      "text/plain": [
       "  0%|          | 0/150 [00:00<?, ?it/s]"
      ]
     },
     "metadata": {},
     "output_type": "display_data"
    },
    {
     "name": "stdout",
     "output_type": "stream",
     "text": [
      "\n",
      "------------------------------------\n",
      "начало парсинга 4 части ссылок\n"
     ]
    },
    {
     "data": {
      "application/vnd.jupyter.widget-view+json": {
       "model_id": "d9dbee5eb8034173867505aeebbbb336",
       "version_major": 2,
       "version_minor": 0
      },
      "text/plain": [
       "  0%|          | 0/150 [00:00<?, ?it/s]"
      ]
     },
     "metadata": {},
     "output_type": "display_data"
    },
    {
     "name": "stdout",
     "output_type": "stream",
     "text": [
      "\n",
      "------------------------------------\n",
      "начало парсинга 5 части ссылок\n"
     ]
    },
    {
     "data": {
      "application/vnd.jupyter.widget-view+json": {
       "model_id": "4c6ae9b476e2475f88cc60389c0e481e",
       "version_major": 2,
       "version_minor": 0
      },
      "text/plain": [
       "  0%|          | 0/150 [00:00<?, ?it/s]"
      ]
     },
     "metadata": {},
     "output_type": "display_data"
    },
    {
     "name": "stdout",
     "output_type": "stream",
     "text": [
      "\n",
      "------------------------------------\n",
      "начало парсинга 6 части ссылок\n"
     ]
    },
    {
     "data": {
      "application/vnd.jupyter.widget-view+json": {
       "model_id": "b8bb93f248064cb0975008718b98af17",
       "version_major": 2,
       "version_minor": 0
      },
      "text/plain": [
       "  0%|          | 0/150 [00:00<?, ?it/s]"
      ]
     },
     "metadata": {},
     "output_type": "display_data"
    },
    {
     "name": "stdout",
     "output_type": "stream",
     "text": [
      "\n",
      "------------------------------------\n",
      "начало парсинга 7 части ссылок\n"
     ]
    },
    {
     "data": {
      "application/vnd.jupyter.widget-view+json": {
       "model_id": "3d2452db33d043479607bda982238547",
       "version_major": 2,
       "version_minor": 0
      },
      "text/plain": [
       "  0%|          | 0/150 [00:00<?, ?it/s]"
      ]
     },
     "metadata": {},
     "output_type": "display_data"
    },
    {
     "name": "stdout",
     "output_type": "stream",
     "text": [
      "\n",
      "------------------------------------\n",
      "начало парсинга 8 части ссылок\n"
     ]
    },
    {
     "data": {
      "application/vnd.jupyter.widget-view+json": {
       "model_id": "0b22eb6e07344f9ab82fde34b06cda61",
       "version_major": 2,
       "version_minor": 0
      },
      "text/plain": [
       "  0%|          | 0/150 [00:00<?, ?it/s]"
      ]
     },
     "metadata": {},
     "output_type": "display_data"
    },
    {
     "name": "stdout",
     "output_type": "stream",
     "text": [
      "\n",
      "------------------------------------\n",
      "начало парсинга 9 части ссылок\n"
     ]
    },
    {
     "data": {
      "application/vnd.jupyter.widget-view+json": {
       "model_id": "5a11259a6a754af9bacb5ef4dfe52424",
       "version_major": 2,
       "version_minor": 0
      },
      "text/plain": [
       "  0%|          | 0/150 [00:00<?, ?it/s]"
      ]
     },
     "metadata": {},
     "output_type": "display_data"
    },
    {
     "name": "stdout",
     "output_type": "stream",
     "text": [
      "\n",
      "------------------------------------\n",
      "начало парсинга 10 части ссылок\n"
     ]
    },
    {
     "data": {
      "application/vnd.jupyter.widget-view+json": {
       "model_id": "2bc314c1d1064ecab15a96f2f9e43f76",
       "version_major": 2,
       "version_minor": 0
      },
      "text/plain": [
       "  0%|          | 0/150 [00:00<?, ?it/s]"
      ]
     },
     "metadata": {},
     "output_type": "display_data"
    },
    {
     "name": "stdout",
     "output_type": "stream",
     "text": [
      "\n",
      "------------------------------------\n",
      "начало парсинга 11 части ссылок\n"
     ]
    },
    {
     "data": {
      "application/vnd.jupyter.widget-view+json": {
       "model_id": "0e5a27e479c94869aab6771c1cdee9cd",
       "version_major": 2,
       "version_minor": 0
      },
      "text/plain": [
       "  0%|          | 0/150 [00:00<?, ?it/s]"
      ]
     },
     "metadata": {},
     "output_type": "display_data"
    },
    {
     "name": "stdout",
     "output_type": "stream",
     "text": [
      "\n",
      "------------------------------------\n",
      "начало парсинга 12 части ссылок\n"
     ]
    },
    {
     "data": {
      "application/vnd.jupyter.widget-view+json": {
       "model_id": "4d16fe91fc734d1c95d5ca051c72ea11",
       "version_major": 2,
       "version_minor": 0
      },
      "text/plain": [
       "  0%|          | 0/150 [00:00<?, ?it/s]"
      ]
     },
     "metadata": {},
     "output_type": "display_data"
    },
    {
     "name": "stdout",
     "output_type": "stream",
     "text": [
      "\n",
      "------------------------------------\n",
      "начало парсинга 13 части ссылок\n"
     ]
    },
    {
     "data": {
      "application/vnd.jupyter.widget-view+json": {
       "model_id": "5ee7b9779fa94cffb8e258e5ccd4edce",
       "version_major": 2,
       "version_minor": 0
      },
      "text/plain": [
       "  0%|          | 0/150 [00:00<?, ?it/s]"
      ]
     },
     "metadata": {},
     "output_type": "display_data"
    },
    {
     "name": "stdout",
     "output_type": "stream",
     "text": [
      "\n",
      "------------------------------------\n",
      "начало парсинга 14 части ссылок\n"
     ]
    },
    {
     "data": {
      "application/vnd.jupyter.widget-view+json": {
       "model_id": "bc20cbb50c7141fd83985c4f31b8c96f",
       "version_major": 2,
       "version_minor": 0
      },
      "text/plain": [
       "  0%|          | 0/150 [00:00<?, ?it/s]"
      ]
     },
     "metadata": {},
     "output_type": "display_data"
    },
    {
     "name": "stdout",
     "output_type": "stream",
     "text": [
      "\n",
      "------------------------------------\n",
      "начало парсинга 15 части ссылок\n"
     ]
    },
    {
     "data": {
      "application/vnd.jupyter.widget-view+json": {
       "model_id": "66a96fd6f6484506b0b241b559b21ff6",
       "version_major": 2,
       "version_minor": 0
      },
      "text/plain": [
       "  0%|          | 0/150 [00:00<?, ?it/s]"
      ]
     },
     "metadata": {},
     "output_type": "display_data"
    },
    {
     "name": "stdout",
     "output_type": "stream",
     "text": [
      "\n",
      "------------------------------------\n",
      "начало парсинга 16 части ссылок\n"
     ]
    },
    {
     "data": {
      "application/vnd.jupyter.widget-view+json": {
       "model_id": "2bfb730c7546457aad918b703dc98d7e",
       "version_major": 2,
       "version_minor": 0
      },
      "text/plain": [
       "  0%|          | 0/150 [00:00<?, ?it/s]"
      ]
     },
     "metadata": {},
     "output_type": "display_data"
    },
    {
     "name": "stdout",
     "output_type": "stream",
     "text": [
      "\n",
      "------------------------------------\n",
      "начало парсинга 17 части ссылок\n"
     ]
    },
    {
     "data": {
      "application/vnd.jupyter.widget-view+json": {
       "model_id": "68f9766a629a4a9aa96d4a8e2d1f1b15",
       "version_major": 2,
       "version_minor": 0
      },
      "text/plain": [
       "  0%|          | 0/150 [00:00<?, ?it/s]"
      ]
     },
     "metadata": {},
     "output_type": "display_data"
    },
    {
     "name": "stdout",
     "output_type": "stream",
     "text": [
      "\n",
      "------------------------------------\n",
      "начало парсинга 18 части ссылок\n"
     ]
    },
    {
     "data": {
      "application/vnd.jupyter.widget-view+json": {
       "model_id": "f534fbf6b6474d249ea81750d86ff7c0",
       "version_major": 2,
       "version_minor": 0
      },
      "text/plain": [
       "  0%|          | 0/150 [00:00<?, ?it/s]"
      ]
     },
     "metadata": {},
     "output_type": "display_data"
    },
    {
     "name": "stdout",
     "output_type": "stream",
     "text": [
      "\n",
      "------------------------------------\n",
      "начало парсинга 19 части ссылок\n"
     ]
    },
    {
     "data": {
      "application/vnd.jupyter.widget-view+json": {
       "model_id": "b3ac80982ed64cb589469a345dc55cfd",
       "version_major": 2,
       "version_minor": 0
      },
      "text/plain": [
       "  0%|          | 0/150 [00:00<?, ?it/s]"
      ]
     },
     "metadata": {},
     "output_type": "display_data"
    },
    {
     "name": "stdout",
     "output_type": "stream",
     "text": [
      "\n",
      "------------------------------------\n",
      "начало парсинга 20 части ссылок\n"
     ]
    },
    {
     "data": {
      "application/vnd.jupyter.widget-view+json": {
       "model_id": "9dd16f2b73664890a8d997136591a34b",
       "version_major": 2,
       "version_minor": 0
      },
      "text/plain": [
       "  0%|          | 0/150 [00:00<?, ?it/s]"
      ]
     },
     "metadata": {},
     "output_type": "display_data"
    },
    {
     "name": "stdout",
     "output_type": "stream",
     "text": [
      "\n",
      "------------------------------------\n",
      "начало парсинга 21 части ссылок\n"
     ]
    },
    {
     "data": {
      "application/vnd.jupyter.widget-view+json": {
       "model_id": "945c3abbe8bb40cfbbfc49cb9e3b1c6f",
       "version_major": 2,
       "version_minor": 0
      },
      "text/plain": [
       "  0%|          | 0/150 [00:00<?, ?it/s]"
      ]
     },
     "metadata": {},
     "output_type": "display_data"
    },
    {
     "name": "stdout",
     "output_type": "stream",
     "text": [
      "\n",
      "------------------------------------\n",
      "начало парсинга 22 части ссылок\n"
     ]
    },
    {
     "data": {
      "application/vnd.jupyter.widget-view+json": {
       "model_id": "420d9401f9a34c45abc6a26dc8d0e865",
       "version_major": 2,
       "version_minor": 0
      },
      "text/plain": [
       "  0%|          | 0/150 [00:00<?, ?it/s]"
      ]
     },
     "metadata": {},
     "output_type": "display_data"
    },
    {
     "name": "stdout",
     "output_type": "stream",
     "text": [
      "\n",
      "------------------------------------\n",
      "начало парсинга 23 части ссылок\n"
     ]
    },
    {
     "data": {
      "application/vnd.jupyter.widget-view+json": {
       "model_id": "6e42791445814946ab983a715abfe2be",
       "version_major": 2,
       "version_minor": 0
      },
      "text/plain": [
       "  0%|          | 0/150 [00:00<?, ?it/s]"
      ]
     },
     "metadata": {},
     "output_type": "display_data"
    },
    {
     "name": "stdout",
     "output_type": "stream",
     "text": [
      "\n",
      "------------------------------------\n",
      "начало парсинга 24 части ссылок\n"
     ]
    },
    {
     "data": {
      "application/vnd.jupyter.widget-view+json": {
       "model_id": "a661d9ab549a4d28bc5e1b768200e8ba",
       "version_major": 2,
       "version_minor": 0
      },
      "text/plain": [
       "  0%|          | 0/150 [00:00<?, ?it/s]"
      ]
     },
     "metadata": {},
     "output_type": "display_data"
    },
    {
     "name": "stdout",
     "output_type": "stream",
     "text": [
      "\n",
      "------------------------------------\n",
      "начало парсинга 25 части ссылок\n"
     ]
    },
    {
     "data": {
      "application/vnd.jupyter.widget-view+json": {
       "model_id": "a03e421d33f94274b29b2075954d1f11",
       "version_major": 2,
       "version_minor": 0
      },
      "text/plain": [
       "  0%|          | 0/150 [00:00<?, ?it/s]"
      ]
     },
     "metadata": {},
     "output_type": "display_data"
    },
    {
     "name": "stdout",
     "output_type": "stream",
     "text": [
      "\n",
      "------------------------------------\n",
      "начало парсинга 26 части ссылок\n"
     ]
    },
    {
     "data": {
      "application/vnd.jupyter.widget-view+json": {
       "model_id": "d9da5f3168f248eca1a5631e90014906",
       "version_major": 2,
       "version_minor": 0
      },
      "text/plain": [
       "  0%|          | 0/150 [00:00<?, ?it/s]"
      ]
     },
     "metadata": {},
     "output_type": "display_data"
    },
    {
     "name": "stdout",
     "output_type": "stream",
     "text": [
      "\n",
      "------------------------------------\n",
      "начало парсинга 27 части ссылок\n"
     ]
    },
    {
     "data": {
      "application/vnd.jupyter.widget-view+json": {
       "model_id": "15fd0055a1de44898b0c4a091ec1de29",
       "version_major": 2,
       "version_minor": 0
      },
      "text/plain": [
       "  0%|          | 0/150 [00:00<?, ?it/s]"
      ]
     },
     "metadata": {},
     "output_type": "display_data"
    },
    {
     "name": "stdout",
     "output_type": "stream",
     "text": [
      "\n",
      "------------------------------------\n",
      "начало парсинга 28 части ссылок\n"
     ]
    },
    {
     "data": {
      "application/vnd.jupyter.widget-view+json": {
       "model_id": "b7a203f08e7b484b91023b19b95e6e3b",
       "version_major": 2,
       "version_minor": 0
      },
      "text/plain": [
       "  0%|          | 0/150 [00:00<?, ?it/s]"
      ]
     },
     "metadata": {},
     "output_type": "display_data"
    },
    {
     "name": "stdout",
     "output_type": "stream",
     "text": [
      "\n",
      "------------------------------------\n",
      "начало парсинга 29 части ссылок\n"
     ]
    },
    {
     "data": {
      "application/vnd.jupyter.widget-view+json": {
       "model_id": "305cd7848aba4f41a59f96ce1782516e",
       "version_major": 2,
       "version_minor": 0
      },
      "text/plain": [
       "  0%|          | 0/150 [00:00<?, ?it/s]"
      ]
     },
     "metadata": {},
     "output_type": "display_data"
    },
    {
     "name": "stdout",
     "output_type": "stream",
     "text": [
      "\n",
      "------------------------------------\n",
      "начало парсинга 30 части ссылок\n"
     ]
    },
    {
     "data": {
      "application/vnd.jupyter.widget-view+json": {
       "model_id": "9ab401cb7cc642c1a14a63f10e80eb69",
       "version_major": 2,
       "version_minor": 0
      },
      "text/plain": [
       "  0%|          | 0/150 [00:00<?, ?it/s]"
      ]
     },
     "metadata": {},
     "output_type": "display_data"
    },
    {
     "name": "stdout",
     "output_type": "stream",
     "text": [
      "\n",
      "------------------------------------\n",
      "начало парсинга 31 части ссылок\n"
     ]
    },
    {
     "data": {
      "application/vnd.jupyter.widget-view+json": {
       "model_id": "b2b09214660748a290560a1f1f0675f4",
       "version_major": 2,
       "version_minor": 0
      },
      "text/plain": [
       "  0%|          | 0/150 [00:00<?, ?it/s]"
      ]
     },
     "metadata": {},
     "output_type": "display_data"
    },
    {
     "name": "stdout",
     "output_type": "stream",
     "text": [
      "\n",
      "------------------------------------\n",
      "начало парсинга 32 части ссылок\n"
     ]
    },
    {
     "data": {
      "application/vnd.jupyter.widget-view+json": {
       "model_id": "5e538d66a9824076aaec5ccc64b2cf2d",
       "version_major": 2,
       "version_minor": 0
      },
      "text/plain": [
       "  0%|          | 0/150 [00:00<?, ?it/s]"
      ]
     },
     "metadata": {},
     "output_type": "display_data"
    },
    {
     "name": "stdout",
     "output_type": "stream",
     "text": [
      "\n",
      "------------------------------------\n",
      "начало парсинга 33 части ссылок\n"
     ]
    },
    {
     "data": {
      "application/vnd.jupyter.widget-view+json": {
       "model_id": "9978da560d1c428385b0dfb642cba61e",
       "version_major": 2,
       "version_minor": 0
      },
      "text/plain": [
       "  0%|          | 0/150 [00:00<?, ?it/s]"
      ]
     },
     "metadata": {},
     "output_type": "display_data"
    },
    {
     "name": "stdout",
     "output_type": "stream",
     "text": [
      "\n",
      "------------------------------------\n",
      "начало парсинга 34 части ссылок\n"
     ]
    },
    {
     "data": {
      "application/vnd.jupyter.widget-view+json": {
       "model_id": "80307a8748aa432d860c9ae44fd9f1b5",
       "version_major": 2,
       "version_minor": 0
      },
      "text/plain": [
       "  0%|          | 0/150 [00:00<?, ?it/s]"
      ]
     },
     "metadata": {},
     "output_type": "display_data"
    },
    {
     "name": "stdout",
     "output_type": "stream",
     "text": [
      "\n",
      "------------------------------------\n",
      "начало парсинга 35 части ссылок\n"
     ]
    },
    {
     "data": {
      "application/vnd.jupyter.widget-view+json": {
       "model_id": "c0993ab026a24e88a97b85f8a27a9500",
       "version_major": 2,
       "version_minor": 0
      },
      "text/plain": [
       "  0%|          | 0/150 [00:00<?, ?it/s]"
      ]
     },
     "metadata": {},
     "output_type": "display_data"
    },
    {
     "name": "stdout",
     "output_type": "stream",
     "text": [
      "\n",
      "------------------------------------\n",
      "начало парсинга 36 части ссылок\n"
     ]
    },
    {
     "data": {
      "application/vnd.jupyter.widget-view+json": {
       "model_id": "114d1cb9a8924b95b62556b629964bc6",
       "version_major": 2,
       "version_minor": 0
      },
      "text/plain": [
       "  0%|          | 0/150 [00:00<?, ?it/s]"
      ]
     },
     "metadata": {},
     "output_type": "display_data"
    },
    {
     "name": "stdout",
     "output_type": "stream",
     "text": [
      "\n",
      "------------------------------------\n",
      "начало парсинга 37 части ссылок\n"
     ]
    },
    {
     "data": {
      "application/vnd.jupyter.widget-view+json": {
       "model_id": "d51a8074214d479aaf2dfbbf5b0cf2db",
       "version_major": 2,
       "version_minor": 0
      },
      "text/plain": [
       "  0%|          | 0/150 [00:00<?, ?it/s]"
      ]
     },
     "metadata": {},
     "output_type": "display_data"
    },
    {
     "name": "stdout",
     "output_type": "stream",
     "text": [
      "\n",
      "------------------------------------\n",
      "начало парсинга 38 части ссылок\n"
     ]
    },
    {
     "data": {
      "application/vnd.jupyter.widget-view+json": {
       "model_id": "1fc74d63c23f44699b706e203f996df3",
       "version_major": 2,
       "version_minor": 0
      },
      "text/plain": [
       "  0%|          | 0/150 [00:00<?, ?it/s]"
      ]
     },
     "metadata": {},
     "output_type": "display_data"
    },
    {
     "name": "stdout",
     "output_type": "stream",
     "text": [
      "\n",
      "------------------------------------\n",
      "начало парсинга 39 части ссылок\n"
     ]
    },
    {
     "data": {
      "application/vnd.jupyter.widget-view+json": {
       "model_id": "c7ec2bdb9d4f4fd0a57595bb3ebbddfd",
       "version_major": 2,
       "version_minor": 0
      },
      "text/plain": [
       "  0%|          | 0/150 [00:00<?, ?it/s]"
      ]
     },
     "metadata": {},
     "output_type": "display_data"
    },
    {
     "name": "stdout",
     "output_type": "stream",
     "text": [
      "\n",
      "------------------------------------\n",
      "начало парсинга 40 части ссылок\n"
     ]
    },
    {
     "data": {
      "application/vnd.jupyter.widget-view+json": {
       "model_id": "e91805481d1b44daad8acec9c8adcdbc",
       "version_major": 2,
       "version_minor": 0
      },
      "text/plain": [
       "  0%|          | 0/150 [00:00<?, ?it/s]"
      ]
     },
     "metadata": {},
     "output_type": "display_data"
    },
    {
     "name": "stdout",
     "output_type": "stream",
     "text": [
      "\n",
      "------------------------------------\n",
      "начало парсинга 41 части ссылок\n"
     ]
    },
    {
     "data": {
      "application/vnd.jupyter.widget-view+json": {
       "model_id": "c00ba6314ee4494c860d790656142ab4",
       "version_major": 2,
       "version_minor": 0
      },
      "text/plain": [
       "  0%|          | 0/150 [00:00<?, ?it/s]"
      ]
     },
     "metadata": {},
     "output_type": "display_data"
    },
    {
     "name": "stdout",
     "output_type": "stream",
     "text": [
      "\n",
      "------------------------------------\n",
      "начало парсинга 42 части ссылок\n"
     ]
    },
    {
     "data": {
      "application/vnd.jupyter.widget-view+json": {
       "model_id": "0572a8d50a2d4a1ea795632cdb0ca341",
       "version_major": 2,
       "version_minor": 0
      },
      "text/plain": [
       "  0%|          | 0/150 [00:00<?, ?it/s]"
      ]
     },
     "metadata": {},
     "output_type": "display_data"
    },
    {
     "name": "stdout",
     "output_type": "stream",
     "text": [
      "\n",
      "------------------------------------\n",
      "начало парсинга 43 части ссылок\n"
     ]
    },
    {
     "data": {
      "application/vnd.jupyter.widget-view+json": {
       "model_id": "c8e7e02d9b204dd387f61ef6a90f792e",
       "version_major": 2,
       "version_minor": 0
      },
      "text/plain": [
       "  0%|          | 0/150 [00:00<?, ?it/s]"
      ]
     },
     "metadata": {},
     "output_type": "display_data"
    },
    {
     "name": "stdout",
     "output_type": "stream",
     "text": [
      "\n",
      "------------------------------------\n",
      "начало парсинга 44 части ссылок\n"
     ]
    },
    {
     "data": {
      "application/vnd.jupyter.widget-view+json": {
       "model_id": "0c1f895716fe41e99f1ba938f8ead27a",
       "version_major": 2,
       "version_minor": 0
      },
      "text/plain": [
       "  0%|          | 0/150 [00:00<?, ?it/s]"
      ]
     },
     "metadata": {},
     "output_type": "display_data"
    },
    {
     "name": "stdout",
     "output_type": "stream",
     "text": [
      "\n",
      "------------------------------------\n",
      "начало парсинга 45 части ссылок\n"
     ]
    },
    {
     "data": {
      "application/vnd.jupyter.widget-view+json": {
       "model_id": "097956832f9843a4aed9efe276aebee7",
       "version_major": 2,
       "version_minor": 0
      },
      "text/plain": [
       "  0%|          | 0/150 [00:00<?, ?it/s]"
      ]
     },
     "metadata": {},
     "output_type": "display_data"
    },
    {
     "name": "stdout",
     "output_type": "stream",
     "text": [
      "\n",
      "------------------------------------\n",
      "начало парсинга 46 части ссылок\n"
     ]
    },
    {
     "data": {
      "application/vnd.jupyter.widget-view+json": {
       "model_id": "42064e523ace4b25bf887247c54a7340",
       "version_major": 2,
       "version_minor": 0
      },
      "text/plain": [
       "  0%|          | 0/150 [00:00<?, ?it/s]"
      ]
     },
     "metadata": {},
     "output_type": "display_data"
    },
    {
     "name": "stdout",
     "output_type": "stream",
     "text": [
      "\n",
      "------------------------------------\n",
      "начало парсинга 47 части ссылок\n"
     ]
    },
    {
     "data": {
      "application/vnd.jupyter.widget-view+json": {
       "model_id": "da5fea4f5725455983605464cd137c35",
       "version_major": 2,
       "version_minor": 0
      },
      "text/plain": [
       "  0%|          | 0/150 [00:00<?, ?it/s]"
      ]
     },
     "metadata": {},
     "output_type": "display_data"
    },
    {
     "name": "stdout",
     "output_type": "stream",
     "text": [
      "\n",
      "------------------------------------\n",
      "начало парсинга 48 части ссылок\n"
     ]
    },
    {
     "data": {
      "application/vnd.jupyter.widget-view+json": {
       "model_id": "f08ae984bee8476188777c0a926b5c47",
       "version_major": 2,
       "version_minor": 0
      },
      "text/plain": [
       "  0%|          | 0/150 [00:00<?, ?it/s]"
      ]
     },
     "metadata": {},
     "output_type": "display_data"
    },
    {
     "name": "stdout",
     "output_type": "stream",
     "text": [
      "\n",
      "------------------------------------\n",
      "начало парсинга 49 части ссылок\n"
     ]
    },
    {
     "data": {
      "application/vnd.jupyter.widget-view+json": {
       "model_id": "de29a8b4e6ec47f3bf2aafcc8e6e8dbb",
       "version_major": 2,
       "version_minor": 0
      },
      "text/plain": [
       "  0%|          | 0/150 [00:00<?, ?it/s]"
      ]
     },
     "metadata": {},
     "output_type": "display_data"
    },
    {
     "name": "stdout",
     "output_type": "stream",
     "text": [
      "\n",
      "------------------------------------\n",
      "начало парсинга 50 части ссылок\n"
     ]
    },
    {
     "data": {
      "application/vnd.jupyter.widget-view+json": {
       "model_id": "fdc366a5d7a741b79f7252554e2a4a34",
       "version_major": 2,
       "version_minor": 0
      },
      "text/plain": [
       "  0%|          | 0/150 [00:00<?, ?it/s]"
      ]
     },
     "metadata": {},
     "output_type": "display_data"
    },
    {
     "name": "stdout",
     "output_type": "stream",
     "text": [
      "\n",
      "------------------------------------\n",
      "начало парсинга 51 части ссылок\n"
     ]
    },
    {
     "data": {
      "application/vnd.jupyter.widget-view+json": {
       "model_id": "7c1b4dfdf30a421cb6f83dc2a06f4f96",
       "version_major": 2,
       "version_minor": 0
      },
      "text/plain": [
       "  0%|          | 0/150 [00:00<?, ?it/s]"
      ]
     },
     "metadata": {},
     "output_type": "display_data"
    },
    {
     "name": "stdout",
     "output_type": "stream",
     "text": [
      "\n",
      "------------------------------------\n",
      "начало парсинга 52 части ссылок\n"
     ]
    },
    {
     "data": {
      "application/vnd.jupyter.widget-view+json": {
       "model_id": "bd22e73d9eca4931ba533bcb30ba1ece",
       "version_major": 2,
       "version_minor": 0
      },
      "text/plain": [
       "  0%|          | 0/150 [00:00<?, ?it/s]"
      ]
     },
     "metadata": {},
     "output_type": "display_data"
    },
    {
     "name": "stdout",
     "output_type": "stream",
     "text": [
      "\n",
      "------------------------------------\n",
      "начало парсинга 53 части ссылок\n"
     ]
    },
    {
     "data": {
      "application/vnd.jupyter.widget-view+json": {
       "model_id": "37ce388b97884386ad42493e459c3820",
       "version_major": 2,
       "version_minor": 0
      },
      "text/plain": [
       "  0%|          | 0/150 [00:00<?, ?it/s]"
      ]
     },
     "metadata": {},
     "output_type": "display_data"
    },
    {
     "name": "stdout",
     "output_type": "stream",
     "text": [
      "\n",
      "------------------------------------\n",
      "начало парсинга 54 части ссылок\n"
     ]
    },
    {
     "data": {
      "application/vnd.jupyter.widget-view+json": {
       "model_id": "761c5dd94a854dbf9de5fd8359a66336",
       "version_major": 2,
       "version_minor": 0
      },
      "text/plain": [
       "  0%|          | 0/150 [00:00<?, ?it/s]"
      ]
     },
     "metadata": {},
     "output_type": "display_data"
    },
    {
     "name": "stdout",
     "output_type": "stream",
     "text": [
      "\n",
      "------------------------------------\n",
      "начало парсинга 55 части ссылок\n"
     ]
    },
    {
     "data": {
      "application/vnd.jupyter.widget-view+json": {
       "model_id": "5fffecec6c7d41e7a9962e15411260ee",
       "version_major": 2,
       "version_minor": 0
      },
      "text/plain": [
       "  0%|          | 0/150 [00:00<?, ?it/s]"
      ]
     },
     "metadata": {},
     "output_type": "display_data"
    },
    {
     "name": "stdout",
     "output_type": "stream",
     "text": [
      "\n",
      "------------------------------------\n",
      "начало парсинга 56 части ссылок\n"
     ]
    },
    {
     "data": {
      "application/vnd.jupyter.widget-view+json": {
       "model_id": "dc8a1e2398d344dabe6ed7a62cafa86d",
       "version_major": 2,
       "version_minor": 0
      },
      "text/plain": [
       "  0%|          | 0/150 [00:00<?, ?it/s]"
      ]
     },
     "metadata": {},
     "output_type": "display_data"
    },
    {
     "name": "stdout",
     "output_type": "stream",
     "text": [
      "\n",
      "------------------------------------\n",
      "начало парсинга 57 части ссылок\n"
     ]
    },
    {
     "data": {
      "application/vnd.jupyter.widget-view+json": {
       "model_id": "dc60e6e823fd4dc5a899d158b1e37541",
       "version_major": 2,
       "version_minor": 0
      },
      "text/plain": [
       "  0%|          | 0/150 [00:00<?, ?it/s]"
      ]
     },
     "metadata": {},
     "output_type": "display_data"
    },
    {
     "name": "stdout",
     "output_type": "stream",
     "text": [
      "\n",
      "------------------------------------\n",
      "начало парсинга 58 части ссылок\n"
     ]
    },
    {
     "data": {
      "application/vnd.jupyter.widget-view+json": {
       "model_id": "9b7a2907980b4b66b6e2f6f9c18c4d86",
       "version_major": 2,
       "version_minor": 0
      },
      "text/plain": [
       "  0%|          | 0/150 [00:00<?, ?it/s]"
      ]
     },
     "metadata": {},
     "output_type": "display_data"
    },
    {
     "name": "stdout",
     "output_type": "stream",
     "text": [
      "\n",
      "------------------------------------\n",
      "начало парсинга 59 части ссылок\n"
     ]
    },
    {
     "data": {
      "application/vnd.jupyter.widget-view+json": {
       "model_id": "1e26d138834f4650bbaec6b67b9470be",
       "version_major": 2,
       "version_minor": 0
      },
      "text/plain": [
       "  0%|          | 0/150 [00:00<?, ?it/s]"
      ]
     },
     "metadata": {},
     "output_type": "display_data"
    },
    {
     "name": "stdout",
     "output_type": "stream",
     "text": [
      "\n",
      "------------------------------------\n",
      "начало парсинга 60 части ссылок\n"
     ]
    },
    {
     "data": {
      "application/vnd.jupyter.widget-view+json": {
       "model_id": "17fcdf48dc234371ad1fe9e78ef547d8",
       "version_major": 2,
       "version_minor": 0
      },
      "text/plain": [
       "  0%|          | 0/150 [00:00<?, ?it/s]"
      ]
     },
     "metadata": {},
     "output_type": "display_data"
    },
    {
     "name": "stdout",
     "output_type": "stream",
     "text": [
      "\n",
      "------------------------------------\n",
      "начало парсинга 61 части ссылок\n"
     ]
    },
    {
     "data": {
      "application/vnd.jupyter.widget-view+json": {
       "model_id": "e53542ad145a4942a65622c7ba5cfa53",
       "version_major": 2,
       "version_minor": 0
      },
      "text/plain": [
       "  0%|          | 0/150 [00:00<?, ?it/s]"
      ]
     },
     "metadata": {},
     "output_type": "display_data"
    },
    {
     "name": "stdout",
     "output_type": "stream",
     "text": [
      "\n",
      "------------------------------------\n",
      "начало парсинга 62 части ссылок\n"
     ]
    },
    {
     "data": {
      "application/vnd.jupyter.widget-view+json": {
       "model_id": "ebfd8877214346fc83333ea056b00be3",
       "version_major": 2,
       "version_minor": 0
      },
      "text/plain": [
       "  0%|          | 0/150 [00:00<?, ?it/s]"
      ]
     },
     "metadata": {},
     "output_type": "display_data"
    },
    {
     "name": "stdout",
     "output_type": "stream",
     "text": [
      "\n",
      "------------------------------------\n",
      "начало парсинга 63 части ссылок\n"
     ]
    },
    {
     "data": {
      "application/vnd.jupyter.widget-view+json": {
       "model_id": "a3705aec584b40d28c1b445cdeec60c5",
       "version_major": 2,
       "version_minor": 0
      },
      "text/plain": [
       "  0%|          | 0/150 [00:00<?, ?it/s]"
      ]
     },
     "metadata": {},
     "output_type": "display_data"
    },
    {
     "name": "stdout",
     "output_type": "stream",
     "text": [
      "\n",
      "------------------------------------\n",
      "начало парсинга 64 части ссылок\n"
     ]
    },
    {
     "data": {
      "application/vnd.jupyter.widget-view+json": {
       "model_id": "f2816ceb4d9142b6a45490cf41b773e2",
       "version_major": 2,
       "version_minor": 0
      },
      "text/plain": [
       "  0%|          | 0/150 [00:00<?, ?it/s]"
      ]
     },
     "metadata": {},
     "output_type": "display_data"
    },
    {
     "name": "stdout",
     "output_type": "stream",
     "text": [
      "\n",
      "------------------------------------\n",
      "начало парсинга 65 части ссылок\n"
     ]
    },
    {
     "data": {
      "application/vnd.jupyter.widget-view+json": {
       "model_id": "341a435bc2bb465294b8cfb6f768221e",
       "version_major": 2,
       "version_minor": 0
      },
      "text/plain": [
       "  0%|          | 0/150 [00:00<?, ?it/s]"
      ]
     },
     "metadata": {},
     "output_type": "display_data"
    },
    {
     "name": "stdout",
     "output_type": "stream",
     "text": [
      "\n",
      "------------------------------------\n",
      "начало парсинга 66 части ссылок\n"
     ]
    },
    {
     "data": {
      "application/vnd.jupyter.widget-view+json": {
       "model_id": "2b573d44a2e24d1e9d143d6e30f3577d",
       "version_major": 2,
       "version_minor": 0
      },
      "text/plain": [
       "  0%|          | 0/150 [00:00<?, ?it/s]"
      ]
     },
     "metadata": {},
     "output_type": "display_data"
    },
    {
     "name": "stdout",
     "output_type": "stream",
     "text": [
      "\n",
      "------------------------------------\n",
      "начало парсинга 67 части ссылок\n"
     ]
    },
    {
     "data": {
      "application/vnd.jupyter.widget-view+json": {
       "model_id": "82e625dbc6574f7ab8ed6f2f6cc3a0fe",
       "version_major": 2,
       "version_minor": 0
      },
      "text/plain": [
       "  0%|          | 0/150 [00:00<?, ?it/s]"
      ]
     },
     "metadata": {},
     "output_type": "display_data"
    },
    {
     "name": "stdout",
     "output_type": "stream",
     "text": [
      "\n",
      "------------------------------------\n",
      "начало парсинга 68 части ссылок\n"
     ]
    },
    {
     "data": {
      "application/vnd.jupyter.widget-view+json": {
       "model_id": "7d19a7dfe0c0405a854ee05a77e830ff",
       "version_major": 2,
       "version_minor": 0
      },
      "text/plain": [
       "  0%|          | 0/150 [00:00<?, ?it/s]"
      ]
     },
     "metadata": {},
     "output_type": "display_data"
    },
    {
     "name": "stdout",
     "output_type": "stream",
     "text": [
      "\n",
      "------------------------------------\n",
      "начало парсинга 69 части ссылок\n"
     ]
    },
    {
     "data": {
      "application/vnd.jupyter.widget-view+json": {
       "model_id": "6bc2ddd8b7e8442f9151509425c2f37e",
       "version_major": 2,
       "version_minor": 0
      },
      "text/plain": [
       "  0%|          | 0/150 [00:00<?, ?it/s]"
      ]
     },
     "metadata": {},
     "output_type": "display_data"
    },
    {
     "name": "stdout",
     "output_type": "stream",
     "text": [
      "\n",
      "------------------------------------\n",
      "начало парсинга 70 части ссылок\n"
     ]
    },
    {
     "data": {
      "application/vnd.jupyter.widget-view+json": {
       "model_id": "c3b6f9769576488ab81dff27574aed8d",
       "version_major": 2,
       "version_minor": 0
      },
      "text/plain": [
       "  0%|          | 0/150 [00:00<?, ?it/s]"
      ]
     },
     "metadata": {},
     "output_type": "display_data"
    },
    {
     "name": "stdout",
     "output_type": "stream",
     "text": [
      "\n",
      "------------------------------------\n",
      "начало парсинга 71 части ссылок\n"
     ]
    },
    {
     "data": {
      "application/vnd.jupyter.widget-view+json": {
       "model_id": "d2f1a7827ed4418d9a2ba07f3ff68f0d",
       "version_major": 2,
       "version_minor": 0
      },
      "text/plain": [
       "  0%|          | 0/150 [00:00<?, ?it/s]"
      ]
     },
     "metadata": {},
     "output_type": "display_data"
    },
    {
     "name": "stdout",
     "output_type": "stream",
     "text": [
      "\n",
      "------------------------------------\n",
      "начало парсинга 72 части ссылок\n"
     ]
    },
    {
     "data": {
      "application/vnd.jupyter.widget-view+json": {
       "model_id": "e4d01fcd84a9484095263ca75411bcf9",
       "version_major": 2,
       "version_minor": 0
      },
      "text/plain": [
       "  0%|          | 0/150 [00:00<?, ?it/s]"
      ]
     },
     "metadata": {},
     "output_type": "display_data"
    },
    {
     "name": "stdout",
     "output_type": "stream",
     "text": [
      "\n",
      "------------------------------------\n",
      "начало парсинга 73 части ссылок\n"
     ]
    },
    {
     "data": {
      "application/vnd.jupyter.widget-view+json": {
       "model_id": "e6d7a1c61c7b40188e51eaa3cfab8ab1",
       "version_major": 2,
       "version_minor": 0
      },
      "text/plain": [
       "  0%|          | 0/150 [00:00<?, ?it/s]"
      ]
     },
     "metadata": {},
     "output_type": "display_data"
    },
    {
     "name": "stdout",
     "output_type": "stream",
     "text": [
      "\n",
      "------------------------------------\n",
      "начало парсинга 74 части ссылок\n"
     ]
    },
    {
     "data": {
      "application/vnd.jupyter.widget-view+json": {
       "model_id": "42ea62fb2d574c97bc961425772df450",
       "version_major": 2,
       "version_minor": 0
      },
      "text/plain": [
       "  0%|          | 0/150 [00:00<?, ?it/s]"
      ]
     },
     "metadata": {},
     "output_type": "display_data"
    },
    {
     "name": "stdout",
     "output_type": "stream",
     "text": [
      "\n",
      "------------------------------------\n",
      "начало парсинга 75 части ссылок\n"
     ]
    },
    {
     "data": {
      "application/vnd.jupyter.widget-view+json": {
       "model_id": "65b36fd651a54213a8bdba9e28936c65",
       "version_major": 2,
       "version_minor": 0
      },
      "text/plain": [
       "  0%|          | 0/150 [00:00<?, ?it/s]"
      ]
     },
     "metadata": {},
     "output_type": "display_data"
    },
    {
     "name": "stdout",
     "output_type": "stream",
     "text": [
      "\n",
      "------------------------------------\n",
      "начало парсинга 76 части ссылок\n"
     ]
    },
    {
     "data": {
      "application/vnd.jupyter.widget-view+json": {
       "model_id": "baa5d9307dbb4dada8cc654804c37b98",
       "version_major": 2,
       "version_minor": 0
      },
      "text/plain": [
       "  0%|          | 0/150 [00:00<?, ?it/s]"
      ]
     },
     "metadata": {},
     "output_type": "display_data"
    },
    {
     "name": "stdout",
     "output_type": "stream",
     "text": [
      "\n",
      "------------------------------------\n",
      "начало парсинга 77 части ссылок\n"
     ]
    },
    {
     "data": {
      "application/vnd.jupyter.widget-view+json": {
       "model_id": "bc0f920e11554980a4b689ec0459183a",
       "version_major": 2,
       "version_minor": 0
      },
      "text/plain": [
       "  0%|          | 0/150 [00:00<?, ?it/s]"
      ]
     },
     "metadata": {},
     "output_type": "display_data"
    },
    {
     "name": "stdout",
     "output_type": "stream",
     "text": [
      "\n",
      "------------------------------------\n",
      "начало парсинга 78 части ссылок\n"
     ]
    },
    {
     "data": {
      "application/vnd.jupyter.widget-view+json": {
       "model_id": "8e2f82be8b894db2a31766a75d2f8d22",
       "version_major": 2,
       "version_minor": 0
      },
      "text/plain": [
       "  0%|          | 0/150 [00:00<?, ?it/s]"
      ]
     },
     "metadata": {},
     "output_type": "display_data"
    },
    {
     "name": "stdout",
     "output_type": "stream",
     "text": [
      "\n",
      "------------------------------------\n",
      "начало парсинга 79 части ссылок\n"
     ]
    },
    {
     "data": {
      "application/vnd.jupyter.widget-view+json": {
       "model_id": "306b22905d224f5db35107142fbff7a4",
       "version_major": 2,
       "version_minor": 0
      },
      "text/plain": [
       "  0%|          | 0/150 [00:00<?, ?it/s]"
      ]
     },
     "metadata": {},
     "output_type": "display_data"
    },
    {
     "name": "stdout",
     "output_type": "stream",
     "text": [
      "\n",
      "------------------------------------\n",
      "начало парсинга 80 части ссылок\n"
     ]
    },
    {
     "data": {
      "application/vnd.jupyter.widget-view+json": {
       "model_id": "ca968d59a61f4495ae913f34e9dec5c0",
       "version_major": 2,
       "version_minor": 0
      },
      "text/plain": [
       "  0%|          | 0/150 [00:00<?, ?it/s]"
      ]
     },
     "metadata": {},
     "output_type": "display_data"
    },
    {
     "name": "stdout",
     "output_type": "stream",
     "text": [
      "\n",
      "------------------------------------\n",
      "начало парсинга 81 части ссылок\n"
     ]
    },
    {
     "data": {
      "application/vnd.jupyter.widget-view+json": {
       "model_id": "a0c3166949b14ca38c5bbf7a57389d38",
       "version_major": 2,
       "version_minor": 0
      },
      "text/plain": [
       "  0%|          | 0/150 [00:00<?, ?it/s]"
      ]
     },
     "metadata": {},
     "output_type": "display_data"
    },
    {
     "name": "stdout",
     "output_type": "stream",
     "text": [
      "\n",
      "------------------------------------\n",
      "начало парсинга 82 части ссылок\n"
     ]
    },
    {
     "data": {
      "application/vnd.jupyter.widget-view+json": {
       "model_id": "178a567addac49a69ec0368e17679778",
       "version_major": 2,
       "version_minor": 0
      },
      "text/plain": [
       "  0%|          | 0/150 [00:00<?, ?it/s]"
      ]
     },
     "metadata": {},
     "output_type": "display_data"
    },
    {
     "name": "stdout",
     "output_type": "stream",
     "text": [
      "\n",
      "------------------------------------\n",
      "начало парсинга 83 части ссылок\n"
     ]
    },
    {
     "data": {
      "application/vnd.jupyter.widget-view+json": {
       "model_id": "14ca3e6b326f4af3b934f64e18b606d2",
       "version_major": 2,
       "version_minor": 0
      },
      "text/plain": [
       "  0%|          | 0/150 [00:00<?, ?it/s]"
      ]
     },
     "metadata": {},
     "output_type": "display_data"
    },
    {
     "name": "stdout",
     "output_type": "stream",
     "text": [
      "\n",
      "------------------------------------\n",
      "начало парсинга 84 части ссылок\n"
     ]
    },
    {
     "data": {
      "application/vnd.jupyter.widget-view+json": {
       "model_id": "b3c41e8f3be443fc948e63bf26bdfccd",
       "version_major": 2,
       "version_minor": 0
      },
      "text/plain": [
       "  0%|          | 0/150 [00:00<?, ?it/s]"
      ]
     },
     "metadata": {},
     "output_type": "display_data"
    },
    {
     "name": "stdout",
     "output_type": "stream",
     "text": [
      "\n",
      "------------------------------------\n",
      "начало парсинга 85 части ссылок\n"
     ]
    },
    {
     "data": {
      "application/vnd.jupyter.widget-view+json": {
       "model_id": "f764e1677170448ab83243b2d52c3e70",
       "version_major": 2,
       "version_minor": 0
      },
      "text/plain": [
       "  0%|          | 0/150 [00:00<?, ?it/s]"
      ]
     },
     "metadata": {},
     "output_type": "display_data"
    },
    {
     "name": "stdout",
     "output_type": "stream",
     "text": [
      "\n",
      "------------------------------------\n",
      "начало парсинга 86 части ссылок\n"
     ]
    },
    {
     "data": {
      "application/vnd.jupyter.widget-view+json": {
       "model_id": "866651851cff4fb19ac8a384884f916d",
       "version_major": 2,
       "version_minor": 0
      },
      "text/plain": [
       "  0%|          | 0/150 [00:00<?, ?it/s]"
      ]
     },
     "metadata": {},
     "output_type": "display_data"
    },
    {
     "name": "stdout",
     "output_type": "stream",
     "text": [
      "\n",
      "------------------------------------\n",
      "начало парсинга 87 части ссылок\n"
     ]
    },
    {
     "data": {
      "application/vnd.jupyter.widget-view+json": {
       "model_id": "ebf26b7a769742a1a999e153eec80c63",
       "version_major": 2,
       "version_minor": 0
      },
      "text/plain": [
       "  0%|          | 0/150 [00:00<?, ?it/s]"
      ]
     },
     "metadata": {},
     "output_type": "display_data"
    },
    {
     "name": "stdout",
     "output_type": "stream",
     "text": [
      "\n",
      "------------------------------------\n",
      "начало парсинга 88 части ссылок\n"
     ]
    },
    {
     "data": {
      "application/vnd.jupyter.widget-view+json": {
       "model_id": "a6aa981e93de4193a4e1dd63f116f50c",
       "version_major": 2,
       "version_minor": 0
      },
      "text/plain": [
       "  0%|          | 0/150 [00:00<?, ?it/s]"
      ]
     },
     "metadata": {},
     "output_type": "display_data"
    },
    {
     "name": "stdout",
     "output_type": "stream",
     "text": [
      "\n",
      "------------------------------------\n",
      "начало парсинга 89 части ссылок\n"
     ]
    },
    {
     "data": {
      "application/vnd.jupyter.widget-view+json": {
       "model_id": "0586906ef7c24347b75a825451394b47",
       "version_major": 2,
       "version_minor": 0
      },
      "text/plain": [
       "  0%|          | 0/150 [00:00<?, ?it/s]"
      ]
     },
     "metadata": {},
     "output_type": "display_data"
    },
    {
     "name": "stdout",
     "output_type": "stream",
     "text": [
      "\n",
      "------------------------------------\n",
      "начало парсинга 90 части ссылок\n"
     ]
    },
    {
     "data": {
      "application/vnd.jupyter.widget-view+json": {
       "model_id": "005f484dec164c26a31839e6e23fc384",
       "version_major": 2,
       "version_minor": 0
      },
      "text/plain": [
       "  0%|          | 0/150 [00:00<?, ?it/s]"
      ]
     },
     "metadata": {},
     "output_type": "display_data"
    },
    {
     "name": "stdout",
     "output_type": "stream",
     "text": [
      "\n",
      "------------------------------------\n",
      "начало парсинга 91 части ссылок\n"
     ]
    },
    {
     "data": {
      "application/vnd.jupyter.widget-view+json": {
       "model_id": "2c61689e9fb24eeb88c58cf3dc792182",
       "version_major": 2,
       "version_minor": 0
      },
      "text/plain": [
       "  0%|          | 0/150 [00:00<?, ?it/s]"
      ]
     },
     "metadata": {},
     "output_type": "display_data"
    },
    {
     "name": "stdout",
     "output_type": "stream",
     "text": [
      "\n",
      "------------------------------------\n",
      "начало парсинга 92 части ссылок\n"
     ]
    },
    {
     "data": {
      "application/vnd.jupyter.widget-view+json": {
       "model_id": "960683fac75d4a6da16b14357421adb2",
       "version_major": 2,
       "version_minor": 0
      },
      "text/plain": [
       "  0%|          | 0/150 [00:00<?, ?it/s]"
      ]
     },
     "metadata": {},
     "output_type": "display_data"
    },
    {
     "name": "stdout",
     "output_type": "stream",
     "text": [
      "\n",
      "------------------------------------\n",
      "начало парсинга 93 части ссылок\n"
     ]
    },
    {
     "data": {
      "application/vnd.jupyter.widget-view+json": {
       "model_id": "8b77c41870524a5ca0ae4e1e57cef70d",
       "version_major": 2,
       "version_minor": 0
      },
      "text/plain": [
       "  0%|          | 0/150 [00:00<?, ?it/s]"
      ]
     },
     "metadata": {},
     "output_type": "display_data"
    },
    {
     "name": "stdout",
     "output_type": "stream",
     "text": [
      "\n",
      "------------------------------------\n",
      "начало парсинга 94 части ссылок\n"
     ]
    },
    {
     "data": {
      "application/vnd.jupyter.widget-view+json": {
       "model_id": "4fb97eea7fb74924be1817adca434f8b",
       "version_major": 2,
       "version_minor": 0
      },
      "text/plain": [
       "  0%|          | 0/150 [00:00<?, ?it/s]"
      ]
     },
     "metadata": {},
     "output_type": "display_data"
    },
    {
     "name": "stdout",
     "output_type": "stream",
     "text": [
      "\n",
      "------------------------------------\n",
      "начало парсинга 95 части ссылок\n"
     ]
    },
    {
     "data": {
      "application/vnd.jupyter.widget-view+json": {
       "model_id": "4d18a40104db4f8695b844ad7c05dacd",
       "version_major": 2,
       "version_minor": 0
      },
      "text/plain": [
       "  0%|          | 0/150 [00:00<?, ?it/s]"
      ]
     },
     "metadata": {},
     "output_type": "display_data"
    },
    {
     "name": "stdout",
     "output_type": "stream",
     "text": [
      "\n",
      "------------------------------------\n",
      "начало парсинга 96 части ссылок\n"
     ]
    },
    {
     "data": {
      "application/vnd.jupyter.widget-view+json": {
       "model_id": "612d798095c344a69531aca7e335eaff",
       "version_major": 2,
       "version_minor": 0
      },
      "text/plain": [
       "  0%|          | 0/150 [00:00<?, ?it/s]"
      ]
     },
     "metadata": {},
     "output_type": "display_data"
    },
    {
     "name": "stdout",
     "output_type": "stream",
     "text": [
      "\n",
      "------------------------------------\n",
      "начало парсинга 97 части ссылок\n"
     ]
    },
    {
     "data": {
      "application/vnd.jupyter.widget-view+json": {
       "model_id": "7090ef154b814ebcad251ebd63535ae0",
       "version_major": 2,
       "version_minor": 0
      },
      "text/plain": [
       "  0%|          | 0/149 [00:00<?, ?it/s]"
      ]
     },
     "metadata": {},
     "output_type": "display_data"
    },
    {
     "name": "stdout",
     "output_type": "stream",
     "text": [
      "\n",
      "------------------------------------\n",
      "начало парсинга 98 части ссылок\n"
     ]
    },
    {
     "data": {
      "application/vnd.jupyter.widget-view+json": {
       "model_id": "b48b2663aec74343bfd889e815b9befc",
       "version_major": 2,
       "version_minor": 0
      },
      "text/plain": [
       "  0%|          | 0/149 [00:00<?, ?it/s]"
      ]
     },
     "metadata": {},
     "output_type": "display_data"
    },
    {
     "name": "stdout",
     "output_type": "stream",
     "text": [
      "\n",
      "------------------------------------\n",
      "начало парсинга 99 части ссылок\n"
     ]
    },
    {
     "data": {
      "application/vnd.jupyter.widget-view+json": {
       "model_id": "d6c18fb4d60d4094b91051260801a6d7",
       "version_major": 2,
       "version_minor": 0
      },
      "text/plain": [
       "  0%|          | 0/149 [00:00<?, ?it/s]"
      ]
     },
     "metadata": {},
     "output_type": "display_data"
    },
    {
     "name": "stdout",
     "output_type": "stream",
     "text": [
      "\n",
      "------------------------------------\n",
      "начало парсинга 100 части ссылок\n"
     ]
    },
    {
     "data": {
      "application/vnd.jupyter.widget-view+json": {
       "model_id": "bd94e1aa64ba433bac0552142bd8cd2e",
       "version_major": 2,
       "version_minor": 0
      },
      "text/plain": [
       "  0%|          | 0/149 [00:00<?, ?it/s]"
      ]
     },
     "metadata": {},
     "output_type": "display_data"
    },
    {
     "name": "stdout",
     "output_type": "stream",
     "text": [
      "\n",
      "------------------------------------\n"
     ]
    }
   ],
   "source": [
    "n = 0\n",
    "for i in range(0, 100):\n",
    "    n+=1\n",
    "    print(f'начало парсинга {n} части ссылок')\n",
    "    df = sunlight_parser(chunks[i])\n",
    "    df.to_csv(r'C:\\Users\\Trenkin.Sergey\\Desktop\\parsers\\sunlight_current_data\\\\' + f'sunlight_{day_now}_{month_now}_{n}.csv', index=False)\n",
    "    time.sleep(5)"
   ]
  },
  {
   "cell_type": "code",
   "execution_count": 31,
   "id": "8a8717a9-4841-4b69-8bf6-34f7026bcbb8",
   "metadata": {
    "tags": []
   },
   "outputs": [
    {
     "data": {
      "text/plain": [
       "100"
      ]
     },
     "execution_count": 31,
     "metadata": {},
     "output_type": "execute_result"
    }
   ],
   "source": [
    "os.chdir(r'C:\\Users\\Trenkin.Sergey\\Desktop\\parsers\\sunlight_current_data')\n",
    "extension = 'csv'\n",
    "all_filenames = [i for i in glob.glob('*.{}'.format(extension))]\n",
    "len(all_filenames)"
   ]
  },
  {
   "cell_type": "code",
   "execution_count": 32,
   "id": "ad28c4b5-5099-4c80-9921-03acd7d51888",
   "metadata": {
    "tags": []
   },
   "outputs": [],
   "source": [
    "data = pd.DataFrame()\n",
    "for name  in all_filenames:\n",
    "    df = pd.read_csv(name)\n",
    "    data = pd.concat([df, data], ignore_index=True)"
   ]
  },
  {
   "cell_type": "code",
   "execution_count": 33,
   "id": "ebec15b8-284a-45c7-9ab4-61f45b5bf818",
   "metadata": {
    "tags": []
   },
   "outputs": [
    {
     "data": {
      "text/html": [
       "<div>\n",
       "<style scoped>\n",
       "    .dataframe tbody tr th:only-of-type {\n",
       "        vertical-align: middle;\n",
       "    }\n",
       "\n",
       "    .dataframe tbody tr th {\n",
       "        vertical-align: top;\n",
       "    }\n",
       "\n",
       "    .dataframe thead th {\n",
       "        text-align: right;\n",
       "    }\n",
       "</style>\n",
       "<table border=\"1\" class=\"dataframe\">\n",
       "  <thead>\n",
       "    <tr style=\"text-align: right;\">\n",
       "      <th></th>\n",
       "      <th>date</th>\n",
       "      <th>competitor</th>\n",
       "      <th>name</th>\n",
       "      <th>group</th>\n",
       "      <th>params</th>\n",
       "      <th>price</th>\n",
       "      <th>article</th>\n",
       "      <th>url</th>\n",
       "    </tr>\n",
       "  </thead>\n",
       "  <tbody>\n",
       "    <tr>\n",
       "      <th>0</th>\n",
       "      <td>14-03-2024</td>\n",
       "      <td>Sunlight</td>\n",
       "      <td>\\n    Золотой браслет с фианитами\\n</td>\n",
       "      <td>Браслеты</td>\n",
       "      <td>{'Модель': 'S-561018б_001*', 'Материал изделия...</td>\n",
       "      <td>9490</td>\n",
       "      <td>342484</td>\n",
       "      <td>https://sunlight.net/catalog/bracelets_342484....</td>\n",
       "    </tr>\n",
       "    <tr>\n",
       "      <th>1</th>\n",
       "      <td>14-03-2024</td>\n",
       "      <td>Sunlight</td>\n",
       "      <td>\\n    Золотое шейное украшение с сапфирами и б...</td>\n",
       "      <td>Шейное украшение</td>\n",
       "      <td>{'Модель': '72768-H5W-01', 'Материал изделия':...</td>\n",
       "      <td>64990</td>\n",
       "      <td>342285</td>\n",
       "      <td>https://sunlight.net/catalog/neck_decoration_3...</td>\n",
       "    </tr>\n",
       "    <tr>\n",
       "      <th>2</th>\n",
       "      <td>14-03-2024</td>\n",
       "      <td>Sunlight</td>\n",
       "      <td>\\n    Золотое шейное украшение\\n</td>\n",
       "      <td>Шейное украшение</td>\n",
       "      <td>{'Модель': 'П40016462*', 'Материал изделия': '...</td>\n",
       "      <td>23690</td>\n",
       "      <td>341448</td>\n",
       "      <td>https://sunlight.net/catalog/neck_decoration_3...</td>\n",
       "    </tr>\n",
       "    <tr>\n",
       "      <th>3</th>\n",
       "      <td>14-03-2024</td>\n",
       "      <td>Sunlight</td>\n",
       "      <td>\\n    Золотое шейное украшение\\n</td>\n",
       "      <td>Шейное украшение</td>\n",
       "      <td>{'Модель': 'П10016462*', 'Материал изделия': '...</td>\n",
       "      <td>23230</td>\n",
       "      <td>341447</td>\n",
       "      <td>https://sunlight.net/catalog/neck_decoration_3...</td>\n",
       "    </tr>\n",
       "    <tr>\n",
       "      <th>4</th>\n",
       "      <td>14-03-2024</td>\n",
       "      <td>Sunlight</td>\n",
       "      <td>\\n    Золотой браслет\\n</td>\n",
       "      <td>Браслеты</td>\n",
       "      <td>{'Модель': '77065', 'Материал изделия': 'Розов...</td>\n",
       "      <td>126030</td>\n",
       "      <td>340830</td>\n",
       "      <td>https://sunlight.net/catalog/bracelets_340830....</td>\n",
       "    </tr>\n",
       "    <tr>\n",
       "      <th>...</th>\n",
       "      <td>...</td>\n",
       "      <td>...</td>\n",
       "      <td>...</td>\n",
       "      <td>...</td>\n",
       "      <td>...</td>\n",
       "      <td>...</td>\n",
       "      <td>...</td>\n",
       "      <td>...</td>\n",
       "    </tr>\n",
       "    <tr>\n",
       "      <th>14991</th>\n",
       "      <td>14-03-2024</td>\n",
       "      <td>Sunlight</td>\n",
       "      <td>\\n    Золотая подвеска с бриллиантами\\n</td>\n",
       "      <td>Подвески</td>\n",
       "      <td>{'Модель': '73691-P5R-01', 'Материал изделия':...</td>\n",
       "      <td>21990</td>\n",
       "      <td>988887</td>\n",
       "      <td>https://sunlight.net/catalog/pendants_988887.html</td>\n",
       "    </tr>\n",
       "    <tr>\n",
       "      <th>14992</th>\n",
       "      <td>14-03-2024</td>\n",
       "      <td>Sunlight</td>\n",
       "      <td>\\n    Золотые серьги с фианитами\\n</td>\n",
       "      <td>Серьги</td>\n",
       "      <td>{'Модель': '3988К*', 'Материал изделия': 'Розо...</td>\n",
       "      <td>9190</td>\n",
       "      <td>347717</td>\n",
       "      <td>https://sunlight.net/catalog/earring_59995.html</td>\n",
       "    </tr>\n",
       "    <tr>\n",
       "      <th>14993</th>\n",
       "      <td>14-03-2024</td>\n",
       "      <td>Sunlight</td>\n",
       "      <td>\\n    Золотой крест-подвеска\\n</td>\n",
       "      <td>Крест-подвеска</td>\n",
       "      <td>{'Модель': '10029100*', 'Материал изделия': 'Р...</td>\n",
       "      <td>7490</td>\n",
       "      <td>74528</td>\n",
       "      <td>https://sunlight.net/catalog/pendants_74528.html</td>\n",
       "    </tr>\n",
       "    <tr>\n",
       "      <th>14994</th>\n",
       "      <td>14-03-2024</td>\n",
       "      <td>Sunlight</td>\n",
       "      <td>\\n    Золотое кольцо\\n</td>\n",
       "      <td>Кольца</td>\n",
       "      <td>{'Модель': '17-1001-11-61*', 'Покрытие': 'Без ...</td>\n",
       "      <td>11350</td>\n",
       "      <td>275727</td>\n",
       "      <td>https://sunlight.net/catalog/ring_275727.html</td>\n",
       "    </tr>\n",
       "    <tr>\n",
       "      <th>14995</th>\n",
       "      <td>14-03-2024</td>\n",
       "      <td>Sunlight</td>\n",
       "      <td>\\n    Золотые серьги с фианитами\\n</td>\n",
       "      <td>Серьги</td>\n",
       "      <td>{'Модель': '10-02-0001-23945*', 'Материал изде...</td>\n",
       "      <td>10990</td>\n",
       "      <td>85469</td>\n",
       "      <td>https://sunlight.net/catalog/earring_85469.html</td>\n",
       "    </tr>\n",
       "  </tbody>\n",
       "</table>\n",
       "<p>14996 rows × 8 columns</p>\n",
       "</div>"
      ],
      "text/plain": [
       "             date competitor  \\\n",
       "0      14-03-2024   Sunlight   \n",
       "1      14-03-2024   Sunlight   \n",
       "2      14-03-2024   Sunlight   \n",
       "3      14-03-2024   Sunlight   \n",
       "4      14-03-2024   Sunlight   \n",
       "...           ...        ...   \n",
       "14991  14-03-2024   Sunlight   \n",
       "14992  14-03-2024   Sunlight   \n",
       "14993  14-03-2024   Sunlight   \n",
       "14994  14-03-2024   Sunlight   \n",
       "14995  14-03-2024   Sunlight   \n",
       "\n",
       "                                                    name             group  \\\n",
       "0                  \\n    Золотой браслет с фианитами\\n            Браслеты   \n",
       "1      \\n    Золотое шейное украшение с сапфирами и б...  Шейное украшение   \n",
       "2                     \\n    Золотое шейное украшение\\n    Шейное украшение   \n",
       "3                     \\n    Золотое шейное украшение\\n    Шейное украшение   \n",
       "4                              \\n    Золотой браслет\\n            Браслеты   \n",
       "...                                                  ...               ...   \n",
       "14991          \\n    Золотая подвеска с бриллиантами\\n            Подвески   \n",
       "14992               \\n    Золотые серьги с фианитами\\n              Серьги   \n",
       "14993                   \\n    Золотой крест-подвеска\\n      Крест-подвеска   \n",
       "14994                           \\n    Золотое кольцо\\n              Кольца   \n",
       "14995               \\n    Золотые серьги с фианитами\\n              Серьги   \n",
       "\n",
       "                                                  params   price  article  \\\n",
       "0      {'Модель': 'S-561018б_001*', 'Материал изделия...    9490   342484   \n",
       "1      {'Модель': '72768-H5W-01', 'Материал изделия':...   64990   342285   \n",
       "2      {'Модель': 'П40016462*', 'Материал изделия': '...   23690   341448   \n",
       "3      {'Модель': 'П10016462*', 'Материал изделия': '...   23230   341447   \n",
       "4      {'Модель': '77065', 'Материал изделия': 'Розов...  126030   340830   \n",
       "...                                                  ...     ...      ...   \n",
       "14991  {'Модель': '73691-P5R-01', 'Материал изделия':...   21990   988887   \n",
       "14992  {'Модель': '3988К*', 'Материал изделия': 'Розо...    9190   347717   \n",
       "14993  {'Модель': '10029100*', 'Материал изделия': 'Р...    7490    74528   \n",
       "14994  {'Модель': '17-1001-11-61*', 'Покрытие': 'Без ...   11350   275727   \n",
       "14995  {'Модель': '10-02-0001-23945*', 'Материал изде...   10990    85469   \n",
       "\n",
       "                                                     url  \n",
       "0      https://sunlight.net/catalog/bracelets_342484....  \n",
       "1      https://sunlight.net/catalog/neck_decoration_3...  \n",
       "2      https://sunlight.net/catalog/neck_decoration_3...  \n",
       "3      https://sunlight.net/catalog/neck_decoration_3...  \n",
       "4      https://sunlight.net/catalog/bracelets_340830....  \n",
       "...                                                  ...  \n",
       "14991  https://sunlight.net/catalog/pendants_988887.html  \n",
       "14992    https://sunlight.net/catalog/earring_59995.html  \n",
       "14993   https://sunlight.net/catalog/pendants_74528.html  \n",
       "14994      https://sunlight.net/catalog/ring_275727.html  \n",
       "14995    https://sunlight.net/catalog/earring_85469.html  \n",
       "\n",
       "[14996 rows x 8 columns]"
      ]
     },
     "execution_count": 33,
     "metadata": {},
     "output_type": "execute_result"
    }
   ],
   "source": [
    "data"
   ]
  },
  {
   "cell_type": "code",
   "execution_count": 34,
   "id": "519c7daa",
   "metadata": {},
   "outputs": [],
   "source": [
    "data.to_csv(rf'C:\\Users\\Trenkin.Sergey\\Desktop\\parsers\\sunlight_current_data\\data_without_price.csv', index = False)"
   ]
  },
  {
   "cell_type": "code",
   "execution_count": 35,
   "id": "58337692-5eb6-4eb5-9115-f144d8abbb81",
   "metadata": {
    "tags": []
   },
   "outputs": [
    {
     "name": "stdout",
     "output_type": "stream",
     "text": [
      "<class 'pandas.core.frame.DataFrame'>\n",
      "RangeIndex: 14996 entries, 0 to 14995\n",
      "Data columns (total 8 columns):\n",
      " #   Column      Non-Null Count  Dtype \n",
      "---  ------      --------------  ----- \n",
      " 0   date        14996 non-null  object\n",
      " 1   competitor  14996 non-null  object\n",
      " 2   name        14996 non-null  object\n",
      " 3   group       14996 non-null  object\n",
      " 4   params      14996 non-null  object\n",
      " 5   price       14996 non-null  int64 \n",
      " 6   article     14996 non-null  int64 \n",
      " 7   url         14996 non-null  object\n",
      "dtypes: int64(2), object(6)\n",
      "memory usage: 937.4+ KB\n"
     ]
    }
   ],
   "source": [
    "data.info()"
   ]
  },
  {
   "cell_type": "code",
   "execution_count": 36,
   "id": "8417ea87-4b5c-4a25-adab-ea9dc6aa14c4",
   "metadata": {
    "tags": []
   },
   "outputs": [
    {
     "data": {
      "text/plain": [
       "62"
      ]
     },
     "execution_count": 36,
     "metadata": {},
     "output_type": "execute_result"
    }
   ],
   "source": [
    "data.duplicated().sum()"
   ]
  },
  {
   "cell_type": "code",
   "execution_count": 37,
   "id": "0b84a2f7-e088-4e35-b146-8e062b70017c",
   "metadata": {
    "tags": []
   },
   "outputs": [],
   "source": [
    "data = data.drop_duplicates()"
   ]
  },
  {
   "cell_type": "code",
   "execution_count": 38,
   "id": "6d3ae069-d73d-479d-aade-bf0c7a7af635",
   "metadata": {
    "tags": []
   },
   "outputs": [
    {
     "data": {
      "text/plain": [
       "0"
      ]
     },
     "execution_count": 38,
     "metadata": {},
     "output_type": "execute_result"
    }
   ],
   "source": [
    "data.duplicated().sum()"
   ]
  },
  {
   "cell_type": "code",
   "execution_count": 39,
   "id": "e18e867c-20ea-4daf-ac9c-c782afdb958a",
   "metadata": {
    "tags": []
   },
   "outputs": [
    {
     "data": {
      "text/plain": [
       "0"
      ]
     },
     "execution_count": 39,
     "metadata": {},
     "output_type": "execute_result"
    }
   ],
   "source": [
    "data['article'].isna().sum()"
   ]
  },
  {
   "cell_type": "code",
   "execution_count": 40,
   "id": "73e88350-0df1-4eaa-ac9c-5c898b1b55ce",
   "metadata": {
    "tags": []
   },
   "outputs": [],
   "source": [
    "data = data.dropna()"
   ]
  },
  {
   "cell_type": "code",
   "execution_count": 41,
   "id": "a64bce96-cffd-49ed-a32e-fcc4e915c981",
   "metadata": {
    "tags": []
   },
   "outputs": [],
   "source": [
    "data['article'] = data['article'].astype('int') "
   ]
  },
  {
   "cell_type": "code",
   "execution_count": 47,
   "id": "392c3f10-6d77-45d5-ba86-f7f7d8299399",
   "metadata": {
    "tags": []
   },
   "outputs": [],
   "source": [
    "test = np.array_split(data, 100)"
   ]
  },
  {
   "cell_type": "code",
   "execution_count": 48,
   "id": "3f46aa50-31cc-47c7-9f24-9af06d198032",
   "metadata": {
    "tags": []
   },
   "outputs": [
    {
     "data": {
      "text/html": [
       "<div>\n",
       "<style scoped>\n",
       "    .dataframe tbody tr th:only-of-type {\n",
       "        vertical-align: middle;\n",
       "    }\n",
       "\n",
       "    .dataframe tbody tr th {\n",
       "        vertical-align: top;\n",
       "    }\n",
       "\n",
       "    .dataframe thead th {\n",
       "        text-align: right;\n",
       "    }\n",
       "</style>\n",
       "<table border=\"1\" class=\"dataframe\">\n",
       "  <thead>\n",
       "    <tr style=\"text-align: right;\">\n",
       "      <th></th>\n",
       "      <th>index</th>\n",
       "      <th>date</th>\n",
       "      <th>competitor</th>\n",
       "      <th>name</th>\n",
       "      <th>group</th>\n",
       "      <th>params</th>\n",
       "      <th>price</th>\n",
       "      <th>article</th>\n",
       "      <th>url</th>\n",
       "    </tr>\n",
       "  </thead>\n",
       "  <tbody>\n",
       "    <tr>\n",
       "      <th>0</th>\n",
       "      <td>150</td>\n",
       "      <td>14-03-2024</td>\n",
       "      <td>Sunlight</td>\n",
       "      <td>\\n    Золотое шейное украшение с сапфирами\\n</td>\n",
       "      <td>Шейное украшение</td>\n",
       "      <td>{'Модель': '73536-H5R-02', 'Материал изделия':...</td>\n",
       "      <td>34990</td>\n",
       "      <td>991191</td>\n",
       "      <td>https://sunlight.net/catalog/neck_decoration_9...</td>\n",
       "    </tr>\n",
       "    <tr>\n",
       "      <th>1</th>\n",
       "      <td>151</td>\n",
       "      <td>14-03-2024</td>\n",
       "      <td>Sunlight</td>\n",
       "      <td>\\n    Золотой браслет\\n</td>\n",
       "      <td>Браслеты</td>\n",
       "      <td>{'Модель': '12893-B5Y-01', 'Материал изделия':...</td>\n",
       "      <td>54990</td>\n",
       "      <td>991138</td>\n",
       "      <td>https://sunlight.net/catalog/bracelets_991138....</td>\n",
       "    </tr>\n",
       "    <tr>\n",
       "      <th>2</th>\n",
       "      <td>152</td>\n",
       "      <td>14-03-2024</td>\n",
       "      <td>Sunlight</td>\n",
       "      <td>\\n    Золотое шейное украшение\\n</td>\n",
       "      <td>Шейное украшение</td>\n",
       "      <td>{'Модель': '12893-H5Y-01', 'Материал изделия':...</td>\n",
       "      <td>124990</td>\n",
       "      <td>991137</td>\n",
       "      <td>https://sunlight.net/catalog/neck_decoration_9...</td>\n",
       "    </tr>\n",
       "    <tr>\n",
       "      <th>3</th>\n",
       "      <td>153</td>\n",
       "      <td>14-03-2024</td>\n",
       "      <td>Sunlight</td>\n",
       "      <td>\\n    Золотое шейное украшение\\n</td>\n",
       "      <td>Шейное украшение</td>\n",
       "      <td>{'Модель': '00241-50-030001-00*', 'Материал из...</td>\n",
       "      <td>68260</td>\n",
       "      <td>991110</td>\n",
       "      <td>https://sunlight.net/catalog/neck_decoration_9...</td>\n",
       "    </tr>\n",
       "    <tr>\n",
       "      <th>4</th>\n",
       "      <td>154</td>\n",
       "      <td>14-03-2024</td>\n",
       "      <td>Sunlight</td>\n",
       "      <td>\\n    Золотое шейное украшение с фианитами\\n</td>\n",
       "      <td>Шейное украшение</td>\n",
       "      <td>{'Модель': '01Л132158*', 'Материал изделия': '...</td>\n",
       "      <td>25640</td>\n",
       "      <td>991016</td>\n",
       "      <td>https://sunlight.net/catalog/neck_decoration_9...</td>\n",
       "    </tr>\n",
       "    <tr>\n",
       "      <th>...</th>\n",
       "      <td>...</td>\n",
       "      <td>...</td>\n",
       "      <td>...</td>\n",
       "      <td>...</td>\n",
       "      <td>...</td>\n",
       "      <td>...</td>\n",
       "      <td>...</td>\n",
       "      <td>...</td>\n",
       "      <td>...</td>\n",
       "    </tr>\n",
       "    <tr>\n",
       "      <th>145</th>\n",
       "      <td>295</td>\n",
       "      <td>14-03-2024</td>\n",
       "      <td>Sunlight</td>\n",
       "      <td>\\n    Золотой браслет\\n</td>\n",
       "      <td>Браслеты</td>\n",
       "      <td>{'Модель': '01Б013059Р*', 'Материал изделия': ...</td>\n",
       "      <td>73420</td>\n",
       "      <td>343091</td>\n",
       "      <td>https://sunlight.net/catalog/bracelets_343091....</td>\n",
       "    </tr>\n",
       "    <tr>\n",
       "      <th>146</th>\n",
       "      <td>296</td>\n",
       "      <td>14-03-2024</td>\n",
       "      <td>Sunlight</td>\n",
       "      <td>\\n    Золотой браслет\\n</td>\n",
       "      <td>Браслеты</td>\n",
       "      <td>{'Модель': '01Б013043*', 'Материал изделия': '...</td>\n",
       "      <td>63180</td>\n",
       "      <td>343088</td>\n",
       "      <td>https://sunlight.net/catalog/bracelets_343088....</td>\n",
       "    </tr>\n",
       "    <tr>\n",
       "      <th>147</th>\n",
       "      <td>297</td>\n",
       "      <td>14-03-2024</td>\n",
       "      <td>Sunlight</td>\n",
       "      <td>\\n    Золотой браслет\\n</td>\n",
       "      <td>Браслеты</td>\n",
       "      <td>{'Модель': '01Б012892*', 'Материал изделия': '...</td>\n",
       "      <td>92230</td>\n",
       "      <td>343083</td>\n",
       "      <td>https://sunlight.net/catalog/bracelets_343083....</td>\n",
       "    </tr>\n",
       "    <tr>\n",
       "      <th>148</th>\n",
       "      <td>298</td>\n",
       "      <td>14-03-2024</td>\n",
       "      <td>Sunlight</td>\n",
       "      <td>\\n    Золотые серьги с фианитами и кварцами ды...</td>\n",
       "      <td>Серьги</td>\n",
       "      <td>{'Модель': 'кл2929а-4*', 'Материал изделия': '...</td>\n",
       "      <td>67990</td>\n",
       "      <td>332768</td>\n",
       "      <td>https://sunlight.net/catalog/earring_332768.html</td>\n",
       "    </tr>\n",
       "    <tr>\n",
       "      <th>149</th>\n",
       "      <td>299</td>\n",
       "      <td>14-03-2024</td>\n",
       "      <td>Sunlight</td>\n",
       "      <td>\\n    Золотое кольцо с фианитами и аметрином\\n</td>\n",
       "      <td>Кольца</td>\n",
       "      <td>{'Модель': 'кл2896-49*', 'Материал изделия': '...</td>\n",
       "      <td>31990</td>\n",
       "      <td>332752</td>\n",
       "      <td>https://sunlight.net/catalog/ring_332752.html</td>\n",
       "    </tr>\n",
       "  </tbody>\n",
       "</table>\n",
       "<p>150 rows × 9 columns</p>\n",
       "</div>"
      ],
      "text/plain": [
       "     index        date competitor  \\\n",
       "0      150  14-03-2024   Sunlight   \n",
       "1      151  14-03-2024   Sunlight   \n",
       "2      152  14-03-2024   Sunlight   \n",
       "3      153  14-03-2024   Sunlight   \n",
       "4      154  14-03-2024   Sunlight   \n",
       "..     ...         ...        ...   \n",
       "145    295  14-03-2024   Sunlight   \n",
       "146    296  14-03-2024   Sunlight   \n",
       "147    297  14-03-2024   Sunlight   \n",
       "148    298  14-03-2024   Sunlight   \n",
       "149    299  14-03-2024   Sunlight   \n",
       "\n",
       "                                                  name             group  \\\n",
       "0       \\n    Золотое шейное украшение с сапфирами\\n    Шейное украшение   \n",
       "1                            \\n    Золотой браслет\\n            Браслеты   \n",
       "2                   \\n    Золотое шейное украшение\\n    Шейное украшение   \n",
       "3                   \\n    Золотое шейное украшение\\n    Шейное украшение   \n",
       "4       \\n    Золотое шейное украшение с фианитами\\n    Шейное украшение   \n",
       "..                                                 ...               ...   \n",
       "145                          \\n    Золотой браслет\\n            Браслеты   \n",
       "146                          \\n    Золотой браслет\\n            Браслеты   \n",
       "147                          \\n    Золотой браслет\\n            Браслеты   \n",
       "148  \\n    Золотые серьги с фианитами и кварцами ды...            Серьги   \n",
       "149   \\n    Золотое кольцо с фианитами и аметрином\\n              Кольца   \n",
       "\n",
       "                                                params   price  article  \\\n",
       "0    {'Модель': '73536-H5R-02', 'Материал изделия':...   34990   991191   \n",
       "1    {'Модель': '12893-B5Y-01', 'Материал изделия':...   54990   991138   \n",
       "2    {'Модель': '12893-H5Y-01', 'Материал изделия':...  124990   991137   \n",
       "3    {'Модель': '00241-50-030001-00*', 'Материал из...   68260   991110   \n",
       "4    {'Модель': '01Л132158*', 'Материал изделия': '...   25640   991016   \n",
       "..                                                 ...     ...      ...   \n",
       "145  {'Модель': '01Б013059Р*', 'Материал изделия': ...   73420   343091   \n",
       "146  {'Модель': '01Б013043*', 'Материал изделия': '...   63180   343088   \n",
       "147  {'Модель': '01Б012892*', 'Материал изделия': '...   92230   343083   \n",
       "148  {'Модель': 'кл2929а-4*', 'Материал изделия': '...   67990   332768   \n",
       "149  {'Модель': 'кл2896-49*', 'Материал изделия': '...   31990   332752   \n",
       "\n",
       "                                                   url  \n",
       "0    https://sunlight.net/catalog/neck_decoration_9...  \n",
       "1    https://sunlight.net/catalog/bracelets_991138....  \n",
       "2    https://sunlight.net/catalog/neck_decoration_9...  \n",
       "3    https://sunlight.net/catalog/neck_decoration_9...  \n",
       "4    https://sunlight.net/catalog/neck_decoration_9...  \n",
       "..                                                 ...  \n",
       "145  https://sunlight.net/catalog/bracelets_343091....  \n",
       "146  https://sunlight.net/catalog/bracelets_343088....  \n",
       "147  https://sunlight.net/catalog/bracelets_343083....  \n",
       "148   https://sunlight.net/catalog/earring_332768.html  \n",
       "149      https://sunlight.net/catalog/ring_332752.html  \n",
       "\n",
       "[150 rows x 9 columns]"
      ]
     },
     "execution_count": 48,
     "metadata": {},
     "output_type": "execute_result"
    }
   ],
   "source": [
    "test[1].reset_index()"
   ]
  },
  {
   "cell_type": "code",
   "execution_count": 44,
   "id": "2fff3cdb-166e-4363-a351-a3d39062e012",
   "metadata": {
    "tags": []
   },
   "outputs": [
    {
     "name": "stdout",
     "output_type": "stream",
     "text": [
      "начало парсинга 1 части ссылок\n",
      "начало парсинга 0 части ссылок\n"
     ]
    },
    {
     "data": {
      "application/vnd.jupyter.widget-view+json": {
       "model_id": "6d7e3a9fdf2942f3879dde21bc017419",
       "version_major": 2,
       "version_minor": 0
      },
      "text/plain": [
       "  0%|          | 0/1494 [00:00<?, ?it/s]"
      ]
     },
     "metadata": {},
     "output_type": "display_data"
    },
    {
     "name": "stdout",
     "output_type": "stream",
     "text": [
      "\n",
      "------------------------------------\n",
      "начало парсинга 2 части ссылок\n",
      "начало парсинга 1 части ссылок\n"
     ]
    },
    {
     "data": {
      "application/vnd.jupyter.widget-view+json": {
       "model_id": "3f5cb609b2d1407b9094209e0d0de896",
       "version_major": 2,
       "version_minor": 0
      },
      "text/plain": [
       "  0%|          | 0/1494 [00:00<?, ?it/s]"
      ]
     },
     "metadata": {},
     "output_type": "display_data"
    },
    {
     "name": "stdout",
     "output_type": "stream",
     "text": [
      "\n",
      "------------------------------------\n",
      "начало парсинга 3 части ссылок\n",
      "начало парсинга 2 части ссылок\n"
     ]
    },
    {
     "data": {
      "application/vnd.jupyter.widget-view+json": {
       "model_id": "26d41e1bea754d109d72cb2e2364858f",
       "version_major": 2,
       "version_minor": 0
      },
      "text/plain": [
       "  0%|          | 0/1494 [00:00<?, ?it/s]"
      ]
     },
     "metadata": {},
     "output_type": "display_data"
    },
    {
     "name": "stdout",
     "output_type": "stream",
     "text": [
      "\n",
      "------------------------------------\n",
      "начало парсинга 4 части ссылок\n",
      "начало парсинга 3 части ссылок\n"
     ]
    },
    {
     "data": {
      "application/vnd.jupyter.widget-view+json": {
       "model_id": "013d1f933f554f2eb57636df5ce39c42",
       "version_major": 2,
       "version_minor": 0
      },
      "text/plain": [
       "  0%|          | 0/1494 [00:00<?, ?it/s]"
      ]
     },
     "metadata": {},
     "output_type": "display_data"
    },
    {
     "name": "stdout",
     "output_type": "stream",
     "text": [
      "\n",
      "------------------------------------\n",
      "начало парсинга 5 части ссылок\n",
      "начало парсинга 4 части ссылок\n"
     ]
    },
    {
     "data": {
      "application/vnd.jupyter.widget-view+json": {
       "model_id": "ff7f4c5b0b2f4ef19f2f76f20b936dd2",
       "version_major": 2,
       "version_minor": 0
      },
      "text/plain": [
       "  0%|          | 0/1493 [00:00<?, ?it/s]"
      ]
     },
     "metadata": {},
     "output_type": "display_data"
    },
    {
     "name": "stdout",
     "output_type": "stream",
     "text": [
      "\n",
      "------------------------------------\n",
      "начало парсинга 6 части ссылок\n",
      "начало парсинга 5 части ссылок\n"
     ]
    },
    {
     "data": {
      "application/vnd.jupyter.widget-view+json": {
       "model_id": "876731b26f214f4bae2ecfbcf39ba9e0",
       "version_major": 2,
       "version_minor": 0
      },
      "text/plain": [
       "  0%|          | 0/1493 [00:00<?, ?it/s]"
      ]
     },
     "metadata": {},
     "output_type": "display_data"
    },
    {
     "name": "stdout",
     "output_type": "stream",
     "text": [
      "\n",
      "------------------------------------\n",
      "начало парсинга 7 части ссылок\n",
      "начало парсинга 6 части ссылок\n"
     ]
    },
    {
     "data": {
      "application/vnd.jupyter.widget-view+json": {
       "model_id": "181299c8c38a47a4bb9ce1e8fe794a2e",
       "version_major": 2,
       "version_minor": 0
      },
      "text/plain": [
       "  0%|          | 0/1493 [00:00<?, ?it/s]"
      ]
     },
     "metadata": {},
     "output_type": "display_data"
    },
    {
     "name": "stdout",
     "output_type": "stream",
     "text": [
      "\n",
      "------------------------------------\n",
      "начало парсинга 8 части ссылок\n",
      "начало парсинга 7 части ссылок\n"
     ]
    },
    {
     "data": {
      "application/vnd.jupyter.widget-view+json": {
       "model_id": "2fe325a7d8ba40f1b845e5d8bf8426ca",
       "version_major": 2,
       "version_minor": 0
      },
      "text/plain": [
       "  0%|          | 0/1493 [00:00<?, ?it/s]"
      ]
     },
     "metadata": {},
     "output_type": "display_data"
    },
    {
     "name": "stdout",
     "output_type": "stream",
     "text": [
      "\n",
      "------------------------------------\n",
      "начало парсинга 9 части ссылок\n",
      "начало парсинга 8 части ссылок\n"
     ]
    },
    {
     "data": {
      "application/vnd.jupyter.widget-view+json": {
       "model_id": "bbc347a253fe43c6afaa723d0c511749",
       "version_major": 2,
       "version_minor": 0
      },
      "text/plain": [
       "  0%|          | 0/1493 [00:00<?, ?it/s]"
      ]
     },
     "metadata": {},
     "output_type": "display_data"
    },
    {
     "name": "stdout",
     "output_type": "stream",
     "text": [
      "\n",
      "------------------------------------\n",
      "начало парсинга 10 части ссылок\n",
      "начало парсинга 9 части ссылок\n"
     ]
    },
    {
     "data": {
      "application/vnd.jupyter.widget-view+json": {
       "model_id": "36e9bd39249045d98e899e66b1b98977",
       "version_major": 2,
       "version_minor": 0
      },
      "text/plain": [
       "  0%|          | 0/1493 [00:00<?, ?it/s]"
      ]
     },
     "metadata": {},
     "output_type": "display_data"
    },
    {
     "name": "stdout",
     "output_type": "stream",
     "text": [
      "\n",
      "------------------------------------\n"
     ]
    }
   ],
   "source": [
    "n = 0\n",
    "for i in range(0, 10):\n",
    "    n+=1\n",
    "    print(f'начало парсинга {i} части ссылок')\n",
    "    \n",
    "    df = get_personal_price(test[i].reset_index())\n",
    "    df = pd.DataFrame(df)\n",
    "    print('')\n",
    "    print('------------------------------------')\n",
    "    df.to_csv(r'C:\\Users\\Trenkin.Sergey\\Desktop\\parsers\\sunlight_current_data\\discounts\\\\' + f'sunlight_all_data_{day_now}_{month_now}_{n}.csv', index=False)\n",
    "    time.sleep(5)"
   ]
  },
  {
   "cell_type": "code",
   "execution_count": 49,
   "id": "1cc1c7e9",
   "metadata": {},
   "outputs": [
    {
     "data": {
      "text/plain": [
       "10"
      ]
     },
     "execution_count": 49,
     "metadata": {},
     "output_type": "execute_result"
    }
   ],
   "source": [
    "os.chdir(r'C:\\Users\\Trenkin.Sergey\\Desktop\\parsers\\sunlight_current_data\\discounts')\n",
    "extension = 'csv'\n",
    "all_filenames = [i for i in glob.glob('*.{}'.format(extension))]\n",
    "len(all_filenames)"
   ]
  },
  {
   "cell_type": "code",
   "execution_count": 50,
   "id": "35b46694",
   "metadata": {},
   "outputs": [
    {
     "data": {
      "text/html": [
       "<div>\n",
       "<style scoped>\n",
       "    .dataframe tbody tr th:only-of-type {\n",
       "        vertical-align: middle;\n",
       "    }\n",
       "\n",
       "    .dataframe tbody tr th {\n",
       "        vertical-align: top;\n",
       "    }\n",
       "\n",
       "    .dataframe thead th {\n",
       "        text-align: right;\n",
       "    }\n",
       "</style>\n",
       "<table border=\"1\" class=\"dataframe\">\n",
       "  <thead>\n",
       "    <tr style=\"text-align: right;\">\n",
       "      <th></th>\n",
       "      <th>date</th>\n",
       "      <th>competitor</th>\n",
       "      <th>name</th>\n",
       "      <th>group</th>\n",
       "      <th>params</th>\n",
       "      <th>price</th>\n",
       "      <th>article</th>\n",
       "      <th>url</th>\n",
       "    </tr>\n",
       "  </thead>\n",
       "  <tbody>\n",
       "    <tr>\n",
       "      <th>0</th>\n",
       "      <td>14-03-2024</td>\n",
       "      <td>Sunlight</td>\n",
       "      <td>\\n    Золотой браслет с фианитами\\n</td>\n",
       "      <td>Браслеты</td>\n",
       "      <td>{'Модель': 'S-561018б_001*', 'Материал изделия...</td>\n",
       "      <td>9490</td>\n",
       "      <td>342484</td>\n",
       "      <td>https://sunlight.net/catalog/bracelets_342484....</td>\n",
       "    </tr>\n",
       "    <tr>\n",
       "      <th>1</th>\n",
       "      <td>14-03-2024</td>\n",
       "      <td>Sunlight</td>\n",
       "      <td>\\n    Золотое шейное украшение с сапфирами и б...</td>\n",
       "      <td>Шейное украшение</td>\n",
       "      <td>{'Модель': '72768-H5W-01', 'Материал изделия':...</td>\n",
       "      <td>64990</td>\n",
       "      <td>342285</td>\n",
       "      <td>https://sunlight.net/catalog/neck_decoration_3...</td>\n",
       "    </tr>\n",
       "    <tr>\n",
       "      <th>2</th>\n",
       "      <td>14-03-2024</td>\n",
       "      <td>Sunlight</td>\n",
       "      <td>\\n    Золотое шейное украшение\\n</td>\n",
       "      <td>Шейное украшение</td>\n",
       "      <td>{'Модель': 'П40016462*', 'Материал изделия': '...</td>\n",
       "      <td>23690</td>\n",
       "      <td>341448</td>\n",
       "      <td>https://sunlight.net/catalog/neck_decoration_3...</td>\n",
       "    </tr>\n",
       "    <tr>\n",
       "      <th>3</th>\n",
       "      <td>14-03-2024</td>\n",
       "      <td>Sunlight</td>\n",
       "      <td>\\n    Золотое шейное украшение\\n</td>\n",
       "      <td>Шейное украшение</td>\n",
       "      <td>{'Модель': 'П10016462*', 'Материал изделия': '...</td>\n",
       "      <td>23230</td>\n",
       "      <td>341447</td>\n",
       "      <td>https://sunlight.net/catalog/neck_decoration_3...</td>\n",
       "    </tr>\n",
       "    <tr>\n",
       "      <th>4</th>\n",
       "      <td>14-03-2024</td>\n",
       "      <td>Sunlight</td>\n",
       "      <td>\\n    Золотой браслет\\n</td>\n",
       "      <td>Браслеты</td>\n",
       "      <td>{'Модель': '77065', 'Материал изделия': 'Розов...</td>\n",
       "      <td>126030</td>\n",
       "      <td>340830</td>\n",
       "      <td>https://sunlight.net/catalog/bracelets_340830....</td>\n",
       "    </tr>\n",
       "    <tr>\n",
       "      <th>...</th>\n",
       "      <td>...</td>\n",
       "      <td>...</td>\n",
       "      <td>...</td>\n",
       "      <td>...</td>\n",
       "      <td>...</td>\n",
       "      <td>...</td>\n",
       "      <td>...</td>\n",
       "      <td>...</td>\n",
       "    </tr>\n",
       "    <tr>\n",
       "      <th>14991</th>\n",
       "      <td>14-03-2024</td>\n",
       "      <td>Sunlight</td>\n",
       "      <td>\\n    Золотая подвеска с бриллиантами\\n</td>\n",
       "      <td>Подвески</td>\n",
       "      <td>{'Модель': '73691-P5R-01', 'Материал изделия':...</td>\n",
       "      <td>21990</td>\n",
       "      <td>988887</td>\n",
       "      <td>https://sunlight.net/catalog/pendants_988887.html</td>\n",
       "    </tr>\n",
       "    <tr>\n",
       "      <th>14992</th>\n",
       "      <td>14-03-2024</td>\n",
       "      <td>Sunlight</td>\n",
       "      <td>\\n    Золотые серьги с фианитами\\n</td>\n",
       "      <td>Серьги</td>\n",
       "      <td>{'Модель': '3988К*', 'Материал изделия': 'Розо...</td>\n",
       "      <td>9190</td>\n",
       "      <td>347717</td>\n",
       "      <td>https://sunlight.net/catalog/earring_59995.html</td>\n",
       "    </tr>\n",
       "    <tr>\n",
       "      <th>14993</th>\n",
       "      <td>14-03-2024</td>\n",
       "      <td>Sunlight</td>\n",
       "      <td>\\n    Золотой крест-подвеска\\n</td>\n",
       "      <td>Крест-подвеска</td>\n",
       "      <td>{'Модель': '10029100*', 'Материал изделия': 'Р...</td>\n",
       "      <td>7490</td>\n",
       "      <td>74528</td>\n",
       "      <td>https://sunlight.net/catalog/pendants_74528.html</td>\n",
       "    </tr>\n",
       "    <tr>\n",
       "      <th>14994</th>\n",
       "      <td>14-03-2024</td>\n",
       "      <td>Sunlight</td>\n",
       "      <td>\\n    Золотое кольцо\\n</td>\n",
       "      <td>Кольца</td>\n",
       "      <td>{'Модель': '17-1001-11-61*', 'Покрытие': 'Без ...</td>\n",
       "      <td>11350</td>\n",
       "      <td>275727</td>\n",
       "      <td>https://sunlight.net/catalog/ring_275727.html</td>\n",
       "    </tr>\n",
       "    <tr>\n",
       "      <th>14995</th>\n",
       "      <td>14-03-2024</td>\n",
       "      <td>Sunlight</td>\n",
       "      <td>\\n    Золотые серьги с фианитами\\n</td>\n",
       "      <td>Серьги</td>\n",
       "      <td>{'Модель': '10-02-0001-23945*', 'Материал изде...</td>\n",
       "      <td>10990</td>\n",
       "      <td>85469</td>\n",
       "      <td>https://sunlight.net/catalog/earring_85469.html</td>\n",
       "    </tr>\n",
       "  </tbody>\n",
       "</table>\n",
       "<p>14934 rows × 8 columns</p>\n",
       "</div>"
      ],
      "text/plain": [
       "             date competitor  \\\n",
       "0      14-03-2024   Sunlight   \n",
       "1      14-03-2024   Sunlight   \n",
       "2      14-03-2024   Sunlight   \n",
       "3      14-03-2024   Sunlight   \n",
       "4      14-03-2024   Sunlight   \n",
       "...           ...        ...   \n",
       "14991  14-03-2024   Sunlight   \n",
       "14992  14-03-2024   Sunlight   \n",
       "14993  14-03-2024   Sunlight   \n",
       "14994  14-03-2024   Sunlight   \n",
       "14995  14-03-2024   Sunlight   \n",
       "\n",
       "                                                    name             group  \\\n",
       "0                  \\n    Золотой браслет с фианитами\\n            Браслеты   \n",
       "1      \\n    Золотое шейное украшение с сапфирами и б...  Шейное украшение   \n",
       "2                     \\n    Золотое шейное украшение\\n    Шейное украшение   \n",
       "3                     \\n    Золотое шейное украшение\\n    Шейное украшение   \n",
       "4                              \\n    Золотой браслет\\n            Браслеты   \n",
       "...                                                  ...               ...   \n",
       "14991          \\n    Золотая подвеска с бриллиантами\\n            Подвески   \n",
       "14992               \\n    Золотые серьги с фианитами\\n              Серьги   \n",
       "14993                   \\n    Золотой крест-подвеска\\n      Крест-подвеска   \n",
       "14994                           \\n    Золотое кольцо\\n              Кольца   \n",
       "14995               \\n    Золотые серьги с фианитами\\n              Серьги   \n",
       "\n",
       "                                                  params   price  article  \\\n",
       "0      {'Модель': 'S-561018б_001*', 'Материал изделия...    9490   342484   \n",
       "1      {'Модель': '72768-H5W-01', 'Материал изделия':...   64990   342285   \n",
       "2      {'Модель': 'П40016462*', 'Материал изделия': '...   23690   341448   \n",
       "3      {'Модель': 'П10016462*', 'Материал изделия': '...   23230   341447   \n",
       "4      {'Модель': '77065', 'Материал изделия': 'Розов...  126030   340830   \n",
       "...                                                  ...     ...      ...   \n",
       "14991  {'Модель': '73691-P5R-01', 'Материал изделия':...   21990   988887   \n",
       "14992  {'Модель': '3988К*', 'Материал изделия': 'Розо...    9190   347717   \n",
       "14993  {'Модель': '10029100*', 'Материал изделия': 'Р...    7490    74528   \n",
       "14994  {'Модель': '17-1001-11-61*', 'Покрытие': 'Без ...   11350   275727   \n",
       "14995  {'Модель': '10-02-0001-23945*', 'Материал изде...   10990    85469   \n",
       "\n",
       "                                                     url  \n",
       "0      https://sunlight.net/catalog/bracelets_342484....  \n",
       "1      https://sunlight.net/catalog/neck_decoration_3...  \n",
       "2      https://sunlight.net/catalog/neck_decoration_3...  \n",
       "3      https://sunlight.net/catalog/neck_decoration_3...  \n",
       "4      https://sunlight.net/catalog/bracelets_340830....  \n",
       "...                                                  ...  \n",
       "14991  https://sunlight.net/catalog/pendants_988887.html  \n",
       "14992    https://sunlight.net/catalog/earring_59995.html  \n",
       "14993   https://sunlight.net/catalog/pendants_74528.html  \n",
       "14994      https://sunlight.net/catalog/ring_275727.html  \n",
       "14995    https://sunlight.net/catalog/earring_85469.html  \n",
       "\n",
       "[14934 rows x 8 columns]"
      ]
     },
     "execution_count": 50,
     "metadata": {},
     "output_type": "execute_result"
    }
   ],
   "source": [
    "data"
   ]
  },
  {
   "cell_type": "code",
   "execution_count": 51,
   "id": "c2d69699-23f3-4c83-97bc-d2aba743a4dc",
   "metadata": {
    "tags": []
   },
   "outputs": [],
   "source": [
    "data_discount = pd.DataFrame()\n",
    "for name  in all_filenames:\n",
    "    df = pd.read_csv(name)\n",
    "    data_discount = pd.concat([df, data_discount], ignore_index=True)"
   ]
  },
  {
   "cell_type": "code",
   "execution_count": 52,
   "id": "c11840f3-353f-49ae-82c8-66612a359a3e",
   "metadata": {
    "tags": []
   },
   "outputs": [],
   "source": [
    "data = data.merge(data_discount, on='article', how='left')"
   ]
  },
  {
   "cell_type": "code",
   "execution_count": 53,
   "id": "97cdcac5-2bcf-4fa4-b1f2-428f3c3fd32a",
   "metadata": {
    "tags": []
   },
   "outputs": [
    {
     "name": "stdout",
     "output_type": "stream",
     "text": [
      "<class 'pandas.core.frame.DataFrame'>\n",
      "RangeIndex: 14934 entries, 0 to 14933\n",
      "Data columns (total 12 columns):\n",
      " #   Column          Non-Null Count  Dtype \n",
      "---  ------          --------------  ----- \n",
      " 0   date            14934 non-null  object\n",
      " 1   competitor      14934 non-null  object\n",
      " 2   name            14934 non-null  object\n",
      " 3   group           14934 non-null  object\n",
      " 4   params          14934 non-null  object\n",
      " 5   price_x         14934 non-null  int64 \n",
      " 6   article         14934 non-null  int32 \n",
      " 7   url             14934 non-null  object\n",
      " 8   price_old       14201 non-null  object\n",
      " 9   price_y         14934 non-null  object\n",
      " 10  price_personal  14292 non-null  object\n",
      " 11  discount        14934 non-null  object\n",
      "dtypes: int32(1), int64(1), object(10)\n",
      "memory usage: 1.3+ MB\n"
     ]
    }
   ],
   "source": [
    "data.info()"
   ]
  },
  {
   "cell_type": "code",
   "execution_count": 54,
   "id": "049e3231-7148-4da2-848d-679b26fd5889",
   "metadata": {
    "tags": []
   },
   "outputs": [
    {
     "data": {
      "text/plain": [
       "discount\n",
       "['Последний день! ЕЩЕ -30%, код: ЛЮБИ']            4795\n",
       "['Последний день! ЕЩЕ -35%, код: ЛЮБИ']            3963\n",
       "['Последний день! ЕЩЕ -40%, код: ЛЮБИ']            3059\n",
       "['Последний день! ЕЩЕ -20%, код: ЛЮБИ']            2187\n",
       "['ШОК! Всего 4 990 руб. за грамм!', 'ХИТ-цена']     453\n",
       "[nan]                                               244\n",
       "['ХИТ-цена']                                        182\n",
       "['ЕЩЕ -35% по коду: СЕГОДНЯ']                        51\n",
       "Name: count, dtype: int64"
      ]
     },
     "execution_count": 54,
     "metadata": {},
     "output_type": "execute_result"
    }
   ],
   "source": [
    "data['discount'].value_counts()"
   ]
  },
  {
   "cell_type": "code",
   "execution_count": 55,
   "id": "1c16ae65-7ea8-4d57-994f-45815b15bbe3",
   "metadata": {
    "tags": []
   },
   "outputs": [
    {
     "data": {
      "text/html": [
       "<div>\n",
       "<style scoped>\n",
       "    .dataframe tbody tr th:only-of-type {\n",
       "        vertical-align: middle;\n",
       "    }\n",
       "\n",
       "    .dataframe tbody tr th {\n",
       "        vertical-align: top;\n",
       "    }\n",
       "\n",
       "    .dataframe thead th {\n",
       "        text-align: right;\n",
       "    }\n",
       "</style>\n",
       "<table border=\"1\" class=\"dataframe\">\n",
       "  <thead>\n",
       "    <tr style=\"text-align: right;\">\n",
       "      <th></th>\n",
       "      <th>date</th>\n",
       "      <th>competitor</th>\n",
       "      <th>name</th>\n",
       "      <th>group</th>\n",
       "      <th>params</th>\n",
       "      <th>price_x</th>\n",
       "      <th>article</th>\n",
       "      <th>url</th>\n",
       "      <th>price_old</th>\n",
       "      <th>price_y</th>\n",
       "      <th>price_personal</th>\n",
       "      <th>discount</th>\n",
       "    </tr>\n",
       "  </thead>\n",
       "  <tbody>\n",
       "    <tr>\n",
       "      <th>0</th>\n",
       "      <td>14-03-2024</td>\n",
       "      <td>Sunlight</td>\n",
       "      <td>\\n    Золотой браслет с фианитами\\n</td>\n",
       "      <td>Браслеты</td>\n",
       "      <td>{'Модель': 'S-561018б_001*', 'Материал изделия...</td>\n",
       "      <td>9490</td>\n",
       "      <td>342484</td>\n",
       "      <td>https://sunlight.net/catalog/bracelets_342484....</td>\n",
       "      <td>18 980 ₽</td>\n",
       "      <td>9 490 ₽</td>\n",
       "      <td>6 643 ₽</td>\n",
       "      <td>['Последний день! ЕЩЕ -30%, код: ЛЮБИ']</td>\n",
       "    </tr>\n",
       "    <tr>\n",
       "      <th>1</th>\n",
       "      <td>14-03-2024</td>\n",
       "      <td>Sunlight</td>\n",
       "      <td>\\n    Золотое шейное украшение с сапфирами и б...</td>\n",
       "      <td>Шейное украшение</td>\n",
       "      <td>{'Модель': '72768-H5W-01', 'Материал изделия':...</td>\n",
       "      <td>64990</td>\n",
       "      <td>342285</td>\n",
       "      <td>https://sunlight.net/catalog/neck_decoration_3...</td>\n",
       "      <td>129 980 ₽</td>\n",
       "      <td>64 990 ₽</td>\n",
       "      <td>47 990 ₽</td>\n",
       "      <td>['Последний день! ЕЩЕ -20%, код: ЛЮБИ']</td>\n",
       "    </tr>\n",
       "    <tr>\n",
       "      <th>2</th>\n",
       "      <td>14-03-2024</td>\n",
       "      <td>Sunlight</td>\n",
       "      <td>\\n    Золотое шейное украшение\\n</td>\n",
       "      <td>Шейное украшение</td>\n",
       "      <td>{'Модель': 'П40016462*', 'Материал изделия': '...</td>\n",
       "      <td>23690</td>\n",
       "      <td>341448</td>\n",
       "      <td>https://sunlight.net/catalog/neck_decoration_3...</td>\n",
       "      <td>47 380 ₽</td>\n",
       "      <td>23 690 ₽</td>\n",
       "      <td>16 583 ₽</td>\n",
       "      <td>['Последний день! ЕЩЕ -30%, код: ЛЮБИ']</td>\n",
       "    </tr>\n",
       "    <tr>\n",
       "      <th>3</th>\n",
       "      <td>14-03-2024</td>\n",
       "      <td>Sunlight</td>\n",
       "      <td>\\n    Золотое шейное украшение\\n</td>\n",
       "      <td>Шейное украшение</td>\n",
       "      <td>{'Модель': 'П10016462*', 'Материал изделия': '...</td>\n",
       "      <td>23230</td>\n",
       "      <td>341447</td>\n",
       "      <td>https://sunlight.net/catalog/neck_decoration_3...</td>\n",
       "      <td>46 460 ₽</td>\n",
       "      <td>23 230 ₽</td>\n",
       "      <td>16 261 ₽</td>\n",
       "      <td>['Последний день! ЕЩЕ -30%, код: ЛЮБИ']</td>\n",
       "    </tr>\n",
       "    <tr>\n",
       "      <th>4</th>\n",
       "      <td>14-03-2024</td>\n",
       "      <td>Sunlight</td>\n",
       "      <td>\\n    Золотой браслет\\n</td>\n",
       "      <td>Браслеты</td>\n",
       "      <td>{'Модель': '77065', 'Материал изделия': 'Розов...</td>\n",
       "      <td>126030</td>\n",
       "      <td>340830</td>\n",
       "      <td>https://sunlight.net/catalog/bracelets_340830....</td>\n",
       "      <td>252 060 ₽</td>\n",
       "      <td>126 030 ₽</td>\n",
       "      <td>109 030 ₽</td>\n",
       "      <td>['Последний день! ЕЩЕ -20%, код: ЛЮБИ']</td>\n",
       "    </tr>\n",
       "    <tr>\n",
       "      <th>5</th>\n",
       "      <td>14-03-2024</td>\n",
       "      <td>Sunlight</td>\n",
       "      <td>\\n    Золотой браслет\\n</td>\n",
       "      <td>Браслеты</td>\n",
       "      <td>{'Модель': '77061', 'Материал изделия': 'Розов...</td>\n",
       "      <td>100810</td>\n",
       "      <td>340829</td>\n",
       "      <td>https://sunlight.net/catalog/bracelets_340829....</td>\n",
       "      <td>201 620 ₽</td>\n",
       "      <td>100 810 ₽</td>\n",
       "      <td>83 810 ₽</td>\n",
       "      <td>['Последний день! ЕЩЕ -20%, код: ЛЮБИ']</td>\n",
       "    </tr>\n",
       "    <tr>\n",
       "      <th>6</th>\n",
       "      <td>14-03-2024</td>\n",
       "      <td>Sunlight</td>\n",
       "      <td>\\n    Золотой браслет\\n</td>\n",
       "      <td>Браслеты</td>\n",
       "      <td>{'Модель': '77060', 'Материал изделия': 'Розов...</td>\n",
       "      <td>118100</td>\n",
       "      <td>340828</td>\n",
       "      <td>https://sunlight.net/catalog/bracelets_340828....</td>\n",
       "      <td>236 200 ₽</td>\n",
       "      <td>118 100 ₽</td>\n",
       "      <td>101 100 ₽</td>\n",
       "      <td>['Последний день! ЕЩЕ -20%, код: ЛЮБИ']</td>\n",
       "    </tr>\n",
       "    <tr>\n",
       "      <th>7</th>\n",
       "      <td>14-03-2024</td>\n",
       "      <td>Sunlight</td>\n",
       "      <td>\\n    Золотой браслет\\n</td>\n",
       "      <td>Браслеты</td>\n",
       "      <td>{'Модель': '77022', 'Материал изделия': 'Розов...</td>\n",
       "      <td>151720</td>\n",
       "      <td>340827</td>\n",
       "      <td>https://sunlight.net/catalog/bracelets_340827....</td>\n",
       "      <td>303 440 ₽</td>\n",
       "      <td>151 720 ₽</td>\n",
       "      <td>134 720 ₽</td>\n",
       "      <td>['Последний день! ЕЩЕ -20%, код: ЛЮБИ']</td>\n",
       "    </tr>\n",
       "    <tr>\n",
       "      <th>8</th>\n",
       "      <td>14-03-2024</td>\n",
       "      <td>Sunlight</td>\n",
       "      <td>\\n    Золотой браслет\\n</td>\n",
       "      <td>Браслеты</td>\n",
       "      <td>{'Модель': 'Т3010587240*', 'Материал изделия':...</td>\n",
       "      <td>18540</td>\n",
       "      <td>340189</td>\n",
       "      <td>https://sunlight.net/catalog/bracelets_340189....</td>\n",
       "      <td>37 080 ₽</td>\n",
       "      <td>18 540 ₽</td>\n",
       "      <td>12 978 ₽</td>\n",
       "      <td>['Последний день! ЕЩЕ -35%, код: ЛЮБИ']</td>\n",
       "    </tr>\n",
       "    <tr>\n",
       "      <th>9</th>\n",
       "      <td>14-03-2024</td>\n",
       "      <td>Sunlight</td>\n",
       "      <td>\\n    Золотое обручальное кольцо \\n</td>\n",
       "      <td>Кольца</td>\n",
       "      <td>{'Модель': 'Т10001302*', 'Материал изделия': '...</td>\n",
       "      <td>16950</td>\n",
       "      <td>339930</td>\n",
       "      <td>https://sunlight.net/catalog/ring_339930.html</td>\n",
       "      <td>33 900 ₽</td>\n",
       "      <td>16 950 ₽</td>\n",
       "      <td>11 865 ₽</td>\n",
       "      <td>['Последний день! ЕЩЕ -40%, код: ЛЮБИ']</td>\n",
       "    </tr>\n",
       "    <tr>\n",
       "      <th>10</th>\n",
       "      <td>14-03-2024</td>\n",
       "      <td>Sunlight</td>\n",
       "      <td>\\n    Золотой браслет\\n</td>\n",
       "      <td>Браслеты</td>\n",
       "      <td>{'Модель': 'Т1035450119*', 'Материал изделия':...</td>\n",
       "      <td>20010</td>\n",
       "      <td>338755</td>\n",
       "      <td>https://sunlight.net/catalog/bracelets_338755....</td>\n",
       "      <td>NaN</td>\n",
       "      <td>20 010 ₽</td>\n",
       "      <td>NaN</td>\n",
       "      <td>['ШОК! Всего 4 990 руб. за грамм!', 'ХИТ-цена']</td>\n",
       "    </tr>\n",
       "    <tr>\n",
       "      <th>11</th>\n",
       "      <td>14-03-2024</td>\n",
       "      <td>Sunlight</td>\n",
       "      <td>\\n    Золотой браслет с фианитами\\n</td>\n",
       "      <td>Браслеты</td>\n",
       "      <td>{'Модель': '2107201*', 'Материал изделия': 'Ро...</td>\n",
       "      <td>53400</td>\n",
       "      <td>336354</td>\n",
       "      <td>https://sunlight.net/catalog/bracelets_336354....</td>\n",
       "      <td>106 800 ₽</td>\n",
       "      <td>53 400 ₽</td>\n",
       "      <td>37 380 ₽</td>\n",
       "      <td>['Последний день! ЕЩЕ -30%, код: ЛЮБИ']</td>\n",
       "    </tr>\n",
       "    <tr>\n",
       "      <th>12</th>\n",
       "      <td>14-03-2024</td>\n",
       "      <td>Sunlight</td>\n",
       "      <td>\\n    Золотой браслет\\n</td>\n",
       "      <td>Браслеты</td>\n",
       "      <td>{'Модель': '00-68-0050-00*', 'Материал изделия...</td>\n",
       "      <td>27170</td>\n",
       "      <td>336246</td>\n",
       "      <td>https://sunlight.net/catalog/bracelets_336246....</td>\n",
       "      <td>54 340 ₽</td>\n",
       "      <td>27 170 ₽</td>\n",
       "      <td>19 019 ₽</td>\n",
       "      <td>['Последний день! ЕЩЕ -30%, код: ЛЮБИ']</td>\n",
       "    </tr>\n",
       "    <tr>\n",
       "      <th>13</th>\n",
       "      <td>14-03-2024</td>\n",
       "      <td>Sunlight</td>\n",
       "      <td>\\n    Золотой браслет на ногу\\n</td>\n",
       "      <td>Браслеты</td>\n",
       "      <td>{'Модель': '01Б711799*', 'Материал изделия': '...</td>\n",
       "      <td>12660</td>\n",
       "      <td>336037</td>\n",
       "      <td>https://sunlight.net/catalog/bracelets_336037....</td>\n",
       "      <td>25 320 ₽</td>\n",
       "      <td>12 660 ₽</td>\n",
       "      <td>8 862 ₽</td>\n",
       "      <td>['Последний день! ЕЩЕ -35%, код: ЛЮБИ']</td>\n",
       "    </tr>\n",
       "    <tr>\n",
       "      <th>14</th>\n",
       "      <td>14-03-2024</td>\n",
       "      <td>Sunlight</td>\n",
       "      <td>\\n    Золотой браслет\\n</td>\n",
       "      <td>Браслеты</td>\n",
       "      <td>{'Модель': '01Б711106*', 'Материал изделия': '...</td>\n",
       "      <td>60040</td>\n",
       "      <td>336035</td>\n",
       "      <td>https://sunlight.net/catalog/bracelets_336035....</td>\n",
       "      <td>120 080 ₽</td>\n",
       "      <td>60 040 ₽</td>\n",
       "      <td>43 040 ₽</td>\n",
       "      <td>['Последний день! ЕЩЕ -20%, код: ЛЮБИ']</td>\n",
       "    </tr>\n",
       "    <tr>\n",
       "      <th>15</th>\n",
       "      <td>14-03-2024</td>\n",
       "      <td>Sunlight</td>\n",
       "      <td>\\n    Золотое шейное украшение с сапфирами и б...</td>\n",
       "      <td>Шейное украшение</td>\n",
       "      <td>{'Модель': '72345-H5R-02', 'Материал изделия':...</td>\n",
       "      <td>31990</td>\n",
       "      <td>335451</td>\n",
       "      <td>https://sunlight.net/catalog/neck_decoration_3...</td>\n",
       "      <td>63 980 ₽</td>\n",
       "      <td>31 990 ₽</td>\n",
       "      <td>22 393 ₽</td>\n",
       "      <td>['Последний день! ЕЩЕ -30%, код: ЛЮБИ']</td>\n",
       "    </tr>\n",
       "    <tr>\n",
       "      <th>16</th>\n",
       "      <td>14-03-2024</td>\n",
       "      <td>Sunlight</td>\n",
       "      <td>\\n    Золотой браслет с фианитами\\n</td>\n",
       "      <td>Браслеты</td>\n",
       "      <td>{'Модель': '74616А.1*', 'Материал изделия': 'Р...</td>\n",
       "      <td>50230</td>\n",
       "      <td>333668</td>\n",
       "      <td>https://sunlight.net/catalog/bracelets_333668....</td>\n",
       "      <td>100 460 ₽</td>\n",
       "      <td>50 230 ₽</td>\n",
       "      <td>35 161 ₽</td>\n",
       "      <td>['Последний день! ЕЩЕ -30%, код: ЛЮБИ']</td>\n",
       "    </tr>\n",
       "    <tr>\n",
       "      <th>17</th>\n",
       "      <td>14-03-2024</td>\n",
       "      <td>Sunlight</td>\n",
       "      <td>\\n    Золотой браслет\\n</td>\n",
       "      <td>Браслеты</td>\n",
       "      <td>{'Модель': '74551.1*', 'Материал изделия': 'Ро...</td>\n",
       "      <td>48830</td>\n",
       "      <td>333556</td>\n",
       "      <td>https://sunlight.net/catalog/bracelets_333556....</td>\n",
       "      <td>97 660 ₽</td>\n",
       "      <td>48 830 ₽</td>\n",
       "      <td>34 181 ₽</td>\n",
       "      <td>['Последний день! ЕЩЕ -20%, код: ЛЮБИ']</td>\n",
       "    </tr>\n",
       "    <tr>\n",
       "      <th>18</th>\n",
       "      <td>14-03-2024</td>\n",
       "      <td>Sunlight</td>\n",
       "      <td>\\n    Золотой браслет\\n</td>\n",
       "      <td>Браслеты</td>\n",
       "      <td>{'Модель': '74452.1*', 'Материал изделия': 'Ро...</td>\n",
       "      <td>27500</td>\n",
       "      <td>333555</td>\n",
       "      <td>https://sunlight.net/catalog/bracelets_333555....</td>\n",
       "      <td>55 000 ₽</td>\n",
       "      <td>27 500 ₽</td>\n",
       "      <td>19 250 ₽</td>\n",
       "      <td>['Последний день! ЕЩЕ -30%, код: ЛЮБИ']</td>\n",
       "    </tr>\n",
       "    <tr>\n",
       "      <th>19</th>\n",
       "      <td>14-03-2024</td>\n",
       "      <td>Sunlight</td>\n",
       "      <td>\\n    Золотое шейное украшение\\n</td>\n",
       "      <td>Шейное украшение</td>\n",
       "      <td>{'Модель': '73646.1*', 'Материал изделия': 'Ро...</td>\n",
       "      <td>27700</td>\n",
       "      <td>333554</td>\n",
       "      <td>https://sunlight.net/catalog/neck_decoration_3...</td>\n",
       "      <td>55 400 ₽</td>\n",
       "      <td>27 700 ₽</td>\n",
       "      <td>19 390 ₽</td>\n",
       "      <td>['Последний день! ЕЩЕ -30%, код: ЛЮБИ']</td>\n",
       "    </tr>\n",
       "  </tbody>\n",
       "</table>\n",
       "</div>"
      ],
      "text/plain": [
       "          date competitor                                               name  \\\n",
       "0   14-03-2024   Sunlight              \\n    Золотой браслет с фианитами\\n     \n",
       "1   14-03-2024   Sunlight  \\n    Золотое шейное украшение с сапфирами и б...   \n",
       "2   14-03-2024   Sunlight                 \\n    Золотое шейное украшение\\n     \n",
       "3   14-03-2024   Sunlight                 \\n    Золотое шейное украшение\\n     \n",
       "4   14-03-2024   Sunlight                          \\n    Золотой браслет\\n     \n",
       "5   14-03-2024   Sunlight                          \\n    Золотой браслет\\n     \n",
       "6   14-03-2024   Sunlight                          \\n    Золотой браслет\\n     \n",
       "7   14-03-2024   Sunlight                          \\n    Золотой браслет\\n     \n",
       "8   14-03-2024   Sunlight                          \\n    Золотой браслет\\n     \n",
       "9   14-03-2024   Sunlight              \\n    Золотое обручальное кольцо \\n     \n",
       "10  14-03-2024   Sunlight                          \\n    Золотой браслет\\n     \n",
       "11  14-03-2024   Sunlight              \\n    Золотой браслет с фианитами\\n     \n",
       "12  14-03-2024   Sunlight                          \\n    Золотой браслет\\n     \n",
       "13  14-03-2024   Sunlight                  \\n    Золотой браслет на ногу\\n     \n",
       "14  14-03-2024   Sunlight                          \\n    Золотой браслет\\n     \n",
       "15  14-03-2024   Sunlight  \\n    Золотое шейное украшение с сапфирами и б...   \n",
       "16  14-03-2024   Sunlight              \\n    Золотой браслет с фианитами\\n     \n",
       "17  14-03-2024   Sunlight                          \\n    Золотой браслет\\n     \n",
       "18  14-03-2024   Sunlight                          \\n    Золотой браслет\\n     \n",
       "19  14-03-2024   Sunlight                 \\n    Золотое шейное украшение\\n     \n",
       "\n",
       "               group                                             params  \\\n",
       "0           Браслеты  {'Модель': 'S-561018б_001*', 'Материал изделия...   \n",
       "1   Шейное украшение  {'Модель': '72768-H5W-01', 'Материал изделия':...   \n",
       "2   Шейное украшение  {'Модель': 'П40016462*', 'Материал изделия': '...   \n",
       "3   Шейное украшение  {'Модель': 'П10016462*', 'Материал изделия': '...   \n",
       "4           Браслеты  {'Модель': '77065', 'Материал изделия': 'Розов...   \n",
       "5           Браслеты  {'Модель': '77061', 'Материал изделия': 'Розов...   \n",
       "6           Браслеты  {'Модель': '77060', 'Материал изделия': 'Розов...   \n",
       "7           Браслеты  {'Модель': '77022', 'Материал изделия': 'Розов...   \n",
       "8           Браслеты  {'Модель': 'Т3010587240*', 'Материал изделия':...   \n",
       "9             Кольца  {'Модель': 'Т10001302*', 'Материал изделия': '...   \n",
       "10          Браслеты  {'Модель': 'Т1035450119*', 'Материал изделия':...   \n",
       "11          Браслеты  {'Модель': '2107201*', 'Материал изделия': 'Ро...   \n",
       "12          Браслеты  {'Модель': '00-68-0050-00*', 'Материал изделия...   \n",
       "13          Браслеты  {'Модель': '01Б711799*', 'Материал изделия': '...   \n",
       "14          Браслеты  {'Модель': '01Б711106*', 'Материал изделия': '...   \n",
       "15  Шейное украшение  {'Модель': '72345-H5R-02', 'Материал изделия':...   \n",
       "16          Браслеты  {'Модель': '74616А.1*', 'Материал изделия': 'Р...   \n",
       "17          Браслеты  {'Модель': '74551.1*', 'Материал изделия': 'Ро...   \n",
       "18          Браслеты  {'Модель': '74452.1*', 'Материал изделия': 'Ро...   \n",
       "19  Шейное украшение  {'Модель': '73646.1*', 'Материал изделия': 'Ро...   \n",
       "\n",
       "    price_x  article                                                url  \\\n",
       "0      9490   342484  https://sunlight.net/catalog/bracelets_342484....   \n",
       "1     64990   342285  https://sunlight.net/catalog/neck_decoration_3...   \n",
       "2     23690   341448  https://sunlight.net/catalog/neck_decoration_3...   \n",
       "3     23230   341447  https://sunlight.net/catalog/neck_decoration_3...   \n",
       "4    126030   340830  https://sunlight.net/catalog/bracelets_340830....   \n",
       "5    100810   340829  https://sunlight.net/catalog/bracelets_340829....   \n",
       "6    118100   340828  https://sunlight.net/catalog/bracelets_340828....   \n",
       "7    151720   340827  https://sunlight.net/catalog/bracelets_340827....   \n",
       "8     18540   340189  https://sunlight.net/catalog/bracelets_340189....   \n",
       "9     16950   339930      https://sunlight.net/catalog/ring_339930.html   \n",
       "10    20010   338755  https://sunlight.net/catalog/bracelets_338755....   \n",
       "11    53400   336354  https://sunlight.net/catalog/bracelets_336354....   \n",
       "12    27170   336246  https://sunlight.net/catalog/bracelets_336246....   \n",
       "13    12660   336037  https://sunlight.net/catalog/bracelets_336037....   \n",
       "14    60040   336035  https://sunlight.net/catalog/bracelets_336035....   \n",
       "15    31990   335451  https://sunlight.net/catalog/neck_decoration_3...   \n",
       "16    50230   333668  https://sunlight.net/catalog/bracelets_333668....   \n",
       "17    48830   333556  https://sunlight.net/catalog/bracelets_333556....   \n",
       "18    27500   333555  https://sunlight.net/catalog/bracelets_333555....   \n",
       "19    27700   333554  https://sunlight.net/catalog/neck_decoration_3...   \n",
       "\n",
       "    price_old    price_y price_personal  \\\n",
       "0    18 980 ₽    9 490 ₽        6 643 ₽   \n",
       "1   129 980 ₽   64 990 ₽       47 990 ₽   \n",
       "2    47 380 ₽   23 690 ₽       16 583 ₽   \n",
       "3    46 460 ₽   23 230 ₽       16 261 ₽   \n",
       "4   252 060 ₽  126 030 ₽      109 030 ₽   \n",
       "5   201 620 ₽  100 810 ₽       83 810 ₽   \n",
       "6   236 200 ₽  118 100 ₽      101 100 ₽   \n",
       "7   303 440 ₽  151 720 ₽      134 720 ₽   \n",
       "8    37 080 ₽   18 540 ₽       12 978 ₽   \n",
       "9    33 900 ₽   16 950 ₽       11 865 ₽   \n",
       "10        NaN   20 010 ₽            NaN   \n",
       "11  106 800 ₽   53 400 ₽       37 380 ₽   \n",
       "12   54 340 ₽   27 170 ₽       19 019 ₽   \n",
       "13   25 320 ₽   12 660 ₽        8 862 ₽   \n",
       "14  120 080 ₽   60 040 ₽       43 040 ₽   \n",
       "15   63 980 ₽   31 990 ₽       22 393 ₽   \n",
       "16  100 460 ₽   50 230 ₽       35 161 ₽   \n",
       "17   97 660 ₽   48 830 ₽       34 181 ₽   \n",
       "18   55 000 ₽   27 500 ₽       19 250 ₽   \n",
       "19   55 400 ₽   27 700 ₽       19 390 ₽   \n",
       "\n",
       "                                           discount  \n",
       "0           ['Последний день! ЕЩЕ -30%, код: ЛЮБИ']  \n",
       "1           ['Последний день! ЕЩЕ -20%, код: ЛЮБИ']  \n",
       "2           ['Последний день! ЕЩЕ -30%, код: ЛЮБИ']  \n",
       "3           ['Последний день! ЕЩЕ -30%, код: ЛЮБИ']  \n",
       "4           ['Последний день! ЕЩЕ -20%, код: ЛЮБИ']  \n",
       "5           ['Последний день! ЕЩЕ -20%, код: ЛЮБИ']  \n",
       "6           ['Последний день! ЕЩЕ -20%, код: ЛЮБИ']  \n",
       "7           ['Последний день! ЕЩЕ -20%, код: ЛЮБИ']  \n",
       "8           ['Последний день! ЕЩЕ -35%, код: ЛЮБИ']  \n",
       "9           ['Последний день! ЕЩЕ -40%, код: ЛЮБИ']  \n",
       "10  ['ШОК! Всего 4 990 руб. за грамм!', 'ХИТ-цена']  \n",
       "11          ['Последний день! ЕЩЕ -30%, код: ЛЮБИ']  \n",
       "12          ['Последний день! ЕЩЕ -30%, код: ЛЮБИ']  \n",
       "13          ['Последний день! ЕЩЕ -35%, код: ЛЮБИ']  \n",
       "14          ['Последний день! ЕЩЕ -20%, код: ЛЮБИ']  \n",
       "15          ['Последний день! ЕЩЕ -30%, код: ЛЮБИ']  \n",
       "16          ['Последний день! ЕЩЕ -30%, код: ЛЮБИ']  \n",
       "17          ['Последний день! ЕЩЕ -20%, код: ЛЮБИ']  \n",
       "18          ['Последний день! ЕЩЕ -30%, код: ЛЮБИ']  \n",
       "19          ['Последний день! ЕЩЕ -30%, код: ЛЮБИ']  "
      ]
     },
     "execution_count": 55,
     "metadata": {},
     "output_type": "execute_result"
    }
   ],
   "source": [
    "data.head(20)"
   ]
  },
  {
   "cell_type": "code",
   "execution_count": 57,
   "id": "a997900f-aa12-4dbc-bf7d-9c2307055774",
   "metadata": {
    "tags": []
   },
   "outputs": [],
   "source": [
    "data.to_csv(r'C:\\Users\\Trenkin.Sergey\\Desktop\\parsers\\sunlight_current_data\\\\' + f'sunlight_all_{day_now}_{month_now}.csv', index=False)"
   ]
  },
  {
   "cell_type": "code",
   "execution_count": 58,
   "id": "881f3ca7",
   "metadata": {},
   "outputs": [],
   "source": [
    "data.to_csv(rf'\\\\gold585.int\\uk\\Общее хранилище файлов\\Служба аналитики\\МЮР\\parsed_data\\sunlight_all_{day_now}_{month_now}_{datetime.today().year}.csv', index=False)"
   ]
  },
  {
   "cell_type": "code",
   "execution_count": null,
   "id": "c79f2675",
   "metadata": {},
   "outputs": [],
   "source": []
  }
 ],
 "metadata": {
  "kernelspec": {
   "display_name": "Python 3 (ipykernel)",
   "language": "python",
   "name": "python3"
  },
  "language_info": {
   "codemirror_mode": {
    "name": "ipython",
    "version": 3
   },
   "file_extension": ".py",
   "mimetype": "text/x-python",
   "name": "python",
   "nbconvert_exporter": "python",
   "pygments_lexer": "ipython3",
   "version": "3.12.0"
  }
 },
 "nbformat": 4,
 "nbformat_minor": 5
}
