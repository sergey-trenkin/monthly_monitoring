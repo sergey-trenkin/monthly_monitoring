{
 "cells": [
  {
   "cell_type": "code",
   "execution_count": 4,
   "id": "0de2798c-82a4-4564-9f25-675ef49ea9a7",
   "metadata": {
    "tags": []
   },
   "outputs": [],
   "source": [
    "import json\n",
    "import re\n",
    "import time\n",
    "import requests\n",
    "import numpy as np\n",
    "import pandas as pd\n",
    "import os\n",
    "import glob\n",
    "from tqdm import tqdm\n",
    "from datetime import datetime\n",
    "from bs4 import BeautifulSoup\n",
    "from fake_useragent import UserAgent\n",
    "import warnings\n",
    "warnings.filterwarnings('ignore')\n",
    "from random import choice"
   ]
  },
  {
   "cell_type": "code",
   "execution_count": 5,
   "id": "6073ea0a-a53b-4c27-9a06-2c13d2c38e0e",
   "metadata": {
    "tags": []
   },
   "outputs": [],
   "source": [
    "current_datetime = datetime.now().strftime(\"%d-%m-%Y\")\n",
    "month_now = datetime.now().month\n",
    "day_now = datetime.now().day"
   ]
  },
  {
   "cell_type": "markdown",
   "id": "28c397fc-d1ff-43b7-9815-46ec328e9fb5",
   "metadata": {},
   "source": [
    "# Cookies and Headers для парсинга скидки и цены"
   ]
  },
  {
   "cell_type": "code",
   "execution_count": 6,
   "id": "8f8f8bd1-9a62-4c54-b774-8aa3a44c1d1d",
   "metadata": {
    "tags": []
   },
   "outputs": [],
   "source": [
    "cookies_discount = {\n",
    "    'tmr_lvid': '286726132090325c59b36aa6b5e4aeaa',\n",
    "    'tmr_lvidTS': '1692163620235',\n",
    "    '_ym_uid': '1692163620496112993',\n",
    "    '_ym_d': '1692163620',\n",
    "    'city_id': '118',\n",
    "    'city_name': '%D0%A1%D0%B0%D0%BD%D0%BA%D1%82-%D0%9F%D0%B5%D1%82%D0%B5%D1%80%D0%B1%D1%83%D1%80%D0%B3',\n",
    "    'city_full_name': '%D0%A1%D0%B0%D0%BD%D0%BA%D1%82-%D0%9F%D0%B5%D1%82%D0%B5%D1%80%D0%B1%D1%83%D1%80%D0%B3',\n",
    "    'region_id': '090a0c31-3b91-49a3-aa35-0c784898170b',\n",
    "    'region_name': '%D0%A1%D0%B0%D0%BD%D0%BA%D1%82-%D0%9F%D0%B5%D1%82%D0%B5%D1%80%D0%B1%D1%83%D1%80%D0%B3',\n",
    "    'region_subdomain': 'spb',\n",
    "    '_tt_enable_cookie': '1',\n",
    "    '_ttp': 'tbKEEA3IkGrgdKpaT6-HRNf0K8h',\n",
    "    'ccart': 'off',\n",
    "    'uxs_uid': '898ab7e0-3bf5-11ee-8efe-f5b770db12a1',\n",
    "    'loggedin': '%D0%AE%D1%80%D0%B8%D0%B9',\n",
    "    'cseid': 'f4935df6bdac0029832e99cef94a5bc2',\n",
    "    'sessionid': 'nr24mlml3ze25rk734gkkmgx3yv9ou7x',\n",
    "    'authorization': 'true',\n",
    "    'mindboxDeviceUUID': 'c254fa3f-cfcd-4146-9778-65be21c6a4df',\n",
    "    'directCrm-session': '%7B%22deviceGuid%22%3A%22c254fa3f-cfcd-4146-9778-65be21c6a4df%22%7D',\n",
    "    'auid': '651660ce-a06e-4b17-bd6f-69feaf135b08:1r5lu8:WYtTZugo2xVE6SqAc5ZSp_W-n1s5ztPHYxPs8YIwGQA',\n",
    "    '_ga_G74SVHM1ZG': 'GS1.2.1700824600.19.0.1700824600.60.0.0',\n",
    "    '_ga_GRDJMMMRHQ': 'GS1.2.1700824600.33.0.1700824601.59.0.0',\n",
    "    '_ga_GRSMPDQ6SE': 'GS1.2.1700824598.88.1.1700825516.60.0.0',\n",
    "    '_ga_M9ZHPEJXBM': 'GS1.2.1700824599.88.1.1700825517.60.0.0',\n",
    "    'qr-go-to-the-app-banner': '1',\n",
    "    'sncid': 'b36ee46b-981d-11e5-add2-0050568f2465:1rBa43:O1Wy8KuwGDddSCM7NMHFsjGhdPaqxcjhdblvWWbVams',\n",
    "    'clt': 'new_old',\n",
    "    '_ym_isad': '2',\n",
    "    '_gid': 'GA1.2.2131018395.1702274408',\n",
    "    'city_auto_popup_shown': '1',\n",
    "    '_ym_visorc': 'b',\n",
    "    '_ga': 'GA1.2.333284150.1692163620',\n",
    "    '_ga_HJNSJ6NG5J': 'GS1.1.1702276831.120.1.1702280271.20.0.0',\n",
    "    'digi_uc': 'W1sidiIsIjM0OTMxNCIsMTcwMjI4MTIxMjA0Nl0sWyJ2IiwiODQwMjIiLDE3MDIyODAyMzEzNjZdLFsidiIsIjQ2Nzk3IiwxNzAyMjgwMTI4Mzc3XSxbInYiLCI5OTM3NTQiLDE3MDIyNzgwMTczMjddLFsidiIsIjE0NjUyMSIsMTcwMjI3NzI5NDExM10sWyJ2IiwiOTI2ODAiLDE3MDIyNzY5NDQ1NDRdLFsidiIsIjg4MjEzIiwxNzAxODU5MjE3OTg0XSxbInYiLCI5MTAyMSIsMTcwMTg1OTA2ODA2MF0sWyJ2IiwiOTg3MDUwIiwxNzAxNzc4NDc0NzY5XSxbInYiLCIyNTYyMTciLDE3MDEzNDIzNTc4NTRdXQ==',\n",
    "}\n",
    "\n",
    "headers_discount = {\n",
    "    'AB-TESTS': '{}',\n",
    "    'Accept': 'application/json, text/javascript, */*; q=0.01',\n",
    "    'Accept-Language': 'ru-RU,ru;q=0.9,en-US;q=0.8,en;q=0.7',\n",
    "    'Connection': 'keep-alive',\n",
    "    'Content-Type': 'application/json',\n",
    "    # 'Cookie': 'tmr_lvid=286726132090325c59b36aa6b5e4aeaa; tmr_lvidTS=1692163620235; _ym_uid=1692163620496112993; _ym_d=1692163620; city_id=118; city_name=%D0%A1%D0%B0%D0%BD%D0%BA%D1%82-%D0%9F%D0%B5%D1%82%D0%B5%D1%80%D0%B1%D1%83%D1%80%D0%B3; city_full_name=%D0%A1%D0%B0%D0%BD%D0%BA%D1%82-%D0%9F%D0%B5%D1%82%D0%B5%D1%80%D0%B1%D1%83%D1%80%D0%B3; region_id=090a0c31-3b91-49a3-aa35-0c784898170b; region_name=%D0%A1%D0%B0%D0%BD%D0%BA%D1%82-%D0%9F%D0%B5%D1%82%D0%B5%D1%80%D0%B1%D1%83%D1%80%D0%B3; region_subdomain=spb; _tt_enable_cookie=1; _ttp=tbKEEA3IkGrgdKpaT6-HRNf0K8h; ccart=off; uxs_uid=898ab7e0-3bf5-11ee-8efe-f5b770db12a1; loggedin=%D0%AE%D1%80%D0%B8%D0%B9; cseid=f4935df6bdac0029832e99cef94a5bc2; sessionid=nr24mlml3ze25rk734gkkmgx3yv9ou7x; authorization=true; mindboxDeviceUUID=c254fa3f-cfcd-4146-9778-65be21c6a4df; directCrm-session=%7B%22deviceGuid%22%3A%22c254fa3f-cfcd-4146-9778-65be21c6a4df%22%7D; auid=651660ce-a06e-4b17-bd6f-69feaf135b08:1r5lu8:WYtTZugo2xVE6SqAc5ZSp_W-n1s5ztPHYxPs8YIwGQA; _ga_G74SVHM1ZG=GS1.2.1700824600.19.0.1700824600.60.0.0; _ga_GRDJMMMRHQ=GS1.2.1700824600.33.0.1700824601.59.0.0; _ga_GRSMPDQ6SE=GS1.2.1700824598.88.1.1700825516.60.0.0; _ga_M9ZHPEJXBM=GS1.2.1700824599.88.1.1700825517.60.0.0; qr-go-to-the-app-banner=1; sncid=b36ee46b-981d-11e5-add2-0050568f2465:1rBa43:O1Wy8KuwGDddSCM7NMHFsjGhdPaqxcjhdblvWWbVams; clt=new_old; _ym_isad=2; _gid=GA1.2.2131018395.1702274408; city_auto_popup_shown=1; _ym_visorc=b; _ga=GA1.2.333284150.1692163620; _ga_HJNSJ6NG5J=GS1.1.1702276831.120.1.1702280271.20.0.0; digi_uc=W1sidiIsIjM0OTMxNCIsMTcwMjI4MTIxMjA0Nl0sWyJ2IiwiODQwMjIiLDE3MDIyODAyMzEzNjZdLFsidiIsIjQ2Nzk3IiwxNzAyMjgwMTI4Mzc3XSxbInYiLCI5OTM3NTQiLDE3MDIyNzgwMTczMjddLFsidiIsIjE0NjUyMSIsMTcwMjI3NzI5NDExM10sWyJ2IiwiOTI2ODAiLDE3MDIyNzY5NDQ1NDRdLFsidiIsIjg4MjEzIiwxNzAxODU5MjE3OTg0XSxbInYiLCI5MTAyMSIsMTcwMTg1OTA2ODA2MF0sWyJ2IiwiOTg3MDUwIiwxNzAxNzc4NDc0NzY5XSxbInYiLCIyNTYyMTciLDE3MDEzNDIzNTc4NTRdXQ==',\n",
    "    'Origin': 'https://spb.sunlight.net',\n",
    "    'Sec-Fetch-Dest': 'empty',\n",
    "    'Sec-Fetch-Mode': 'cors',\n",
    "    'Sec-Fetch-Site': 'same-site',\n",
    "    'User-Agent': 'Mozilla/5.0 (Windows NT 10.0; Win64; x64) AppleWebKit/537.36 (KHTML, like Gecko) Chrome/120.0.0.0 Safari/537.36',\n",
    "    'X-Requested-With': 'SunlightFrontendApp',\n",
    "    'sec-ch-ua': '\"Not_A Brand\";v=\"8\", \"Chromium\";v=\"120\", \"Google Chrome\";v=\"120\"',\n",
    "    'sec-ch-ua-mobile': '?0',\n",
    "    'sec-ch-ua-platform': '\"Windows\"',\n",
    "}\n",
    "\n",
    "# params = {\n",
    "#     'article': '35517',\n",
    "#     'city_id': '118',\n",
    "# }\n",
    "\n",
    "# response = requests.get(\n",
    "#     'https://api.sunlight.net/v6/catalog/products/card/purchase/',\n",
    "#     params=params,\n",
    "#     cookies=cookies_discount,\n",
    "#     headers=headers_discount,\n",
    "# )"
   ]
  },
  {
   "cell_type": "markdown",
   "id": "80c71c8e-ef5b-4839-9dfc-1e6182abcd2c",
   "metadata": {},
   "source": [
    "# Сбор скидок и цен"
   ]
  },
  {
   "cell_type": "code",
   "execution_count": 7,
   "id": "544d1d64-1b8a-4c62-a5b4-529f239d6cb5",
   "metadata": {
    "tags": []
   },
   "outputs": [],
   "source": [
    "def get_personal_price(table):\n",
    "    data_price = []\n",
    "    for art in tqdm(range(len(table['article']))):\n",
    "        # prx = choice(proxy_list)\n",
    "        params = {\n",
    "            'article': table['article'][art],\n",
    "            'city_id': '118'\n",
    "        }\n",
    "        try:\n",
    "            price_json = requests.get(\n",
    "                'https://api.sunlight.net/v6/catalog/products/card/prices/',\n",
    "                params=params,\n",
    "                cookies=cookies_discount,\n",
    "                headers=headers_discount,\n",
    "                timeout=15,\n",
    "                verify=False\n",
    "        )\n",
    "        except:\n",
    "            time.sleep(6)\n",
    "            price_json = requests.get(\n",
    "                'https://api.sunlight.net/v6/catalog/products/card/prices/',\n",
    "                params=params,\n",
    "                cookies=cookies_discount,\n",
    "                headers=headers_discount,\n",
    "                timeout=15,\n",
    "                verify=False\n",
    "                            )\n",
    "        try:\n",
    "            discount_json = requests.get(\n",
    "                'https://api.sunlight.net/v6/catalog/products/card/purchase/',\n",
    "                params=params,\n",
    "                cookies=cookies_discount,\n",
    "                headers=headers_discount,\n",
    "                timeout=15,\n",
    "                verify=False\n",
    "                            )\n",
    "        except:\n",
    "            time.sleep(6)\n",
    "            discount_json = requests.get(\n",
    "                'https://api.sunlight.net/v6/catalog/products/card/purchase/',\n",
    "                params=params,\n",
    "                cookies=cookies_discount,\n",
    "                headers=headers_discount,\n",
    "                timeout=15,\n",
    "                verify=False\n",
    "                            )\n",
    "        discount = []\n",
    "        try:\n",
    "            price_old = price_json.json()['content']['default_price']['base_sum']\n",
    "        except:\n",
    "            price_old = np.nan\n",
    "        try:\n",
    "            price = price_json.json()['content']['default_price'][('result_sum')]\n",
    "        except:\n",
    "            price = np.nan\n",
    "        try:\n",
    "            price_personal = price_json.json()['content']['default_price']['personal_block']['value']\n",
    "        except:\n",
    "            price_personal = np.nan\n",
    "\n",
    "        try:\n",
    "            for i in range(len(discount_json.json()['content']['nameplates'])):\n",
    "                discount.append(discount_json.json()['content']['nameplates'][i]['text']['label'])\n",
    "        except:\n",
    "            discount.append(np.nan)\n",
    "            \n",
    "        data_price.append({\n",
    "            'article': table['article'][art],\n",
    "            'price_old': price_old,\n",
    "            'price': price,\n",
    "            'price_personal': price_personal,\n",
    "            'discount': discount\n",
    "\n",
    "        })\n",
    "    return data_price"
   ]
  },
  {
   "cell_type": "markdown",
   "id": "039dc4ab-e90b-422e-a7eb-da872ef9a0cc",
   "metadata": {},
   "source": [
    "# Сбор цены, названия, группы, артикула"
   ]
  },
  {
   "cell_type": "code",
   "execution_count": 8,
   "id": "18788b3a-7f05-42fc-8856-81487b576762",
   "metadata": {},
   "outputs": [],
   "source": [
    "def get_sunlight(soup):\n",
    "    try:\n",
    "        price = soup.find(class_=\"supreme-product-card__price-discount-price\").text\n",
    "        price = re.sub(r'\\D', '', str(price))\n",
    "    except:\n",
    "        price = np.nan\n",
    "    try:\n",
    "        name_product = soup.find('h1', class_=\"supreme-product-card__about-title\").text\n",
    "    except:\n",
    "        name_product = np.nan\n",
    "    try:\n",
    "        group_product = soup.find_all('span', {'property': 'name'})[1].text\n",
    "    except:\n",
    "        group_product = np.nan\n",
    "    try:\n",
    "        article_product = soup.find_all('div', class_=\"supreme-product-card__product-article\")[0].find('span').text\n",
    "        article_product = re.sub('\\D', '', str(article_product))\n",
    "    except:\n",
    "        article_product = np.nan\n",
    "    return price, name_product, group_product, article_product"
   ]
  },
  {
   "cell_type": "markdown",
   "id": "9147182a-9bbe-4c10-99f5-e7c12cea41ac",
   "metadata": {},
   "source": [
    "# Сбор всех параметров словарем"
   ]
  },
  {
   "cell_type": "code",
   "execution_count": 9,
   "id": "54919764-c77c-48ed-87a7-f0821c4ffbd6",
   "metadata": {
    "tags": []
   },
   "outputs": [],
   "source": [
    "def get_params(soup):\n",
    "    names = []\n",
    "    values = []\n",
    "    leight = len(soup.find_all('span', {'class': 'supreme-product-card-description__item-text'}))\n",
    "    list_names = soup.find_all('div', {'class': 'supreme-product-card-description__item-title'})[-leight:]\n",
    "    for i in range(leight):\n",
    "        try:\n",
    "            nam = list_names[i].text\n",
    "            names.append(nam.replace('\\n', '').strip())\n",
    "        except:\n",
    "            names.append(np.nan)\n",
    "        try:\n",
    "            values.append(soup.find_all('span', {'class': 'supreme-product-card-description__item-text'})[i].text)\n",
    "        except:\n",
    "            values.append(np.nan)\n",
    "    sunlight_params = dict(zip(names, values))\n",
    "    return sunlight_params"
   ]
  },
  {
   "cell_type": "markdown",
   "id": "e3a98a99-7b19-4585-8689-7664e5a26baf",
   "metadata": {
    "tags": []
   },
   "source": [
    "# Сбор ссылок"
   ]
  },
  {
   "cell_type": "code",
   "execution_count": 10,
   "id": "340b4cef-0f0b-4bab-93c0-d2c5c5b79393",
   "metadata": {
    "tags": []
   },
   "outputs": [],
   "source": [
    "def get_links(url_sunlight):\n",
    "    home = 'https://sunlight.net'\n",
    "    links = []\n",
    "    pages_max = 250\n",
    "    pages = int(pages_max + 1)\n",
    "    for i in tqdm(range(1, pages)):\n",
    "        url = f'{url_sunlight}&page={i}'\n",
    "        resp = requests.get(url, headers={'User-Agent': UserAgent().chrome}, verify=False, timeout=70)\n",
    "        soup = BeautifulSoup(resp.text, 'html.parser')\n",
    "        for link in soup.find_all('div', class_=\"cl-item js-cl-item\"):\n",
    "            links.append(home + link.find('a', href=True)['href'])\n",
    "    links = list(map(lambda x: x.replace('#product-reviews', ''), links))\n",
    "    return links"
   ]
  },
  {
   "cell_type": "markdown",
   "id": "3ed459ba-afaf-4562-afd3-38fc8accc435",
   "metadata": {
    "tags": []
   },
   "source": [
    "# Общий сбор данных"
   ]
  },
  {
   "cell_type": "code",
   "execution_count": 13,
   "id": "4ff1e528-5aad-43fa-bb38-7a84fd5871d9",
   "metadata": {
    "tags": []
   },
   "outputs": [],
   "source": [
    "def sunlight_parser(links):\n",
    "    data = []\n",
    "    click = 0\n",
    "    for link_pars in tqdm(links):\n",
    "        # prx = choice(proxy_list)\n",
    "        try:\n",
    "            resp = requests.get(link_pars, headers={'User-Agent': UserAgent().chrome}, timeout=70, verify=False)\n",
    "        except:\n",
    "            time.sleep(6)\n",
    "            resp = requests.get(link_pars, headers={'User-Agent': UserAgent().chrome}, timeout=70, verify=False)\n",
    "        good = BeautifulSoup(resp.text, 'lxml')\n",
    "        data.append({\"date\": current_datetime,\n",
    "                    \"competitor\": \"Sunlight\",\n",
    "                    \"name\": get_sunlight(good)[1],\n",
    "                    \"group\": get_sunlight(good)[2],\n",
    "                    \"params\": get_params(good),\n",
    "                    \"price\": get_sunlight(good)[0],\n",
    "                    \"article\": get_sunlight(good)[3],\n",
    "                    'url': link_pars\n",
    "                    })\n",
    "        if click == 50:\n",
    "            click = 0\n",
    "            time.sleep(0.5)\n",
    "        else:\n",
    "            continue\n",
    "    data = pd.DataFrame(data)\n",
    "    return data"
   ]
  },
  {
   "cell_type": "code",
   "execution_count": 9,
   "id": "c8a8da36-e515-4a32-9e1a-da4b5607da23",
   "metadata": {
    "tags": []
   },
   "outputs": [
    {
     "data": {
      "application/vnd.jupyter.widget-view+json": {
       "model_id": "6972d30123f74e0d96487b15866e2f8c",
       "version_major": 2,
       "version_minor": 0
      },
      "text/plain": [
       "  0%|          | 0/250 [00:00<?, ?it/s]"
      ]
     },
     "metadata": {},
     "output_type": "display_data"
    }
   ],
   "source": [
    "links_sunlight = get_links('https://spb.sunlight.net/catalog/?proba=2494')"
   ]
  },
  {
   "cell_type": "code",
   "execution_count": 10,
   "id": "814a6cdd",
   "metadata": {},
   "outputs": [],
   "source": [
    "b = pd.DataFrame(links_sunlight)"
   ]
  },
  {
   "cell_type": "code",
   "execution_count": 11,
   "id": "9c932189",
   "metadata": {},
   "outputs": [],
   "source": [
    "b = b.drop_duplicates()"
   ]
  },
  {
   "cell_type": "code",
   "execution_count": 12,
   "id": "bbba5f83",
   "metadata": {},
   "outputs": [],
   "source": [
    "b = b[0].tolist()"
   ]
  },
  {
   "cell_type": "code",
   "execution_count": 13,
   "id": "e448f1c9-0512-4bec-a461-fccb0e3fcf80",
   "metadata": {
    "tags": []
   },
   "outputs": [],
   "source": [
    "# Чтобы данные точно собрались нужно разделить ссылки на 100 чанков\n",
    "chunks = np.array_split(b, 100)"
   ]
  },
  {
   "cell_type": "code",
   "execution_count": 16,
   "id": "289e454a-ff1d-4c0c-a012-f3a6427f81df",
   "metadata": {
    "tags": []
   },
   "outputs": [
    {
     "name": "stdout",
     "output_type": "stream",
     "text": [
      "начало парсинга 1 части ссылок\n"
     ]
    },
    {
     "data": {
      "application/vnd.jupyter.widget-view+json": {
       "model_id": "dece5dc6279445078856f18bb6398f9a",
       "version_major": 2,
       "version_minor": 0
      },
      "text/plain": [
       "  0%|          | 0/146 [00:00<?, ?it/s]"
      ]
     },
     "metadata": {},
     "output_type": "display_data"
    },
    {
     "name": "stdout",
     "output_type": "stream",
     "text": [
      "начало парсинга 2 части ссылок\n"
     ]
    },
    {
     "data": {
      "application/vnd.jupyter.widget-view+json": {
       "model_id": "8d8b7e69d6f74e128297541854bf3c29",
       "version_major": 2,
       "version_minor": 0
      },
      "text/plain": [
       "  0%|          | 0/146 [00:00<?, ?it/s]"
      ]
     },
     "metadata": {},
     "output_type": "display_data"
    },
    {
     "name": "stdout",
     "output_type": "stream",
     "text": [
      "начало парсинга 3 части ссылок\n"
     ]
    },
    {
     "data": {
      "application/vnd.jupyter.widget-view+json": {
       "model_id": "b654c953655245e7a00116006aceb2cf",
       "version_major": 2,
       "version_minor": 0
      },
      "text/plain": [
       "  0%|          | 0/146 [00:00<?, ?it/s]"
      ]
     },
     "metadata": {},
     "output_type": "display_data"
    },
    {
     "name": "stdout",
     "output_type": "stream",
     "text": [
      "начало парсинга 4 части ссылок\n"
     ]
    },
    {
     "data": {
      "application/vnd.jupyter.widget-view+json": {
       "model_id": "52f5aca156bc451e9f430a8f868b548b",
       "version_major": 2,
       "version_minor": 0
      },
      "text/plain": [
       "  0%|          | 0/146 [00:00<?, ?it/s]"
      ]
     },
     "metadata": {},
     "output_type": "display_data"
    },
    {
     "name": "stdout",
     "output_type": "stream",
     "text": [
      "начало парсинга 5 части ссылок\n"
     ]
    },
    {
     "data": {
      "application/vnd.jupyter.widget-view+json": {
       "model_id": "0ca53ab10aea4146b5de63381bb468ac",
       "version_major": 2,
       "version_minor": 0
      },
      "text/plain": [
       "  0%|          | 0/146 [00:00<?, ?it/s]"
      ]
     },
     "metadata": {},
     "output_type": "display_data"
    },
    {
     "name": "stdout",
     "output_type": "stream",
     "text": [
      "начало парсинга 6 части ссылок\n"
     ]
    },
    {
     "data": {
      "application/vnd.jupyter.widget-view+json": {
       "model_id": "e9a2dcade4c94d71b11b3a2381d94e2d",
       "version_major": 2,
       "version_minor": 0
      },
      "text/plain": [
       "  0%|          | 0/146 [00:00<?, ?it/s]"
      ]
     },
     "metadata": {},
     "output_type": "display_data"
    },
    {
     "name": "stdout",
     "output_type": "stream",
     "text": [
      "начало парсинга 7 части ссылок\n"
     ]
    },
    {
     "data": {
      "application/vnd.jupyter.widget-view+json": {
       "model_id": "19631c65ee7146bfb3c73c5586ffbae7",
       "version_major": 2,
       "version_minor": 0
      },
      "text/plain": [
       "  0%|          | 0/146 [00:00<?, ?it/s]"
      ]
     },
     "metadata": {},
     "output_type": "display_data"
    },
    {
     "name": "stdout",
     "output_type": "stream",
     "text": [
      "начало парсинга 8 части ссылок\n"
     ]
    },
    {
     "data": {
      "application/vnd.jupyter.widget-view+json": {
       "model_id": "8b65fc525e234daebf14592b2eeb27a8",
       "version_major": 2,
       "version_minor": 0
      },
      "text/plain": [
       "  0%|          | 0/146 [00:00<?, ?it/s]"
      ]
     },
     "metadata": {},
     "output_type": "display_data"
    },
    {
     "name": "stdout",
     "output_type": "stream",
     "text": [
      "начало парсинга 9 части ссылок\n"
     ]
    },
    {
     "data": {
      "application/vnd.jupyter.widget-view+json": {
       "model_id": "14240f5551204d22b1322d413051a497",
       "version_major": 2,
       "version_minor": 0
      },
      "text/plain": [
       "  0%|          | 0/146 [00:00<?, ?it/s]"
      ]
     },
     "metadata": {},
     "output_type": "display_data"
    },
    {
     "name": "stdout",
     "output_type": "stream",
     "text": [
      "начало парсинга 10 части ссылок\n"
     ]
    },
    {
     "data": {
      "application/vnd.jupyter.widget-view+json": {
       "model_id": "e954f0257bcd46f1b88677ae0cd892a2",
       "version_major": 2,
       "version_minor": 0
      },
      "text/plain": [
       "  0%|          | 0/146 [00:00<?, ?it/s]"
      ]
     },
     "metadata": {},
     "output_type": "display_data"
    },
    {
     "name": "stdout",
     "output_type": "stream",
     "text": [
      "начало парсинга 11 части ссылок\n"
     ]
    },
    {
     "data": {
      "application/vnd.jupyter.widget-view+json": {
       "model_id": "ae5afe2d62b048a1a2910e32ab766f96",
       "version_major": 2,
       "version_minor": 0
      },
      "text/plain": [
       "  0%|          | 0/146 [00:00<?, ?it/s]"
      ]
     },
     "metadata": {},
     "output_type": "display_data"
    },
    {
     "name": "stdout",
     "output_type": "stream",
     "text": [
      "начало парсинга 12 части ссылок\n"
     ]
    },
    {
     "data": {
      "application/vnd.jupyter.widget-view+json": {
       "model_id": "b77f1de63ea44a8382dab12a977fa88a",
       "version_major": 2,
       "version_minor": 0
      },
      "text/plain": [
       "  0%|          | 0/146 [00:00<?, ?it/s]"
      ]
     },
     "metadata": {},
     "output_type": "display_data"
    },
    {
     "name": "stdout",
     "output_type": "stream",
     "text": [
      "начало парсинга 13 части ссылок\n"
     ]
    },
    {
     "data": {
      "application/vnd.jupyter.widget-view+json": {
       "model_id": "b1df8df9679b4ad7a045827e912712cf",
       "version_major": 2,
       "version_minor": 0
      },
      "text/plain": [
       "  0%|          | 0/146 [00:00<?, ?it/s]"
      ]
     },
     "metadata": {},
     "output_type": "display_data"
    },
    {
     "name": "stdout",
     "output_type": "stream",
     "text": [
      "начало парсинга 14 части ссылок\n"
     ]
    },
    {
     "data": {
      "application/vnd.jupyter.widget-view+json": {
       "model_id": "4da9fe5d2bbf4106be6ba8843fcfd6da",
       "version_major": 2,
       "version_minor": 0
      },
      "text/plain": [
       "  0%|          | 0/146 [00:00<?, ?it/s]"
      ]
     },
     "metadata": {},
     "output_type": "display_data"
    },
    {
     "name": "stdout",
     "output_type": "stream",
     "text": [
      "начало парсинга 15 части ссылок\n"
     ]
    },
    {
     "data": {
      "application/vnd.jupyter.widget-view+json": {
       "model_id": "8226558ad1ea460fab2a90ea316ed903",
       "version_major": 2,
       "version_minor": 0
      },
      "text/plain": [
       "  0%|          | 0/146 [00:00<?, ?it/s]"
      ]
     },
     "metadata": {},
     "output_type": "display_data"
    },
    {
     "name": "stdout",
     "output_type": "stream",
     "text": [
      "начало парсинга 16 части ссылок\n"
     ]
    },
    {
     "data": {
      "application/vnd.jupyter.widget-view+json": {
       "model_id": "63d1d525d6ed41eb99f87602a684fe4c",
       "version_major": 2,
       "version_minor": 0
      },
      "text/plain": [
       "  0%|          | 0/146 [00:00<?, ?it/s]"
      ]
     },
     "metadata": {},
     "output_type": "display_data"
    },
    {
     "name": "stdout",
     "output_type": "stream",
     "text": [
      "начало парсинга 17 части ссылок\n"
     ]
    },
    {
     "data": {
      "application/vnd.jupyter.widget-view+json": {
       "model_id": "539066fadc724b839d284d2c73820437",
       "version_major": 2,
       "version_minor": 0
      },
      "text/plain": [
       "  0%|          | 0/146 [00:00<?, ?it/s]"
      ]
     },
     "metadata": {},
     "output_type": "display_data"
    },
    {
     "name": "stdout",
     "output_type": "stream",
     "text": [
      "начало парсинга 18 части ссылок\n"
     ]
    },
    {
     "data": {
      "application/vnd.jupyter.widget-view+json": {
       "model_id": "b3bbb4016e864f48a9798061d12e04d0",
       "version_major": 2,
       "version_minor": 0
      },
      "text/plain": [
       "  0%|          | 0/146 [00:00<?, ?it/s]"
      ]
     },
     "metadata": {},
     "output_type": "display_data"
    },
    {
     "name": "stdout",
     "output_type": "stream",
     "text": [
      "начало парсинга 19 части ссылок\n"
     ]
    },
    {
     "data": {
      "application/vnd.jupyter.widget-view+json": {
       "model_id": "fe73baccfb574b38aa3bb51caba47e1f",
       "version_major": 2,
       "version_minor": 0
      },
      "text/plain": [
       "  0%|          | 0/146 [00:00<?, ?it/s]"
      ]
     },
     "metadata": {},
     "output_type": "display_data"
    },
    {
     "name": "stdout",
     "output_type": "stream",
     "text": [
      "начало парсинга 20 части ссылок\n"
     ]
    },
    {
     "data": {
      "application/vnd.jupyter.widget-view+json": {
       "model_id": "91b20fccf5bc4cccae0068d9beeb2c57",
       "version_major": 2,
       "version_minor": 0
      },
      "text/plain": [
       "  0%|          | 0/146 [00:00<?, ?it/s]"
      ]
     },
     "metadata": {},
     "output_type": "display_data"
    },
    {
     "name": "stdout",
     "output_type": "stream",
     "text": [
      "начало парсинга 21 части ссылок\n"
     ]
    },
    {
     "data": {
      "application/vnd.jupyter.widget-view+json": {
       "model_id": "85a1b3b40258488dbf2b43cfdfd8bed5",
       "version_major": 2,
       "version_minor": 0
      },
      "text/plain": [
       "  0%|          | 0/146 [00:00<?, ?it/s]"
      ]
     },
     "metadata": {},
     "output_type": "display_data"
    },
    {
     "name": "stdout",
     "output_type": "stream",
     "text": [
      "начало парсинга 22 части ссылок\n"
     ]
    },
    {
     "data": {
      "application/vnd.jupyter.widget-view+json": {
       "model_id": "55fc59b9d8784c1094dfb845d9f3345c",
       "version_major": 2,
       "version_minor": 0
      },
      "text/plain": [
       "  0%|          | 0/146 [00:00<?, ?it/s]"
      ]
     },
     "metadata": {},
     "output_type": "display_data"
    },
    {
     "name": "stdout",
     "output_type": "stream",
     "text": [
      "начало парсинга 23 части ссылок\n"
     ]
    },
    {
     "data": {
      "application/vnd.jupyter.widget-view+json": {
       "model_id": "abd4df677ec343a2ae90e0040cd5306f",
       "version_major": 2,
       "version_minor": 0
      },
      "text/plain": [
       "  0%|          | 0/146 [00:00<?, ?it/s]"
      ]
     },
     "metadata": {},
     "output_type": "display_data"
    },
    {
     "name": "stdout",
     "output_type": "stream",
     "text": [
      "начало парсинга 24 части ссылок\n"
     ]
    },
    {
     "data": {
      "application/vnd.jupyter.widget-view+json": {
       "model_id": "830c6c2df5c54bfb8832d0c534f16fc2",
       "version_major": 2,
       "version_minor": 0
      },
      "text/plain": [
       "  0%|          | 0/146 [00:00<?, ?it/s]"
      ]
     },
     "metadata": {},
     "output_type": "display_data"
    },
    {
     "name": "stdout",
     "output_type": "stream",
     "text": [
      "начало парсинга 25 части ссылок\n"
     ]
    },
    {
     "data": {
      "application/vnd.jupyter.widget-view+json": {
       "model_id": "53405f7a7da84482b23db3304370065b",
       "version_major": 2,
       "version_minor": 0
      },
      "text/plain": [
       "  0%|          | 0/146 [00:00<?, ?it/s]"
      ]
     },
     "metadata": {},
     "output_type": "display_data"
    },
    {
     "name": "stdout",
     "output_type": "stream",
     "text": [
      "начало парсинга 26 части ссылок\n"
     ]
    },
    {
     "data": {
      "application/vnd.jupyter.widget-view+json": {
       "model_id": "af9feeccf9fb4478b2458c155fd73c9d",
       "version_major": 2,
       "version_minor": 0
      },
      "text/plain": [
       "  0%|          | 0/146 [00:00<?, ?it/s]"
      ]
     },
     "metadata": {},
     "output_type": "display_data"
    },
    {
     "name": "stdout",
     "output_type": "stream",
     "text": [
      "начало парсинга 27 части ссылок\n"
     ]
    },
    {
     "data": {
      "application/vnd.jupyter.widget-view+json": {
       "model_id": "cd624c05213d4f87b3e9c71d16f4b077",
       "version_major": 2,
       "version_minor": 0
      },
      "text/plain": [
       "  0%|          | 0/146 [00:00<?, ?it/s]"
      ]
     },
     "metadata": {},
     "output_type": "display_data"
    },
    {
     "name": "stdout",
     "output_type": "stream",
     "text": [
      "начало парсинга 28 части ссылок\n"
     ]
    },
    {
     "data": {
      "application/vnd.jupyter.widget-view+json": {
       "model_id": "654c414e43f04055bef7489ad32117c8",
       "version_major": 2,
       "version_minor": 0
      },
      "text/plain": [
       "  0%|          | 0/146 [00:00<?, ?it/s]"
      ]
     },
     "metadata": {},
     "output_type": "display_data"
    },
    {
     "name": "stdout",
     "output_type": "stream",
     "text": [
      "начало парсинга 29 части ссылок\n"
     ]
    },
    {
     "data": {
      "application/vnd.jupyter.widget-view+json": {
       "model_id": "8df0173641b74f47bb248e0d5d94fe1e",
       "version_major": 2,
       "version_minor": 0
      },
      "text/plain": [
       "  0%|          | 0/146 [00:00<?, ?it/s]"
      ]
     },
     "metadata": {},
     "output_type": "display_data"
    },
    {
     "name": "stdout",
     "output_type": "stream",
     "text": [
      "начало парсинга 30 части ссылок\n"
     ]
    },
    {
     "data": {
      "application/vnd.jupyter.widget-view+json": {
       "model_id": "2f2290b913a644c6a3c4357f12a540c3",
       "version_major": 2,
       "version_minor": 0
      },
      "text/plain": [
       "  0%|          | 0/146 [00:00<?, ?it/s]"
      ]
     },
     "metadata": {},
     "output_type": "display_data"
    },
    {
     "name": "stdout",
     "output_type": "stream",
     "text": [
      "начало парсинга 31 части ссылок\n"
     ]
    },
    {
     "data": {
      "application/vnd.jupyter.widget-view+json": {
       "model_id": "01450e35c267441bb308c53551da0fb9",
       "version_major": 2,
       "version_minor": 0
      },
      "text/plain": [
       "  0%|          | 0/146 [00:00<?, ?it/s]"
      ]
     },
     "metadata": {},
     "output_type": "display_data"
    },
    {
     "name": "stdout",
     "output_type": "stream",
     "text": [
      "начало парсинга 32 части ссылок\n"
     ]
    },
    {
     "data": {
      "application/vnd.jupyter.widget-view+json": {
       "model_id": "e2178223c7b5454d93e7975f40306b5c",
       "version_major": 2,
       "version_minor": 0
      },
      "text/plain": [
       "  0%|          | 0/146 [00:00<?, ?it/s]"
      ]
     },
     "metadata": {},
     "output_type": "display_data"
    },
    {
     "name": "stdout",
     "output_type": "stream",
     "text": [
      "начало парсинга 33 части ссылок\n"
     ]
    },
    {
     "data": {
      "application/vnd.jupyter.widget-view+json": {
       "model_id": "e6b9043dad644d25a8c789ebf6fbcdd9",
       "version_major": 2,
       "version_minor": 0
      },
      "text/plain": [
       "  0%|          | 0/146 [00:00<?, ?it/s]"
      ]
     },
     "metadata": {},
     "output_type": "display_data"
    },
    {
     "name": "stdout",
     "output_type": "stream",
     "text": [
      "начало парсинга 34 части ссылок\n"
     ]
    },
    {
     "data": {
      "application/vnd.jupyter.widget-view+json": {
       "model_id": "2ca71d248a2045d694090d7be566c858",
       "version_major": 2,
       "version_minor": 0
      },
      "text/plain": [
       "  0%|          | 0/146 [00:00<?, ?it/s]"
      ]
     },
     "metadata": {},
     "output_type": "display_data"
    },
    {
     "name": "stdout",
     "output_type": "stream",
     "text": [
      "начало парсинга 35 части ссылок\n"
     ]
    },
    {
     "data": {
      "application/vnd.jupyter.widget-view+json": {
       "model_id": "9d39ed46375c4e1d9cfb7a93d7c828d1",
       "version_major": 2,
       "version_minor": 0
      },
      "text/plain": [
       "  0%|          | 0/146 [00:00<?, ?it/s]"
      ]
     },
     "metadata": {},
     "output_type": "display_data"
    },
    {
     "name": "stdout",
     "output_type": "stream",
     "text": [
      "начало парсинга 36 части ссылок\n"
     ]
    },
    {
     "data": {
      "application/vnd.jupyter.widget-view+json": {
       "model_id": "ea853affc50946228700085dc47f33e8",
       "version_major": 2,
       "version_minor": 0
      },
      "text/plain": [
       "  0%|          | 0/146 [00:00<?, ?it/s]"
      ]
     },
     "metadata": {},
     "output_type": "display_data"
    },
    {
     "name": "stdout",
     "output_type": "stream",
     "text": [
      "начало парсинга 37 части ссылок\n"
     ]
    },
    {
     "data": {
      "application/vnd.jupyter.widget-view+json": {
       "model_id": "eb69f46219ff41e2a331cc28d29a030c",
       "version_major": 2,
       "version_minor": 0
      },
      "text/plain": [
       "  0%|          | 0/146 [00:00<?, ?it/s]"
      ]
     },
     "metadata": {},
     "output_type": "display_data"
    },
    {
     "name": "stdout",
     "output_type": "stream",
     "text": [
      "начало парсинга 38 части ссылок\n"
     ]
    },
    {
     "data": {
      "application/vnd.jupyter.widget-view+json": {
       "model_id": "096a3ef8ea504a17839d6d019d9d0100",
       "version_major": 2,
       "version_minor": 0
      },
      "text/plain": [
       "  0%|          | 0/146 [00:00<?, ?it/s]"
      ]
     },
     "metadata": {},
     "output_type": "display_data"
    },
    {
     "name": "stdout",
     "output_type": "stream",
     "text": [
      "начало парсинга 39 части ссылок\n"
     ]
    },
    {
     "data": {
      "application/vnd.jupyter.widget-view+json": {
       "model_id": "120f4223390d43589b92f1f1b3109b72",
       "version_major": 2,
       "version_minor": 0
      },
      "text/plain": [
       "  0%|          | 0/146 [00:00<?, ?it/s]"
      ]
     },
     "metadata": {},
     "output_type": "display_data"
    },
    {
     "name": "stdout",
     "output_type": "stream",
     "text": [
      "начало парсинга 40 части ссылок\n"
     ]
    },
    {
     "data": {
      "application/vnd.jupyter.widget-view+json": {
       "model_id": "fcddb9ed727e4290bd49a92e473fda93",
       "version_major": 2,
       "version_minor": 0
      },
      "text/plain": [
       "  0%|          | 0/146 [00:00<?, ?it/s]"
      ]
     },
     "metadata": {},
     "output_type": "display_data"
    },
    {
     "name": "stdout",
     "output_type": "stream",
     "text": [
      "начало парсинга 41 части ссылок\n"
     ]
    },
    {
     "data": {
      "application/vnd.jupyter.widget-view+json": {
       "model_id": "745c768c76ab4f2e85588f9fcc09eacd",
       "version_major": 2,
       "version_minor": 0
      },
      "text/plain": [
       "  0%|          | 0/146 [00:00<?, ?it/s]"
      ]
     },
     "metadata": {},
     "output_type": "display_data"
    },
    {
     "name": "stdout",
     "output_type": "stream",
     "text": [
      "начало парсинга 42 части ссылок\n"
     ]
    },
    {
     "data": {
      "application/vnd.jupyter.widget-view+json": {
       "model_id": "8e0eff04af4747e88c9ade0534a6a3ae",
       "version_major": 2,
       "version_minor": 0
      },
      "text/plain": [
       "  0%|          | 0/146 [00:00<?, ?it/s]"
      ]
     },
     "metadata": {},
     "output_type": "display_data"
    },
    {
     "name": "stdout",
     "output_type": "stream",
     "text": [
      "начало парсинга 43 части ссылок\n"
     ]
    },
    {
     "data": {
      "application/vnd.jupyter.widget-view+json": {
       "model_id": "00489661834d47328545ea069a178a82",
       "version_major": 2,
       "version_minor": 0
      },
      "text/plain": [
       "  0%|          | 0/146 [00:00<?, ?it/s]"
      ]
     },
     "metadata": {},
     "output_type": "display_data"
    },
    {
     "name": "stdout",
     "output_type": "stream",
     "text": [
      "начало парсинга 44 части ссылок\n"
     ]
    },
    {
     "data": {
      "application/vnd.jupyter.widget-view+json": {
       "model_id": "e9b47ae2341d477d99e62f009a57fb60",
       "version_major": 2,
       "version_minor": 0
      },
      "text/plain": [
       "  0%|          | 0/146 [00:00<?, ?it/s]"
      ]
     },
     "metadata": {},
     "output_type": "display_data"
    },
    {
     "name": "stdout",
     "output_type": "stream",
     "text": [
      "начало парсинга 45 части ссылок\n"
     ]
    },
    {
     "data": {
      "application/vnd.jupyter.widget-view+json": {
       "model_id": "fbd3413cca3f471f9808e65c105b331f",
       "version_major": 2,
       "version_minor": 0
      },
      "text/plain": [
       "  0%|          | 0/146 [00:00<?, ?it/s]"
      ]
     },
     "metadata": {},
     "output_type": "display_data"
    },
    {
     "name": "stdout",
     "output_type": "stream",
     "text": [
      "начало парсинга 46 части ссылок\n"
     ]
    },
    {
     "data": {
      "application/vnd.jupyter.widget-view+json": {
       "model_id": "05f7efd87b024d688959c6b7a345a5ba",
       "version_major": 2,
       "version_minor": 0
      },
      "text/plain": [
       "  0%|          | 0/146 [00:00<?, ?it/s]"
      ]
     },
     "metadata": {},
     "output_type": "display_data"
    },
    {
     "name": "stdout",
     "output_type": "stream",
     "text": [
      "начало парсинга 47 части ссылок\n"
     ]
    },
    {
     "data": {
      "application/vnd.jupyter.widget-view+json": {
       "model_id": "4c53b27525e343a3b5207345705dc72d",
       "version_major": 2,
       "version_minor": 0
      },
      "text/plain": [
       "  0%|          | 0/146 [00:00<?, ?it/s]"
      ]
     },
     "metadata": {},
     "output_type": "display_data"
    },
    {
     "name": "stdout",
     "output_type": "stream",
     "text": [
      "начало парсинга 48 части ссылок\n"
     ]
    },
    {
     "data": {
      "application/vnd.jupyter.widget-view+json": {
       "model_id": "54f39297978a470ca2fe9cc9ce0d9ed7",
       "version_major": 2,
       "version_minor": 0
      },
      "text/plain": [
       "  0%|          | 0/146 [00:00<?, ?it/s]"
      ]
     },
     "metadata": {},
     "output_type": "display_data"
    },
    {
     "name": "stdout",
     "output_type": "stream",
     "text": [
      "начало парсинга 49 части ссылок\n"
     ]
    },
    {
     "data": {
      "application/vnd.jupyter.widget-view+json": {
       "model_id": "184e3cad6c704b6a81cda255a7ef2461",
       "version_major": 2,
       "version_minor": 0
      },
      "text/plain": [
       "  0%|          | 0/146 [00:00<?, ?it/s]"
      ]
     },
     "metadata": {},
     "output_type": "display_data"
    },
    {
     "name": "stdout",
     "output_type": "stream",
     "text": [
      "начало парсинга 50 части ссылок\n"
     ]
    },
    {
     "data": {
      "application/vnd.jupyter.widget-view+json": {
       "model_id": "1ad06f53815b48cfb43cbc7e78243349",
       "version_major": 2,
       "version_minor": 0
      },
      "text/plain": [
       "  0%|          | 0/146 [00:00<?, ?it/s]"
      ]
     },
     "metadata": {},
     "output_type": "display_data"
    },
    {
     "name": "stdout",
     "output_type": "stream",
     "text": [
      "начало парсинга 51 части ссылок\n"
     ]
    },
    {
     "data": {
      "application/vnd.jupyter.widget-view+json": {
       "model_id": "234c099bcaf04819b357b4ff65f43014",
       "version_major": 2,
       "version_minor": 0
      },
      "text/plain": [
       "  0%|          | 0/146 [00:00<?, ?it/s]"
      ]
     },
     "metadata": {},
     "output_type": "display_data"
    },
    {
     "name": "stdout",
     "output_type": "stream",
     "text": [
      "начало парсинга 52 части ссылок\n"
     ]
    },
    {
     "data": {
      "application/vnd.jupyter.widget-view+json": {
       "model_id": "cf3603a892394477b4da7ff59976b576",
       "version_major": 2,
       "version_minor": 0
      },
      "text/plain": [
       "  0%|          | 0/146 [00:00<?, ?it/s]"
      ]
     },
     "metadata": {},
     "output_type": "display_data"
    },
    {
     "name": "stdout",
     "output_type": "stream",
     "text": [
      "начало парсинга 53 части ссылок\n"
     ]
    },
    {
     "data": {
      "application/vnd.jupyter.widget-view+json": {
       "model_id": "1f0253a7484349829074c4e49bedd510",
       "version_major": 2,
       "version_minor": 0
      },
      "text/plain": [
       "  0%|          | 0/146 [00:00<?, ?it/s]"
      ]
     },
     "metadata": {},
     "output_type": "display_data"
    },
    {
     "name": "stdout",
     "output_type": "stream",
     "text": [
      "начало парсинга 54 части ссылок\n"
     ]
    },
    {
     "data": {
      "application/vnd.jupyter.widget-view+json": {
       "model_id": "bfc77c06e0804199bd16f551430f3e20",
       "version_major": 2,
       "version_minor": 0
      },
      "text/plain": [
       "  0%|          | 0/146 [00:00<?, ?it/s]"
      ]
     },
     "metadata": {},
     "output_type": "display_data"
    },
    {
     "name": "stdout",
     "output_type": "stream",
     "text": [
      "начало парсинга 55 части ссылок\n"
     ]
    },
    {
     "data": {
      "application/vnd.jupyter.widget-view+json": {
       "model_id": "2970d00b275849988f65bef7c7a7238e",
       "version_major": 2,
       "version_minor": 0
      },
      "text/plain": [
       "  0%|          | 0/146 [00:00<?, ?it/s]"
      ]
     },
     "metadata": {},
     "output_type": "display_data"
    },
    {
     "name": "stdout",
     "output_type": "stream",
     "text": [
      "начало парсинга 56 части ссылок\n"
     ]
    },
    {
     "data": {
      "application/vnd.jupyter.widget-view+json": {
       "model_id": "7c7274a5532d4779a868150d4f78d81c",
       "version_major": 2,
       "version_minor": 0
      },
      "text/plain": [
       "  0%|          | 0/146 [00:00<?, ?it/s]"
      ]
     },
     "metadata": {},
     "output_type": "display_data"
    },
    {
     "name": "stdout",
     "output_type": "stream",
     "text": [
      "начало парсинга 57 части ссылок\n"
     ]
    },
    {
     "data": {
      "application/vnd.jupyter.widget-view+json": {
       "model_id": "f7f52e85b2874d5b9fc82c11e4ea8cb9",
       "version_major": 2,
       "version_minor": 0
      },
      "text/plain": [
       "  0%|          | 0/146 [00:00<?, ?it/s]"
      ]
     },
     "metadata": {},
     "output_type": "display_data"
    },
    {
     "name": "stdout",
     "output_type": "stream",
     "text": [
      "начало парсинга 58 части ссылок\n"
     ]
    },
    {
     "data": {
      "application/vnd.jupyter.widget-view+json": {
       "model_id": "09672a4c0433430f8be789c1b3512119",
       "version_major": 2,
       "version_minor": 0
      },
      "text/plain": [
       "  0%|          | 0/146 [00:00<?, ?it/s]"
      ]
     },
     "metadata": {},
     "output_type": "display_data"
    },
    {
     "name": "stdout",
     "output_type": "stream",
     "text": [
      "начало парсинга 59 части ссылок\n"
     ]
    },
    {
     "data": {
      "application/vnd.jupyter.widget-view+json": {
       "model_id": "f2ecf263530441288c8e5449fcf1b168",
       "version_major": 2,
       "version_minor": 0
      },
      "text/plain": [
       "  0%|          | 0/146 [00:00<?, ?it/s]"
      ]
     },
     "metadata": {},
     "output_type": "display_data"
    },
    {
     "name": "stdout",
     "output_type": "stream",
     "text": [
      "начало парсинга 60 части ссылок\n"
     ]
    },
    {
     "data": {
      "application/vnd.jupyter.widget-view+json": {
       "model_id": "d5fd89819ece46e7b29b1fc5a86bafad",
       "version_major": 2,
       "version_minor": 0
      },
      "text/plain": [
       "  0%|          | 0/146 [00:00<?, ?it/s]"
      ]
     },
     "metadata": {},
     "output_type": "display_data"
    },
    {
     "name": "stdout",
     "output_type": "stream",
     "text": [
      "начало парсинга 61 части ссылок\n"
     ]
    },
    {
     "data": {
      "application/vnd.jupyter.widget-view+json": {
       "model_id": "8d655e886ff040d4be0bfe12a646851f",
       "version_major": 2,
       "version_minor": 0
      },
      "text/plain": [
       "  0%|          | 0/146 [00:00<?, ?it/s]"
      ]
     },
     "metadata": {},
     "output_type": "display_data"
    },
    {
     "name": "stdout",
     "output_type": "stream",
     "text": [
      "начало парсинга 62 части ссылок\n"
     ]
    },
    {
     "data": {
      "application/vnd.jupyter.widget-view+json": {
       "model_id": "613e562465244acea8c88f85581b1df5",
       "version_major": 2,
       "version_minor": 0
      },
      "text/plain": [
       "  0%|          | 0/146 [00:00<?, ?it/s]"
      ]
     },
     "metadata": {},
     "output_type": "display_data"
    },
    {
     "name": "stdout",
     "output_type": "stream",
     "text": [
      "начало парсинга 63 части ссылок\n"
     ]
    },
    {
     "data": {
      "application/vnd.jupyter.widget-view+json": {
       "model_id": "f2a45322e7a9479b956aa2c50772560e",
       "version_major": 2,
       "version_minor": 0
      },
      "text/plain": [
       "  0%|          | 0/146 [00:00<?, ?it/s]"
      ]
     },
     "metadata": {},
     "output_type": "display_data"
    },
    {
     "name": "stdout",
     "output_type": "stream",
     "text": [
      "начало парсинга 64 части ссылок\n"
     ]
    },
    {
     "data": {
      "application/vnd.jupyter.widget-view+json": {
       "model_id": "0aaae42999ba46178f9b85fd86dfd61d",
       "version_major": 2,
       "version_minor": 0
      },
      "text/plain": [
       "  0%|          | 0/146 [00:00<?, ?it/s]"
      ]
     },
     "metadata": {},
     "output_type": "display_data"
    },
    {
     "name": "stdout",
     "output_type": "stream",
     "text": [
      "начало парсинга 65 части ссылок\n"
     ]
    },
    {
     "data": {
      "application/vnd.jupyter.widget-view+json": {
       "model_id": "1a3446a46ce34334add68292f32840b9",
       "version_major": 2,
       "version_minor": 0
      },
      "text/plain": [
       "  0%|          | 0/146 [00:00<?, ?it/s]"
      ]
     },
     "metadata": {},
     "output_type": "display_data"
    },
    {
     "name": "stdout",
     "output_type": "stream",
     "text": [
      "начало парсинга 66 части ссылок\n"
     ]
    },
    {
     "data": {
      "application/vnd.jupyter.widget-view+json": {
       "model_id": "ce99e47e2715499ca2e3eb2c8a415dee",
       "version_major": 2,
       "version_minor": 0
      },
      "text/plain": [
       "  0%|          | 0/146 [00:00<?, ?it/s]"
      ]
     },
     "metadata": {},
     "output_type": "display_data"
    },
    {
     "name": "stdout",
     "output_type": "stream",
     "text": [
      "начало парсинга 67 части ссылок\n"
     ]
    },
    {
     "data": {
      "application/vnd.jupyter.widget-view+json": {
       "model_id": "f5849061ef0247cdace4c2069be3e898",
       "version_major": 2,
       "version_minor": 0
      },
      "text/plain": [
       "  0%|          | 0/146 [00:00<?, ?it/s]"
      ]
     },
     "metadata": {},
     "output_type": "display_data"
    },
    {
     "name": "stdout",
     "output_type": "stream",
     "text": [
      "начало парсинга 68 части ссылок\n"
     ]
    },
    {
     "data": {
      "application/vnd.jupyter.widget-view+json": {
       "model_id": "a6fc20a4cd2c4405badc4d09fc2e4481",
       "version_major": 2,
       "version_minor": 0
      },
      "text/plain": [
       "  0%|          | 0/146 [00:00<?, ?it/s]"
      ]
     },
     "metadata": {},
     "output_type": "display_data"
    },
    {
     "name": "stdout",
     "output_type": "stream",
     "text": [
      "начало парсинга 69 части ссылок\n"
     ]
    },
    {
     "data": {
      "application/vnd.jupyter.widget-view+json": {
       "model_id": "e94541d559af47bbaafbee53cd830ad5",
       "version_major": 2,
       "version_minor": 0
      },
      "text/plain": [
       "  0%|          | 0/146 [00:00<?, ?it/s]"
      ]
     },
     "metadata": {},
     "output_type": "display_data"
    },
    {
     "name": "stdout",
     "output_type": "stream",
     "text": [
      "начало парсинга 70 части ссылок\n"
     ]
    },
    {
     "data": {
      "application/vnd.jupyter.widget-view+json": {
       "model_id": "115c3fbbdcb0470c9d4ee3eb01357037",
       "version_major": 2,
       "version_minor": 0
      },
      "text/plain": [
       "  0%|          | 0/146 [00:00<?, ?it/s]"
      ]
     },
     "metadata": {},
     "output_type": "display_data"
    },
    {
     "name": "stdout",
     "output_type": "stream",
     "text": [
      "начало парсинга 71 части ссылок\n"
     ]
    },
    {
     "data": {
      "application/vnd.jupyter.widget-view+json": {
       "model_id": "bcf568282371467782693c822ffeca89",
       "version_major": 2,
       "version_minor": 0
      },
      "text/plain": [
       "  0%|          | 0/146 [00:00<?, ?it/s]"
      ]
     },
     "metadata": {},
     "output_type": "display_data"
    },
    {
     "name": "stdout",
     "output_type": "stream",
     "text": [
      "начало парсинга 72 части ссылок\n"
     ]
    },
    {
     "data": {
      "application/vnd.jupyter.widget-view+json": {
       "model_id": "c88ef7090d66448ea22e84515e3663a3",
       "version_major": 2,
       "version_minor": 0
      },
      "text/plain": [
       "  0%|          | 0/146 [00:00<?, ?it/s]"
      ]
     },
     "metadata": {},
     "output_type": "display_data"
    },
    {
     "name": "stdout",
     "output_type": "stream",
     "text": [
      "начало парсинга 73 части ссылок\n"
     ]
    },
    {
     "data": {
      "application/vnd.jupyter.widget-view+json": {
       "model_id": "ac1ed85411814922b52ce5a15305b3a7",
       "version_major": 2,
       "version_minor": 0
      },
      "text/plain": [
       "  0%|          | 0/146 [00:00<?, ?it/s]"
      ]
     },
     "metadata": {},
     "output_type": "display_data"
    },
    {
     "name": "stdout",
     "output_type": "stream",
     "text": [
      "начало парсинга 74 части ссылок\n"
     ]
    },
    {
     "data": {
      "application/vnd.jupyter.widget-view+json": {
       "model_id": "ad46d1acbd4249de8dbf55e9f1b634b4",
       "version_major": 2,
       "version_minor": 0
      },
      "text/plain": [
       "  0%|          | 0/146 [00:00<?, ?it/s]"
      ]
     },
     "metadata": {},
     "output_type": "display_data"
    },
    {
     "name": "stdout",
     "output_type": "stream",
     "text": [
      "начало парсинга 75 части ссылок\n"
     ]
    },
    {
     "data": {
      "application/vnd.jupyter.widget-view+json": {
       "model_id": "7f74ee82740b41e09941bc3e94f2dcb3",
       "version_major": 2,
       "version_minor": 0
      },
      "text/plain": [
       "  0%|          | 0/146 [00:00<?, ?it/s]"
      ]
     },
     "metadata": {},
     "output_type": "display_data"
    },
    {
     "name": "stdout",
     "output_type": "stream",
     "text": [
      "начало парсинга 76 части ссылок\n"
     ]
    },
    {
     "data": {
      "application/vnd.jupyter.widget-view+json": {
       "model_id": "d8922f35a7634cf0956df3d1c3f4d71b",
       "version_major": 2,
       "version_minor": 0
      },
      "text/plain": [
       "  0%|          | 0/146 [00:00<?, ?it/s]"
      ]
     },
     "metadata": {},
     "output_type": "display_data"
    },
    {
     "name": "stdout",
     "output_type": "stream",
     "text": [
      "начало парсинга 77 части ссылок\n"
     ]
    },
    {
     "data": {
      "application/vnd.jupyter.widget-view+json": {
       "model_id": "1e83ba5e08b44654871a20c9f6d50d4c",
       "version_major": 2,
       "version_minor": 0
      },
      "text/plain": [
       "  0%|          | 0/146 [00:00<?, ?it/s]"
      ]
     },
     "metadata": {},
     "output_type": "display_data"
    },
    {
     "name": "stdout",
     "output_type": "stream",
     "text": [
      "начало парсинга 78 части ссылок\n"
     ]
    },
    {
     "data": {
      "application/vnd.jupyter.widget-view+json": {
       "model_id": "be0067c53c4e419e8c5c3fa0dde3ed23",
       "version_major": 2,
       "version_minor": 0
      },
      "text/plain": [
       "  0%|          | 0/146 [00:00<?, ?it/s]"
      ]
     },
     "metadata": {},
     "output_type": "display_data"
    },
    {
     "name": "stdout",
     "output_type": "stream",
     "text": [
      "начало парсинга 79 части ссылок\n"
     ]
    },
    {
     "data": {
      "application/vnd.jupyter.widget-view+json": {
       "model_id": "ba6cb47ac06147acb8e951420f559397",
       "version_major": 2,
       "version_minor": 0
      },
      "text/plain": [
       "  0%|          | 0/146 [00:00<?, ?it/s]"
      ]
     },
     "metadata": {},
     "output_type": "display_data"
    },
    {
     "name": "stdout",
     "output_type": "stream",
     "text": [
      "начало парсинга 80 части ссылок\n"
     ]
    },
    {
     "data": {
      "application/vnd.jupyter.widget-view+json": {
       "model_id": "d0f6c5622c6d4d8b8f8c93781338c3b3",
       "version_major": 2,
       "version_minor": 0
      },
      "text/plain": [
       "  0%|          | 0/146 [00:00<?, ?it/s]"
      ]
     },
     "metadata": {},
     "output_type": "display_data"
    },
    {
     "name": "stdout",
     "output_type": "stream",
     "text": [
      "начало парсинга 81 части ссылок\n"
     ]
    },
    {
     "data": {
      "application/vnd.jupyter.widget-view+json": {
       "model_id": "7546101bc5d0439cb3ca7d8a6a305b12",
       "version_major": 2,
       "version_minor": 0
      },
      "text/plain": [
       "  0%|          | 0/146 [00:00<?, ?it/s]"
      ]
     },
     "metadata": {},
     "output_type": "display_data"
    },
    {
     "name": "stdout",
     "output_type": "stream",
     "text": [
      "начало парсинга 82 части ссылок\n"
     ]
    },
    {
     "data": {
      "application/vnd.jupyter.widget-view+json": {
       "model_id": "089ab9b6321c4dac86843f4bc4522287",
       "version_major": 2,
       "version_minor": 0
      },
      "text/plain": [
       "  0%|          | 0/146 [00:00<?, ?it/s]"
      ]
     },
     "metadata": {},
     "output_type": "display_data"
    },
    {
     "name": "stdout",
     "output_type": "stream",
     "text": [
      "начало парсинга 83 части ссылок\n"
     ]
    },
    {
     "data": {
      "application/vnd.jupyter.widget-view+json": {
       "model_id": "28866893a5b74c27aee2b33796c7dd21",
       "version_major": 2,
       "version_minor": 0
      },
      "text/plain": [
       "  0%|          | 0/146 [00:00<?, ?it/s]"
      ]
     },
     "metadata": {},
     "output_type": "display_data"
    },
    {
     "name": "stdout",
     "output_type": "stream",
     "text": [
      "начало парсинга 84 части ссылок\n"
     ]
    },
    {
     "data": {
      "application/vnd.jupyter.widget-view+json": {
       "model_id": "559fb924d5d34963a431e8d7c8b545e1",
       "version_major": 2,
       "version_minor": 0
      },
      "text/plain": [
       "  0%|          | 0/146 [00:00<?, ?it/s]"
      ]
     },
     "metadata": {},
     "output_type": "display_data"
    },
    {
     "name": "stdout",
     "output_type": "stream",
     "text": [
      "начало парсинга 85 части ссылок\n"
     ]
    },
    {
     "data": {
      "application/vnd.jupyter.widget-view+json": {
       "model_id": "a4f4c5aeed7143cca08fc47d3cf79e35",
       "version_major": 2,
       "version_minor": 0
      },
      "text/plain": [
       "  0%|          | 0/146 [00:00<?, ?it/s]"
      ]
     },
     "metadata": {},
     "output_type": "display_data"
    },
    {
     "name": "stdout",
     "output_type": "stream",
     "text": [
      "начало парсинга 86 части ссылок\n"
     ]
    },
    {
     "data": {
      "application/vnd.jupyter.widget-view+json": {
       "model_id": "d005dae35afe4b4aacd0081a68ed3c1f",
       "version_major": 2,
       "version_minor": 0
      },
      "text/plain": [
       "  0%|          | 0/146 [00:00<?, ?it/s]"
      ]
     },
     "metadata": {},
     "output_type": "display_data"
    },
    {
     "name": "stdout",
     "output_type": "stream",
     "text": [
      "начало парсинга 87 части ссылок\n"
     ]
    },
    {
     "data": {
      "application/vnd.jupyter.widget-view+json": {
       "model_id": "68044532fbad4714a5e5f24b5dd47df0",
       "version_major": 2,
       "version_minor": 0
      },
      "text/plain": [
       "  0%|          | 0/146 [00:00<?, ?it/s]"
      ]
     },
     "metadata": {},
     "output_type": "display_data"
    },
    {
     "name": "stdout",
     "output_type": "stream",
     "text": [
      "начало парсинга 88 части ссылок\n"
     ]
    },
    {
     "data": {
      "application/vnd.jupyter.widget-view+json": {
       "model_id": "07779c16a6b34a7d8c8e8c7468e4d457",
       "version_major": 2,
       "version_minor": 0
      },
      "text/plain": [
       "  0%|          | 0/146 [00:00<?, ?it/s]"
      ]
     },
     "metadata": {},
     "output_type": "display_data"
    },
    {
     "name": "stdout",
     "output_type": "stream",
     "text": [
      "начало парсинга 89 части ссылок\n"
     ]
    },
    {
     "data": {
      "application/vnd.jupyter.widget-view+json": {
       "model_id": "bc9ae69e8abe461d9620e7fbf3b466bd",
       "version_major": 2,
       "version_minor": 0
      },
      "text/plain": [
       "  0%|          | 0/146 [00:00<?, ?it/s]"
      ]
     },
     "metadata": {},
     "output_type": "display_data"
    },
    {
     "name": "stdout",
     "output_type": "stream",
     "text": [
      "начало парсинга 90 части ссылок\n"
     ]
    },
    {
     "data": {
      "application/vnd.jupyter.widget-view+json": {
       "model_id": "d95cb9cd777e4769832585aa41640407",
       "version_major": 2,
       "version_minor": 0
      },
      "text/plain": [
       "  0%|          | 0/146 [00:00<?, ?it/s]"
      ]
     },
     "metadata": {},
     "output_type": "display_data"
    },
    {
     "name": "stdout",
     "output_type": "stream",
     "text": [
      "начало парсинга 91 части ссылок\n"
     ]
    },
    {
     "data": {
      "application/vnd.jupyter.widget-view+json": {
       "model_id": "62c979f8992c40b6ac9628c0d878d317",
       "version_major": 2,
       "version_minor": 0
      },
      "text/plain": [
       "  0%|          | 0/146 [00:00<?, ?it/s]"
      ]
     },
     "metadata": {},
     "output_type": "display_data"
    },
    {
     "name": "stdout",
     "output_type": "stream",
     "text": [
      "начало парсинга 92 части ссылок\n"
     ]
    },
    {
     "data": {
      "application/vnd.jupyter.widget-view+json": {
       "model_id": "073d994ea6cd417c9b3cc0d0a2a8ffb9",
       "version_major": 2,
       "version_minor": 0
      },
      "text/plain": [
       "  0%|          | 0/146 [00:00<?, ?it/s]"
      ]
     },
     "metadata": {},
     "output_type": "display_data"
    },
    {
     "name": "stdout",
     "output_type": "stream",
     "text": [
      "начало парсинга 93 части ссылок\n"
     ]
    },
    {
     "data": {
      "application/vnd.jupyter.widget-view+json": {
       "model_id": "071329cbb60e46c29207142d9234dd1f",
       "version_major": 2,
       "version_minor": 0
      },
      "text/plain": [
       "  0%|          | 0/145 [00:00<?, ?it/s]"
      ]
     },
     "metadata": {},
     "output_type": "display_data"
    },
    {
     "name": "stdout",
     "output_type": "stream",
     "text": [
      "начало парсинга 94 части ссылок\n"
     ]
    },
    {
     "data": {
      "application/vnd.jupyter.widget-view+json": {
       "model_id": "eecf35265cd141fdb8e71587f52bed84",
       "version_major": 2,
       "version_minor": 0
      },
      "text/plain": [
       "  0%|          | 0/145 [00:00<?, ?it/s]"
      ]
     },
     "metadata": {},
     "output_type": "display_data"
    },
    {
     "name": "stdout",
     "output_type": "stream",
     "text": [
      "начало парсинга 95 части ссылок\n"
     ]
    },
    {
     "data": {
      "application/vnd.jupyter.widget-view+json": {
       "model_id": "a568ea1e9a244dca8f0f49dedfae83c0",
       "version_major": 2,
       "version_minor": 0
      },
      "text/plain": [
       "  0%|          | 0/145 [00:00<?, ?it/s]"
      ]
     },
     "metadata": {},
     "output_type": "display_data"
    },
    {
     "name": "stdout",
     "output_type": "stream",
     "text": [
      "начало парсинга 96 части ссылок\n"
     ]
    },
    {
     "data": {
      "application/vnd.jupyter.widget-view+json": {
       "model_id": "fb86082cef89480699aa2e8cd8decf62",
       "version_major": 2,
       "version_minor": 0
      },
      "text/plain": [
       "  0%|          | 0/145 [00:00<?, ?it/s]"
      ]
     },
     "metadata": {},
     "output_type": "display_data"
    },
    {
     "name": "stdout",
     "output_type": "stream",
     "text": [
      "начало парсинга 97 части ссылок\n"
     ]
    },
    {
     "data": {
      "application/vnd.jupyter.widget-view+json": {
       "model_id": "aeb53a89a435478ebe4c211db6952e54",
       "version_major": 2,
       "version_minor": 0
      },
      "text/plain": [
       "  0%|          | 0/145 [00:00<?, ?it/s]"
      ]
     },
     "metadata": {},
     "output_type": "display_data"
    },
    {
     "name": "stdout",
     "output_type": "stream",
     "text": [
      "начало парсинга 98 части ссылок\n"
     ]
    },
    {
     "data": {
      "application/vnd.jupyter.widget-view+json": {
       "model_id": "037c9d8be02f43699e9576a865df0455",
       "version_major": 2,
       "version_minor": 0
      },
      "text/plain": [
       "  0%|          | 0/145 [00:00<?, ?it/s]"
      ]
     },
     "metadata": {},
     "output_type": "display_data"
    },
    {
     "name": "stdout",
     "output_type": "stream",
     "text": [
      "начало парсинга 99 части ссылок\n"
     ]
    },
    {
     "data": {
      "application/vnd.jupyter.widget-view+json": {
       "model_id": "eb90729d915f4120ba89169ad41bb79b",
       "version_major": 2,
       "version_minor": 0
      },
      "text/plain": [
       "  0%|          | 0/145 [00:00<?, ?it/s]"
      ]
     },
     "metadata": {},
     "output_type": "display_data"
    },
    {
     "name": "stdout",
     "output_type": "stream",
     "text": [
      "начало парсинга 100 части ссылок\n"
     ]
    },
    {
     "data": {
      "application/vnd.jupyter.widget-view+json": {
       "model_id": "d34665d5e90e48338e8854031384f8a2",
       "version_major": 2,
       "version_minor": 0
      },
      "text/plain": [
       "  0%|          | 0/145 [00:00<?, ?it/s]"
      ]
     },
     "metadata": {},
     "output_type": "display_data"
    }
   ],
   "source": [
    "n = 0\n",
    "for i in range(0, 100):\n",
    "    n+=1\n",
    "    print(f'начало парсинга {n} части ссылок')\n",
    "    df = sunlight_parser(chunks[i])\n",
    "    df.to_csv(r'C:\\Users\\Trenkin.Sergey\\Desktop\\parsers\\sunlight_current_data\\\\' + f'sunlight_{day_now}_{month_now}_{n}.csv', index=False)\n",
    "    time.sleep(5)"
   ]
  },
  {
   "cell_type": "code",
   "execution_count": 17,
   "id": "8a8717a9-4841-4b69-8bf6-34f7026bcbb8",
   "metadata": {
    "tags": []
   },
   "outputs": [
    {
     "data": {
      "text/plain": [
       "100"
      ]
     },
     "execution_count": 17,
     "metadata": {},
     "output_type": "execute_result"
    }
   ],
   "source": [
    "os.chdir(r'C:\\Users\\Trenkin.Sergey\\Desktop\\parsers\\sunlight_current_data')\n",
    "extension = 'csv'\n",
    "all_filenames = [i for i in glob.glob('*.{}'.format(extension))]\n",
    "len(all_filenames)"
   ]
  },
  {
   "cell_type": "code",
   "execution_count": 18,
   "id": "ad28c4b5-5099-4c80-9921-03acd7d51888",
   "metadata": {
    "tags": []
   },
   "outputs": [],
   "source": [
    "data = pd.DataFrame()\n",
    "for name  in all_filenames:\n",
    "    df = pd.read_csv(name)\n",
    "    data = pd.concat([df, data], ignore_index=True)"
   ]
  },
  {
   "cell_type": "code",
   "execution_count": 19,
   "id": "ebec15b8-284a-45c7-9ab4-61f45b5bf818",
   "metadata": {
    "tags": []
   },
   "outputs": [
    {
     "data": {
      "text/html": [
       "<div>\n",
       "<style scoped>\n",
       "    .dataframe tbody tr th:only-of-type {\n",
       "        vertical-align: middle;\n",
       "    }\n",
       "\n",
       "    .dataframe tbody tr th {\n",
       "        vertical-align: top;\n",
       "    }\n",
       "\n",
       "    .dataframe thead th {\n",
       "        text-align: right;\n",
       "    }\n",
       "</style>\n",
       "<table border=\"1\" class=\"dataframe\">\n",
       "  <thead>\n",
       "    <tr style=\"text-align: right;\">\n",
       "      <th></th>\n",
       "      <th>date</th>\n",
       "      <th>competitor</th>\n",
       "      <th>name</th>\n",
       "      <th>group</th>\n",
       "      <th>params</th>\n",
       "      <th>price</th>\n",
       "      <th>article</th>\n",
       "      <th>url</th>\n",
       "    </tr>\n",
       "  </thead>\n",
       "  <tbody>\n",
       "    <tr>\n",
       "      <th>0</th>\n",
       "      <td>14-05-2024</td>\n",
       "      <td>Sunlight</td>\n",
       "      <td>\\n    Золотая цепь\\n</td>\n",
       "      <td>Цепи</td>\n",
       "      <td>{'Модель': '342-00-0140-31130*', 'Материал изд...</td>\n",
       "      <td>836180</td>\n",
       "      <td>344746</td>\n",
       "      <td>https://sunlight.net/catalog/chains_344746.html</td>\n",
       "    </tr>\n",
       "    <tr>\n",
       "      <th>1</th>\n",
       "      <td>14-05-2024</td>\n",
       "      <td>Sunlight</td>\n",
       "      <td>\\n    Золотой браслет с фианитами\\n</td>\n",
       "      <td>Браслеты</td>\n",
       "      <td>{'Модель': 'бр081-20р-01*', 'Материал изделия'...</td>\n",
       "      <td>94710</td>\n",
       "      <td>344374</td>\n",
       "      <td>https://sunlight.net/catalog/bracelets_344374....</td>\n",
       "    </tr>\n",
       "    <tr>\n",
       "      <th>2</th>\n",
       "      <td>14-05-2024</td>\n",
       "      <td>Sunlight</td>\n",
       "      <td>\\n    Золотой браслет с фианитами\\n</td>\n",
       "      <td>Браслеты</td>\n",
       "      <td>{'Модель': 'бр081-20с-01*', 'Материал изделия'...</td>\n",
       "      <td>86410</td>\n",
       "      <td>344373</td>\n",
       "      <td>https://sunlight.net/catalog/bracelets_344373....</td>\n",
       "    </tr>\n",
       "    <tr>\n",
       "      <th>3</th>\n",
       "      <td>14-05-2024</td>\n",
       "      <td>Sunlight</td>\n",
       "      <td>\\n    Золотой браслет с бриллиантами\\n</td>\n",
       "      <td>Браслеты</td>\n",
       "      <td>{'Модель': '73314-B5W-01', 'Материал изделия':...</td>\n",
       "      <td>234990</td>\n",
       "      <td>986416</td>\n",
       "      <td>https://sunlight.net/catalog/bracelets_986416....</td>\n",
       "    </tr>\n",
       "    <tr>\n",
       "      <th>4</th>\n",
       "      <td>14-05-2024</td>\n",
       "      <td>Sunlight</td>\n",
       "      <td>\\n    Золотой браслет\\n</td>\n",
       "      <td>Браслеты</td>\n",
       "      <td>{'Модель': '47-00-0000-11176*', 'Материал изде...</td>\n",
       "      <td>17280</td>\n",
       "      <td>344031</td>\n",
       "      <td>https://sunlight.net/catalog/bracelets_344031....</td>\n",
       "    </tr>\n",
       "    <tr>\n",
       "      <th>...</th>\n",
       "      <td>...</td>\n",
       "      <td>...</td>\n",
       "      <td>...</td>\n",
       "      <td>...</td>\n",
       "      <td>...</td>\n",
       "      <td>...</td>\n",
       "      <td>...</td>\n",
       "      <td>...</td>\n",
       "    </tr>\n",
       "    <tr>\n",
       "      <th>14587</th>\n",
       "      <td>14-05-2024</td>\n",
       "      <td>Sunlight</td>\n",
       "      <td>\\n    Золотые серьги с бриллиантами\\n</td>\n",
       "      <td>Серьги</td>\n",
       "      <td>{'Модель': '0275-C5M-02', 'Материал изделия': ...</td>\n",
       "      <td>21990</td>\n",
       "      <td>55703</td>\n",
       "      <td>https://sunlight.net/catalog/earring_55703.html</td>\n",
       "    </tr>\n",
       "    <tr>\n",
       "      <th>14588</th>\n",
       "      <td>14-05-2024</td>\n",
       "      <td>Sunlight</td>\n",
       "      <td>\\n    Золотой крест-подвеска\\n</td>\n",
       "      <td>Крест-подвеска</td>\n",
       "      <td>{'Модель': '14592.1*', 'Материал изделия': 'Бе...</td>\n",
       "      <td>3990</td>\n",
       "      <td>288514</td>\n",
       "      <td>https://sunlight.net/catalog/pendants_288514.html</td>\n",
       "    </tr>\n",
       "    <tr>\n",
       "      <th>14589</th>\n",
       "      <td>14-05-2024</td>\n",
       "      <td>Sunlight</td>\n",
       "      <td>\\n    Золотое кольцо с фианитами\\n</td>\n",
       "      <td>Кольца</td>\n",
       "      <td>{'Модель': '20-02-0001-12622*', 'Материал изде...</td>\n",
       "      <td>17990</td>\n",
       "      <td>348664</td>\n",
       "      <td>https://sunlight.net/catalog/ring_261669.html</td>\n",
       "    </tr>\n",
       "    <tr>\n",
       "      <th>14590</th>\n",
       "      <td>14-05-2024</td>\n",
       "      <td>Sunlight</td>\n",
       "      <td>\\n    Золотое кольцо с сапфирами и бриллиантам...</td>\n",
       "      <td>Кольца</td>\n",
       "      <td>{'Модель': '73061-K5R-01', 'Материал изделия':...</td>\n",
       "      <td>35990</td>\n",
       "      <td>341090</td>\n",
       "      <td>https://sunlight.net/catalog/ring_341090.html</td>\n",
       "    </tr>\n",
       "    <tr>\n",
       "      <th>14591</th>\n",
       "      <td>14-05-2024</td>\n",
       "      <td>Sunlight</td>\n",
       "      <td>\\n    Золотая подвеска с бриллиантами\\n</td>\n",
       "      <td>Подвески</td>\n",
       "      <td>{'Модель': '73691-P5R-01', 'Материал изделия':...</td>\n",
       "      <td>34990</td>\n",
       "      <td>988887</td>\n",
       "      <td>https://sunlight.net/catalog/pendants_988887.html</td>\n",
       "    </tr>\n",
       "  </tbody>\n",
       "</table>\n",
       "<p>14592 rows × 8 columns</p>\n",
       "</div>"
      ],
      "text/plain": [
       "             date competitor  \\\n",
       "0      14-05-2024   Sunlight   \n",
       "1      14-05-2024   Sunlight   \n",
       "2      14-05-2024   Sunlight   \n",
       "3      14-05-2024   Sunlight   \n",
       "4      14-05-2024   Sunlight   \n",
       "...           ...        ...   \n",
       "14587  14-05-2024   Sunlight   \n",
       "14588  14-05-2024   Sunlight   \n",
       "14589  14-05-2024   Sunlight   \n",
       "14590  14-05-2024   Sunlight   \n",
       "14591  14-05-2024   Sunlight   \n",
       "\n",
       "                                                    name           group  \\\n",
       "0                                 \\n    Золотая цепь\\n              Цепи   \n",
       "1                  \\n    Золотой браслет с фианитами\\n          Браслеты   \n",
       "2                  \\n    Золотой браслет с фианитами\\n          Браслеты   \n",
       "3               \\n    Золотой браслет с бриллиантами\\n          Браслеты   \n",
       "4                              \\n    Золотой браслет\\n          Браслеты   \n",
       "...                                                  ...             ...   \n",
       "14587            \\n    Золотые серьги с бриллиантами\\n            Серьги   \n",
       "14588                   \\n    Золотой крест-подвеска\\n    Крест-подвеска   \n",
       "14589               \\n    Золотое кольцо с фианитами\\n            Кольца   \n",
       "14590  \\n    Золотое кольцо с сапфирами и бриллиантам...          Кольца   \n",
       "14591          \\n    Золотая подвеска с бриллиантами\\n          Подвески   \n",
       "\n",
       "                                                  params   price  article  \\\n",
       "0      {'Модель': '342-00-0140-31130*', 'Материал изд...  836180   344746   \n",
       "1      {'Модель': 'бр081-20р-01*', 'Материал изделия'...   94710   344374   \n",
       "2      {'Модель': 'бр081-20с-01*', 'Материал изделия'...   86410   344373   \n",
       "3      {'Модель': '73314-B5W-01', 'Материал изделия':...  234990   986416   \n",
       "4      {'Модель': '47-00-0000-11176*', 'Материал изде...   17280   344031   \n",
       "...                                                  ...     ...      ...   \n",
       "14587  {'Модель': '0275-C5M-02', 'Материал изделия': ...   21990    55703   \n",
       "14588  {'Модель': '14592.1*', 'Материал изделия': 'Бе...    3990   288514   \n",
       "14589  {'Модель': '20-02-0001-12622*', 'Материал изде...   17990   348664   \n",
       "14590  {'Модель': '73061-K5R-01', 'Материал изделия':...   35990   341090   \n",
       "14591  {'Модель': '73691-P5R-01', 'Материал изделия':...   34990   988887   \n",
       "\n",
       "                                                     url  \n",
       "0        https://sunlight.net/catalog/chains_344746.html  \n",
       "1      https://sunlight.net/catalog/bracelets_344374....  \n",
       "2      https://sunlight.net/catalog/bracelets_344373....  \n",
       "3      https://sunlight.net/catalog/bracelets_986416....  \n",
       "4      https://sunlight.net/catalog/bracelets_344031....  \n",
       "...                                                  ...  \n",
       "14587    https://sunlight.net/catalog/earring_55703.html  \n",
       "14588  https://sunlight.net/catalog/pendants_288514.html  \n",
       "14589      https://sunlight.net/catalog/ring_261669.html  \n",
       "14590      https://sunlight.net/catalog/ring_341090.html  \n",
       "14591  https://sunlight.net/catalog/pendants_988887.html  \n",
       "\n",
       "[14592 rows x 8 columns]"
      ]
     },
     "execution_count": 19,
     "metadata": {},
     "output_type": "execute_result"
    }
   ],
   "source": [
    "data"
   ]
  },
  {
   "cell_type": "code",
   "execution_count": 20,
   "id": "519c7daa",
   "metadata": {},
   "outputs": [],
   "source": [
    "data.to_csv(rf'C:\\Users\\Trenkin.Sergey\\Desktop\\parsers\\sunlight_current_data\\data_without_price.csv', index = False)"
   ]
  },
  {
   "cell_type": "code",
   "execution_count": 15,
   "id": "58337692-5eb6-4eb5-9115-f144d8abbb81",
   "metadata": {
    "tags": []
   },
   "outputs": [
    {
     "name": "stdout",
     "output_type": "stream",
     "text": [
      "<class 'pandas.core.frame.DataFrame'>\n",
      "RangeIndex: 14592 entries, 0 to 14591\n",
      "Data columns (total 8 columns):\n",
      " #   Column      Non-Null Count  Dtype \n",
      "---  ------      --------------  ----- \n",
      " 0   date        14592 non-null  object\n",
      " 1   competitor  14592 non-null  object\n",
      " 2   name        14592 non-null  object\n",
      " 3   group       14592 non-null  object\n",
      " 4   params      14592 non-null  object\n",
      " 5   price       14592 non-null  int64 \n",
      " 6   article     14592 non-null  int64 \n",
      " 7   url         14592 non-null  object\n",
      "dtypes: int64(2), object(6)\n",
      "memory usage: 912.1+ KB\n"
     ]
    }
   ],
   "source": [
    "data.info()"
   ]
  },
  {
   "cell_type": "code",
   "execution_count": 16,
   "id": "8417ea87-4b5c-4a25-adab-ea9dc6aa14c4",
   "metadata": {
    "tags": []
   },
   "outputs": [
    {
     "data": {
      "text/plain": [
       "0"
      ]
     },
     "execution_count": 16,
     "metadata": {},
     "output_type": "execute_result"
    }
   ],
   "source": [
    "data.duplicated().sum()"
   ]
  },
  {
   "cell_type": "code",
   "execution_count": 17,
   "id": "0b84a2f7-e088-4e35-b146-8e062b70017c",
   "metadata": {
    "tags": []
   },
   "outputs": [],
   "source": [
    "data = data.drop_duplicates()"
   ]
  },
  {
   "cell_type": "code",
   "execution_count": 18,
   "id": "6d3ae069-d73d-479d-aade-bf0c7a7af635",
   "metadata": {
    "tags": []
   },
   "outputs": [
    {
     "data": {
      "text/plain": [
       "0"
      ]
     },
     "execution_count": 18,
     "metadata": {},
     "output_type": "execute_result"
    }
   ],
   "source": [
    "data.duplicated().sum()"
   ]
  },
  {
   "cell_type": "code",
   "execution_count": 19,
   "id": "e18e867c-20ea-4daf-ac9c-c782afdb958a",
   "metadata": {
    "tags": []
   },
   "outputs": [
    {
     "data": {
      "text/plain": [
       "0"
      ]
     },
     "execution_count": 19,
     "metadata": {},
     "output_type": "execute_result"
    }
   ],
   "source": [
    "data['article'].isna().sum()"
   ]
  },
  {
   "cell_type": "code",
   "execution_count": 20,
   "id": "73e88350-0df1-4eaa-ac9c-5c898b1b55ce",
   "metadata": {
    "tags": []
   },
   "outputs": [],
   "source": [
    "data = data.dropna()"
   ]
  },
  {
   "cell_type": "code",
   "execution_count": 21,
   "id": "a64bce96-cffd-49ed-a32e-fcc4e915c981",
   "metadata": {
    "tags": []
   },
   "outputs": [],
   "source": [
    "data['article'] = data['article'].astype('int') "
   ]
  },
  {
   "cell_type": "code",
   "execution_count": 25,
   "id": "392c3f10-6d77-45d5-ba86-f7f7d8299399",
   "metadata": {
    "tags": []
   },
   "outputs": [],
   "source": [
    "test = np.array_split(data, 20)"
   ]
  },
  {
   "cell_type": "code",
   "execution_count": 26,
   "id": "2fff3cdb-166e-4363-a351-a3d39062e012",
   "metadata": {
    "tags": []
   },
   "outputs": [
    {
     "name": "stdout",
     "output_type": "stream",
     "text": [
      "начало парсинга 1 части ссылок\n"
     ]
    },
    {
     "name": "stderr",
     "output_type": "stream",
     "text": [
      "100%|██████████| 730/730 [06:22<00:00,  1.91it/s]\n"
     ]
    },
    {
     "name": "stdout",
     "output_type": "stream",
     "text": [
      "начало парсинга 2 части ссылок\n"
     ]
    },
    {
     "name": "stderr",
     "output_type": "stream",
     "text": [
      "100%|██████████| 730/730 [06:25<00:00,  1.89it/s]\n"
     ]
    },
    {
     "name": "stdout",
     "output_type": "stream",
     "text": [
      "начало парсинга 3 части ссылок\n"
     ]
    },
    {
     "name": "stderr",
     "output_type": "stream",
     "text": [
      "100%|██████████| 730/730 [07:05<00:00,  1.72it/s]\n"
     ]
    },
    {
     "name": "stdout",
     "output_type": "stream",
     "text": [
      "начало парсинга 4 части ссылок\n"
     ]
    },
    {
     "name": "stderr",
     "output_type": "stream",
     "text": [
      "100%|██████████| 730/730 [07:28<00:00,  1.63it/s]\n"
     ]
    },
    {
     "name": "stdout",
     "output_type": "stream",
     "text": [
      "начало парсинга 5 части ссылок\n"
     ]
    },
    {
     "name": "stderr",
     "output_type": "stream",
     "text": [
      "100%|██████████| 730/730 [07:18<00:00,  1.67it/s]\n"
     ]
    },
    {
     "name": "stdout",
     "output_type": "stream",
     "text": [
      "начало парсинга 6 части ссылок\n"
     ]
    },
    {
     "name": "stderr",
     "output_type": "stream",
     "text": [
      "100%|██████████| 730/730 [07:52<00:00,  1.54it/s]\n"
     ]
    },
    {
     "name": "stdout",
     "output_type": "stream",
     "text": [
      "начало парсинга 7 части ссылок\n"
     ]
    },
    {
     "name": "stderr",
     "output_type": "stream",
     "text": [
      "100%|██████████| 730/730 [07:16<00:00,  1.67it/s]\n"
     ]
    },
    {
     "name": "stdout",
     "output_type": "stream",
     "text": [
      "начало парсинга 8 части ссылок\n"
     ]
    },
    {
     "name": "stderr",
     "output_type": "stream",
     "text": [
      "100%|██████████| 730/730 [06:39<00:00,  1.83it/s]\n"
     ]
    },
    {
     "name": "stdout",
     "output_type": "stream",
     "text": [
      "начало парсинга 9 части ссылок\n"
     ]
    },
    {
     "name": "stderr",
     "output_type": "stream",
     "text": [
      "100%|██████████| 730/730 [07:10<00:00,  1.69it/s]\n"
     ]
    },
    {
     "name": "stdout",
     "output_type": "stream",
     "text": [
      "начало парсинга 10 части ссылок\n"
     ]
    },
    {
     "name": "stderr",
     "output_type": "stream",
     "text": [
      "100%|██████████| 730/730 [07:01<00:00,  1.73it/s]\n"
     ]
    },
    {
     "name": "stdout",
     "output_type": "stream",
     "text": [
      "начало парсинга 11 части ссылок\n"
     ]
    },
    {
     "name": "stderr",
     "output_type": "stream",
     "text": [
      "100%|██████████| 730/730 [07:24<00:00,  1.64it/s]\n"
     ]
    },
    {
     "name": "stdout",
     "output_type": "stream",
     "text": [
      "начало парсинга 12 части ссылок\n"
     ]
    },
    {
     "name": "stderr",
     "output_type": "stream",
     "text": [
      "100%|██████████| 730/730 [06:54<00:00,  1.76it/s]\n"
     ]
    },
    {
     "name": "stdout",
     "output_type": "stream",
     "text": [
      "начало парсинга 13 части ссылок\n"
     ]
    },
    {
     "name": "stderr",
     "output_type": "stream",
     "text": [
      "100%|██████████| 729/729 [06:57<00:00,  1.75it/s]\n"
     ]
    },
    {
     "name": "stdout",
     "output_type": "stream",
     "text": [
      "начало парсинга 14 части ссылок\n"
     ]
    },
    {
     "name": "stderr",
     "output_type": "stream",
     "text": [
      "100%|██████████| 729/729 [07:10<00:00,  1.69it/s]\n"
     ]
    },
    {
     "name": "stdout",
     "output_type": "stream",
     "text": [
      "начало парсинга 15 части ссылок\n"
     ]
    },
    {
     "name": "stderr",
     "output_type": "stream",
     "text": [
      "100%|██████████| 729/729 [07:06<00:00,  1.71it/s]\n"
     ]
    },
    {
     "name": "stdout",
     "output_type": "stream",
     "text": [
      "начало парсинга 16 части ссылок\n"
     ]
    },
    {
     "name": "stderr",
     "output_type": "stream",
     "text": [
      "100%|██████████| 729/729 [08:07<00:00,  1.50it/s]  \n"
     ]
    },
    {
     "name": "stdout",
     "output_type": "stream",
     "text": [
      "начало парсинга 17 части ссылок\n"
     ]
    },
    {
     "name": "stderr",
     "output_type": "stream",
     "text": [
      "100%|██████████| 729/729 [07:04<00:00,  1.72it/s]\n"
     ]
    },
    {
     "name": "stdout",
     "output_type": "stream",
     "text": [
      "начало парсинга 18 части ссылок\n"
     ]
    },
    {
     "name": "stderr",
     "output_type": "stream",
     "text": [
      "100%|██████████| 729/729 [07:17<00:00,  1.67it/s]\n"
     ]
    },
    {
     "name": "stdout",
     "output_type": "stream",
     "text": [
      "начало парсинга 19 части ссылок\n"
     ]
    },
    {
     "name": "stderr",
     "output_type": "stream",
     "text": [
      "100%|██████████| 729/729 [07:10<00:00,  1.69it/s]\n"
     ]
    },
    {
     "name": "stdout",
     "output_type": "stream",
     "text": [
      "начало парсинга 20 части ссылок\n"
     ]
    },
    {
     "name": "stderr",
     "output_type": "stream",
     "text": [
      "100%|██████████| 729/729 [07:42<00:00,  1.58it/s]\n"
     ]
    }
   ],
   "source": [
    "n = 0\n",
    "for i in range(n, 20):\n",
    "    n += 1\n",
    "    print(f'начало парсинга {n} части ссылок')\n",
    "    df = get_personal_price(test[i].reset_index())\n",
    "    df = pd.DataFrame(df)\n",
    "    df.to_csv(r'C:\\Users\\Trenkin.Sergey\\Desktop\\parsers\\sunlight_current_data\\discounts\\\\' + f'sunlight_all_data_{day_now}_{month_now}_{n}.csv', index=False)\n",
    "    time.sleep(5)"
   ]
  },
  {
   "cell_type": "code",
   "execution_count": 27,
   "id": "1cc1c7e9",
   "metadata": {},
   "outputs": [
    {
     "data": {
      "text/plain": [
       "20"
      ]
     },
     "execution_count": 27,
     "metadata": {},
     "output_type": "execute_result"
    }
   ],
   "source": [
    "os.chdir(r'C:\\Users\\Trenkin.Sergey\\Desktop\\parsers\\sunlight_current_data\\discounts')\n",
    "extension = 'csv'\n",
    "all_filenames = [i for i in glob.glob('*.{}'.format(extension))]\n",
    "len(all_filenames)"
   ]
  },
  {
   "cell_type": "code",
   "execution_count": 28,
   "id": "35b46694",
   "metadata": {},
   "outputs": [
    {
     "data": {
      "text/html": [
       "<div>\n",
       "<style scoped>\n",
       "    .dataframe tbody tr th:only-of-type {\n",
       "        vertical-align: middle;\n",
       "    }\n",
       "\n",
       "    .dataframe tbody tr th {\n",
       "        vertical-align: top;\n",
       "    }\n",
       "\n",
       "    .dataframe thead th {\n",
       "        text-align: right;\n",
       "    }\n",
       "</style>\n",
       "<table border=\"1\" class=\"dataframe\">\n",
       "  <thead>\n",
       "    <tr style=\"text-align: right;\">\n",
       "      <th></th>\n",
       "      <th>date</th>\n",
       "      <th>competitor</th>\n",
       "      <th>name</th>\n",
       "      <th>group</th>\n",
       "      <th>params</th>\n",
       "      <th>price</th>\n",
       "      <th>article</th>\n",
       "      <th>url</th>\n",
       "    </tr>\n",
       "  </thead>\n",
       "  <tbody>\n",
       "    <tr>\n",
       "      <th>0</th>\n",
       "      <td>14-05-2024</td>\n",
       "      <td>Sunlight</td>\n",
       "      <td>\\n    Золотая цепь\\n</td>\n",
       "      <td>Цепи</td>\n",
       "      <td>{'Модель': '342-00-0140-31130*', 'Материал изд...</td>\n",
       "      <td>836180</td>\n",
       "      <td>344746</td>\n",
       "      <td>https://sunlight.net/catalog/chains_344746.html</td>\n",
       "    </tr>\n",
       "    <tr>\n",
       "      <th>1</th>\n",
       "      <td>14-05-2024</td>\n",
       "      <td>Sunlight</td>\n",
       "      <td>\\n    Золотой браслет с фианитами\\n</td>\n",
       "      <td>Браслеты</td>\n",
       "      <td>{'Модель': 'бр081-20р-01*', 'Материал изделия'...</td>\n",
       "      <td>94710</td>\n",
       "      <td>344374</td>\n",
       "      <td>https://sunlight.net/catalog/bracelets_344374....</td>\n",
       "    </tr>\n",
       "    <tr>\n",
       "      <th>2</th>\n",
       "      <td>14-05-2024</td>\n",
       "      <td>Sunlight</td>\n",
       "      <td>\\n    Золотой браслет с фианитами\\n</td>\n",
       "      <td>Браслеты</td>\n",
       "      <td>{'Модель': 'бр081-20с-01*', 'Материал изделия'...</td>\n",
       "      <td>86410</td>\n",
       "      <td>344373</td>\n",
       "      <td>https://sunlight.net/catalog/bracelets_344373....</td>\n",
       "    </tr>\n",
       "    <tr>\n",
       "      <th>3</th>\n",
       "      <td>14-05-2024</td>\n",
       "      <td>Sunlight</td>\n",
       "      <td>\\n    Золотой браслет с бриллиантами\\n</td>\n",
       "      <td>Браслеты</td>\n",
       "      <td>{'Модель': '73314-B5W-01', 'Материал изделия':...</td>\n",
       "      <td>234990</td>\n",
       "      <td>986416</td>\n",
       "      <td>https://sunlight.net/catalog/bracelets_986416....</td>\n",
       "    </tr>\n",
       "    <tr>\n",
       "      <th>4</th>\n",
       "      <td>14-05-2024</td>\n",
       "      <td>Sunlight</td>\n",
       "      <td>\\n    Золотой браслет\\n</td>\n",
       "      <td>Браслеты</td>\n",
       "      <td>{'Модель': '47-00-0000-11176*', 'Материал изде...</td>\n",
       "      <td>17280</td>\n",
       "      <td>344031</td>\n",
       "      <td>https://sunlight.net/catalog/bracelets_344031....</td>\n",
       "    </tr>\n",
       "    <tr>\n",
       "      <th>...</th>\n",
       "      <td>...</td>\n",
       "      <td>...</td>\n",
       "      <td>...</td>\n",
       "      <td>...</td>\n",
       "      <td>...</td>\n",
       "      <td>...</td>\n",
       "      <td>...</td>\n",
       "      <td>...</td>\n",
       "    </tr>\n",
       "    <tr>\n",
       "      <th>14587</th>\n",
       "      <td>14-05-2024</td>\n",
       "      <td>Sunlight</td>\n",
       "      <td>\\n    Золотые серьги с бриллиантами\\n</td>\n",
       "      <td>Серьги</td>\n",
       "      <td>{'Модель': '0275-C5M-02', 'Материал изделия': ...</td>\n",
       "      <td>21990</td>\n",
       "      <td>55703</td>\n",
       "      <td>https://sunlight.net/catalog/earring_55703.html</td>\n",
       "    </tr>\n",
       "    <tr>\n",
       "      <th>14588</th>\n",
       "      <td>14-05-2024</td>\n",
       "      <td>Sunlight</td>\n",
       "      <td>\\n    Золотой крест-подвеска\\n</td>\n",
       "      <td>Крест-подвеска</td>\n",
       "      <td>{'Модель': '14592.1*', 'Материал изделия': 'Бе...</td>\n",
       "      <td>3990</td>\n",
       "      <td>288514</td>\n",
       "      <td>https://sunlight.net/catalog/pendants_288514.html</td>\n",
       "    </tr>\n",
       "    <tr>\n",
       "      <th>14589</th>\n",
       "      <td>14-05-2024</td>\n",
       "      <td>Sunlight</td>\n",
       "      <td>\\n    Золотое кольцо с фианитами\\n</td>\n",
       "      <td>Кольца</td>\n",
       "      <td>{'Модель': '20-02-0001-12622*', 'Материал изде...</td>\n",
       "      <td>17990</td>\n",
       "      <td>348664</td>\n",
       "      <td>https://sunlight.net/catalog/ring_261669.html</td>\n",
       "    </tr>\n",
       "    <tr>\n",
       "      <th>14590</th>\n",
       "      <td>14-05-2024</td>\n",
       "      <td>Sunlight</td>\n",
       "      <td>\\n    Золотое кольцо с сапфирами и бриллиантам...</td>\n",
       "      <td>Кольца</td>\n",
       "      <td>{'Модель': '73061-K5R-01', 'Материал изделия':...</td>\n",
       "      <td>35990</td>\n",
       "      <td>341090</td>\n",
       "      <td>https://sunlight.net/catalog/ring_341090.html</td>\n",
       "    </tr>\n",
       "    <tr>\n",
       "      <th>14591</th>\n",
       "      <td>14-05-2024</td>\n",
       "      <td>Sunlight</td>\n",
       "      <td>\\n    Золотая подвеска с бриллиантами\\n</td>\n",
       "      <td>Подвески</td>\n",
       "      <td>{'Модель': '73691-P5R-01', 'Материал изделия':...</td>\n",
       "      <td>34990</td>\n",
       "      <td>988887</td>\n",
       "      <td>https://sunlight.net/catalog/pendants_988887.html</td>\n",
       "    </tr>\n",
       "  </tbody>\n",
       "</table>\n",
       "<p>14592 rows × 8 columns</p>\n",
       "</div>"
      ],
      "text/plain": [
       "             date competitor  \\\n",
       "0      14-05-2024   Sunlight   \n",
       "1      14-05-2024   Sunlight   \n",
       "2      14-05-2024   Sunlight   \n",
       "3      14-05-2024   Sunlight   \n",
       "4      14-05-2024   Sunlight   \n",
       "...           ...        ...   \n",
       "14587  14-05-2024   Sunlight   \n",
       "14588  14-05-2024   Sunlight   \n",
       "14589  14-05-2024   Sunlight   \n",
       "14590  14-05-2024   Sunlight   \n",
       "14591  14-05-2024   Sunlight   \n",
       "\n",
       "                                                    name           group  \\\n",
       "0                                 \\n    Золотая цепь\\n              Цепи   \n",
       "1                  \\n    Золотой браслет с фианитами\\n          Браслеты   \n",
       "2                  \\n    Золотой браслет с фианитами\\n          Браслеты   \n",
       "3               \\n    Золотой браслет с бриллиантами\\n          Браслеты   \n",
       "4                              \\n    Золотой браслет\\n          Браслеты   \n",
       "...                                                  ...             ...   \n",
       "14587            \\n    Золотые серьги с бриллиантами\\n            Серьги   \n",
       "14588                   \\n    Золотой крест-подвеска\\n    Крест-подвеска   \n",
       "14589               \\n    Золотое кольцо с фианитами\\n            Кольца   \n",
       "14590  \\n    Золотое кольцо с сапфирами и бриллиантам...          Кольца   \n",
       "14591          \\n    Золотая подвеска с бриллиантами\\n          Подвески   \n",
       "\n",
       "                                                  params   price  article  \\\n",
       "0      {'Модель': '342-00-0140-31130*', 'Материал изд...  836180   344746   \n",
       "1      {'Модель': 'бр081-20р-01*', 'Материал изделия'...   94710   344374   \n",
       "2      {'Модель': 'бр081-20с-01*', 'Материал изделия'...   86410   344373   \n",
       "3      {'Модель': '73314-B5W-01', 'Материал изделия':...  234990   986416   \n",
       "4      {'Модель': '47-00-0000-11176*', 'Материал изде...   17280   344031   \n",
       "...                                                  ...     ...      ...   \n",
       "14587  {'Модель': '0275-C5M-02', 'Материал изделия': ...   21990    55703   \n",
       "14588  {'Модель': '14592.1*', 'Материал изделия': 'Бе...    3990   288514   \n",
       "14589  {'Модель': '20-02-0001-12622*', 'Материал изде...   17990   348664   \n",
       "14590  {'Модель': '73061-K5R-01', 'Материал изделия':...   35990   341090   \n",
       "14591  {'Модель': '73691-P5R-01', 'Материал изделия':...   34990   988887   \n",
       "\n",
       "                                                     url  \n",
       "0        https://sunlight.net/catalog/chains_344746.html  \n",
       "1      https://sunlight.net/catalog/bracelets_344374....  \n",
       "2      https://sunlight.net/catalog/bracelets_344373....  \n",
       "3      https://sunlight.net/catalog/bracelets_986416....  \n",
       "4      https://sunlight.net/catalog/bracelets_344031....  \n",
       "...                                                  ...  \n",
       "14587    https://sunlight.net/catalog/earring_55703.html  \n",
       "14588  https://sunlight.net/catalog/pendants_288514.html  \n",
       "14589      https://sunlight.net/catalog/ring_261669.html  \n",
       "14590      https://sunlight.net/catalog/ring_341090.html  \n",
       "14591  https://sunlight.net/catalog/pendants_988887.html  \n",
       "\n",
       "[14592 rows x 8 columns]"
      ]
     },
     "execution_count": 28,
     "metadata": {},
     "output_type": "execute_result"
    }
   ],
   "source": [
    "data"
   ]
  },
  {
   "cell_type": "code",
   "execution_count": 29,
   "id": "c2d69699-23f3-4c83-97bc-d2aba743a4dc",
   "metadata": {
    "tags": []
   },
   "outputs": [],
   "source": [
    "data_discount = pd.DataFrame()\n",
    "for name  in all_filenames:\n",
    "    df = pd.read_csv(name)\n",
    "    data_discount = pd.concat([df, data_discount], ignore_index=True)"
   ]
  },
  {
   "cell_type": "code",
   "execution_count": 30,
   "id": "c11840f3-353f-49ae-82c8-66612a359a3e",
   "metadata": {
    "tags": []
   },
   "outputs": [],
   "source": [
    "data = data.merge(data_discount, on='article', how='left')"
   ]
  },
  {
   "cell_type": "code",
   "execution_count": 31,
   "id": "97cdcac5-2bcf-4fa4-b1f2-428f3c3fd32a",
   "metadata": {
    "tags": []
   },
   "outputs": [
    {
     "name": "stdout",
     "output_type": "stream",
     "text": [
      "<class 'pandas.core.frame.DataFrame'>\n",
      "RangeIndex: 14592 entries, 0 to 14591\n",
      "Data columns (total 12 columns):\n",
      " #   Column          Non-Null Count  Dtype \n",
      "---  ------          --------------  ----- \n",
      " 0   date            14592 non-null  object\n",
      " 1   competitor      14592 non-null  object\n",
      " 2   name            14592 non-null  object\n",
      " 3   group           14592 non-null  object\n",
      " 4   params          14592 non-null  object\n",
      " 5   price_x         14592 non-null  int64 \n",
      " 6   article         14592 non-null  int32 \n",
      " 7   url             14592 non-null  object\n",
      " 8   price_old       14282 non-null  object\n",
      " 9   price_y         14590 non-null  object\n",
      " 10  price_personal  1743 non-null   object\n",
      " 11  discount        14592 non-null  object\n",
      "dtypes: int32(1), int64(1), object(10)\n",
      "memory usage: 1.3+ MB\n"
     ]
    }
   ],
   "source": [
    "data.info()"
   ]
  },
  {
   "cell_type": "code",
   "execution_count": 32,
   "id": "049e3231-7148-4da2-848d-679b26fd5889",
   "metadata": {
    "tags": []
   },
   "outputs": [
    {
     "data": {
      "text/plain": [
       "discount\n",
       "['Еще -50% на три, код: ТРИ до 17.05', 'Еще -40% на два, код: ДВА до 17.05', 'Еще -30% на одно, код: ОДИН до 17.05']                                 14057\n",
       "['ХИТ-цена']                                                                                                                                           216\n",
       "[nan]                                                                                                                                                  119\n",
       "['Второе бесплатно, код:1=2 до 20.05']                                                                                                                 112\n",
       "['ЕЩЕ -40% по коду: СЕГОДНЯ']                                                                                                                           81\n",
       "['ХИТ-цена', 'Выгодно! Золото 5 290 р/г']                                                                                                                6\n",
       "['Еще -50% на три, код: ТРИ до 17.05', 'Еще -40% на два, код: ДВА до 17.05', 'Еще -30% на одно, код: ОДИН до 17.05', 'ЕЩЕ -40% по коду: СЕГОДНЯ']        1\n",
       "Name: count, dtype: int64"
      ]
     },
     "execution_count": 32,
     "metadata": {},
     "output_type": "execute_result"
    }
   ],
   "source": [
    "data['discount'].value_counts()"
   ]
  },
  {
   "cell_type": "code",
   "execution_count": 33,
   "id": "1c16ae65-7ea8-4d57-994f-45815b15bbe3",
   "metadata": {
    "tags": []
   },
   "outputs": [
    {
     "data": {
      "text/html": [
       "<div>\n",
       "<style scoped>\n",
       "    .dataframe tbody tr th:only-of-type {\n",
       "        vertical-align: middle;\n",
       "    }\n",
       "\n",
       "    .dataframe tbody tr th {\n",
       "        vertical-align: top;\n",
       "    }\n",
       "\n",
       "    .dataframe thead th {\n",
       "        text-align: right;\n",
       "    }\n",
       "</style>\n",
       "<table border=\"1\" class=\"dataframe\">\n",
       "  <thead>\n",
       "    <tr style=\"text-align: right;\">\n",
       "      <th></th>\n",
       "      <th>date</th>\n",
       "      <th>competitor</th>\n",
       "      <th>name</th>\n",
       "      <th>group</th>\n",
       "      <th>params</th>\n",
       "      <th>price_x</th>\n",
       "      <th>article</th>\n",
       "      <th>url</th>\n",
       "      <th>price_old</th>\n",
       "      <th>price_y</th>\n",
       "      <th>price_personal</th>\n",
       "      <th>discount</th>\n",
       "    </tr>\n",
       "  </thead>\n",
       "  <tbody>\n",
       "    <tr>\n",
       "      <th>0</th>\n",
       "      <td>14-05-2024</td>\n",
       "      <td>Sunlight</td>\n",
       "      <td>\\n    Золотая цепь\\n</td>\n",
       "      <td>Цепи</td>\n",
       "      <td>{'Модель': '342-00-0140-31130*', 'Материал изд...</td>\n",
       "      <td>836180</td>\n",
       "      <td>344746</td>\n",
       "      <td>https://sunlight.net/catalog/chains_344746.html</td>\n",
       "      <td>1 672 360 ₽</td>\n",
       "      <td>836 180 ₽</td>\n",
       "      <td>NaN</td>\n",
       "      <td>['Еще -50% на три, код: ТРИ до 17.05', 'Еще -4...</td>\n",
       "    </tr>\n",
       "    <tr>\n",
       "      <th>1</th>\n",
       "      <td>14-05-2024</td>\n",
       "      <td>Sunlight</td>\n",
       "      <td>\\n    Золотой браслет с фианитами\\n</td>\n",
       "      <td>Браслеты</td>\n",
       "      <td>{'Модель': 'бр081-20р-01*', 'Материал изделия'...</td>\n",
       "      <td>94710</td>\n",
       "      <td>344374</td>\n",
       "      <td>https://sunlight.net/catalog/bracelets_344374....</td>\n",
       "      <td>189 420 ₽</td>\n",
       "      <td>94 710 ₽</td>\n",
       "      <td>NaN</td>\n",
       "      <td>['Еще -50% на три, код: ТРИ до 17.05', 'Еще -4...</td>\n",
       "    </tr>\n",
       "    <tr>\n",
       "      <th>2</th>\n",
       "      <td>14-05-2024</td>\n",
       "      <td>Sunlight</td>\n",
       "      <td>\\n    Золотой браслет с фианитами\\n</td>\n",
       "      <td>Браслеты</td>\n",
       "      <td>{'Модель': 'бр081-20с-01*', 'Материал изделия'...</td>\n",
       "      <td>86410</td>\n",
       "      <td>344373</td>\n",
       "      <td>https://sunlight.net/catalog/bracelets_344373....</td>\n",
       "      <td>172 820 ₽</td>\n",
       "      <td>86 410 ₽</td>\n",
       "      <td>NaN</td>\n",
       "      <td>['Еще -50% на три, код: ТРИ до 17.05', 'Еще -4...</td>\n",
       "    </tr>\n",
       "    <tr>\n",
       "      <th>3</th>\n",
       "      <td>14-05-2024</td>\n",
       "      <td>Sunlight</td>\n",
       "      <td>\\n    Золотой браслет с бриллиантами\\n</td>\n",
       "      <td>Браслеты</td>\n",
       "      <td>{'Модель': '73314-B5W-01', 'Материал изделия':...</td>\n",
       "      <td>234990</td>\n",
       "      <td>986416</td>\n",
       "      <td>https://sunlight.net/catalog/bracelets_986416....</td>\n",
       "      <td>469 980 ₽</td>\n",
       "      <td>234 990 ₽</td>\n",
       "      <td>NaN</td>\n",
       "      <td>['Еще -50% на три, код: ТРИ до 17.05', 'Еще -4...</td>\n",
       "    </tr>\n",
       "    <tr>\n",
       "      <th>4</th>\n",
       "      <td>14-05-2024</td>\n",
       "      <td>Sunlight</td>\n",
       "      <td>\\n    Золотой браслет\\n</td>\n",
       "      <td>Браслеты</td>\n",
       "      <td>{'Модель': '47-00-0000-11176*', 'Материал изде...</td>\n",
       "      <td>17280</td>\n",
       "      <td>344031</td>\n",
       "      <td>https://sunlight.net/catalog/bracelets_344031....</td>\n",
       "      <td>34 560 ₽</td>\n",
       "      <td>17 280 ₽</td>\n",
       "      <td>NaN</td>\n",
       "      <td>['Еще -50% на три, код: ТРИ до 17.05', 'Еще -4...</td>\n",
       "    </tr>\n",
       "    <tr>\n",
       "      <th>5</th>\n",
       "      <td>14-05-2024</td>\n",
       "      <td>Sunlight</td>\n",
       "      <td>\\n    Золотое шейное украшение\\n</td>\n",
       "      <td>Шейное украшение</td>\n",
       "      <td>{'Модель': '6150456-45*', 'Страна производства...</td>\n",
       "      <td>62120</td>\n",
       "      <td>343992</td>\n",
       "      <td>https://sunlight.net/catalog/neck_decoration_3...</td>\n",
       "      <td>124 240 ₽</td>\n",
       "      <td>62 120 ₽</td>\n",
       "      <td>NaN</td>\n",
       "      <td>['Еще -50% на три, код: ТРИ до 17.05', 'Еще -4...</td>\n",
       "    </tr>\n",
       "    <tr>\n",
       "      <th>6</th>\n",
       "      <td>14-05-2024</td>\n",
       "      <td>Sunlight</td>\n",
       "      <td>\\n    Золотое шейное украшение с глиттером\\n</td>\n",
       "      <td>Шейное украшение</td>\n",
       "      <td>{'Модель': '12929-H5Y-01', 'Материал изделия':...</td>\n",
       "      <td>28990</td>\n",
       "      <td>986086</td>\n",
       "      <td>https://sunlight.net/catalog/neck_decoration_9...</td>\n",
       "      <td>57 980 ₽</td>\n",
       "      <td>28 990 ₽</td>\n",
       "      <td>NaN</td>\n",
       "      <td>['Еще -50% на три, код: ТРИ до 17.05', 'Еще -4...</td>\n",
       "    </tr>\n",
       "    <tr>\n",
       "      <th>7</th>\n",
       "      <td>14-05-2024</td>\n",
       "      <td>Sunlight</td>\n",
       "      <td>\\n    Золотой браслет\\n</td>\n",
       "      <td>Браслеты</td>\n",
       "      <td>{'Модель': '12932-B5Y-01', 'Материал изделия':...</td>\n",
       "      <td>57990</td>\n",
       "      <td>986078</td>\n",
       "      <td>https://sunlight.net/catalog/bracelets_986078....</td>\n",
       "      <td>115 980 ₽</td>\n",
       "      <td>57 990 ₽</td>\n",
       "      <td>NaN</td>\n",
       "      <td>['Еще -50% на три, код: ТРИ до 17.05', 'Еще -4...</td>\n",
       "    </tr>\n",
       "    <tr>\n",
       "      <th>8</th>\n",
       "      <td>14-05-2024</td>\n",
       "      <td>Sunlight</td>\n",
       "      <td>\\n    Золотое кольцо с бриллиантами\\n</td>\n",
       "      <td>Кольца</td>\n",
       "      <td>{'Модель': '71409-K5W-02', 'Материал изделия':...</td>\n",
       "      <td>99990</td>\n",
       "      <td>985936</td>\n",
       "      <td>https://sunlight.net/catalog/ring_985936.html</td>\n",
       "      <td>199 980 ₽</td>\n",
       "      <td>99 990 ₽</td>\n",
       "      <td>NaN</td>\n",
       "      <td>['Еще -50% на три, код: ТРИ до 17.05', 'Еще -4...</td>\n",
       "    </tr>\n",
       "    <tr>\n",
       "      <th>9</th>\n",
       "      <td>14-05-2024</td>\n",
       "      <td>Sunlight</td>\n",
       "      <td>\\n    Золотой браслет с бриллиантами\\n</td>\n",
       "      <td>Браслеты</td>\n",
       "      <td>{'Модель': '73353-B5R-01', 'Материал изделия':...</td>\n",
       "      <td>399990</td>\n",
       "      <td>985849</td>\n",
       "      <td>https://sunlight.net/catalog/bracelets_985849....</td>\n",
       "      <td>799 980 ₽</td>\n",
       "      <td>399 990 ₽</td>\n",
       "      <td>NaN</td>\n",
       "      <td>['Второе бесплатно, код:1=2 до 20.05']</td>\n",
       "    </tr>\n",
       "    <tr>\n",
       "      <th>10</th>\n",
       "      <td>14-05-2024</td>\n",
       "      <td>Sunlight</td>\n",
       "      <td>\\n    Золотая цепь\\n</td>\n",
       "      <td>Цепи</td>\n",
       "      <td>{'Модель': '01Ц032974Д*', 'Материал изделия': ...</td>\n",
       "      <td>133820</td>\n",
       "      <td>343470</td>\n",
       "      <td>https://sunlight.net/catalog/chains_343470.html</td>\n",
       "      <td>267 640 ₽</td>\n",
       "      <td>133 820 ₽</td>\n",
       "      <td>NaN</td>\n",
       "      <td>['Еще -50% на три, код: ТРИ до 17.05', 'Еще -4...</td>\n",
       "    </tr>\n",
       "    <tr>\n",
       "      <th>11</th>\n",
       "      <td>14-05-2024</td>\n",
       "      <td>Sunlight</td>\n",
       "      <td>\\n    Золотая цепь\\n</td>\n",
       "      <td>Цепи</td>\n",
       "      <td>{'Модель': '01Ц012974Д*', 'Материал изделия': ...</td>\n",
       "      <td>148990</td>\n",
       "      <td>343469</td>\n",
       "      <td>https://sunlight.net/catalog/chains_343469.html</td>\n",
       "      <td>297 980 ₽</td>\n",
       "      <td>148 990 ₽</td>\n",
       "      <td>NaN</td>\n",
       "      <td>['Еще -50% на три, код: ТРИ до 17.05', 'Еще -4...</td>\n",
       "    </tr>\n",
       "    <tr>\n",
       "      <th>12</th>\n",
       "      <td>14-05-2024</td>\n",
       "      <td>Sunlight</td>\n",
       "      <td>\\n    Золотая цепь\\n</td>\n",
       "      <td>Цепи</td>\n",
       "      <td>{'Модель': '45-0029-10*', 'Материал изделия': ...</td>\n",
       "      <td>106200</td>\n",
       "      <td>343447</td>\n",
       "      <td>https://sunlight.net/catalog/chains_343447.html</td>\n",
       "      <td>212 400 ₽</td>\n",
       "      <td>106 200 ₽</td>\n",
       "      <td>NaN</td>\n",
       "      <td>['Еще -50% на три, код: ТРИ до 17.05', 'Еще -4...</td>\n",
       "    </tr>\n",
       "    <tr>\n",
       "      <th>13</th>\n",
       "      <td>14-05-2024</td>\n",
       "      <td>Sunlight</td>\n",
       "      <td>\\n    Золотой браслет с фианитами\\n</td>\n",
       "      <td>Браслеты</td>\n",
       "      <td>{'Модель': '2203701*', 'Материал изделия': 'Ро...</td>\n",
       "      <td>92710</td>\n",
       "      <td>343396</td>\n",
       "      <td>https://sunlight.net/catalog/bracelets_343396....</td>\n",
       "      <td>185 420 ₽</td>\n",
       "      <td>92 710 ₽</td>\n",
       "      <td>NaN</td>\n",
       "      <td>['Еще -50% на три, код: ТРИ до 17.05', 'Еще -4...</td>\n",
       "    </tr>\n",
       "    <tr>\n",
       "      <th>14</th>\n",
       "      <td>14-05-2024</td>\n",
       "      <td>Sunlight</td>\n",
       "      <td>\\n    Золотой браслет с фианитами\\n</td>\n",
       "      <td>Браслеты</td>\n",
       "      <td>{'Модель': '2179601*', 'Материал изделия': 'Ро...</td>\n",
       "      <td>138560</td>\n",
       "      <td>343395</td>\n",
       "      <td>https://sunlight.net/catalog/bracelets_343395....</td>\n",
       "      <td>277 120 ₽</td>\n",
       "      <td>138 560 ₽</td>\n",
       "      <td>NaN</td>\n",
       "      <td>['Еще -50% на три, код: ТРИ до 17.05', 'Еще -4...</td>\n",
       "    </tr>\n",
       "    <tr>\n",
       "      <th>15</th>\n",
       "      <td>14-05-2024</td>\n",
       "      <td>Sunlight</td>\n",
       "      <td>\\n    Золотой браслет с фианитами\\n</td>\n",
       "      <td>Браслеты</td>\n",
       "      <td>{'Модель': '2174701*', 'Материал изделия': 'Ро...</td>\n",
       "      <td>191700</td>\n",
       "      <td>343394</td>\n",
       "      <td>https://sunlight.net/catalog/bracelets_343394....</td>\n",
       "      <td>383 400 ₽</td>\n",
       "      <td>191 700 ₽</td>\n",
       "      <td>NaN</td>\n",
       "      <td>['Еще -50% на три, код: ТРИ до 17.05', 'Еще -4...</td>\n",
       "    </tr>\n",
       "    <tr>\n",
       "      <th>16</th>\n",
       "      <td>14-05-2024</td>\n",
       "      <td>Sunlight</td>\n",
       "      <td>\\n    Золотой браслет с фианитами\\n</td>\n",
       "      <td>Браслеты</td>\n",
       "      <td>{'Модель': '2168401*', 'Материал изделия': 'Ро...</td>\n",
       "      <td>79690</td>\n",
       "      <td>343393</td>\n",
       "      <td>https://sunlight.net/catalog/bracelets_343393....</td>\n",
       "      <td>159 380 ₽</td>\n",
       "      <td>79 690 ₽</td>\n",
       "      <td>NaN</td>\n",
       "      <td>['Еще -50% на три, код: ТРИ до 17.05', 'Еще -4...</td>\n",
       "    </tr>\n",
       "    <tr>\n",
       "      <th>17</th>\n",
       "      <td>14-05-2024</td>\n",
       "      <td>Sunlight</td>\n",
       "      <td>\\n    Золотой браслет с фианитами\\n</td>\n",
       "      <td>Браслеты</td>\n",
       "      <td>{'Модель': '2167301*', 'Материал изделия': 'Ро...</td>\n",
       "      <td>71760</td>\n",
       "      <td>343391</td>\n",
       "      <td>https://sunlight.net/catalog/bracelets_343391....</td>\n",
       "      <td>143 520 ₽</td>\n",
       "      <td>71 760 ₽</td>\n",
       "      <td>NaN</td>\n",
       "      <td>['Еще -50% на три, код: ТРИ до 17.05', 'Еще -4...</td>\n",
       "    </tr>\n",
       "    <tr>\n",
       "      <th>18</th>\n",
       "      <td>14-05-2024</td>\n",
       "      <td>Sunlight</td>\n",
       "      <td>\\n    Золотой браслет с фианитами\\n</td>\n",
       "      <td>Браслеты</td>\n",
       "      <td>{'Модель': '2158301*', 'Материал изделия': 'Ро...</td>\n",
       "      <td>113120</td>\n",
       "      <td>343389</td>\n",
       "      <td>https://sunlight.net/catalog/bracelets_343389....</td>\n",
       "      <td>226 240 ₽</td>\n",
       "      <td>113 120 ₽</td>\n",
       "      <td>NaN</td>\n",
       "      <td>['Еще -50% на три, код: ТРИ до 17.05', 'Еще -4...</td>\n",
       "    </tr>\n",
       "    <tr>\n",
       "      <th>19</th>\n",
       "      <td>14-05-2024</td>\n",
       "      <td>Sunlight</td>\n",
       "      <td>\\n    Золотой браслет\\n</td>\n",
       "      <td>Браслеты</td>\n",
       "      <td>{'Модель': '2158001*', 'Материал изделия': 'Ро...</td>\n",
       "      <td>69770</td>\n",
       "      <td>343388</td>\n",
       "      <td>https://sunlight.net/catalog/bracelets_343388....</td>\n",
       "      <td>139 540 ₽</td>\n",
       "      <td>69 770 ₽</td>\n",
       "      <td>NaN</td>\n",
       "      <td>['Еще -50% на три, код: ТРИ до 17.05', 'Еще -4...</td>\n",
       "    </tr>\n",
       "  </tbody>\n",
       "</table>\n",
       "</div>"
      ],
      "text/plain": [
       "          date competitor                                            name  \\\n",
       "0   14-05-2024   Sunlight                          \\n    Золотая цепь\\n     \n",
       "1   14-05-2024   Sunlight           \\n    Золотой браслет с фианитами\\n     \n",
       "2   14-05-2024   Sunlight           \\n    Золотой браслет с фианитами\\n     \n",
       "3   14-05-2024   Sunlight        \\n    Золотой браслет с бриллиантами\\n     \n",
       "4   14-05-2024   Sunlight                       \\n    Золотой браслет\\n     \n",
       "5   14-05-2024   Sunlight              \\n    Золотое шейное украшение\\n     \n",
       "6   14-05-2024   Sunlight  \\n    Золотое шейное украшение с глиттером\\n     \n",
       "7   14-05-2024   Sunlight                       \\n    Золотой браслет\\n     \n",
       "8   14-05-2024   Sunlight         \\n    Золотое кольцо с бриллиантами\\n     \n",
       "9   14-05-2024   Sunlight        \\n    Золотой браслет с бриллиантами\\n     \n",
       "10  14-05-2024   Sunlight                          \\n    Золотая цепь\\n     \n",
       "11  14-05-2024   Sunlight                          \\n    Золотая цепь\\n     \n",
       "12  14-05-2024   Sunlight                          \\n    Золотая цепь\\n     \n",
       "13  14-05-2024   Sunlight           \\n    Золотой браслет с фианитами\\n     \n",
       "14  14-05-2024   Sunlight           \\n    Золотой браслет с фианитами\\n     \n",
       "15  14-05-2024   Sunlight           \\n    Золотой браслет с фианитами\\n     \n",
       "16  14-05-2024   Sunlight           \\n    Золотой браслет с фианитами\\n     \n",
       "17  14-05-2024   Sunlight           \\n    Золотой браслет с фианитами\\n     \n",
       "18  14-05-2024   Sunlight           \\n    Золотой браслет с фианитами\\n     \n",
       "19  14-05-2024   Sunlight                       \\n    Золотой браслет\\n     \n",
       "\n",
       "               group                                             params  \\\n",
       "0               Цепи  {'Модель': '342-00-0140-31130*', 'Материал изд...   \n",
       "1           Браслеты  {'Модель': 'бр081-20р-01*', 'Материал изделия'...   \n",
       "2           Браслеты  {'Модель': 'бр081-20с-01*', 'Материал изделия'...   \n",
       "3           Браслеты  {'Модель': '73314-B5W-01', 'Материал изделия':...   \n",
       "4           Браслеты  {'Модель': '47-00-0000-11176*', 'Материал изде...   \n",
       "5   Шейное украшение  {'Модель': '6150456-45*', 'Страна производства...   \n",
       "6   Шейное украшение  {'Модель': '12929-H5Y-01', 'Материал изделия':...   \n",
       "7           Браслеты  {'Модель': '12932-B5Y-01', 'Материал изделия':...   \n",
       "8             Кольца  {'Модель': '71409-K5W-02', 'Материал изделия':...   \n",
       "9           Браслеты  {'Модель': '73353-B5R-01', 'Материал изделия':...   \n",
       "10              Цепи  {'Модель': '01Ц032974Д*', 'Материал изделия': ...   \n",
       "11              Цепи  {'Модель': '01Ц012974Д*', 'Материал изделия': ...   \n",
       "12              Цепи  {'Модель': '45-0029-10*', 'Материал изделия': ...   \n",
       "13          Браслеты  {'Модель': '2203701*', 'Материал изделия': 'Ро...   \n",
       "14          Браслеты  {'Модель': '2179601*', 'Материал изделия': 'Ро...   \n",
       "15          Браслеты  {'Модель': '2174701*', 'Материал изделия': 'Ро...   \n",
       "16          Браслеты  {'Модель': '2168401*', 'Материал изделия': 'Ро...   \n",
       "17          Браслеты  {'Модель': '2167301*', 'Материал изделия': 'Ро...   \n",
       "18          Браслеты  {'Модель': '2158301*', 'Материал изделия': 'Ро...   \n",
       "19          Браслеты  {'Модель': '2158001*', 'Материал изделия': 'Ро...   \n",
       "\n",
       "    price_x  article                                                url  \\\n",
       "0    836180   344746    https://sunlight.net/catalog/chains_344746.html   \n",
       "1     94710   344374  https://sunlight.net/catalog/bracelets_344374....   \n",
       "2     86410   344373  https://sunlight.net/catalog/bracelets_344373....   \n",
       "3    234990   986416  https://sunlight.net/catalog/bracelets_986416....   \n",
       "4     17280   344031  https://sunlight.net/catalog/bracelets_344031....   \n",
       "5     62120   343992  https://sunlight.net/catalog/neck_decoration_3...   \n",
       "6     28990   986086  https://sunlight.net/catalog/neck_decoration_9...   \n",
       "7     57990   986078  https://sunlight.net/catalog/bracelets_986078....   \n",
       "8     99990   985936      https://sunlight.net/catalog/ring_985936.html   \n",
       "9    399990   985849  https://sunlight.net/catalog/bracelets_985849....   \n",
       "10   133820   343470    https://sunlight.net/catalog/chains_343470.html   \n",
       "11   148990   343469    https://sunlight.net/catalog/chains_343469.html   \n",
       "12   106200   343447    https://sunlight.net/catalog/chains_343447.html   \n",
       "13    92710   343396  https://sunlight.net/catalog/bracelets_343396....   \n",
       "14   138560   343395  https://sunlight.net/catalog/bracelets_343395....   \n",
       "15   191700   343394  https://sunlight.net/catalog/bracelets_343394....   \n",
       "16    79690   343393  https://sunlight.net/catalog/bracelets_343393....   \n",
       "17    71760   343391  https://sunlight.net/catalog/bracelets_343391....   \n",
       "18   113120   343389  https://sunlight.net/catalog/bracelets_343389....   \n",
       "19    69770   343388  https://sunlight.net/catalog/bracelets_343388....   \n",
       "\n",
       "      price_old    price_y price_personal  \\\n",
       "0   1 672 360 ₽  836 180 ₽            NaN   \n",
       "1     189 420 ₽   94 710 ₽            NaN   \n",
       "2     172 820 ₽   86 410 ₽            NaN   \n",
       "3     469 980 ₽  234 990 ₽            NaN   \n",
       "4      34 560 ₽   17 280 ₽            NaN   \n",
       "5     124 240 ₽   62 120 ₽            NaN   \n",
       "6      57 980 ₽   28 990 ₽            NaN   \n",
       "7     115 980 ₽   57 990 ₽            NaN   \n",
       "8     199 980 ₽   99 990 ₽            NaN   \n",
       "9     799 980 ₽  399 990 ₽            NaN   \n",
       "10    267 640 ₽  133 820 ₽            NaN   \n",
       "11    297 980 ₽  148 990 ₽            NaN   \n",
       "12    212 400 ₽  106 200 ₽            NaN   \n",
       "13    185 420 ₽   92 710 ₽            NaN   \n",
       "14    277 120 ₽  138 560 ₽            NaN   \n",
       "15    383 400 ₽  191 700 ₽            NaN   \n",
       "16    159 380 ₽   79 690 ₽            NaN   \n",
       "17    143 520 ₽   71 760 ₽            NaN   \n",
       "18    226 240 ₽  113 120 ₽            NaN   \n",
       "19    139 540 ₽   69 770 ₽            NaN   \n",
       "\n",
       "                                             discount  \n",
       "0   ['Еще -50% на три, код: ТРИ до 17.05', 'Еще -4...  \n",
       "1   ['Еще -50% на три, код: ТРИ до 17.05', 'Еще -4...  \n",
       "2   ['Еще -50% на три, код: ТРИ до 17.05', 'Еще -4...  \n",
       "3   ['Еще -50% на три, код: ТРИ до 17.05', 'Еще -4...  \n",
       "4   ['Еще -50% на три, код: ТРИ до 17.05', 'Еще -4...  \n",
       "5   ['Еще -50% на три, код: ТРИ до 17.05', 'Еще -4...  \n",
       "6   ['Еще -50% на три, код: ТРИ до 17.05', 'Еще -4...  \n",
       "7   ['Еще -50% на три, код: ТРИ до 17.05', 'Еще -4...  \n",
       "8   ['Еще -50% на три, код: ТРИ до 17.05', 'Еще -4...  \n",
       "9              ['Второе бесплатно, код:1=2 до 20.05']  \n",
       "10  ['Еще -50% на три, код: ТРИ до 17.05', 'Еще -4...  \n",
       "11  ['Еще -50% на три, код: ТРИ до 17.05', 'Еще -4...  \n",
       "12  ['Еще -50% на три, код: ТРИ до 17.05', 'Еще -4...  \n",
       "13  ['Еще -50% на три, код: ТРИ до 17.05', 'Еще -4...  \n",
       "14  ['Еще -50% на три, код: ТРИ до 17.05', 'Еще -4...  \n",
       "15  ['Еще -50% на три, код: ТРИ до 17.05', 'Еще -4...  \n",
       "16  ['Еще -50% на три, код: ТРИ до 17.05', 'Еще -4...  \n",
       "17  ['Еще -50% на три, код: ТРИ до 17.05', 'Еще -4...  \n",
       "18  ['Еще -50% на три, код: ТРИ до 17.05', 'Еще -4...  \n",
       "19  ['Еще -50% на три, код: ТРИ до 17.05', 'Еще -4...  "
      ]
     },
     "execution_count": 33,
     "metadata": {},
     "output_type": "execute_result"
    }
   ],
   "source": [
    "data.head(20)"
   ]
  },
  {
   "cell_type": "code",
   "execution_count": 34,
   "id": "a997900f-aa12-4dbc-bf7d-9c2307055774",
   "metadata": {
    "tags": []
   },
   "outputs": [],
   "source": [
    "data.to_csv(r'C:\\Users\\Trenkin.Sergey\\Desktop\\parsers\\workspace\\\\' + f'sunlight_all_{day_now}_{month_now}_{datetime.today().year}.csv', index=False)"
   ]
  },
  {
   "cell_type": "code",
   "execution_count": 35,
   "id": "881f3ca7",
   "metadata": {},
   "outputs": [],
   "source": [
    "data.to_csv(rf'\\\\gold585.int\\uk\\Общее хранилище файлов\\Служба аналитики\\МЮР\\parsed_data\\sunlight_raw.csv', index=False)"
   ]
  },
  {
   "cell_type": "code",
   "execution_count": 36,
   "id": "c79f2675",
   "metadata": {},
   "outputs": [],
   "source": [
    "def delete_files_in_folder(folder_path):\n",
    "    for filename in os.listdir(folder_path):\n",
    "        file_path = os.path.join(folder_path, filename)\n",
    "        try:\n",
    "            if os.path.isfile(file_path):\n",
    "                os.remove(file_path)\n",
    "        except Exception as e:\n",
    "            print(f'Ошибка при удалении файла {file_path}. {e}')"
   ]
  },
  {
   "cell_type": "code",
   "execution_count": 38,
   "id": "4fc475c1",
   "metadata": {},
   "outputs": [],
   "source": [
    "delete_files_in_folder('C:\\\\Users\\Trenkin.Sergey\\Desktop\\parsers\\sunlight_current_data')\n",
    "delete_files_in_folder('C:\\\\Users\\Trenkin.Sergey\\Desktop\\parsers\\sunlight_current_data\\discounts')"
   ]
  },
  {
   "cell_type": "code",
   "execution_count": null,
   "id": "1c889881",
   "metadata": {},
   "outputs": [],
   "source": []
  }
 ],
 "metadata": {
  "kernelspec": {
   "display_name": "Python 3 (ipykernel)",
   "language": "python",
   "name": "python3"
  },
  "language_info": {
   "codemirror_mode": {
    "name": "ipython",
    "version": 3
   },
   "file_extension": ".py",
   "mimetype": "text/x-python",
   "name": "python",
   "nbconvert_exporter": "python",
   "pygments_lexer": "ipython3",
   "version": "3.12.0"
  }
 },
 "nbformat": 4,
 "nbformat_minor": 5
}
