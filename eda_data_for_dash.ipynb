{
 "cells": [
  {
   "cell_type": "code",
   "execution_count": 168,
   "id": "e52a6b96",
   "metadata": {
    "tags": []
   },
   "outputs": [],
   "source": [
    "import pandas as pd\n",
    "import os\n",
    "import numpy as np\n",
    "from tqdm.auto import tqdm\n",
    "import warnings\n",
    "import datetime as dt\n",
    "warnings.filterwarnings('ignore')\n",
    "pd.set_option('display.max_columns', None)"
   ]
  },
  {
   "cell_type": "code",
   "execution_count": 169,
   "id": "ac6c8522-9dd7-46c4-8317-af3eb419fdfa",
   "metadata": {},
   "outputs": [],
   "source": [
    "# указываем папку в которой находятся все файлы"
   ]
  },
  {
   "cell_type": "code",
   "execution_count": 170,
   "id": "74a24d32",
   "metadata": {
    "tags": []
   },
   "outputs": [],
   "source": [
    "os.chdir(r'C:\\Users\\Trenkin.Sergey\\Desktop\\parsers\\workspace')\n",
    "# os.chdir(r'\\\\gold585.int\\uk\\Общее хранилище файлов\\Служба аналитики\\МЮР\\parsed_data')"
   ]
  },
  {
   "cell_type": "code",
   "execution_count": 171,
   "id": "5332f1be",
   "metadata": {},
   "outputs": [],
   "source": [
    "date_now = dt.datetime.now().date().strftime('%d.%m.%Y')"
   ]
  },
  {
   "cell_type": "markdown",
   "id": "78262743",
   "metadata": {
    "tags": []
   },
   "source": [
    "# 1. Sokolov"
   ]
  },
  {
   "cell_type": "code",
   "execution_count": 172,
   "id": "c1a1c208-96ac-4b33-a0bc-7f968642ea5a",
   "metadata": {},
   "outputs": [],
   "source": [
    "# открываем 2 файла, данные по Sokolov и данные к которых мы отметили позиции с измененными скидками"
   ]
  },
  {
   "cell_type": "code",
   "execution_count": 173,
   "id": "e24487f8",
   "metadata": {
    "tags": []
   },
   "outputs": [],
   "source": [
    "df_sokolov = pd.read_csv(r'C:\\Users\\Trenkin.Sergey\\Desktop\\parsers\\workspace\\sokolov_all_14_3_2024.csv')"
   ]
  },
  {
   "cell_type": "code",
   "execution_count": 174,
   "id": "ec1034df",
   "metadata": {
    "tags": []
   },
   "outputs": [
    {
     "data": {
      "text/html": [
       "<div>\n",
       "<style scoped>\n",
       "    .dataframe tbody tr th:only-of-type {\n",
       "        vertical-align: middle;\n",
       "    }\n",
       "\n",
       "    .dataframe tbody tr th {\n",
       "        vertical-align: top;\n",
       "    }\n",
       "\n",
       "    .dataframe thead th {\n",
       "        text-align: right;\n",
       "    }\n",
       "</style>\n",
       "<table border=\"1\" class=\"dataframe\">\n",
       "  <thead>\n",
       "    <tr style=\"text-align: right;\">\n",
       "      <th></th>\n",
       "      <th>data</th>\n",
       "      <th>competitor</th>\n",
       "      <th>name</th>\n",
       "      <th>group</th>\n",
       "      <th>weight</th>\n",
       "      <th>price</th>\n",
       "      <th>price_old</th>\n",
       "      <th>discount</th>\n",
       "      <th>insert</th>\n",
       "      <th>metal</th>\n",
       "      <th>lock_type_or_weaving_type</th>\n",
       "      <th>article</th>\n",
       "    </tr>\n",
       "  </thead>\n",
       "  <tbody>\n",
       "    <tr>\n",
       "      <th>0</th>\n",
       "      <td>14-03-2024</td>\n",
       "      <td>Sokolov</td>\n",
       "      <td>Кольцо из золота с бриллиантами</td>\n",
       "      <td>rings</td>\n",
       "      <td>0.91 г</td>\n",
       "      <td>7990.0</td>\n",
       "      <td>0.0</td>\n",
       "      <td>NaN</td>\n",
       "      <td>Бриллиант (природный) (23 шт, 0.069 карат)</td>\n",
       "      <td>Красное золото 585 пробы</td>\n",
       "      <td>NaN</td>\n",
       "      <td>1012584</td>\n",
       "    </tr>\n",
       "    <tr>\n",
       "      <th>1</th>\n",
       "      <td>14-03-2024</td>\n",
       "      <td>Sokolov</td>\n",
       "      <td>Серьги из комбинированного золота с бриллиантами</td>\n",
       "      <td>earrings</td>\n",
       "      <td>2.02 г</td>\n",
       "      <td>48000.0</td>\n",
       "      <td>119990.0</td>\n",
       "      <td>Дополнительная скидка по акции «Поджарили цены...</td>\n",
       "      <td>Бриллиант (природный) (2 шт, 0.059 карат)</td>\n",
       "      <td>Комбинированное золото 585 пробы</td>\n",
       "      <td>Английский</td>\n",
       "      <td>1021322</td>\n",
       "    </tr>\n",
       "    <tr>\n",
       "      <th>2</th>\n",
       "      <td>14-03-2024</td>\n",
       "      <td>Sokolov</td>\n",
       "      <td>Помолвочное кольцо из комбинированного золота ...</td>\n",
       "      <td>rings</td>\n",
       "      <td>1.37 г</td>\n",
       "      <td>30000.0</td>\n",
       "      <td>74990.0</td>\n",
       "      <td>Дополнительная скидка по акции «Поджарили цены...</td>\n",
       "      <td>Бриллиант (природный) (1 шт, 0.03 карат)</td>\n",
       "      <td>Комбинированное золото 585 пробы</td>\n",
       "      <td>NaN</td>\n",
       "      <td>1011492</td>\n",
       "    </tr>\n",
       "    <tr>\n",
       "      <th>3</th>\n",
       "      <td>14-03-2024</td>\n",
       "      <td>Sokolov</td>\n",
       "      <td>Серьги из комбинированного золота с бриллиантами</td>\n",
       "      <td>earrings</td>\n",
       "      <td>2.51 г</td>\n",
       "      <td>60000.0</td>\n",
       "      <td>149990.0</td>\n",
       "      <td>Дополнительная скидка по акции «Поджарили цены...</td>\n",
       "      <td>Бриллиант (природный) (2 шт, 0.077 карат)</td>\n",
       "      <td>Комбинированное золото 585 пробы</td>\n",
       "      <td>Английский</td>\n",
       "      <td>1021054</td>\n",
       "    </tr>\n",
       "    <tr>\n",
       "      <th>4</th>\n",
       "      <td>14-03-2024</td>\n",
       "      <td>Sokolov</td>\n",
       "      <td>Кольцо из комбинированного золота с бриллиантом</td>\n",
       "      <td>rings</td>\n",
       "      <td>1.77 г</td>\n",
       "      <td>40000.0</td>\n",
       "      <td>99990.0</td>\n",
       "      <td>Дополнительная скидка по акции «Поджарили цены...</td>\n",
       "      <td>Бриллиант (природный) (1 шт, 0.036 карат)</td>\n",
       "      <td>Комбинированное золото 585 пробы</td>\n",
       "      <td>NaN</td>\n",
       "      <td>1011542</td>\n",
       "    </tr>\n",
       "  </tbody>\n",
       "</table>\n",
       "</div>"
      ],
      "text/plain": [
       "         data competitor                                               name  \\\n",
       "0  14-03-2024    Sokolov                    Кольцо из золота с бриллиантами   \n",
       "1  14-03-2024    Sokolov   Серьги из комбинированного золота с бриллиантами   \n",
       "2  14-03-2024    Sokolov  Помолвочное кольцо из комбинированного золота ...   \n",
       "3  14-03-2024    Sokolov   Серьги из комбинированного золота с бриллиантами   \n",
       "4  14-03-2024    Sokolov    Кольцо из комбинированного золота с бриллиантом   \n",
       "\n",
       "      group  weight    price  price_old  \\\n",
       "0     rings  0.91 г   7990.0        0.0   \n",
       "1  earrings  2.02 г  48000.0   119990.0   \n",
       "2     rings  1.37 г  30000.0    74990.0   \n",
       "3  earrings  2.51 г  60000.0   149990.0   \n",
       "4     rings  1.77 г  40000.0    99990.0   \n",
       "\n",
       "                                            discount  \\\n",
       "0                                                NaN   \n",
       "1  Дополнительная скидка по акции «Поджарили цены...   \n",
       "2  Дополнительная скидка по акции «Поджарили цены...   \n",
       "3  Дополнительная скидка по акции «Поджарили цены...   \n",
       "4  Дополнительная скидка по акции «Поджарили цены...   \n",
       "\n",
       "                                       insert  \\\n",
       "0  Бриллиант (природный) (23 шт, 0.069 карат)   \n",
       "1   Бриллиант (природный) (2 шт, 0.059 карат)   \n",
       "2    Бриллиант (природный) (1 шт, 0.03 карат)   \n",
       "3   Бриллиант (природный) (2 шт, 0.077 карат)   \n",
       "4   Бриллиант (природный) (1 шт, 0.036 карат)   \n",
       "\n",
       "                              metal lock_type_or_weaving_type  article  \n",
       "0          Красное золото 585 пробы                       NaN  1012584  \n",
       "1  Комбинированное золото 585 пробы                Английский  1021322  \n",
       "2  Комбинированное золото 585 пробы                       NaN  1011492  \n",
       "3  Комбинированное золото 585 пробы                Английский  1021054  \n",
       "4  Комбинированное золото 585 пробы                       NaN  1011542  "
      ]
     },
     "execution_count": 174,
     "metadata": {},
     "output_type": "execute_result"
    }
   ],
   "source": [
    "df_sokolov.head()"
   ]
  },
  {
   "cell_type": "code",
   "execution_count": 175,
   "id": "063714b9",
   "metadata": {
    "tags": []
   },
   "outputs": [
    {
     "name": "stdout",
     "output_type": "stream",
     "text": [
      "<class 'pandas.core.frame.DataFrame'>\n",
      "RangeIndex: 9964 entries, 0 to 9963\n",
      "Data columns (total 12 columns):\n",
      " #   Column                     Non-Null Count  Dtype  \n",
      "---  ------                     --------------  -----  \n",
      " 0   data                       9964 non-null   object \n",
      " 1   competitor                 9964 non-null   object \n",
      " 2   name                       9964 non-null   object \n",
      " 3   group                      9932 non-null   object \n",
      " 4   weight                     9938 non-null   object \n",
      " 5   price                      9938 non-null   float64\n",
      " 6   price_old                  9938 non-null   float64\n",
      " 7   discount                   5231 non-null   object \n",
      " 8   insert                     9920 non-null   object \n",
      " 9   metal                      9938 non-null   object \n",
      " 10  lock_type_or_weaving_type  4074 non-null   object \n",
      " 11  article                    9964 non-null   object \n",
      "dtypes: float64(2), object(10)\n",
      "memory usage: 934.3+ KB\n"
     ]
    }
   ],
   "source": [
    "df_sokolov.info()"
   ]
  },
  {
   "cell_type": "code",
   "execution_count": 176,
   "id": "4f063d1f-1160-45e3-9de2-a58b9870bd50",
   "metadata": {
    "tags": []
   },
   "outputs": [],
   "source": [
    "df_sokolov['article'] = 'https://sokolov.ru/jewelry-catalog/product/' + df_sokolov['article']\n",
    "df_sokolov['article'] = df_sokolov['article'] + '/'"
   ]
  },
  {
   "cell_type": "code",
   "execution_count": 177,
   "id": "3f6cc754-f018-4b94-9dcd-b1f041338d65",
   "metadata": {
    "tags": []
   },
   "outputs": [],
   "source": [
    "df_sokolov.columns = df_sokolov.columns = ['data', 'competitor', 'name', 'group', 'weight', 'price', 'price_old',\n",
    "       'discount', 'insert', 'metal', 'lock_type_or_weaving_type', 'url']"
   ]
  },
  {
   "cell_type": "code",
   "execution_count": 178,
   "id": "61635340",
   "metadata": {
    "tags": []
   },
   "outputs": [
    {
     "data": {
      "text/html": [
       "<div>\n",
       "<style scoped>\n",
       "    .dataframe tbody tr th:only-of-type {\n",
       "        vertical-align: middle;\n",
       "    }\n",
       "\n",
       "    .dataframe tbody tr th {\n",
       "        vertical-align: top;\n",
       "    }\n",
       "\n",
       "    .dataframe thead th {\n",
       "        text-align: right;\n",
       "    }\n",
       "</style>\n",
       "<table border=\"1\" class=\"dataframe\">\n",
       "  <thead>\n",
       "    <tr style=\"text-align: right;\">\n",
       "      <th></th>\n",
       "      <th>data</th>\n",
       "      <th>competitor</th>\n",
       "      <th>name</th>\n",
       "      <th>group</th>\n",
       "      <th>weight</th>\n",
       "      <th>price</th>\n",
       "      <th>price_old</th>\n",
       "      <th>discount</th>\n",
       "      <th>insert</th>\n",
       "      <th>metal</th>\n",
       "      <th>lock_type_or_weaving_type</th>\n",
       "      <th>url</th>\n",
       "    </tr>\n",
       "  </thead>\n",
       "  <tbody>\n",
       "    <tr>\n",
       "      <th>0</th>\n",
       "      <td>14-03-2024</td>\n",
       "      <td>Sokolov</td>\n",
       "      <td>Кольцо из золота с бриллиантами</td>\n",
       "      <td>rings</td>\n",
       "      <td>0.91 г</td>\n",
       "      <td>7990.0</td>\n",
       "      <td>0.0</td>\n",
       "      <td>NaN</td>\n",
       "      <td>Бриллиант (природный) (23 шт, 0.069 карат)</td>\n",
       "      <td>Красное золото 585 пробы</td>\n",
       "      <td>NaN</td>\n",
       "      <td>https://sokolov.ru/jewelry-catalog/product/101...</td>\n",
       "    </tr>\n",
       "    <tr>\n",
       "      <th>1</th>\n",
       "      <td>14-03-2024</td>\n",
       "      <td>Sokolov</td>\n",
       "      <td>Серьги из комбинированного золота с бриллиантами</td>\n",
       "      <td>earrings</td>\n",
       "      <td>2.02 г</td>\n",
       "      <td>48000.0</td>\n",
       "      <td>119990.0</td>\n",
       "      <td>Дополнительная скидка по акции «Поджарили цены...</td>\n",
       "      <td>Бриллиант (природный) (2 шт, 0.059 карат)</td>\n",
       "      <td>Комбинированное золото 585 пробы</td>\n",
       "      <td>Английский</td>\n",
       "      <td>https://sokolov.ru/jewelry-catalog/product/102...</td>\n",
       "    </tr>\n",
       "    <tr>\n",
       "      <th>2</th>\n",
       "      <td>14-03-2024</td>\n",
       "      <td>Sokolov</td>\n",
       "      <td>Помолвочное кольцо из комбинированного золота ...</td>\n",
       "      <td>rings</td>\n",
       "      <td>1.37 г</td>\n",
       "      <td>30000.0</td>\n",
       "      <td>74990.0</td>\n",
       "      <td>Дополнительная скидка по акции «Поджарили цены...</td>\n",
       "      <td>Бриллиант (природный) (1 шт, 0.03 карат)</td>\n",
       "      <td>Комбинированное золото 585 пробы</td>\n",
       "      <td>NaN</td>\n",
       "      <td>https://sokolov.ru/jewelry-catalog/product/101...</td>\n",
       "    </tr>\n",
       "    <tr>\n",
       "      <th>3</th>\n",
       "      <td>14-03-2024</td>\n",
       "      <td>Sokolov</td>\n",
       "      <td>Серьги из комбинированного золота с бриллиантами</td>\n",
       "      <td>earrings</td>\n",
       "      <td>2.51 г</td>\n",
       "      <td>60000.0</td>\n",
       "      <td>149990.0</td>\n",
       "      <td>Дополнительная скидка по акции «Поджарили цены...</td>\n",
       "      <td>Бриллиант (природный) (2 шт, 0.077 карат)</td>\n",
       "      <td>Комбинированное золото 585 пробы</td>\n",
       "      <td>Английский</td>\n",
       "      <td>https://sokolov.ru/jewelry-catalog/product/102...</td>\n",
       "    </tr>\n",
       "    <tr>\n",
       "      <th>4</th>\n",
       "      <td>14-03-2024</td>\n",
       "      <td>Sokolov</td>\n",
       "      <td>Кольцо из комбинированного золота с бриллиантом</td>\n",
       "      <td>rings</td>\n",
       "      <td>1.77 г</td>\n",
       "      <td>40000.0</td>\n",
       "      <td>99990.0</td>\n",
       "      <td>Дополнительная скидка по акции «Поджарили цены...</td>\n",
       "      <td>Бриллиант (природный) (1 шт, 0.036 карат)</td>\n",
       "      <td>Комбинированное золото 585 пробы</td>\n",
       "      <td>NaN</td>\n",
       "      <td>https://sokolov.ru/jewelry-catalog/product/101...</td>\n",
       "    </tr>\n",
       "    <tr>\n",
       "      <th>5</th>\n",
       "      <td>14-03-2024</td>\n",
       "      <td>Sokolov</td>\n",
       "      <td>Серьги из золота с бриллиантами</td>\n",
       "      <td>earrings</td>\n",
       "      <td>2.7 г</td>\n",
       "      <td>70000.0</td>\n",
       "      <td>174990.0</td>\n",
       "      <td>Дополнительная скидка по акции «Поджарили цены...</td>\n",
       "      <td>Бриллиант (природный) (2 шт, 0.076 карат) и еще 1</td>\n",
       "      <td>Комбинированное золото 585 пробы</td>\n",
       "      <td>Английский</td>\n",
       "      <td>https://sokolov.ru/jewelry-catalog/product/102...</td>\n",
       "    </tr>\n",
       "    <tr>\n",
       "      <th>6</th>\n",
       "      <td>14-03-2024</td>\n",
       "      <td>Sokolov</td>\n",
       "      <td>Кольцо из золота с бриллиантами</td>\n",
       "      <td>rings</td>\n",
       "      <td>2.02 г</td>\n",
       "      <td>70000.0</td>\n",
       "      <td>174990.0</td>\n",
       "      <td>Дополнительная скидка по акции «Поджарили цены...</td>\n",
       "      <td>Бриллиант (природный) (1 шт, 0.081 карат) и еще 1</td>\n",
       "      <td>Комбинированное золото 585 пробы</td>\n",
       "      <td>NaN</td>\n",
       "      <td>https://sokolov.ru/jewelry-catalog/product/101...</td>\n",
       "    </tr>\n",
       "    <tr>\n",
       "      <th>7</th>\n",
       "      <td>14-03-2024</td>\n",
       "      <td>Sokolov</td>\n",
       "      <td>Серьги из золота с бриллиантами</td>\n",
       "      <td>earrings</td>\n",
       "      <td>1.97 г</td>\n",
       "      <td>26990.0</td>\n",
       "      <td>0.0</td>\n",
       "      <td>NaN</td>\n",
       "      <td>Бриллиант (природный) (30 шт, 0.087 карат)</td>\n",
       "      <td>Красное золото 585 пробы</td>\n",
       "      <td>Английский</td>\n",
       "      <td>https://sokolov.ru/jewelry-catalog/product/102...</td>\n",
       "    </tr>\n",
       "    <tr>\n",
       "      <th>8</th>\n",
       "      <td>14-03-2024</td>\n",
       "      <td>Sokolov</td>\n",
       "      <td>Кольцо из золота с бриллиантами</td>\n",
       "      <td>rings</td>\n",
       "      <td>0.83 г</td>\n",
       "      <td>12990.0</td>\n",
       "      <td>0.0</td>\n",
       "      <td>NaN</td>\n",
       "      <td>Бриллиант (природный) (23 шт, 0.067 карат)</td>\n",
       "      <td>Красное золото 585 пробы</td>\n",
       "      <td>NaN</td>\n",
       "      <td>https://sokolov.ru/jewelry-catalog/product/101...</td>\n",
       "    </tr>\n",
       "    <tr>\n",
       "      <th>9</th>\n",
       "      <td>14-03-2024</td>\n",
       "      <td>Sokolov</td>\n",
       "      <td>Серьги из золота с бриллиантами</td>\n",
       "      <td>earrings</td>\n",
       "      <td>3.72 г</td>\n",
       "      <td>39990.0</td>\n",
       "      <td>0.0</td>\n",
       "      <td>NaN</td>\n",
       "      <td>Бриллиант (природный) (76 шт, 0.221 карат)</td>\n",
       "      <td>Красное золото 585 пробы</td>\n",
       "      <td>Замок-булавка</td>\n",
       "      <td>https://sokolov.ru/jewelry-catalog/product/102...</td>\n",
       "    </tr>\n",
       "    <tr>\n",
       "      <th>10</th>\n",
       "      <td>14-03-2024</td>\n",
       "      <td>Sokolov</td>\n",
       "      <td>Кольцо из золота с бриллиантами</td>\n",
       "      <td>rings</td>\n",
       "      <td>3.39 г</td>\n",
       "      <td>34990.0</td>\n",
       "      <td>0.0</td>\n",
       "      <td>NaN</td>\n",
       "      <td>Бриллиант (природный) (56 шт, 0.162 карат)</td>\n",
       "      <td>Красное золото 585 пробы</td>\n",
       "      <td>NaN</td>\n",
       "      <td>https://sokolov.ru/jewelry-catalog/product/101...</td>\n",
       "    </tr>\n",
       "    <tr>\n",
       "      <th>11</th>\n",
       "      <td>14-03-2024</td>\n",
       "      <td>Sokolov</td>\n",
       "      <td>Кольцо из золота с фианитом</td>\n",
       "      <td>rings</td>\n",
       "      <td>0.99 г</td>\n",
       "      <td>6990.0</td>\n",
       "      <td>0.0</td>\n",
       "      <td>NaN</td>\n",
       "      <td>Фианит (1 шт, 0.846 карат)</td>\n",
       "      <td>Красное золото 585 пробы</td>\n",
       "      <td>NaN</td>\n",
       "      <td>https://sokolov.ru/jewelry-catalog/product/019...</td>\n",
       "    </tr>\n",
       "    <tr>\n",
       "      <th>12</th>\n",
       "      <td>14-03-2024</td>\n",
       "      <td>Sokolov</td>\n",
       "      <td>Подвеска из золота с фианитом</td>\n",
       "      <td>pendants</td>\n",
       "      <td>0.37 г</td>\n",
       "      <td>1990.0</td>\n",
       "      <td>0.0</td>\n",
       "      <td>NaN</td>\n",
       "      <td>Фианит (1 шт, 0.846 карат)</td>\n",
       "      <td>Красное золото 585 пробы</td>\n",
       "      <td>NaN</td>\n",
       "      <td>https://sokolov.ru/jewelry-catalog/product/036...</td>\n",
       "    </tr>\n",
       "    <tr>\n",
       "      <th>13</th>\n",
       "      <td>14-03-2024</td>\n",
       "      <td>Sokolov</td>\n",
       "      <td>Кольцо из золота с фианитами</td>\n",
       "      <td>rings</td>\n",
       "      <td>0.96 г</td>\n",
       "      <td>6490.0</td>\n",
       "      <td>0.0</td>\n",
       "      <td>NaN</td>\n",
       "      <td>Фианит (5 шт, 1.004 карат)</td>\n",
       "      <td>Красное золото 585 пробы</td>\n",
       "      <td>NaN</td>\n",
       "      <td>https://sokolov.ru/jewelry-catalog/product/019...</td>\n",
       "    </tr>\n",
       "    <tr>\n",
       "      <th>14</th>\n",
       "      <td>14-03-2024</td>\n",
       "      <td>Sokolov</td>\n",
       "      <td>Серьги из золота с фианитами</td>\n",
       "      <td>earrings</td>\n",
       "      <td>1.67 г</td>\n",
       "      <td>10990.0</td>\n",
       "      <td>0.0</td>\n",
       "      <td>NaN</td>\n",
       "      <td>Фианит (10 шт, 1.223 карат)</td>\n",
       "      <td>Красное золото 585 пробы</td>\n",
       "      <td>Английский</td>\n",
       "      <td>https://sokolov.ru/jewelry-catalog/product/020...</td>\n",
       "    </tr>\n",
       "    <tr>\n",
       "      <th>15</th>\n",
       "      <td>14-03-2024</td>\n",
       "      <td>Sokolov</td>\n",
       "      <td>Цепь из золота, плетение Панцирное, 585 проба</td>\n",
       "      <td>chains</td>\n",
       "      <td>6.51 г</td>\n",
       "      <td>32490.0</td>\n",
       "      <td>0.0</td>\n",
       "      <td>NaN</td>\n",
       "      <td>Без вставок</td>\n",
       "      <td>Красное золото 585 пробы</td>\n",
       "      <td>Панцирное</td>\n",
       "      <td>https://sokolov.ru/jewelry-catalog/product/582...</td>\n",
       "    </tr>\n",
       "    <tr>\n",
       "      <th>16</th>\n",
       "      <td>14-03-2024</td>\n",
       "      <td>Sokolov</td>\n",
       "      <td>Цепь из золота, плетение Бисмарк, 585 проба</td>\n",
       "      <td>chains</td>\n",
       "      <td>9.71 г</td>\n",
       "      <td>62990.0</td>\n",
       "      <td>0.0</td>\n",
       "      <td>NaN</td>\n",
       "      <td>Без вставок</td>\n",
       "      <td>Красное золото 585 пробы</td>\n",
       "      <td>Бисмарк</td>\n",
       "      <td>https://sokolov.ru/jewelry-catalog/product/581...</td>\n",
       "    </tr>\n",
       "    <tr>\n",
       "      <th>17</th>\n",
       "      <td>14-03-2024</td>\n",
       "      <td>Sokolov</td>\n",
       "      <td>Цепь из золота, плетение Тройной ромб, 585 проба</td>\n",
       "      <td>chains</td>\n",
       "      <td>7.67 г</td>\n",
       "      <td>49990.0</td>\n",
       "      <td>0.0</td>\n",
       "      <td>NaN</td>\n",
       "      <td>Без вставок</td>\n",
       "      <td>Красное золото 585 пробы</td>\n",
       "      <td>Ромб тройной</td>\n",
       "      <td>https://sokolov.ru/jewelry-catalog/product/582...</td>\n",
       "    </tr>\n",
       "    <tr>\n",
       "      <th>18</th>\n",
       "      <td>14-03-2024</td>\n",
       "      <td>Sokolov</td>\n",
       "      <td>Цепь из золота, плетение Двойной ромб, 585 проба</td>\n",
       "      <td>chains</td>\n",
       "      <td>14.04 г</td>\n",
       "      <td>69990.0</td>\n",
       "      <td>0.0</td>\n",
       "      <td>NaN</td>\n",
       "      <td>Без вставок</td>\n",
       "      <td>Красное золото 585 пробы</td>\n",
       "      <td>Ромб двойной</td>\n",
       "      <td>https://sokolov.ru/jewelry-catalog/product/582...</td>\n",
       "    </tr>\n",
       "    <tr>\n",
       "      <th>19</th>\n",
       "      <td>14-03-2024</td>\n",
       "      <td>Sokolov</td>\n",
       "      <td>Обручальное кольцо из комбинированного золота ...</td>\n",
       "      <td>rings</td>\n",
       "      <td>1.7 г</td>\n",
       "      <td>10990.0</td>\n",
       "      <td>0.0</td>\n",
       "      <td>NaN</td>\n",
       "      <td>Бриллиант (природный) (1 шт, 0.004 карат)</td>\n",
       "      <td>Комбинированное золото 585 пробы</td>\n",
       "      <td>NaN</td>\n",
       "      <td>https://sokolov.ru/jewelry-catalog/product/111...</td>\n",
       "    </tr>\n",
       "  </tbody>\n",
       "</table>\n",
       "</div>"
      ],
      "text/plain": [
       "          data competitor                                               name  \\\n",
       "0   14-03-2024    Sokolov                    Кольцо из золота с бриллиантами   \n",
       "1   14-03-2024    Sokolov   Серьги из комбинированного золота с бриллиантами   \n",
       "2   14-03-2024    Sokolov  Помолвочное кольцо из комбинированного золота ...   \n",
       "3   14-03-2024    Sokolov   Серьги из комбинированного золота с бриллиантами   \n",
       "4   14-03-2024    Sokolov    Кольцо из комбинированного золота с бриллиантом   \n",
       "5   14-03-2024    Sokolov                    Серьги из золота с бриллиантами   \n",
       "6   14-03-2024    Sokolov                    Кольцо из золота с бриллиантами   \n",
       "7   14-03-2024    Sokolov                    Серьги из золота с бриллиантами   \n",
       "8   14-03-2024    Sokolov                    Кольцо из золота с бриллиантами   \n",
       "9   14-03-2024    Sokolov                    Серьги из золота с бриллиантами   \n",
       "10  14-03-2024    Sokolov                    Кольцо из золота с бриллиантами   \n",
       "11  14-03-2024    Sokolov                        Кольцо из золота с фианитом   \n",
       "12  14-03-2024    Sokolov                      Подвеска из золота с фианитом   \n",
       "13  14-03-2024    Sokolov                       Кольцо из золота с фианитами   \n",
       "14  14-03-2024    Sokolov                       Серьги из золота с фианитами   \n",
       "15  14-03-2024    Sokolov      Цепь из золота, плетение Панцирное, 585 проба   \n",
       "16  14-03-2024    Sokolov        Цепь из золота, плетение Бисмарк, 585 проба   \n",
       "17  14-03-2024    Sokolov   Цепь из золота, плетение Тройной ромб, 585 проба   \n",
       "18  14-03-2024    Sokolov   Цепь из золота, плетение Двойной ромб, 585 проба   \n",
       "19  14-03-2024    Sokolov  Обручальное кольцо из комбинированного золота ...   \n",
       "\n",
       "       group   weight    price  price_old  \\\n",
       "0      rings   0.91 г   7990.0        0.0   \n",
       "1   earrings   2.02 г  48000.0   119990.0   \n",
       "2      rings   1.37 г  30000.0    74990.0   \n",
       "3   earrings   2.51 г  60000.0   149990.0   \n",
       "4      rings   1.77 г  40000.0    99990.0   \n",
       "5   earrings    2.7 г  70000.0   174990.0   \n",
       "6      rings   2.02 г  70000.0   174990.0   \n",
       "7   earrings   1.97 г  26990.0        0.0   \n",
       "8      rings   0.83 г  12990.0        0.0   \n",
       "9   earrings   3.72 г  39990.0        0.0   \n",
       "10     rings   3.39 г  34990.0        0.0   \n",
       "11     rings   0.99 г   6990.0        0.0   \n",
       "12  pendants   0.37 г   1990.0        0.0   \n",
       "13     rings   0.96 г   6490.0        0.0   \n",
       "14  earrings   1.67 г  10990.0        0.0   \n",
       "15    chains   6.51 г  32490.0        0.0   \n",
       "16    chains   9.71 г  62990.0        0.0   \n",
       "17    chains   7.67 г  49990.0        0.0   \n",
       "18    chains  14.04 г  69990.0        0.0   \n",
       "19     rings    1.7 г  10990.0        0.0   \n",
       "\n",
       "                                             discount  \\\n",
       "0                                                 NaN   \n",
       "1   Дополнительная скидка по акции «Поджарили цены...   \n",
       "2   Дополнительная скидка по акции «Поджарили цены...   \n",
       "3   Дополнительная скидка по акции «Поджарили цены...   \n",
       "4   Дополнительная скидка по акции «Поджарили цены...   \n",
       "5   Дополнительная скидка по акции «Поджарили цены...   \n",
       "6   Дополнительная скидка по акции «Поджарили цены...   \n",
       "7                                                 NaN   \n",
       "8                                                 NaN   \n",
       "9                                                 NaN   \n",
       "10                                                NaN   \n",
       "11                                                NaN   \n",
       "12                                                NaN   \n",
       "13                                                NaN   \n",
       "14                                                NaN   \n",
       "15                                                NaN   \n",
       "16                                                NaN   \n",
       "17                                                NaN   \n",
       "18                                                NaN   \n",
       "19                                                NaN   \n",
       "\n",
       "                                               insert  \\\n",
       "0          Бриллиант (природный) (23 шт, 0.069 карат)   \n",
       "1           Бриллиант (природный) (2 шт, 0.059 карат)   \n",
       "2            Бриллиант (природный) (1 шт, 0.03 карат)   \n",
       "3           Бриллиант (природный) (2 шт, 0.077 карат)   \n",
       "4           Бриллиант (природный) (1 шт, 0.036 карат)   \n",
       "5   Бриллиант (природный) (2 шт, 0.076 карат) и еще 1   \n",
       "6   Бриллиант (природный) (1 шт, 0.081 карат) и еще 1   \n",
       "7          Бриллиант (природный) (30 шт, 0.087 карат)   \n",
       "8          Бриллиант (природный) (23 шт, 0.067 карат)   \n",
       "9          Бриллиант (природный) (76 шт, 0.221 карат)   \n",
       "10         Бриллиант (природный) (56 шт, 0.162 карат)   \n",
       "11                         Фианит (1 шт, 0.846 карат)   \n",
       "12                         Фианит (1 шт, 0.846 карат)   \n",
       "13                         Фианит (5 шт, 1.004 карат)   \n",
       "14                        Фианит (10 шт, 1.223 карат)   \n",
       "15                                        Без вставок   \n",
       "16                                        Без вставок   \n",
       "17                                        Без вставок   \n",
       "18                                        Без вставок   \n",
       "19          Бриллиант (природный) (1 шт, 0.004 карат)   \n",
       "\n",
       "                               metal lock_type_or_weaving_type  \\\n",
       "0           Красное золото 585 пробы                       NaN   \n",
       "1   Комбинированное золото 585 пробы                Английский   \n",
       "2   Комбинированное золото 585 пробы                       NaN   \n",
       "3   Комбинированное золото 585 пробы                Английский   \n",
       "4   Комбинированное золото 585 пробы                       NaN   \n",
       "5   Комбинированное золото 585 пробы                Английский   \n",
       "6   Комбинированное золото 585 пробы                       NaN   \n",
       "7           Красное золото 585 пробы                Английский   \n",
       "8           Красное золото 585 пробы                       NaN   \n",
       "9           Красное золото 585 пробы             Замок-булавка   \n",
       "10          Красное золото 585 пробы                       NaN   \n",
       "11          Красное золото 585 пробы                       NaN   \n",
       "12          Красное золото 585 пробы                       NaN   \n",
       "13          Красное золото 585 пробы                       NaN   \n",
       "14          Красное золото 585 пробы                Английский   \n",
       "15          Красное золото 585 пробы                 Панцирное   \n",
       "16          Красное золото 585 пробы                   Бисмарк   \n",
       "17          Красное золото 585 пробы              Ромб тройной   \n",
       "18          Красное золото 585 пробы              Ромб двойной   \n",
       "19  Комбинированное золото 585 пробы                       NaN   \n",
       "\n",
       "                                                  url  \n",
       "0   https://sokolov.ru/jewelry-catalog/product/101...  \n",
       "1   https://sokolov.ru/jewelry-catalog/product/102...  \n",
       "2   https://sokolov.ru/jewelry-catalog/product/101...  \n",
       "3   https://sokolov.ru/jewelry-catalog/product/102...  \n",
       "4   https://sokolov.ru/jewelry-catalog/product/101...  \n",
       "5   https://sokolov.ru/jewelry-catalog/product/102...  \n",
       "6   https://sokolov.ru/jewelry-catalog/product/101...  \n",
       "7   https://sokolov.ru/jewelry-catalog/product/102...  \n",
       "8   https://sokolov.ru/jewelry-catalog/product/101...  \n",
       "9   https://sokolov.ru/jewelry-catalog/product/102...  \n",
       "10  https://sokolov.ru/jewelry-catalog/product/101...  \n",
       "11  https://sokolov.ru/jewelry-catalog/product/019...  \n",
       "12  https://sokolov.ru/jewelry-catalog/product/036...  \n",
       "13  https://sokolov.ru/jewelry-catalog/product/019...  \n",
       "14  https://sokolov.ru/jewelry-catalog/product/020...  \n",
       "15  https://sokolov.ru/jewelry-catalog/product/582...  \n",
       "16  https://sokolov.ru/jewelry-catalog/product/581...  \n",
       "17  https://sokolov.ru/jewelry-catalog/product/582...  \n",
       "18  https://sokolov.ru/jewelry-catalog/product/582...  \n",
       "19  https://sokolov.ru/jewelry-catalog/product/111...  "
      ]
     },
     "execution_count": 178,
     "metadata": {},
     "output_type": "execute_result"
    }
   ],
   "source": [
    "df_sokolov.head(20)"
   ]
  },
  {
   "cell_type": "code",
   "execution_count": 179,
   "id": "ad350043",
   "metadata": {
    "scrolled": true,
    "tags": []
   },
   "outputs": [
    {
     "data": {
      "text/plain": [
       "discount\n",
       "NaN                                                          4733\n",
       "Дополнительная скидка по акции «Поджарили цены!» ЕЩЁ -10%    2113\n",
       "Дополнительная скидка по акции «Поджарили цены!» ЕЩЁ -20%    2010\n",
       "Дополнительная скидка по акции «Поджарили цены!» ЕЩЁ -25%    1108\n",
       "Name: count, dtype: int64"
      ]
     },
     "execution_count": 179,
     "metadata": {},
     "output_type": "execute_result"
    }
   ],
   "source": [
    "df_sokolov['discount'].value_counts(dropna=False)"
   ]
  },
  {
   "cell_type": "code",
   "execution_count": 180,
   "id": "7c295d99-4897-4497-b396-df64cc3afef9",
   "metadata": {
    "tags": []
   },
   "outputs": [],
   "source": [
    "#sokolov_discount = sokolov_discount.drop(columns=['date', 'competitor'], axis=1)\n",
    "#df_sokolov = df_sokolov.merge(sokolov_discount, on='url', how='left')"
   ]
  },
  {
   "cell_type": "code",
   "execution_count": 181,
   "id": "01fb9d09",
   "metadata": {},
   "outputs": [],
   "source": [
    "df_sokolov = df_sokolov.query('insert == \"Без вставок\"')"
   ]
  },
  {
   "cell_type": "code",
   "execution_count": 182,
   "id": "6170e731",
   "metadata": {
    "tags": []
   },
   "outputs": [
    {
     "name": "stdout",
     "output_type": "stream",
     "text": [
      "<class 'pandas.core.frame.DataFrame'>\n",
      "Index: 1433 entries, 15 to 9963\n",
      "Data columns (total 12 columns):\n",
      " #   Column                     Non-Null Count  Dtype  \n",
      "---  ------                     --------------  -----  \n",
      " 0   data                       1433 non-null   object \n",
      " 1   competitor                 1433 non-null   object \n",
      " 2   name                       1433 non-null   object \n",
      " 3   group                      1429 non-null   object \n",
      " 4   weight                     1433 non-null   object \n",
      " 5   price                      1433 non-null   float64\n",
      " 6   price_old                  1433 non-null   float64\n",
      " 7   discount                   748 non-null    object \n",
      " 8   insert                     1433 non-null   object \n",
      " 9   metal                      1433 non-null   object \n",
      " 10  lock_type_or_weaving_type  588 non-null    object \n",
      " 11  url                        1433 non-null   object \n",
      "dtypes: float64(2), object(10)\n",
      "memory usage: 145.5+ KB\n"
     ]
    }
   ],
   "source": [
    "df_sokolov.info()"
   ]
  },
  {
   "cell_type": "code",
   "execution_count": 183,
   "id": "6d3adda1-1326-4bf1-9f1b-293d8a1e2d4e",
   "metadata": {
    "tags": []
   },
   "outputs": [
    {
     "data": {
      "text/plain": [
       "discount\n",
       "NaN                                                          685\n",
       "Дополнительная скидка по акции «Поджарили цены!» ЕЩЁ -20%    333\n",
       "Дополнительная скидка по акции «Поджарили цены!» ЕЩЁ -10%    259\n",
       "Дополнительная скидка по акции «Поджарили цены!» ЕЩЁ -25%    156\n",
       "Name: count, dtype: int64"
      ]
     },
     "execution_count": 183,
     "metadata": {},
     "output_type": "execute_result"
    }
   ],
   "source": [
    "df_sokolov['discount'].value_counts(dropna=False)"
   ]
  },
  {
   "cell_type": "code",
   "execution_count": 184,
   "id": "4dbf872d",
   "metadata": {},
   "outputs": [
    {
     "name": "stdout",
     "output_type": "stream",
     "text": [
      "10%-18.07397069085834, 20%-23.237962316817864, 25%-10.88625261688765, без скидки-47.801814375436145\n"
     ]
    }
   ],
   "source": [
    "print(f'10%-{(259 / 1433) * 100}, 20%-{(333 / 1433) * 100}, 25%-{(156 / 1433) * 100}, без скидки-{(685 / 1433) * 100}')"
   ]
  },
  {
   "cell_type": "code",
   "execution_count": 185,
   "id": "05109a91-25df-413d-925b-c85c74622402",
   "metadata": {
    "tags": []
   },
   "outputs": [
    {
     "data": {
      "text/html": [
       "<div>\n",
       "<style scoped>\n",
       "    .dataframe tbody tr th:only-of-type {\n",
       "        vertical-align: middle;\n",
       "    }\n",
       "\n",
       "    .dataframe tbody tr th {\n",
       "        vertical-align: top;\n",
       "    }\n",
       "\n",
       "    .dataframe thead th {\n",
       "        text-align: right;\n",
       "    }\n",
       "</style>\n",
       "<table border=\"1\" class=\"dataframe\">\n",
       "  <thead>\n",
       "    <tr style=\"text-align: right;\">\n",
       "      <th></th>\n",
       "      <th>data</th>\n",
       "      <th>competitor</th>\n",
       "      <th>name</th>\n",
       "      <th>group</th>\n",
       "      <th>weight</th>\n",
       "      <th>price</th>\n",
       "      <th>price_old</th>\n",
       "      <th>discount</th>\n",
       "      <th>insert</th>\n",
       "      <th>metal</th>\n",
       "      <th>lock_type_or_weaving_type</th>\n",
       "      <th>url</th>\n",
       "    </tr>\n",
       "  </thead>\n",
       "  <tbody>\n",
       "    <tr>\n",
       "      <th>3630</th>\n",
       "      <td>14-03-2024</td>\n",
       "      <td>Sokolov</td>\n",
       "      <td>Крест из комбинированного золота с алмазной гр...</td>\n",
       "      <td>pendants</td>\n",
       "      <td>1.14 г</td>\n",
       "      <td>17200.0</td>\n",
       "      <td>42990.0</td>\n",
       "      <td>Дополнительная скидка по акции «Поджарили цены...</td>\n",
       "      <td>Без вставок</td>\n",
       "      <td>Комбинированное золото 585 пробы</td>\n",
       "      <td>NaN</td>\n",
       "      <td>https://sokolov.ru/jewelry-catalog/product/121...</td>\n",
       "    </tr>\n",
       "    <tr>\n",
       "      <th>8908</th>\n",
       "      <td>14-03-2024</td>\n",
       "      <td>Sokolov</td>\n",
       "      <td>Серьги из золота</td>\n",
       "      <td>earrings</td>\n",
       "      <td>3.6 г</td>\n",
       "      <td>37400.0</td>\n",
       "      <td>93490.0</td>\n",
       "      <td>NaN</td>\n",
       "      <td>Без вставок</td>\n",
       "      <td>Красное золото 585 пробы</td>\n",
       "      <td>Замок-булавка</td>\n",
       "      <td>https://sokolov.ru/jewelry-catalog/product/020...</td>\n",
       "    </tr>\n",
       "    <tr>\n",
       "      <th>5373</th>\n",
       "      <td>14-03-2024</td>\n",
       "      <td>Sokolov</td>\n",
       "      <td>Браслет из золота, плетение лав, 585 проба</td>\n",
       "      <td>bracelets</td>\n",
       "      <td>2.02 г</td>\n",
       "      <td>22000.0</td>\n",
       "      <td>54990.0</td>\n",
       "      <td>NaN</td>\n",
       "      <td>Без вставок</td>\n",
       "      <td>Красное золото 585 пробы</td>\n",
       "      <td>Лав</td>\n",
       "      <td>https://sokolov.ru/jewelry-catalog/product/551...</td>\n",
       "    </tr>\n",
       "    <tr>\n",
       "      <th>3059</th>\n",
       "      <td>14-03-2024</td>\n",
       "      <td>Sokolov</td>\n",
       "      <td>Серьги из золота</td>\n",
       "      <td>earrings</td>\n",
       "      <td>2.16 г</td>\n",
       "      <td>26000.0</td>\n",
       "      <td>64990.0</td>\n",
       "      <td>Дополнительная скидка по акции «Поджарили цены...</td>\n",
       "      <td>Без вставок</td>\n",
       "      <td>Красное золото 585 пробы</td>\n",
       "      <td>NaN</td>\n",
       "      <td>https://sokolov.ru/jewelry-catalog/product/020...</td>\n",
       "    </tr>\n",
       "    <tr>\n",
       "      <th>9433</th>\n",
       "      <td>14-03-2024</td>\n",
       "      <td>Sokolov</td>\n",
       "      <td>Подвеска из золота</td>\n",
       "      <td>pendants</td>\n",
       "      <td>0.41 г</td>\n",
       "      <td>5200.0</td>\n",
       "      <td>12990.0</td>\n",
       "      <td>NaN</td>\n",
       "      <td>Без вставок</td>\n",
       "      <td>Красное золото 585 пробы</td>\n",
       "      <td>NaN</td>\n",
       "      <td>https://sokolov.ru/jewelry-catalog/product/121...</td>\n",
       "    </tr>\n",
       "  </tbody>\n",
       "</table>\n",
       "</div>"
      ],
      "text/plain": [
       "            data competitor  \\\n",
       "3630  14-03-2024    Sokolov   \n",
       "8908  14-03-2024    Sokolov   \n",
       "5373  14-03-2024    Sokolov   \n",
       "3059  14-03-2024    Sokolov   \n",
       "9433  14-03-2024    Sokolov   \n",
       "\n",
       "                                                   name      group  weight  \\\n",
       "3630  Крест из комбинированного золота с алмазной гр...   pendants  1.14 г   \n",
       "8908                                   Серьги из золота   earrings   3.6 г   \n",
       "5373         Браслет из золота, плетение лав, 585 проба  bracelets  2.02 г   \n",
       "3059                                   Серьги из золота   earrings  2.16 г   \n",
       "9433                                 Подвеска из золота   pendants  0.41 г   \n",
       "\n",
       "        price  price_old                                           discount  \\\n",
       "3630  17200.0    42990.0  Дополнительная скидка по акции «Поджарили цены...   \n",
       "8908  37400.0    93490.0                                                NaN   \n",
       "5373  22000.0    54990.0                                                NaN   \n",
       "3059  26000.0    64990.0  Дополнительная скидка по акции «Поджарили цены...   \n",
       "9433   5200.0    12990.0                                                NaN   \n",
       "\n",
       "           insert                             metal lock_type_or_weaving_type  \\\n",
       "3630  Без вставок  Комбинированное золото 585 пробы                       NaN   \n",
       "8908  Без вставок          Красное золото 585 пробы             Замок-булавка   \n",
       "5373  Без вставок          Красное золото 585 пробы                       Лав   \n",
       "3059  Без вставок          Красное золото 585 пробы                       NaN   \n",
       "9433  Без вставок          Красное золото 585 пробы                       NaN   \n",
       "\n",
       "                                                    url  \n",
       "3630  https://sokolov.ru/jewelry-catalog/product/121...  \n",
       "8908  https://sokolov.ru/jewelry-catalog/product/020...  \n",
       "5373  https://sokolov.ru/jewelry-catalog/product/551...  \n",
       "3059  https://sokolov.ru/jewelry-catalog/product/020...  \n",
       "9433  https://sokolov.ru/jewelry-catalog/product/121...  "
      ]
     },
     "execution_count": 185,
     "metadata": {},
     "output_type": "execute_result"
    }
   ],
   "source": [
    "df_sokolov.sample(5)"
   ]
  },
  {
   "cell_type": "code",
   "execution_count": 186,
   "id": "0be9c570",
   "metadata": {
    "tags": []
   },
   "outputs": [],
   "source": [
    "df_sokolov['discount'] = df_sokolov['discount'].str.replace('Дополнительная скидка по акции «Поджарили цены!» ЕЩЁ -10%', '0.9')\n",
    "df_sokolov['discount'] = df_sokolov['discount'].str.replace('Дополнительная скидка по акции «Поджарили цены!» ЕЩЁ -20%', '0.8')\n",
    "df_sokolov['discount'] = df_sokolov['discount'].str.replace('Дополнительная скидка по акции «Поджарили цены!» ЕЩЁ -25%', '0.75')\n",
    "df_sokolov['discount'] = df_sokolov['discount'].fillna('1')"
   ]
  },
  {
   "cell_type": "code",
   "execution_count": 187,
   "id": "5fb71e27-7565-4166-abbf-18cb2d81b66d",
   "metadata": {
    "tags": []
   },
   "outputs": [],
   "source": [
    "# #df_sokolov = df_sokolov.drop(columns='discount_x', axis=1)\n",
    "# df_sokolov.columns = ['data', 'competitor', 'name', 'group', 'weight', 'price', 'price_old',\n",
    "#     'insert', 'metal', 'lock_type_or_weaving_type', 'url', 'discount']"
   ]
  },
  {
   "cell_type": "code",
   "execution_count": 188,
   "id": "6a09a5f4",
   "metadata": {
    "tags": []
   },
   "outputs": [],
   "source": [
    "df_sokolov['discount'] = df_sokolov['discount'].astype('float')"
   ]
  },
  {
   "cell_type": "code",
   "execution_count": 189,
   "id": "7c2eadea",
   "metadata": {
    "tags": []
   },
   "outputs": [
    {
     "data": {
      "text/html": [
       "<div>\n",
       "<style scoped>\n",
       "    .dataframe tbody tr th:only-of-type {\n",
       "        vertical-align: middle;\n",
       "    }\n",
       "\n",
       "    .dataframe tbody tr th {\n",
       "        vertical-align: top;\n",
       "    }\n",
       "\n",
       "    .dataframe thead th {\n",
       "        text-align: right;\n",
       "    }\n",
       "</style>\n",
       "<table border=\"1\" class=\"dataframe\">\n",
       "  <thead>\n",
       "    <tr style=\"text-align: right;\">\n",
       "      <th></th>\n",
       "      <th>data</th>\n",
       "      <th>competitor</th>\n",
       "      <th>name</th>\n",
       "      <th>group</th>\n",
       "      <th>weight</th>\n",
       "      <th>price</th>\n",
       "      <th>price_old</th>\n",
       "      <th>discount</th>\n",
       "      <th>insert</th>\n",
       "      <th>metal</th>\n",
       "      <th>lock_type_or_weaving_type</th>\n",
       "      <th>url</th>\n",
       "    </tr>\n",
       "  </thead>\n",
       "  <tbody>\n",
       "    <tr>\n",
       "      <th>3546</th>\n",
       "      <td>14-03-2024</td>\n",
       "      <td>Sokolov</td>\n",
       "      <td>Иконка из золота с лазерной обработкой</td>\n",
       "      <td>pendants</td>\n",
       "      <td>0.55 г</td>\n",
       "      <td>8000.0</td>\n",
       "      <td>19990.0</td>\n",
       "      <td>0.75</td>\n",
       "      <td>Без вставок</td>\n",
       "      <td>Красное золото 585 пробы</td>\n",
       "      <td>NaN</td>\n",
       "      <td>https://sokolov.ru/jewelry-catalog/product/104...</td>\n",
       "    </tr>\n",
       "    <tr>\n",
       "      <th>1291</th>\n",
       "      <td>14-03-2024</td>\n",
       "      <td>Sokolov</td>\n",
       "      <td>Обручальное кольцо из желтого золота, 3 мм</td>\n",
       "      <td>rings</td>\n",
       "      <td>1.67 г</td>\n",
       "      <td>16000.0</td>\n",
       "      <td>39990.0</td>\n",
       "      <td>1.00</td>\n",
       "      <td>Без вставок</td>\n",
       "      <td>Жёлтое золото 585 пробы</td>\n",
       "      <td>NaN</td>\n",
       "      <td>https://sokolov.ru/jewelry-catalog/product/110...</td>\n",
       "    </tr>\n",
       "    <tr>\n",
       "      <th>9476</th>\n",
       "      <td>14-03-2024</td>\n",
       "      <td>Sokolov</td>\n",
       "      <td>Колье из золота</td>\n",
       "      <td>necklaces</td>\n",
       "      <td>2.81 г</td>\n",
       "      <td>29200.0</td>\n",
       "      <td>72990.0</td>\n",
       "      <td>1.00</td>\n",
       "      <td>Без вставок</td>\n",
       "      <td>Красное золото 585 пробы</td>\n",
       "      <td>0,2</td>\n",
       "      <td>https://sokolov.ru/jewelry-catalog/product/571...</td>\n",
       "    </tr>\n",
       "    <tr>\n",
       "      <th>9837</th>\n",
       "      <td>14-03-2024</td>\n",
       "      <td>Sokolov</td>\n",
       "      <td>Кольцо из желтого золота</td>\n",
       "      <td>rings</td>\n",
       "      <td>0.79 г</td>\n",
       "      <td>9600.0</td>\n",
       "      <td>23990.0</td>\n",
       "      <td>0.80</td>\n",
       "      <td>Без вставок</td>\n",
       "      <td>Жёлтое золото 585 пробы</td>\n",
       "      <td>NaN</td>\n",
       "      <td>https://sokolov.ru/jewelry-catalog/product/017...</td>\n",
       "    </tr>\n",
       "    <tr>\n",
       "      <th>6799</th>\n",
       "      <td>14-03-2024</td>\n",
       "      <td>Sokolov</td>\n",
       "      <td>Серьги из золота</td>\n",
       "      <td>earrings</td>\n",
       "      <td>1.48 г</td>\n",
       "      <td>19200.0</td>\n",
       "      <td>47990.0</td>\n",
       "      <td>0.90</td>\n",
       "      <td>Без вставок</td>\n",
       "      <td>Красное золото 585 пробы</td>\n",
       "      <td>Пусет</td>\n",
       "      <td>https://sokolov.ru/jewelry-catalog/product/029...</td>\n",
       "    </tr>\n",
       "  </tbody>\n",
       "</table>\n",
       "</div>"
      ],
      "text/plain": [
       "            data competitor                                        name  \\\n",
       "3546  14-03-2024    Sokolov      Иконка из золота с лазерной обработкой   \n",
       "1291  14-03-2024    Sokolov  Обручальное кольцо из желтого золота, 3 мм   \n",
       "9476  14-03-2024    Sokolov                             Колье из золота   \n",
       "9837  14-03-2024    Sokolov                    Кольцо из желтого золота   \n",
       "6799  14-03-2024    Sokolov                            Серьги из золота   \n",
       "\n",
       "          group  weight    price  price_old  discount       insert  \\\n",
       "3546   pendants  0.55 г   8000.0    19990.0      0.75  Без вставок   \n",
       "1291      rings  1.67 г  16000.0    39990.0      1.00  Без вставок   \n",
       "9476  necklaces  2.81 г  29200.0    72990.0      1.00  Без вставок   \n",
       "9837      rings  0.79 г   9600.0    23990.0      0.80  Без вставок   \n",
       "6799   earrings  1.48 г  19200.0    47990.0      0.90  Без вставок   \n",
       "\n",
       "                         metal lock_type_or_weaving_type  \\\n",
       "3546  Красное золото 585 пробы                       NaN   \n",
       "1291   Жёлтое золото 585 пробы                       NaN   \n",
       "9476  Красное золото 585 пробы                       0,2   \n",
       "9837   Жёлтое золото 585 пробы                       NaN   \n",
       "6799  Красное золото 585 пробы                     Пусет   \n",
       "\n",
       "                                                    url  \n",
       "3546  https://sokolov.ru/jewelry-catalog/product/104...  \n",
       "1291  https://sokolov.ru/jewelry-catalog/product/110...  \n",
       "9476  https://sokolov.ru/jewelry-catalog/product/571...  \n",
       "9837  https://sokolov.ru/jewelry-catalog/product/017...  \n",
       "6799  https://sokolov.ru/jewelry-catalog/product/029...  "
      ]
     },
     "execution_count": 189,
     "metadata": {},
     "output_type": "execute_result"
    }
   ],
   "source": [
    "df_sokolov.sample(5)"
   ]
  },
  {
   "cell_type": "code",
   "execution_count": 190,
   "id": "6829c5a5",
   "metadata": {
    "tags": []
   },
   "outputs": [],
   "source": [
    "df_sokolov['weight'] = df_sokolov['weight'].str.replace(' г', '')"
   ]
  },
  {
   "cell_type": "code",
   "execution_count": 191,
   "id": "1fe44673-7a68-43b9-9ae8-a43ac5e488c6",
   "metadata": {
    "tags": []
   },
   "outputs": [],
   "source": [
    "df_sokolov = df_sokolov.query(\"weight != 'Без вставок'\")"
   ]
  },
  {
   "cell_type": "code",
   "execution_count": 192,
   "id": "3ebce85a",
   "metadata": {
    "tags": []
   },
   "outputs": [],
   "source": [
    "df_sokolov['weight'] = df_sokolov['weight'].astype('float')"
   ]
  },
  {
   "cell_type": "code",
   "execution_count": 193,
   "id": "693f3721",
   "metadata": {
    "tags": []
   },
   "outputs": [
    {
     "name": "stdout",
     "output_type": "stream",
     "text": [
      "<class 'pandas.core.frame.DataFrame'>\n",
      "Index: 1433 entries, 15 to 9963\n",
      "Data columns (total 12 columns):\n",
      " #   Column                     Non-Null Count  Dtype  \n",
      "---  ------                     --------------  -----  \n",
      " 0   data                       1433 non-null   object \n",
      " 1   competitor                 1433 non-null   object \n",
      " 2   name                       1433 non-null   object \n",
      " 3   group                      1429 non-null   object \n",
      " 4   weight                     1433 non-null   float64\n",
      " 5   price                      1433 non-null   float64\n",
      " 6   price_old                  1433 non-null   float64\n",
      " 7   discount                   1433 non-null   float64\n",
      " 8   insert                     1433 non-null   object \n",
      " 9   metal                      1433 non-null   object \n",
      " 10  lock_type_or_weaving_type  588 non-null    object \n",
      " 11  url                        1433 non-null   object \n",
      "dtypes: float64(4), object(8)\n",
      "memory usage: 145.5+ KB\n"
     ]
    }
   ],
   "source": [
    "df_sokolov.info()"
   ]
  },
  {
   "cell_type": "code",
   "execution_count": 194,
   "id": "5e54a132",
   "metadata": {
    "tags": []
   },
   "outputs": [
    {
     "data": {
      "text/plain": [
       "0"
      ]
     },
     "execution_count": 194,
     "metadata": {},
     "output_type": "execute_result"
    }
   ],
   "source": [
    "df_sokolov['price'].isna().sum()"
   ]
  },
  {
   "cell_type": "code",
   "execution_count": 195,
   "id": "0d73f7d3-06b8-41e8-b8d1-0476e07b65b7",
   "metadata": {
    "tags": []
   },
   "outputs": [],
   "source": [
    "# применяем скидку для первоначальной цены"
   ]
  },
  {
   "cell_type": "code",
   "execution_count": 196,
   "id": "4ba5a0c9",
   "metadata": {
    "tags": []
   },
   "outputs": [],
   "source": [
    "df_sokolov['price'] = df_sokolov['price'] * df_sokolov['discount']"
   ]
  },
  {
   "cell_type": "code",
   "execution_count": 197,
   "id": "8963f077-58e1-46a5-886b-494d274f8300",
   "metadata": {
    "tags": []
   },
   "outputs": [],
   "source": [
    "# Для расчета персональной стоимости нужно выделить изделия для которых применины баллы. Для этого в парсинге цен используються cookies аккаунта с баллами (любым кол-вом).\n",
    "#Чтобы определить если ли персональная цена сравниваются 2 столба \"price_old\" и \"price\".\n",
    "#Если они не равны или \"price_old\" равен нулю, значит для этой позиции применяются бонусные баллы."
   ]
  },
  {
   "cell_type": "code",
   "execution_count": 198,
   "id": "2bf40b85",
   "metadata": {
    "tags": []
   },
   "outputs": [],
   "source": [
    "no_discount = 0\n",
    "discount = 2000\n",
    "df_sokolov['discount_flag'] = np.nan\n",
    "for i in df_sokolov.index:\n",
    "    if df_sokolov['price_old'][i] != 0:\n",
    "        df_sokolov['discount_flag'][i] = df_sokolov['price'][i] * 0.1 + 2000\n",
    "    else:\n",
    "        df_sokolov['discount_flag'][i] = no_discount"
   ]
  },
  {
   "cell_type": "code",
   "execution_count": 199,
   "id": "73fddca4-8fb5-4401-8ac1-363347d1997a",
   "metadata": {
    "tags": []
   },
   "outputs": [],
   "source": [
    "# Бонусными баллами у Sokolov можно оплатить до 30% от стоимости, поэтому для расчета персональной цены используются следующая логика:\n",
    "# Если количество бонусных баллов меньше или равно 30% от стоимости изделия, тогда стоимость равна - цена - бонусные баллы\n",
    "# Иначе стоимость равна - цена - 30% от цены"
   ]
  },
  {
   "cell_type": "code",
   "execution_count": 200,
   "id": "99e5ab8f",
   "metadata": {
    "tags": []
   },
   "outputs": [],
   "source": [
    "df_sokolov['price_personal'] = np.nan\n",
    "for i in df_sokolov.index:\n",
    "    if df_sokolov['discount_flag'][i] <= (df_sokolov['price'][i] * 0.3):\n",
    "        df_sokolov['price_personal'][i] = df_sokolov['price'][i] - df_sokolov['discount_flag'][i]\n",
    "    else:\n",
    "        df_sokolov['price_personal'][i] = df_sokolov['price'][i] - (df_sokolov['price'][i] * 0.3)"
   ]
  },
  {
   "cell_type": "code",
   "execution_count": 201,
   "id": "08216c71",
   "metadata": {
    "tags": []
   },
   "outputs": [
    {
     "data": {
      "text/html": [
       "<div>\n",
       "<style scoped>\n",
       "    .dataframe tbody tr th:only-of-type {\n",
       "        vertical-align: middle;\n",
       "    }\n",
       "\n",
       "    .dataframe tbody tr th {\n",
       "        vertical-align: top;\n",
       "    }\n",
       "\n",
       "    .dataframe thead th {\n",
       "        text-align: right;\n",
       "    }\n",
       "</style>\n",
       "<table border=\"1\" class=\"dataframe\">\n",
       "  <thead>\n",
       "    <tr style=\"text-align: right;\">\n",
       "      <th></th>\n",
       "      <th>data</th>\n",
       "      <th>competitor</th>\n",
       "      <th>name</th>\n",
       "      <th>group</th>\n",
       "      <th>weight</th>\n",
       "      <th>price</th>\n",
       "      <th>price_old</th>\n",
       "      <th>discount</th>\n",
       "      <th>insert</th>\n",
       "      <th>metal</th>\n",
       "      <th>lock_type_or_weaving_type</th>\n",
       "      <th>url</th>\n",
       "      <th>discount_flag</th>\n",
       "      <th>price_personal</th>\n",
       "    </tr>\n",
       "  </thead>\n",
       "  <tbody>\n",
       "    <tr>\n",
       "      <th>15</th>\n",
       "      <td>14-03-2024</td>\n",
       "      <td>Sokolov</td>\n",
       "      <td>Цепь из золота, плетение Панцирное, 585 проба</td>\n",
       "      <td>chains</td>\n",
       "      <td>6.51</td>\n",
       "      <td>32490.0</td>\n",
       "      <td>0.0</td>\n",
       "      <td>1.0</td>\n",
       "      <td>Без вставок</td>\n",
       "      <td>Красное золото 585 пробы</td>\n",
       "      <td>Панцирное</td>\n",
       "      <td>https://sokolov.ru/jewelry-catalog/product/582...</td>\n",
       "      <td>0.0</td>\n",
       "      <td>32490.0</td>\n",
       "    </tr>\n",
       "    <tr>\n",
       "      <th>16</th>\n",
       "      <td>14-03-2024</td>\n",
       "      <td>Sokolov</td>\n",
       "      <td>Цепь из золота, плетение Бисмарк, 585 проба</td>\n",
       "      <td>chains</td>\n",
       "      <td>9.71</td>\n",
       "      <td>62990.0</td>\n",
       "      <td>0.0</td>\n",
       "      <td>1.0</td>\n",
       "      <td>Без вставок</td>\n",
       "      <td>Красное золото 585 пробы</td>\n",
       "      <td>Бисмарк</td>\n",
       "      <td>https://sokolov.ru/jewelry-catalog/product/581...</td>\n",
       "      <td>0.0</td>\n",
       "      <td>62990.0</td>\n",
       "    </tr>\n",
       "    <tr>\n",
       "      <th>17</th>\n",
       "      <td>14-03-2024</td>\n",
       "      <td>Sokolov</td>\n",
       "      <td>Цепь из золота, плетение Тройной ромб, 585 проба</td>\n",
       "      <td>chains</td>\n",
       "      <td>7.67</td>\n",
       "      <td>49990.0</td>\n",
       "      <td>0.0</td>\n",
       "      <td>1.0</td>\n",
       "      <td>Без вставок</td>\n",
       "      <td>Красное золото 585 пробы</td>\n",
       "      <td>Ромб тройной</td>\n",
       "      <td>https://sokolov.ru/jewelry-catalog/product/582...</td>\n",
       "      <td>0.0</td>\n",
       "      <td>49990.0</td>\n",
       "    </tr>\n",
       "    <tr>\n",
       "      <th>18</th>\n",
       "      <td>14-03-2024</td>\n",
       "      <td>Sokolov</td>\n",
       "      <td>Цепь из золота, плетение Двойной ромб, 585 проба</td>\n",
       "      <td>chains</td>\n",
       "      <td>14.04</td>\n",
       "      <td>69990.0</td>\n",
       "      <td>0.0</td>\n",
       "      <td>1.0</td>\n",
       "      <td>Без вставок</td>\n",
       "      <td>Красное золото 585 пробы</td>\n",
       "      <td>Ромб двойной</td>\n",
       "      <td>https://sokolov.ru/jewelry-catalog/product/582...</td>\n",
       "      <td>0.0</td>\n",
       "      <td>69990.0</td>\n",
       "    </tr>\n",
       "    <tr>\n",
       "      <th>45</th>\n",
       "      <td>14-03-2024</td>\n",
       "      <td>Sokolov</td>\n",
       "      <td>Подвеска из золота</td>\n",
       "      <td>pendants</td>\n",
       "      <td>0.13</td>\n",
       "      <td>990.0</td>\n",
       "      <td>0.0</td>\n",
       "      <td>1.0</td>\n",
       "      <td>Без вставок</td>\n",
       "      <td>Красное золото 585 пробы</td>\n",
       "      <td>NaN</td>\n",
       "      <td>https://sokolov.ru/jewelry-catalog/product/036...</td>\n",
       "      <td>0.0</td>\n",
       "      <td>990.0</td>\n",
       "    </tr>\n",
       "    <tr>\n",
       "      <th>47</th>\n",
       "      <td>14-03-2024</td>\n",
       "      <td>Sokolov</td>\n",
       "      <td>Кольцо из золота</td>\n",
       "      <td>rings</td>\n",
       "      <td>1.09</td>\n",
       "      <td>7990.0</td>\n",
       "      <td>0.0</td>\n",
       "      <td>1.0</td>\n",
       "      <td>Без вставок</td>\n",
       "      <td>Красное золото 585 пробы</td>\n",
       "      <td>NaN</td>\n",
       "      <td>https://sokolov.ru/jewelry-catalog/product/019...</td>\n",
       "      <td>0.0</td>\n",
       "      <td>7990.0</td>\n",
       "    </tr>\n",
       "    <tr>\n",
       "      <th>48</th>\n",
       "      <td>14-03-2024</td>\n",
       "      <td>Sokolov</td>\n",
       "      <td>Серьги из золота</td>\n",
       "      <td>earrings</td>\n",
       "      <td>0.93</td>\n",
       "      <td>6990.0</td>\n",
       "      <td>0.0</td>\n",
       "      <td>1.0</td>\n",
       "      <td>Без вставок</td>\n",
       "      <td>Красное золото 585 пробы</td>\n",
       "      <td>Пусет</td>\n",
       "      <td>https://sokolov.ru/jewelry-catalog/product/020...</td>\n",
       "      <td>0.0</td>\n",
       "      <td>6990.0</td>\n",
       "    </tr>\n",
       "    <tr>\n",
       "      <th>51</th>\n",
       "      <td>14-03-2024</td>\n",
       "      <td>Sokolov</td>\n",
       "      <td>Серьги из золота</td>\n",
       "      <td>earrings</td>\n",
       "      <td>0.66</td>\n",
       "      <td>4990.0</td>\n",
       "      <td>0.0</td>\n",
       "      <td>1.0</td>\n",
       "      <td>Без вставок</td>\n",
       "      <td>Красное золото 585 пробы</td>\n",
       "      <td>Продёвка</td>\n",
       "      <td>https://sokolov.ru/jewelry-catalog/product/029...</td>\n",
       "      <td>0.0</td>\n",
       "      <td>4990.0</td>\n",
       "    </tr>\n",
       "    <tr>\n",
       "      <th>52</th>\n",
       "      <td>14-03-2024</td>\n",
       "      <td>Sokolov</td>\n",
       "      <td>Серьги из золота</td>\n",
       "      <td>earrings</td>\n",
       "      <td>1.02</td>\n",
       "      <td>7990.0</td>\n",
       "      <td>0.0</td>\n",
       "      <td>1.0</td>\n",
       "      <td>Без вставок</td>\n",
       "      <td>Красное золото 585 пробы</td>\n",
       "      <td>NaN</td>\n",
       "      <td>https://sokolov.ru/jewelry-catalog/product/029...</td>\n",
       "      <td>0.0</td>\n",
       "      <td>7990.0</td>\n",
       "    </tr>\n",
       "    <tr>\n",
       "      <th>54</th>\n",
       "      <td>14-03-2024</td>\n",
       "      <td>Sokolov</td>\n",
       "      <td>Подвеска из золота</td>\n",
       "      <td>pendants</td>\n",
       "      <td>0.42</td>\n",
       "      <td>3490.0</td>\n",
       "      <td>0.0</td>\n",
       "      <td>1.0</td>\n",
       "      <td>Без вставок</td>\n",
       "      <td>Красное золото 585 пробы</td>\n",
       "      <td>NaN</td>\n",
       "      <td>https://sokolov.ru/jewelry-catalog/product/121...</td>\n",
       "      <td>0.0</td>\n",
       "      <td>3490.0</td>\n",
       "    </tr>\n",
       "  </tbody>\n",
       "</table>\n",
       "</div>"
      ],
      "text/plain": [
       "          data competitor                                              name  \\\n",
       "15  14-03-2024    Sokolov     Цепь из золота, плетение Панцирное, 585 проба   \n",
       "16  14-03-2024    Sokolov       Цепь из золота, плетение Бисмарк, 585 проба   \n",
       "17  14-03-2024    Sokolov  Цепь из золота, плетение Тройной ромб, 585 проба   \n",
       "18  14-03-2024    Sokolov  Цепь из золота, плетение Двойной ромб, 585 проба   \n",
       "45  14-03-2024    Sokolov                                Подвеска из золота   \n",
       "47  14-03-2024    Sokolov                                  Кольцо из золота   \n",
       "48  14-03-2024    Sokolov                                  Серьги из золота   \n",
       "51  14-03-2024    Sokolov                                  Серьги из золота   \n",
       "52  14-03-2024    Sokolov                                  Серьги из золота   \n",
       "54  14-03-2024    Sokolov                                Подвеска из золота   \n",
       "\n",
       "       group  weight    price  price_old  discount       insert  \\\n",
       "15    chains    6.51  32490.0        0.0       1.0  Без вставок   \n",
       "16    chains    9.71  62990.0        0.0       1.0  Без вставок   \n",
       "17    chains    7.67  49990.0        0.0       1.0  Без вставок   \n",
       "18    chains   14.04  69990.0        0.0       1.0  Без вставок   \n",
       "45  pendants    0.13    990.0        0.0       1.0  Без вставок   \n",
       "47     rings    1.09   7990.0        0.0       1.0  Без вставок   \n",
       "48  earrings    0.93   6990.0        0.0       1.0  Без вставок   \n",
       "51  earrings    0.66   4990.0        0.0       1.0  Без вставок   \n",
       "52  earrings    1.02   7990.0        0.0       1.0  Без вставок   \n",
       "54  pendants    0.42   3490.0        0.0       1.0  Без вставок   \n",
       "\n",
       "                       metal lock_type_or_weaving_type  \\\n",
       "15  Красное золото 585 пробы                 Панцирное   \n",
       "16  Красное золото 585 пробы                   Бисмарк   \n",
       "17  Красное золото 585 пробы              Ромб тройной   \n",
       "18  Красное золото 585 пробы              Ромб двойной   \n",
       "45  Красное золото 585 пробы                       NaN   \n",
       "47  Красное золото 585 пробы                       NaN   \n",
       "48  Красное золото 585 пробы                     Пусет   \n",
       "51  Красное золото 585 пробы                  Продёвка   \n",
       "52  Красное золото 585 пробы                       NaN   \n",
       "54  Красное золото 585 пробы                       NaN   \n",
       "\n",
       "                                                  url  discount_flag  \\\n",
       "15  https://sokolov.ru/jewelry-catalog/product/582...            0.0   \n",
       "16  https://sokolov.ru/jewelry-catalog/product/581...            0.0   \n",
       "17  https://sokolov.ru/jewelry-catalog/product/582...            0.0   \n",
       "18  https://sokolov.ru/jewelry-catalog/product/582...            0.0   \n",
       "45  https://sokolov.ru/jewelry-catalog/product/036...            0.0   \n",
       "47  https://sokolov.ru/jewelry-catalog/product/019...            0.0   \n",
       "48  https://sokolov.ru/jewelry-catalog/product/020...            0.0   \n",
       "51  https://sokolov.ru/jewelry-catalog/product/029...            0.0   \n",
       "52  https://sokolov.ru/jewelry-catalog/product/029...            0.0   \n",
       "54  https://sokolov.ru/jewelry-catalog/product/121...            0.0   \n",
       "\n",
       "    price_personal  \n",
       "15         32490.0  \n",
       "16         62990.0  \n",
       "17         49990.0  \n",
       "18         69990.0  \n",
       "45           990.0  \n",
       "47          7990.0  \n",
       "48          6990.0  \n",
       "51          4990.0  \n",
       "52          7990.0  \n",
       "54          3490.0  "
      ]
     },
     "execution_count": 201,
     "metadata": {},
     "output_type": "execute_result"
    }
   ],
   "source": [
    "df_sokolov.head(10)"
   ]
  },
  {
   "cell_type": "code",
   "execution_count": 202,
   "id": "5be2dda2",
   "metadata": {
    "tags": []
   },
   "outputs": [],
   "source": [
    "df_sokolov = df_sokolov.drop(columns=['discount_flag'], axis=1)"
   ]
  },
  {
   "cell_type": "code",
   "execution_count": 203,
   "id": "dad9329a",
   "metadata": {
    "tags": []
   },
   "outputs": [
    {
     "data": {
      "text/plain": [
       "0"
      ]
     },
     "execution_count": 203,
     "metadata": {},
     "output_type": "execute_result"
    }
   ],
   "source": [
    "df_sokolov['price'].isna().sum()"
   ]
  },
  {
   "cell_type": "code",
   "execution_count": 204,
   "id": "e5400677",
   "metadata": {
    "tags": []
   },
   "outputs": [
    {
     "data": {
      "text/plain": [
       "0"
      ]
     },
     "execution_count": 204,
     "metadata": {},
     "output_type": "execute_result"
    }
   ],
   "source": [
    "df_sokolov['price_personal'].isna().sum()"
   ]
  },
  {
   "cell_type": "code",
   "execution_count": 205,
   "id": "80696689",
   "metadata": {
    "tags": []
   },
   "outputs": [],
   "source": [
    "df_sokolov['price_for_gramm'] = (df_sokolov['price_personal'] / df_sokolov['weight']).round(0)"
   ]
  },
  {
   "cell_type": "code",
   "execution_count": 206,
   "id": "5d01a0ca-4869-4413-bf7d-e7e5f6d64cc5",
   "metadata": {
    "tags": []
   },
   "outputs": [],
   "source": [
    "# Создание столбца ранжирования по ценовым категориям"
   ]
  },
  {
   "cell_type": "code",
   "execution_count": 207,
   "id": "7fd23962",
   "metadata": {
    "tags": []
   },
   "outputs": [],
   "source": [
    "df_sokolov['price_case'] = np.where(\n",
    "    df_sokolov['price_for_gramm'] <= 5500, 'до 5 500 руб.', \n",
    "    np.where(\n",
    "    (df_sokolov['price_for_gramm'] <= 6000), '5 500 руб. - 6 000 руб.', \n",
    "    np.where(\n",
    "    (df_sokolov['price_for_gramm'] <= 6500), '6 000 руб. - 6 500 руб.', \n",
    "    np.where(\n",
    "    (df_sokolov['price_for_gramm'] <= 7000), '6 500 руб. - 7 000 руб.', \n",
    "    np.where(\n",
    "    (df_sokolov['price_for_gramm'] <= 8000), '7 000 руб. - 8 000 руб.', \n",
    "    np.where(\n",
    "    (df_sokolov['price_for_gramm'] <= 9000), '8 000 руб. - 9 000 руб.', \n",
    "    np.where(\n",
    "    (df_sokolov['price_for_gramm'] <= 10000), '9 000 руб. -10 000 руб.',  'свыше 10 000 руб.'\n",
    ")))))))"
   ]
  },
  {
   "cell_type": "code",
   "execution_count": 208,
   "id": "b7d69594",
   "metadata": {
    "tags": []
   },
   "outputs": [
    {
     "data": {
      "text/plain": [
       "count     1433.000000\n",
       "mean      8172.983252\n",
       "std       1132.655036\n",
       "min       4621.000000\n",
       "5%        6645.200000\n",
       "50%       8063.000000\n",
       "95%      10269.400000\n",
       "max      12246.000000\n",
       "Name: price_for_gramm, dtype: float64"
      ]
     },
     "execution_count": 208,
     "metadata": {},
     "output_type": "execute_result"
    }
   ],
   "source": [
    "df_sokolov['price_for_gramm'].describe([0.05, 0.95])"
   ]
  },
  {
   "cell_type": "markdown",
   "id": "fb89db73",
   "metadata": {},
   "source": [
    "df = df.query(\"price_for_gramm <= 9621.954133\")"
   ]
  },
  {
   "cell_type": "markdown",
   "id": "9ff2c0ba",
   "metadata": {},
   "source": [
    "data\tcompetitor\tname\tgroup\tweight\tprice\tprice_old\tdiscount\tinsert\tmetal\tlock\tarticle\tPrice per gramm\tgroup_price\tproduct_group(ТГ)\tproduct_direction(ТН)\n"
   ]
  },
  {
   "cell_type": "code",
   "execution_count": 209,
   "id": "5e8b1db0-0333-4b3c-8068-54e1464860d5",
   "metadata": {
    "tags": []
   },
   "outputs": [],
   "source": [
    "df_sokolov = df_sokolov[['data', 'competitor', 'name', 'group', 'weight', 'price_personal', 'price', 'discount', 'insert', 'metal', 'lock_type_or_weaving_type',\n",
    "                        'url', 'price_for_gramm', 'price_case']]"
   ]
  },
  {
   "cell_type": "code",
   "execution_count": 210,
   "id": "c76cb9d8",
   "metadata": {},
   "outputs": [],
   "source": [
    "df_sokolov['product_group(ТГ)'] = np.where(((df_sokolov['group'] == 'pendants') & (df_sokolov['name'].str.contains('крест|иконка|крестик|мусульманская|ладанка'))), 'БК ПОДВЕС КУЛЬТ', \n",
    "                    np.where(((df_sokolov['group'] == 'pendants') & (df_sokolov['name'].str.contains('крест|иконка|крестик|мусульманская|ладанка')==False)), 'БК ПОДВЕС ДЕКОР', \n",
    "                    np.where(((df_sokolov['group'] == 'rings') & (df_sokolov['name'].str.contains('обручальное'))), 'БК КОЛЬЦА ОБРУЧ', \n",
    "                    np.where(((df_sokolov['group'] == 'rings') & (df_sokolov['name'].str.contains('обручальное')==False)), 'БК КОЛЬЦА', \n",
    "                    np.where((df_sokolov['group'] == 'bracelets'), 'ЦБ БРАСЛЕТЫ',\n",
    "                    np.where((df_sokolov['group'] == 'chains'), 'ЦБ ЦЕПИ', \n",
    "                    np.where((df_sokolov['group'] == 'earrings'), 'БК СЕРЬГИ', np.nan)))))))"
   ]
  },
  {
   "cell_type": "code",
   "execution_count": 216,
   "id": "ca933df9",
   "metadata": {},
   "outputs": [],
   "source": [
    "df_sokolov = df_sokolov.dropna(subset=['product_group(ТГ)'])"
   ]
  },
  {
   "cell_type": "code",
   "execution_count": 217,
   "id": "2c988762",
   "metadata": {},
   "outputs": [],
   "source": [
    "df_sokolov['product_direction(ТН)'] = df_sokolov['product_group(ТГ)'].str.split(' ')"
   ]
  },
  {
   "cell_type": "code",
   "execution_count": 218,
   "id": "dbb8c9dc",
   "metadata": {},
   "outputs": [],
   "source": [
    "def tn(col):\n",
    "    if 'ЦБ' in col:\n",
    "        return 'ЦБ'\n",
    "    elif 'ИФ' in col:\n",
    "        return 'ИФ'\n",
    "    elif 'ПДК' in col:\n",
    "        return 'ПДК'\n",
    "    return 'БК'\n",
    "\n",
    "df_sokolov['product_direction(ТН)'] = df_sokolov['product_direction(ТН)'].apply(tn)"
   ]
  },
  {
   "cell_type": "code",
   "execution_count": 222,
   "id": "29338997",
   "metadata": {
    "tags": []
   },
   "outputs": [
    {
     "name": "stdout",
     "output_type": "stream",
     "text": [
      "8431.0\n"
     ]
    }
   ],
   "source": [
    "print((df_sokolov['price_personal'].sum() / df_sokolov['weight'].sum()).round(0))"
   ]
  },
  {
   "cell_type": "code",
   "execution_count": 224,
   "id": "edc6db6d",
   "metadata": {},
   "outputs": [],
   "source": [
    "day, month, year = dt.datetime.today().day, dt.datetime.today().month, dt.datetime.today().year"
   ]
  },
  {
   "cell_type": "code",
   "execution_count": 226,
   "id": "044450ca",
   "metadata": {},
   "outputs": [],
   "source": [
    "df_sokolov.to_excel(rf'\\\\gold585.int\\uk\\Общее хранилище файлов\\Служба аналитики\\МЮР\\tg_tn\\\\sokolov_{day}_{month}_{year}.xlsx', index=False)"
   ]
  },
  {
   "cell_type": "code",
   "execution_count": 51,
   "id": "1813a356-1a31-4579-88d5-d65387b094b4",
   "metadata": {
    "tags": []
   },
   "outputs": [],
   "source": [
    "# Сохранение финальной таблицы в Excel"
   ]
  },
  {
   "cell_type": "code",
   "execution_count": 53,
   "id": "0ec668da-1825-489f-ae00-ff492e52b7a4",
   "metadata": {
    "tags": []
   },
   "outputs": [],
   "source": [
    "# df_sokolov['num_shop'] = '_' + df_sokolov['competitor']"
   ]
  },
  {
   "cell_type": "code",
   "execution_count": 54,
   "id": "c1a3f571-36aa-48c7-b1c4-02f069fdf00d",
   "metadata": {
    "tags": []
   },
   "outputs": [],
   "source": [
    "# df_sokolov['num_diap'] = df_sokolov['price_case']"
   ]
  },
  {
   "cell_type": "code",
   "execution_count": 56,
   "id": "39001e3f",
   "metadata": {
    "tags": []
   },
   "outputs": [
    {
     "data": {
      "text/plain": [
       "count      9936.0\n",
       "mean      15035.0\n",
       "std       16147.0\n",
       "min        3159.0\n",
       "25%        7735.0\n",
       "50%        9391.0\n",
       "75%       16455.0\n",
       "max      266667.0\n",
       "Name: price_for_gramm, dtype: float64"
      ]
     },
     "execution_count": 56,
     "metadata": {},
     "output_type": "execute_result"
    }
   ],
   "source": [
    "# df_sokolov['price_for_gramm'].describe().round(0)"
   ]
  },
  {
   "cell_type": "markdown",
   "id": "9ac34bfa",
   "metadata": {},
   "source": [
    "# 2. Sunlight"
   ]
  },
  {
   "cell_type": "code",
   "execution_count": 453,
   "id": "3ad52495",
   "metadata": {
    "tags": []
   },
   "outputs": [],
   "source": [
    "df_sunlight = pd.read_csv(r'C:\\Users\\Trenkin.Sergey\\Desktop\\parsers\\workspace\\sunlight_all_14_3_2024.csv')"
   ]
  },
  {
   "cell_type": "code",
   "execution_count": 454,
   "id": "4ee2e03d",
   "metadata": {
    "tags": []
   },
   "outputs": [
    {
     "data": {
      "text/html": [
       "<div>\n",
       "<style scoped>\n",
       "    .dataframe tbody tr th:only-of-type {\n",
       "        vertical-align: middle;\n",
       "    }\n",
       "\n",
       "    .dataframe tbody tr th {\n",
       "        vertical-align: top;\n",
       "    }\n",
       "\n",
       "    .dataframe thead th {\n",
       "        text-align: right;\n",
       "    }\n",
       "</style>\n",
       "<table border=\"1\" class=\"dataframe\">\n",
       "  <thead>\n",
       "    <tr style=\"text-align: right;\">\n",
       "      <th></th>\n",
       "      <th>date</th>\n",
       "      <th>competitor</th>\n",
       "      <th>name</th>\n",
       "      <th>group</th>\n",
       "      <th>params</th>\n",
       "      <th>price_x</th>\n",
       "      <th>article</th>\n",
       "      <th>url</th>\n",
       "      <th>price_old</th>\n",
       "      <th>price_y</th>\n",
       "      <th>price_personal</th>\n",
       "      <th>discount</th>\n",
       "    </tr>\n",
       "  </thead>\n",
       "  <tbody>\n",
       "    <tr>\n",
       "      <th>0</th>\n",
       "      <td>14-03-2024</td>\n",
       "      <td>Sunlight</td>\n",
       "      <td>\\n    Золотой браслет с фианитами\\n</td>\n",
       "      <td>Браслеты</td>\n",
       "      <td>{'Модель': 'S-561018б_001*', 'Материал изделия...</td>\n",
       "      <td>9490</td>\n",
       "      <td>342484</td>\n",
       "      <td>https://sunlight.net/catalog/bracelets_342484....</td>\n",
       "      <td>18 980 ₽</td>\n",
       "      <td>9 490 ₽</td>\n",
       "      <td>6 643 ₽</td>\n",
       "      <td>['Последний день! ЕЩЕ -30%, код: ЛЮБИ']</td>\n",
       "    </tr>\n",
       "    <tr>\n",
       "      <th>1</th>\n",
       "      <td>14-03-2024</td>\n",
       "      <td>Sunlight</td>\n",
       "      <td>\\n    Золотое шейное украшение с сапфирами и б...</td>\n",
       "      <td>Шейное украшение</td>\n",
       "      <td>{'Модель': '72768-H5W-01', 'Материал изделия':...</td>\n",
       "      <td>64990</td>\n",
       "      <td>342285</td>\n",
       "      <td>https://sunlight.net/catalog/neck_decoration_3...</td>\n",
       "      <td>129 980 ₽</td>\n",
       "      <td>64 990 ₽</td>\n",
       "      <td>47 990 ₽</td>\n",
       "      <td>['Последний день! ЕЩЕ -20%, код: ЛЮБИ']</td>\n",
       "    </tr>\n",
       "    <tr>\n",
       "      <th>2</th>\n",
       "      <td>14-03-2024</td>\n",
       "      <td>Sunlight</td>\n",
       "      <td>\\n    Золотое шейное украшение\\n</td>\n",
       "      <td>Шейное украшение</td>\n",
       "      <td>{'Модель': 'П40016462*', 'Материал изделия': '...</td>\n",
       "      <td>23690</td>\n",
       "      <td>341448</td>\n",
       "      <td>https://sunlight.net/catalog/neck_decoration_3...</td>\n",
       "      <td>47 380 ₽</td>\n",
       "      <td>23 690 ₽</td>\n",
       "      <td>16 583 ₽</td>\n",
       "      <td>['Последний день! ЕЩЕ -30%, код: ЛЮБИ']</td>\n",
       "    </tr>\n",
       "    <tr>\n",
       "      <th>3</th>\n",
       "      <td>14-03-2024</td>\n",
       "      <td>Sunlight</td>\n",
       "      <td>\\n    Золотое шейное украшение\\n</td>\n",
       "      <td>Шейное украшение</td>\n",
       "      <td>{'Модель': 'П10016462*', 'Материал изделия': '...</td>\n",
       "      <td>23230</td>\n",
       "      <td>341447</td>\n",
       "      <td>https://sunlight.net/catalog/neck_decoration_3...</td>\n",
       "      <td>46 460 ₽</td>\n",
       "      <td>23 230 ₽</td>\n",
       "      <td>16 261 ₽</td>\n",
       "      <td>['Последний день! ЕЩЕ -30%, код: ЛЮБИ']</td>\n",
       "    </tr>\n",
       "    <tr>\n",
       "      <th>4</th>\n",
       "      <td>14-03-2024</td>\n",
       "      <td>Sunlight</td>\n",
       "      <td>\\n    Золотой браслет\\n</td>\n",
       "      <td>Браслеты</td>\n",
       "      <td>{'Модель': '77065', 'Материал изделия': 'Розов...</td>\n",
       "      <td>126030</td>\n",
       "      <td>340830</td>\n",
       "      <td>https://sunlight.net/catalog/bracelets_340830....</td>\n",
       "      <td>252 060 ₽</td>\n",
       "      <td>126 030 ₽</td>\n",
       "      <td>109 030 ₽</td>\n",
       "      <td>['Последний день! ЕЩЕ -20%, код: ЛЮБИ']</td>\n",
       "    </tr>\n",
       "  </tbody>\n",
       "</table>\n",
       "</div>"
      ],
      "text/plain": [
       "         date competitor                                               name  \\\n",
       "0  14-03-2024   Sunlight              \\n    Золотой браслет с фианитами\\n     \n",
       "1  14-03-2024   Sunlight  \\n    Золотое шейное украшение с сапфирами и б...   \n",
       "2  14-03-2024   Sunlight                 \\n    Золотое шейное украшение\\n     \n",
       "3  14-03-2024   Sunlight                 \\n    Золотое шейное украшение\\n     \n",
       "4  14-03-2024   Sunlight                          \\n    Золотой браслет\\n     \n",
       "\n",
       "              group                                             params  \\\n",
       "0          Браслеты  {'Модель': 'S-561018б_001*', 'Материал изделия...   \n",
       "1  Шейное украшение  {'Модель': '72768-H5W-01', 'Материал изделия':...   \n",
       "2  Шейное украшение  {'Модель': 'П40016462*', 'Материал изделия': '...   \n",
       "3  Шейное украшение  {'Модель': 'П10016462*', 'Материал изделия': '...   \n",
       "4          Браслеты  {'Модель': '77065', 'Материал изделия': 'Розов...   \n",
       "\n",
       "   price_x  article                                                url  \\\n",
       "0     9490   342484  https://sunlight.net/catalog/bracelets_342484....   \n",
       "1    64990   342285  https://sunlight.net/catalog/neck_decoration_3...   \n",
       "2    23690   341448  https://sunlight.net/catalog/neck_decoration_3...   \n",
       "3    23230   341447  https://sunlight.net/catalog/neck_decoration_3...   \n",
       "4   126030   340830  https://sunlight.net/catalog/bracelets_340830....   \n",
       "\n",
       "   price_old    price_y price_personal  \\\n",
       "0   18 980 ₽    9 490 ₽        6 643 ₽   \n",
       "1  129 980 ₽   64 990 ₽       47 990 ₽   \n",
       "2   47 380 ₽   23 690 ₽       16 583 ₽   \n",
       "3   46 460 ₽   23 230 ₽       16 261 ₽   \n",
       "4  252 060 ₽  126 030 ₽      109 030 ₽   \n",
       "\n",
       "                                  discount  \n",
       "0  ['Последний день! ЕЩЕ -30%, код: ЛЮБИ']  \n",
       "1  ['Последний день! ЕЩЕ -20%, код: ЛЮБИ']  \n",
       "2  ['Последний день! ЕЩЕ -30%, код: ЛЮБИ']  \n",
       "3  ['Последний день! ЕЩЕ -30%, код: ЛЮБИ']  \n",
       "4  ['Последний день! ЕЩЕ -20%, код: ЛЮБИ']  "
      ]
     },
     "execution_count": 454,
     "metadata": {},
     "output_type": "execute_result"
    }
   ],
   "source": [
    "df_sunlight.head()"
   ]
  },
  {
   "cell_type": "code",
   "execution_count": 455,
   "id": "3ce06079-b802-46dc-b5c7-d9043ebc7366",
   "metadata": {
    "tags": []
   },
   "outputs": [],
   "source": [
    "# Функция для разделения столбца \"params\" на отдельные столбцы"
   ]
  },
  {
   "cell_type": "code",
   "execution_count": 456,
   "id": "bd830dcc",
   "metadata": {
    "tags": []
   },
   "outputs": [],
   "source": [
    "def get_params_from_dic(df):\n",
    "    spisok = []                                                           \n",
    "    for c in df['params']:\n",
    "        for i in c.keys():                                \n",
    "            spisok.append(i)              \n",
    "    spisok = set(spisok)\n",
    "    for s in spisok:\n",
    "        z = []\n",
    "        for j in df['params']:\n",
    "            try:\n",
    "                z.append(j[s])\n",
    "            except:\n",
    "                z.append(np.nan)\n",
    "        df[s] = z\n",
    "   \n",
    "    return df"
   ]
  },
  {
   "cell_type": "code",
   "execution_count": 457,
   "id": "b245652c-a318-4a85-bd43-9245c52ccb8a",
   "metadata": {
    "tags": []
   },
   "outputs": [],
   "source": [
    "# Чтобы функция написанная выше работала, необходимо, чтобы столбец \"params\" стал снова словарем, это происходит благодаря функции eval()"
   ]
  },
  {
   "cell_type": "code",
   "execution_count": 458,
   "id": "1a9592dd",
   "metadata": {
    "tags": []
   },
   "outputs": [
    {
     "name": "stdout",
     "output_type": "stream",
     "text": [
      "готово\n"
     ]
    }
   ],
   "source": [
    "df_sunlight['params'] = df_sunlight['params'].apply(lambda x: eval(x))\n",
    "get_params_from_dic(df_sunlight)\n",
    "print('готово')"
   ]
  },
  {
   "cell_type": "code",
   "execution_count": 459,
   "id": "5ba2f9e7-d4af-4b11-9b4c-8f8c97c6a6c9",
   "metadata": {
    "tags": []
   },
   "outputs": [
    {
     "data": {
      "text/plain": [
       "Материал изделия\n",
       "Розовое золото                                 9594\n",
       "Белое золото                                   2286\n",
       "Желтое золото                                  1812\n",
       "Белое золото, Розовое золото                    727\n",
       "NaN                                             268\n",
       "Белое золото, Желтое золото                     139\n",
       "Серебро                                          49\n",
       "Белое золото, Желтое золото, Розовое золото      29\n",
       "Текстиль                                         15\n",
       "Желтое золото, Розовое золото                    13\n",
       "Каучук                                            2\n",
       "Name: count, dtype: int64"
      ]
     },
     "execution_count": 459,
     "metadata": {},
     "output_type": "execute_result"
    }
   ],
   "source": [
    "df_sunlight['Материал изделия'].value_counts(dropna=False)"
   ]
  },
  {
   "cell_type": "code",
   "execution_count": 460,
   "id": "5d7ed9c8-e7db-49ed-bd74-a3ba30b7c344",
   "metadata": {
    "tags": []
   },
   "outputs": [],
   "source": [
    "df_sunlight['Материал изделия'] = df_sunlight['Материал изделия'].fillna('золото')"
   ]
  },
  {
   "cell_type": "code",
   "execution_count": 461,
   "id": "8c34691a-215a-478a-b818-7ea7ecf3c4fe",
   "metadata": {
    "tags": []
   },
   "outputs": [],
   "source": [
    "df_sunlight = df_sunlight[~(df_sunlight['Материал изделия'].str.contains('Серебро'))]\n",
    "df_sunlight = df_sunlight[~(df_sunlight['Материал изделия'].str.contains('Текстиль'))]"
   ]
  },
  {
   "cell_type": "code",
   "execution_count": 463,
   "id": "1da1c9a6-aeb7-4256-bce7-65f7d6f5723c",
   "metadata": {
    "tags": []
   },
   "outputs": [],
   "source": [
    "df_sunlight = df_sunlight[['date', 'competitor', 'name', 'group', 'Вес изделия', 'price_personal', 'price_y', 'discount', 'Вставка', 'Материал изделия', 'Плетение',\n",
    "                        'url']]\n",
    "\n",
    "df_sunlight.columns = ['data', 'competitor', 'name', 'group', 'weight', 'price_personal', 'price', 'discount', 'insert', 'metal', 'lock_type_or_weaving_type',\n",
    "                        'url']"
   ]
  },
  {
   "cell_type": "code",
   "execution_count": 464,
   "id": "dee8e1ec",
   "metadata": {
    "tags": []
   },
   "outputs": [
    {
     "data": {
      "text/html": [
       "<div>\n",
       "<style scoped>\n",
       "    .dataframe tbody tr th:only-of-type {\n",
       "        vertical-align: middle;\n",
       "    }\n",
       "\n",
       "    .dataframe tbody tr th {\n",
       "        vertical-align: top;\n",
       "    }\n",
       "\n",
       "    .dataframe thead th {\n",
       "        text-align: right;\n",
       "    }\n",
       "</style>\n",
       "<table border=\"1\" class=\"dataframe\">\n",
       "  <thead>\n",
       "    <tr style=\"text-align: right;\">\n",
       "      <th></th>\n",
       "      <th>data</th>\n",
       "      <th>competitor</th>\n",
       "      <th>name</th>\n",
       "      <th>group</th>\n",
       "      <th>weight</th>\n",
       "      <th>price_personal</th>\n",
       "      <th>price</th>\n",
       "      <th>discount</th>\n",
       "      <th>insert</th>\n",
       "      <th>metal</th>\n",
       "      <th>lock_type_or_weaving_type</th>\n",
       "      <th>url</th>\n",
       "    </tr>\n",
       "  </thead>\n",
       "  <tbody>\n",
       "    <tr>\n",
       "      <th>9733</th>\n",
       "      <td>14-03-2024</td>\n",
       "      <td>Sunlight</td>\n",
       "      <td>\\n    Золотое обручальное кольцо \\n</td>\n",
       "      <td>Кольца</td>\n",
       "      <td>4.64 г</td>\n",
       "      <td>33 453 ₽</td>\n",
       "      <td>47 790 ₽</td>\n",
       "      <td>['Последний день! ЕЩЕ -40%, код: ЛЮБИ']</td>\n",
       "      <td>NaN</td>\n",
       "      <td>Белое золото, Розовое золото</td>\n",
       "      <td>NaN</td>\n",
       "      <td>https://sunlight.net/catalog/ring_130385.html</td>\n",
       "    </tr>\n",
       "    <tr>\n",
       "      <th>99</th>\n",
       "      <td>14-03-2024</td>\n",
       "      <td>Sunlight</td>\n",
       "      <td>\\n    Золотой браслет с эмалью\\n</td>\n",
       "      <td>Браслеты</td>\n",
       "      <td>7.83 г</td>\n",
       "      <td>80 090 ₽</td>\n",
       "      <td>97 090 ₽</td>\n",
       "      <td>['Последний день! ЕЩЕ -30%, код: ЛЮБИ']</td>\n",
       "      <td>Эмаль</td>\n",
       "      <td>Розовое золото</td>\n",
       "      <td>NaN</td>\n",
       "      <td>https://sunlight.net/catalog/bracelets_182387....</td>\n",
       "    </tr>\n",
       "    <tr>\n",
       "      <th>3954</th>\n",
       "      <td>14-03-2024</td>\n",
       "      <td>Sunlight</td>\n",
       "      <td>\\n    Золотые серьги «Бриллианты Якутии»\\n</td>\n",
       "      <td>Серьги</td>\n",
       "      <td>2.3 г</td>\n",
       "      <td>58 990 ₽</td>\n",
       "      <td>75 990 ₽</td>\n",
       "      <td>['Последний день! ЕЩЕ -35%, код: ЛЮБИ']</td>\n",
       "      <td>Бриллиант</td>\n",
       "      <td>Белое золото</td>\n",
       "      <td>NaN</td>\n",
       "      <td>https://sunlight.net/catalog/earring_990057.html</td>\n",
       "    </tr>\n",
       "    <tr>\n",
       "      <th>11062</th>\n",
       "      <td>14-03-2024</td>\n",
       "      <td>Sunlight</td>\n",
       "      <td>\\n    Золотая цепь\\n</td>\n",
       "      <td>Цепи</td>\n",
       "      <td>7.7 г</td>\n",
       "      <td>NaN</td>\n",
       "      <td>38 423 ₽</td>\n",
       "      <td>['ШОК! Всего 4 990 руб. за грамм!', 'ХИТ-цена']</td>\n",
       "      <td>NaN</td>\n",
       "      <td>золото</td>\n",
       "      <td>Снейк</td>\n",
       "      <td>https://sunlight.net/catalog/chains_311700.html</td>\n",
       "    </tr>\n",
       "    <tr>\n",
       "      <th>6787</th>\n",
       "      <td>14-03-2024</td>\n",
       "      <td>Sunlight</td>\n",
       "      <td>\\n    Золотые серьги с фианитами\\n</td>\n",
       "      <td>Серьги</td>\n",
       "      <td>4.13 г</td>\n",
       "      <td>26 593 ₽</td>\n",
       "      <td>37 990 ₽</td>\n",
       "      <td>['Последний день! ЕЩЕ -30%, код: ЛЮБИ']</td>\n",
       "      <td>Фианит</td>\n",
       "      <td>Розовое золото</td>\n",
       "      <td>NaN</td>\n",
       "      <td>https://sunlight.net/catalog/earring_320200.html</td>\n",
       "    </tr>\n",
       "  </tbody>\n",
       "</table>\n",
       "</div>"
      ],
      "text/plain": [
       "             data competitor                                          name  \\\n",
       "9733   14-03-2024   Sunlight         \\n    Золотое обручальное кольцо \\n     \n",
       "99     14-03-2024   Sunlight            \\n    Золотой браслет с эмалью\\n     \n",
       "3954   14-03-2024   Sunlight  \\n    Золотые серьги «Бриллианты Якутии»\\n     \n",
       "11062  14-03-2024   Sunlight                        \\n    Золотая цепь\\n     \n",
       "6787   14-03-2024   Sunlight          \\n    Золотые серьги с фианитами\\n     \n",
       "\n",
       "          group  weight price_personal     price  \\\n",
       "9733     Кольца  4.64 г       33 453 ₽  47 790 ₽   \n",
       "99     Браслеты  7.83 г       80 090 ₽  97 090 ₽   \n",
       "3954     Серьги   2.3 г       58 990 ₽  75 990 ₽   \n",
       "11062      Цепи   7.7 г            NaN  38 423 ₽   \n",
       "6787     Серьги  4.13 г       26 593 ₽  37 990 ₽   \n",
       "\n",
       "                                              discount     insert  \\\n",
       "9733           ['Последний день! ЕЩЕ -40%, код: ЛЮБИ']        NaN   \n",
       "99             ['Последний день! ЕЩЕ -30%, код: ЛЮБИ']      Эмаль   \n",
       "3954           ['Последний день! ЕЩЕ -35%, код: ЛЮБИ']  Бриллиант   \n",
       "11062  ['ШОК! Всего 4 990 руб. за грамм!', 'ХИТ-цена']        NaN   \n",
       "6787           ['Последний день! ЕЩЕ -30%, код: ЛЮБИ']     Фианит   \n",
       "\n",
       "                              metal lock_type_or_weaving_type  \\\n",
       "9733   Белое золото, Розовое золото                       NaN   \n",
       "99                   Розовое золото                       NaN   \n",
       "3954                   Белое золото                       NaN   \n",
       "11062                        золото                     Снейк   \n",
       "6787                 Розовое золото                       NaN   \n",
       "\n",
       "                                                     url  \n",
       "9733       https://sunlight.net/catalog/ring_130385.html  \n",
       "99     https://sunlight.net/catalog/bracelets_182387....  \n",
       "3954    https://sunlight.net/catalog/earring_990057.html  \n",
       "11062    https://sunlight.net/catalog/chains_311700.html  \n",
       "6787    https://sunlight.net/catalog/earring_320200.html  "
      ]
     },
     "execution_count": 464,
     "metadata": {},
     "output_type": "execute_result"
    }
   ],
   "source": [
    "df_sunlight.sample(5)"
   ]
  },
  {
   "cell_type": "code",
   "execution_count": 465,
   "id": "3dedc52f",
   "metadata": {},
   "outputs": [
    {
     "data": {
      "text/plain": [
       "Index(['data', 'competitor', 'name', 'group', 'weight', 'price_personal',\n",
       "       'price', 'discount', 'insert', 'metal', 'lock_type_or_weaving_type',\n",
       "       'url'],\n",
       "      dtype='object')"
      ]
     },
     "execution_count": 465,
     "metadata": {},
     "output_type": "execute_result"
    }
   ],
   "source": [
    "df_sunlight.columns"
   ]
  },
  {
   "cell_type": "code",
   "execution_count": 466,
   "id": "72b898f1-55b7-4761-b8a8-24911e4e75a3",
   "metadata": {
    "tags": []
   },
   "outputs": [],
   "source": [
    "df_sunlight['price_personal'] = df_sunlight['price_personal'].fillna(df_sunlight['price'])"
   ]
  },
  {
   "cell_type": "code",
   "execution_count": 467,
   "id": "2251d501-9303-474e-acbc-d0d31be4a4de",
   "metadata": {
    "tags": []
   },
   "outputs": [],
   "source": [
    "# Очистка данных для дальнейших расчетов"
   ]
  },
  {
   "cell_type": "code",
   "execution_count": 468,
   "id": "d60001cd",
   "metadata": {
    "tags": []
   },
   "outputs": [],
   "source": [
    "df_sunlight['weight'] = df_sunlight['weight'].str.replace(' г', '')\n",
    "df_sunlight['name'] = df_sunlight['name'].str.replace('\\n', '').str.strip()\n",
    "df_sunlight['price'] = df_sunlight['price'].str.replace('₽', '').str.strip()\n",
    "df_sunlight['price'] = df_sunlight['price'].str.replace('\\u202f', '')\n",
    "df_sunlight['price_personal'] = df_sunlight['price_personal'].str.replace('\\u202f', '')\n",
    "df_sunlight['price_personal'] = df_sunlight['price_personal'].str.replace('₽', '').str.strip()"
   ]
  },
  {
   "cell_type": "code",
   "execution_count": 469,
   "id": "262f201b",
   "metadata": {
    "tags": []
   },
   "outputs": [],
   "source": [
    "df_sunlight['price'] = df_sunlight['price'].astype('float')\n",
    "df_sunlight['price_personal'] = df_sunlight['price_personal'].astype('float')"
   ]
  },
  {
   "cell_type": "code",
   "execution_count": 470,
   "id": "e3b4f9f2",
   "metadata": {
    "tags": []
   },
   "outputs": [],
   "source": [
    "df_sunlight['price_personal'] = df_sunlight['price_personal'].fillna(df_sunlight['price'])"
   ]
  },
  {
   "cell_type": "code",
   "execution_count": 483,
   "id": "7c370235",
   "metadata": {
    "tags": []
   },
   "outputs": [
    {
     "data": {
      "text/plain": [
       "discount\n",
       "['Последний день! ЕЩЕ -30%, код: ЛЮБИ']            4794\n",
       "['Последний день! ЕЩЕ -35%, код: ЛЮБИ']            3933\n",
       "['Последний день! ЕЩЕ -40%, код: ЛЮБИ']            3030\n",
       "['Последний день! ЕЩЕ -20%, код: ЛЮБИ']            2185\n",
       "['ШОК! Всего 4 990 руб. за грамм!', 'ХИТ-цена']     453\n",
       "[nan]                                               244\n",
       "['ХИТ-цена']                                        182\n",
       "['ЕЩЕ -35% по коду: СЕГОДНЯ']                        49\n",
       "Name: count, dtype: int64"
      ]
     },
     "execution_count": 483,
     "metadata": {},
     "output_type": "execute_result"
    }
   ],
   "source": [
    "df_sunlight.discount.value_counts()"
   ]
  },
  {
   "cell_type": "code",
   "execution_count": 472,
   "id": "2d797fc2-bb5f-43bb-8f03-5cc9241277b1",
   "metadata": {
    "tags": []
   },
   "outputs": [],
   "source": [
    "# Для расчета персональной стоимости нужно выделить изделия для которых применины баллы. Для этого в парсинге цен используються cookies аккаунта с баллами (любым кол-вом).\n",
    "#Чтобы определить если ли персональная цена сравниваются 2 столба \"price\" и \"price_personal.\n",
    "#Если они не равны, значит для этой позиции применяются бонусные баллы."
   ]
  },
  {
   "cell_type": "code",
   "execution_count": 484,
   "id": "88eadff0",
   "metadata": {
    "tags": []
   },
   "outputs": [],
   "source": [
    "no_discount = 0\n",
    "discount = 17000\n",
    "df_sunlight['discount_flag'] = np.nan\n",
    "for i in df_sunlight.index:\n",
    "    if df_sunlight['discount'][i] != \"['ХИТ-цена']\" and df_sunlight['discount'][i] != \"['ШОК! Всего 4 990 руб. за грамм!', 'ХИТ-цена']\":\n",
    "        df_sunlight['discount_flag'][i] = df_sunlight['price'][i] * 0.05 + 17000\n",
    "    else:\n",
    "        df_sunlight['discount_flag'][i] = no_discount"
   ]
  },
  {
   "cell_type": "code",
   "execution_count": 485,
   "id": "ae847b42-6db4-4435-9efe-9f8013768a43",
   "metadata": {
    "tags": []
   },
   "outputs": [
    {
     "data": {
      "text/plain": [
       "discount_flag\n",
       "0.0        635\n",
       "18299.5    280\n",
       "18099.5    278\n",
       "18249.5    270\n",
       "18449.5    267\n",
       "          ... \n",
       "38999.5      1\n",
       "21952.0      1\n",
       "19101.0      1\n",
       "18345.0      1\n",
       "17567.5      1\n",
       "Name: count, Length: 2217, dtype: int64"
      ]
     },
     "execution_count": 485,
     "metadata": {},
     "output_type": "execute_result"
    }
   ],
   "source": [
    "df_sunlight['discount_flag'].value_counts()"
   ]
  },
  {
   "cell_type": "code",
   "execution_count": 486,
   "id": "c10cc0d8",
   "metadata": {
    "tags": []
   },
   "outputs": [
    {
     "data": {
      "text/html": [
       "<div>\n",
       "<style scoped>\n",
       "    .dataframe tbody tr th:only-of-type {\n",
       "        vertical-align: middle;\n",
       "    }\n",
       "\n",
       "    .dataframe tbody tr th {\n",
       "        vertical-align: top;\n",
       "    }\n",
       "\n",
       "    .dataframe thead th {\n",
       "        text-align: right;\n",
       "    }\n",
       "</style>\n",
       "<table border=\"1\" class=\"dataframe\">\n",
       "  <thead>\n",
       "    <tr style=\"text-align: right;\">\n",
       "      <th></th>\n",
       "      <th>data</th>\n",
       "      <th>competitor</th>\n",
       "      <th>name</th>\n",
       "      <th>group</th>\n",
       "      <th>weight</th>\n",
       "      <th>price_personal</th>\n",
       "      <th>price</th>\n",
       "      <th>discount</th>\n",
       "      <th>insert</th>\n",
       "      <th>metal</th>\n",
       "      <th>lock_type_or_weaving_type</th>\n",
       "      <th>url</th>\n",
       "      <th>discount_flag</th>\n",
       "    </tr>\n",
       "  </thead>\n",
       "  <tbody>\n",
       "    <tr>\n",
       "      <th>0</th>\n",
       "      <td>14-03-2024</td>\n",
       "      <td>Sunlight</td>\n",
       "      <td>Золотой браслет с фианитами</td>\n",
       "      <td>Браслеты</td>\n",
       "      <td>1.08</td>\n",
       "      <td>6643.0</td>\n",
       "      <td>9490.0</td>\n",
       "      <td>['Последний день! ЕЩЕ -30%, код: ЛЮБИ']</td>\n",
       "      <td>Фианит</td>\n",
       "      <td>Белое золото</td>\n",
       "      <td>NaN</td>\n",
       "      <td>https://sunlight.net/catalog/bracelets_342484....</td>\n",
       "      <td>17474.5</td>\n",
       "    </tr>\n",
       "    <tr>\n",
       "      <th>1</th>\n",
       "      <td>14-03-2024</td>\n",
       "      <td>Sunlight</td>\n",
       "      <td>Золотое шейное украшение с сапфирами и бриллиа...</td>\n",
       "      <td>Шейное украшение</td>\n",
       "      <td>3.36</td>\n",
       "      <td>47990.0</td>\n",
       "      <td>64990.0</td>\n",
       "      <td>['Последний день! ЕЩЕ -20%, код: ЛЮБИ']</td>\n",
       "      <td>Бриллиант, Сапфир</td>\n",
       "      <td>Белое золото</td>\n",
       "      <td>NaN</td>\n",
       "      <td>https://sunlight.net/catalog/neck_decoration_3...</td>\n",
       "      <td>20249.5</td>\n",
       "    </tr>\n",
       "    <tr>\n",
       "      <th>2</th>\n",
       "      <td>14-03-2024</td>\n",
       "      <td>Sunlight</td>\n",
       "      <td>Золотое шейное украшение</td>\n",
       "      <td>Шейное украшение</td>\n",
       "      <td>2.3</td>\n",
       "      <td>16583.0</td>\n",
       "      <td>23690.0</td>\n",
       "      <td>['Последний день! ЕЩЕ -30%, код: ЛЮБИ']</td>\n",
       "      <td>NaN</td>\n",
       "      <td>Желтое золото</td>\n",
       "      <td>NaN</td>\n",
       "      <td>https://sunlight.net/catalog/neck_decoration_3...</td>\n",
       "      <td>18184.5</td>\n",
       "    </tr>\n",
       "    <tr>\n",
       "      <th>3</th>\n",
       "      <td>14-03-2024</td>\n",
       "      <td>Sunlight</td>\n",
       "      <td>Золотое шейное украшение</td>\n",
       "      <td>Шейное украшение</td>\n",
       "      <td>2.3</td>\n",
       "      <td>16261.0</td>\n",
       "      <td>23230.0</td>\n",
       "      <td>['Последний день! ЕЩЕ -30%, код: ЛЮБИ']</td>\n",
       "      <td>NaN</td>\n",
       "      <td>Розовое золото</td>\n",
       "      <td>NaN</td>\n",
       "      <td>https://sunlight.net/catalog/neck_decoration_3...</td>\n",
       "      <td>18161.5</td>\n",
       "    </tr>\n",
       "    <tr>\n",
       "      <th>4</th>\n",
       "      <td>14-03-2024</td>\n",
       "      <td>Sunlight</td>\n",
       "      <td>Золотой браслет</td>\n",
       "      <td>Браслеты</td>\n",
       "      <td>11.89</td>\n",
       "      <td>109030.0</td>\n",
       "      <td>126030.0</td>\n",
       "      <td>['Последний день! ЕЩЕ -20%, код: ЛЮБИ']</td>\n",
       "      <td>NaN</td>\n",
       "      <td>Розовое золото</td>\n",
       "      <td>NaN</td>\n",
       "      <td>https://sunlight.net/catalog/bracelets_340830....</td>\n",
       "      <td>23301.5</td>\n",
       "    </tr>\n",
       "  </tbody>\n",
       "</table>\n",
       "</div>"
      ],
      "text/plain": [
       "         data competitor                                               name  \\\n",
       "0  14-03-2024   Sunlight                        Золотой браслет с фианитами   \n",
       "1  14-03-2024   Sunlight  Золотое шейное украшение с сапфирами и бриллиа...   \n",
       "2  14-03-2024   Sunlight                           Золотое шейное украшение   \n",
       "3  14-03-2024   Sunlight                           Золотое шейное украшение   \n",
       "4  14-03-2024   Sunlight                                    Золотой браслет   \n",
       "\n",
       "              group weight  price_personal     price  \\\n",
       "0          Браслеты   1.08          6643.0    9490.0   \n",
       "1  Шейное украшение   3.36         47990.0   64990.0   \n",
       "2  Шейное украшение    2.3         16583.0   23690.0   \n",
       "3  Шейное украшение    2.3         16261.0   23230.0   \n",
       "4          Браслеты  11.89        109030.0  126030.0   \n",
       "\n",
       "                                  discount             insert           metal  \\\n",
       "0  ['Последний день! ЕЩЕ -30%, код: ЛЮБИ']             Фианит    Белое золото   \n",
       "1  ['Последний день! ЕЩЕ -20%, код: ЛЮБИ']  Бриллиант, Сапфир    Белое золото   \n",
       "2  ['Последний день! ЕЩЕ -30%, код: ЛЮБИ']                NaN   Желтое золото   \n",
       "3  ['Последний день! ЕЩЕ -30%, код: ЛЮБИ']                NaN  Розовое золото   \n",
       "4  ['Последний день! ЕЩЕ -20%, код: ЛЮБИ']                NaN  Розовое золото   \n",
       "\n",
       "  lock_type_or_weaving_type  \\\n",
       "0                       NaN   \n",
       "1                       NaN   \n",
       "2                       NaN   \n",
       "3                       NaN   \n",
       "4                       NaN   \n",
       "\n",
       "                                                 url  discount_flag  \n",
       "0  https://sunlight.net/catalog/bracelets_342484....        17474.5  \n",
       "1  https://sunlight.net/catalog/neck_decoration_3...        20249.5  \n",
       "2  https://sunlight.net/catalog/neck_decoration_3...        18184.5  \n",
       "3  https://sunlight.net/catalog/neck_decoration_3...        18161.5  \n",
       "4  https://sunlight.net/catalog/bracelets_340830....        23301.5  "
      ]
     },
     "execution_count": 486,
     "metadata": {},
     "output_type": "execute_result"
    }
   ],
   "source": [
    "df_sunlight.head()"
   ]
  },
  {
   "cell_type": "code",
   "execution_count": 487,
   "id": "07989e9e-c267-40a6-a956-9035db00a4d0",
   "metadata": {
    "tags": []
   },
   "outputs": [],
   "source": [
    "# Проводим замену купонов на числа для дальнейшего расчета"
   ]
  },
  {
   "cell_type": "code",
   "execution_count": 490,
   "id": "9c4c9df9",
   "metadata": {
    "tags": []
   },
   "outputs": [
    {
     "data": {
      "text/plain": [
       "discount\n",
       "['Последний день! ЕЩЕ -30%, код: ЛЮБИ']            4794\n",
       "['Последний день! ЕЩЕ -35%, код: ЛЮБИ']            3933\n",
       "['Последний день! ЕЩЕ -40%, код: ЛЮБИ']            3030\n",
       "['Последний день! ЕЩЕ -20%, код: ЛЮБИ']            2185\n",
       "['ШОК! Всего 4 990 руб. за грамм!', 'ХИТ-цена']     453\n",
       "[nan]                                               244\n",
       "['ХИТ-цена']                                        182\n",
       "['ЕЩЕ -35% по коду: СЕГОДНЯ']                        49\n",
       "Name: count, dtype: int64"
      ]
     },
     "execution_count": 490,
     "metadata": {},
     "output_type": "execute_result"
    }
   ],
   "source": [
    "df_sunlight['discount'].value_counts(dropna=False)"
   ]
  },
  {
   "cell_type": "code",
   "execution_count": 491,
   "id": "e539767f",
   "metadata": {},
   "outputs": [],
   "source": [
    "df_sunlight.to_excel(r'C:\\Users\\Trenkin.Sergey\\Desktop\\parsers\\workspace\\\\test_1.xlsx', index=False)"
   ]
  },
  {
   "cell_type": "code",
   "execution_count": 492,
   "id": "bcd6ba87-7634-4c4f-9a7a-4bf5cb23234b",
   "metadata": {
    "tags": []
   },
   "outputs": [],
   "source": [
    "df_sunlight = pd.read_excel(r'C:\\Users\\Trenkin.Sergey\\Desktop\\parsers\\workspace\\\\test_1.xlsx')"
   ]
  },
  {
   "cell_type": "code",
   "execution_count": 493,
   "id": "990cef2b",
   "metadata": {
    "tags": []
   },
   "outputs": [],
   "source": [
    "df_sunlight['discount'] = df_sunlight['discount'].str.replace('ЕЩЕ -35% по коду: СЕГОДНЯ', '0.65')\n",
    "df_sunlight['discount'] = df_sunlight['discount'].str.replace('Последний день! ЕЩЕ -20%, код: ЛЮБИ', '0.8')\n",
    "df_sunlight['discount'] = df_sunlight['discount'].str.replace('Последний день! ЕЩЕ -30%, код: ЛЮБИ', '0.7')\n",
    "df_sunlight['discount'] = df_sunlight['discount'].str.replace('Последний день! ЕЩЕ -40%, код: ЛЮБИ', '0.6')\n",
    "df_sunlight['discount'] = df_sunlight['discount'].str.replace('Последний день! ЕЩЕ -35%, код: ЛЮБИ', '0.65')\n",
    "df_sunlight['discount'] = df_sunlight['discount'].str.replace('ХИТ-цена', '1')\n",
    "df_sunlight['discount'] = df_sunlight['discount'].str.replace('nan', '1')\n",
    "df_sunlight['discount'] = df_sunlight['discount'].str.replace('ШОК! Всего 4 990 руб. за грамм!', '1')"
   ]
  },
  {
   "cell_type": "code",
   "execution_count": 494,
   "id": "d85cb01a-805b-4a63-9cc9-9578e555eea9",
   "metadata": {
    "tags": []
   },
   "outputs": [],
   "source": [
    "df_sunlight['discount'] = df_sunlight['discount'].str.replace('Нет скидочного купона', '1')"
   ]
  },
  {
   "cell_type": "code",
   "execution_count": 495,
   "id": "6ac3f155-586d-40cc-8ace-2517da5fa6b5",
   "metadata": {
    "tags": []
   },
   "outputs": [],
   "source": [
    "# df_sunlight['discount'] = df_sunlight['discount'].str.replace(\"1, 'Всего 4790 руб. за грамм!'\", '1')"
   ]
  },
  {
   "cell_type": "code",
   "execution_count": 496,
   "id": "80442ae9-c1eb-4383-ac66-43de7d239b9a",
   "metadata": {
    "tags": []
   },
   "outputs": [],
   "source": [
    "df_sunlight['discount'] = df_sunlight['discount'].str.replace('[', '')\n",
    "df_sunlight['discount'] = df_sunlight['discount'].str.replace(']', '')"
   ]
  },
  {
   "cell_type": "code",
   "execution_count": 497,
   "id": "c6bffcca",
   "metadata": {},
   "outputs": [],
   "source": [
    "df_sunlight['discount'] = df_sunlight['discount'].str.replace(\"'\", '')"
   ]
  },
  {
   "cell_type": "code",
   "execution_count": 498,
   "id": "c8e9aa29-e569-4064-bf58-2af03fbd4149",
   "metadata": {
    "tags": []
   },
   "outputs": [
    {
     "data": {
      "text/plain": [
       "0          9490\n",
       "1         64990\n",
       "2         23690\n",
       "3         23230\n",
       "4        126030\n",
       "          ...  \n",
       "14865     21990\n",
       "14866      9190\n",
       "14867      7490\n",
       "14868     11350\n",
       "14869     10990\n",
       "Name: price, Length: 14870, dtype: int64"
      ]
     },
     "execution_count": 498,
     "metadata": {},
     "output_type": "execute_result"
    }
   ],
   "source": [
    "df_sunlight['price']"
   ]
  },
  {
   "cell_type": "code",
   "execution_count": 499,
   "id": "7823f042",
   "metadata": {
    "tags": []
   },
   "outputs": [],
   "source": [
    "df_sunlight['discount'] = df_sunlight['discount'].astype('float')\n",
    "df_sunlight['price'] = df_sunlight['price'].astype('float')\n",
    "df_sunlight['price_personal'] = df_sunlight['price_personal'].astype('float')"
   ]
  },
  {
   "cell_type": "code",
   "execution_count": 500,
   "id": "3058e702-40b1-403e-b65c-b149f0ce818f",
   "metadata": {
    "tags": []
   },
   "outputs": [],
   "source": [
    "# Применяем скидочные купоны для каждого изделия"
   ]
  },
  {
   "cell_type": "code",
   "execution_count": 501,
   "id": "c38a2b30",
   "metadata": {
    "tags": []
   },
   "outputs": [],
   "source": [
    "df_sunlight['price'] = df_sunlight['price'] * df_sunlight['discount']"
   ]
  },
  {
   "cell_type": "code",
   "execution_count": 502,
   "id": "656999be",
   "metadata": {
    "tags": []
   },
   "outputs": [
    {
     "data": {
      "text/plain": [
       "0"
      ]
     },
     "execution_count": 502,
     "metadata": {},
     "output_type": "execute_result"
    }
   ],
   "source": [
    "df_sunlight['price'].isna().sum()"
   ]
  },
  {
   "cell_type": "code",
   "execution_count": 503,
   "id": "354a19f3",
   "metadata": {
    "tags": []
   },
   "outputs": [
    {
     "data": {
      "text/plain": [
       "0"
      ]
     },
     "execution_count": 503,
     "metadata": {},
     "output_type": "execute_result"
    }
   ],
   "source": [
    "df_sunlight['price_personal'].isna().sum()"
   ]
  },
  {
   "cell_type": "code",
   "execution_count": 504,
   "id": "1c7609b1-27a9-431e-a43c-5ef6b595ed68",
   "metadata": {
    "tags": []
   },
   "outputs": [],
   "source": [
    "df_sunlight = df_sunlight.dropna(subset=['weight'])"
   ]
  },
  {
   "cell_type": "code",
   "execution_count": 505,
   "id": "cc24335c",
   "metadata": {},
   "outputs": [
    {
     "name": "stdout",
     "output_type": "stream",
     "text": [
      "<class 'pandas.core.frame.DataFrame'>\n",
      "Index: 14869 entries, 0 to 14869\n",
      "Data columns (total 13 columns):\n",
      " #   Column                     Non-Null Count  Dtype  \n",
      "---  ------                     --------------  -----  \n",
      " 0   data                       14869 non-null  object \n",
      " 1   competitor                 14869 non-null  object \n",
      " 2   name                       14869 non-null  object \n",
      " 3   group                      14869 non-null  object \n",
      " 4   weight                     14869 non-null  float64\n",
      " 5   price_personal             14869 non-null  float64\n",
      " 6   price                      14869 non-null  float64\n",
      " 7   discount                   14869 non-null  float64\n",
      " 8   insert                     11204 non-null  object \n",
      " 9   metal                      14869 non-null  object \n",
      " 10  lock_type_or_weaving_type  452 non-null    object \n",
      " 11  url                        14869 non-null  object \n",
      " 12  discount_flag              14869 non-null  float64\n",
      "dtypes: float64(5), object(8)\n",
      "memory usage: 1.6+ MB\n"
     ]
    }
   ],
   "source": [
    "df_sunlight.info()"
   ]
  },
  {
   "cell_type": "code",
   "execution_count": 506,
   "id": "9914b27a-e776-4f2e-bc5c-227a581b13c6",
   "metadata": {},
   "outputs": [],
   "source": [
    "# Бонусными баллами у Sunlight можно оплатить до 50% от стоимости, поэтому для расчета персональной цены используются следующая логика:\n",
    "# Если количество бонусных баллов меньше или равно 50% от стоимости изделия, тогда стоимость равна - цена - бонусные баллы\n",
    "# Иначе стоимость равна - цена - 50% от цены"
   ]
  },
  {
   "cell_type": "code",
   "execution_count": 507,
   "id": "7e1de153",
   "metadata": {
    "tags": []
   },
   "outputs": [],
   "source": [
    "for i in df_sunlight.index:\n",
    "    if df_sunlight['discount_flag'][i] <= (df_sunlight['price'][i] * 0.3):\n",
    "        df_sunlight['price_personal'][i] = df_sunlight['price'][i] - df_sunlight['discount_flag'][i]\n",
    "    else:\n",
    "        df_sunlight['price_personal'][i] = df_sunlight['price'][i] - (df_sunlight['price'][i] * 0.3)"
   ]
  },
  {
   "cell_type": "code",
   "execution_count": 442,
   "id": "a277dc45-2cd2-4df6-961e-66c40de90ae5",
   "metadata": {},
   "outputs": [],
   "source": [
    "# Проверям верность расчетов на самой маленькой стоимости"
   ]
  },
  {
   "cell_type": "code",
   "execution_count": 508,
   "id": "7dc32b61",
   "metadata": {
    "tags": []
   },
   "outputs": [
    {
     "data": {
      "text/plain": [
       "751.8"
      ]
     },
     "execution_count": 508,
     "metadata": {},
     "output_type": "execute_result"
    }
   ],
   "source": [
    "df_sunlight['price_personal'].min()"
   ]
  },
  {
   "cell_type": "code",
   "execution_count": 509,
   "id": "b6119b0c",
   "metadata": {
    "tags": []
   },
   "outputs": [],
   "source": [
    "df_sunlight['weight'] = df_sunlight['weight'].astype('float')"
   ]
  },
  {
   "cell_type": "code",
   "execution_count": 510,
   "id": "a7ab9d10",
   "metadata": {
    "tags": []
   },
   "outputs": [],
   "source": [
    "df_sunlight['price_for_gramm'] = (df_sunlight['price_personal'] / df_sunlight['weight']).round(0)"
   ]
  },
  {
   "cell_type": "code",
   "execution_count": 511,
   "id": "fad3c4dd",
   "metadata": {
    "tags": []
   },
   "outputs": [],
   "source": [
    "df_sunlight['price_case'] = np.where(\n",
    "    df_sunlight['price_for_gramm'] <= 5500, 'до 5 500 руб.', \n",
    "    np.where(\n",
    "    (df_sunlight['price_for_gramm'] <= 6000), '5 500 руб. - 6 000 руб.', \n",
    "    np.where(\n",
    "    (df_sunlight['price_for_gramm'] <= 6500), '6 000 руб. - 6 500 руб.', \n",
    "    np.where(\n",
    "    (df_sunlight['price_for_gramm'] <= 7000), '6 500 руб. - 7 000 руб.', \n",
    "    np.where(\n",
    "    (df_sunlight['price_for_gramm'] <= 8000), '7 000 руб. - 8 000 руб.', \n",
    "    np.where(\n",
    "    (df_sunlight['price_for_gramm'] <= 9000), '8 000 руб. - 9 000 руб.', \n",
    "    np.where(\n",
    "    (df_sunlight['price_for_gramm'] <= 10000), '9 000 руб. - 10 000 руб.',  'свыше 10 000 руб.'\n",
    ")))))))"
   ]
  },
  {
   "cell_type": "code",
   "execution_count": 512,
   "id": "467f7389",
   "metadata": {
    "tags": []
   },
   "outputs": [
    {
     "data": {
      "text/plain": [
       "count    1.486900e+04\n",
       "mean     1.055129e+04\n",
       "std      3.143071e+04\n",
       "min      2.150000e+02\n",
       "5%       4.433400e+03\n",
       "50%      6.163000e+03\n",
       "99%      7.237880e+04\n",
       "max      1.401419e+06\n",
       "Name: price_for_gramm, dtype: float64"
      ]
     },
     "execution_count": 512,
     "metadata": {},
     "output_type": "execute_result"
    }
   ],
   "source": [
    "df_sunlight['price_for_gramm'].describe([0.05, 0.99])"
   ]
  },
  {
   "cell_type": "code",
   "execution_count": 513,
   "id": "3dc876d7",
   "metadata": {
    "tags": []
   },
   "outputs": [
    {
     "data": {
      "text/html": [
       "<div>\n",
       "<style scoped>\n",
       "    .dataframe tbody tr th:only-of-type {\n",
       "        vertical-align: middle;\n",
       "    }\n",
       "\n",
       "    .dataframe tbody tr th {\n",
       "        vertical-align: top;\n",
       "    }\n",
       "\n",
       "    .dataframe thead th {\n",
       "        text-align: right;\n",
       "    }\n",
       "</style>\n",
       "<table border=\"1\" class=\"dataframe\">\n",
       "  <thead>\n",
       "    <tr style=\"text-align: right;\">\n",
       "      <th></th>\n",
       "      <th>data</th>\n",
       "      <th>competitor</th>\n",
       "      <th>name</th>\n",
       "      <th>group</th>\n",
       "      <th>weight</th>\n",
       "      <th>price_personal</th>\n",
       "      <th>price</th>\n",
       "      <th>discount</th>\n",
       "      <th>insert</th>\n",
       "      <th>metal</th>\n",
       "      <th>lock_type_or_weaving_type</th>\n",
       "      <th>url</th>\n",
       "      <th>discount_flag</th>\n",
       "      <th>price_for_gramm</th>\n",
       "      <th>price_case</th>\n",
       "    </tr>\n",
       "  </thead>\n",
       "  <tbody>\n",
       "    <tr>\n",
       "      <th>0</th>\n",
       "      <td>14-03-2024</td>\n",
       "      <td>Sunlight</td>\n",
       "      <td>Золотой браслет с фианитами</td>\n",
       "      <td>Браслеты</td>\n",
       "      <td>1.08</td>\n",
       "      <td>4650.1</td>\n",
       "      <td>6643.0</td>\n",
       "      <td>0.7</td>\n",
       "      <td>Фианит</td>\n",
       "      <td>Белое золото</td>\n",
       "      <td>NaN</td>\n",
       "      <td>https://sunlight.net/catalog/bracelets_342484....</td>\n",
       "      <td>17474.5</td>\n",
       "      <td>4306.0</td>\n",
       "      <td>до 5 500 руб.</td>\n",
       "    </tr>\n",
       "    <tr>\n",
       "      <th>1</th>\n",
       "      <td>14-03-2024</td>\n",
       "      <td>Sunlight</td>\n",
       "      <td>Золотое шейное украшение с сапфирами и бриллиа...</td>\n",
       "      <td>Шейное украшение</td>\n",
       "      <td>3.36</td>\n",
       "      <td>36394.4</td>\n",
       "      <td>51992.0</td>\n",
       "      <td>0.8</td>\n",
       "      <td>Бриллиант, Сапфир</td>\n",
       "      <td>Белое золото</td>\n",
       "      <td>NaN</td>\n",
       "      <td>https://sunlight.net/catalog/neck_decoration_3...</td>\n",
       "      <td>20249.5</td>\n",
       "      <td>10832.0</td>\n",
       "      <td>свыше 10 000 руб.</td>\n",
       "    </tr>\n",
       "    <tr>\n",
       "      <th>2</th>\n",
       "      <td>14-03-2024</td>\n",
       "      <td>Sunlight</td>\n",
       "      <td>Золотое шейное украшение</td>\n",
       "      <td>Шейное украшение</td>\n",
       "      <td>2.30</td>\n",
       "      <td>11608.1</td>\n",
       "      <td>16583.0</td>\n",
       "      <td>0.7</td>\n",
       "      <td>NaN</td>\n",
       "      <td>Желтое золото</td>\n",
       "      <td>NaN</td>\n",
       "      <td>https://sunlight.net/catalog/neck_decoration_3...</td>\n",
       "      <td>18184.5</td>\n",
       "      <td>5047.0</td>\n",
       "      <td>до 5 500 руб.</td>\n",
       "    </tr>\n",
       "    <tr>\n",
       "      <th>3</th>\n",
       "      <td>14-03-2024</td>\n",
       "      <td>Sunlight</td>\n",
       "      <td>Золотое шейное украшение</td>\n",
       "      <td>Шейное украшение</td>\n",
       "      <td>2.30</td>\n",
       "      <td>11382.7</td>\n",
       "      <td>16261.0</td>\n",
       "      <td>0.7</td>\n",
       "      <td>NaN</td>\n",
       "      <td>Розовое золото</td>\n",
       "      <td>NaN</td>\n",
       "      <td>https://sunlight.net/catalog/neck_decoration_3...</td>\n",
       "      <td>18161.5</td>\n",
       "      <td>4949.0</td>\n",
       "      <td>до 5 500 руб.</td>\n",
       "    </tr>\n",
       "    <tr>\n",
       "      <th>4</th>\n",
       "      <td>14-03-2024</td>\n",
       "      <td>Sunlight</td>\n",
       "      <td>Золотой браслет</td>\n",
       "      <td>Браслеты</td>\n",
       "      <td>11.89</td>\n",
       "      <td>77522.5</td>\n",
       "      <td>100824.0</td>\n",
       "      <td>0.8</td>\n",
       "      <td>NaN</td>\n",
       "      <td>Розовое золото</td>\n",
       "      <td>NaN</td>\n",
       "      <td>https://sunlight.net/catalog/bracelets_340830....</td>\n",
       "      <td>23301.5</td>\n",
       "      <td>6520.0</td>\n",
       "      <td>6 500 руб. - 7 000 руб.</td>\n",
       "    </tr>\n",
       "  </tbody>\n",
       "</table>\n",
       "</div>"
      ],
      "text/plain": [
       "         data competitor                                               name  \\\n",
       "0  14-03-2024   Sunlight                        Золотой браслет с фианитами   \n",
       "1  14-03-2024   Sunlight  Золотое шейное украшение с сапфирами и бриллиа...   \n",
       "2  14-03-2024   Sunlight                           Золотое шейное украшение   \n",
       "3  14-03-2024   Sunlight                           Золотое шейное украшение   \n",
       "4  14-03-2024   Sunlight                                    Золотой браслет   \n",
       "\n",
       "              group  weight  price_personal     price  discount  \\\n",
       "0          Браслеты    1.08          4650.1    6643.0       0.7   \n",
       "1  Шейное украшение    3.36         36394.4   51992.0       0.8   \n",
       "2  Шейное украшение    2.30         11608.1   16583.0       0.7   \n",
       "3  Шейное украшение    2.30         11382.7   16261.0       0.7   \n",
       "4          Браслеты   11.89         77522.5  100824.0       0.8   \n",
       "\n",
       "              insert           metal lock_type_or_weaving_type  \\\n",
       "0             Фианит    Белое золото                       NaN   \n",
       "1  Бриллиант, Сапфир    Белое золото                       NaN   \n",
       "2                NaN   Желтое золото                       NaN   \n",
       "3                NaN  Розовое золото                       NaN   \n",
       "4                NaN  Розовое золото                       NaN   \n",
       "\n",
       "                                                 url  discount_flag  \\\n",
       "0  https://sunlight.net/catalog/bracelets_342484....        17474.5   \n",
       "1  https://sunlight.net/catalog/neck_decoration_3...        20249.5   \n",
       "2  https://sunlight.net/catalog/neck_decoration_3...        18184.5   \n",
       "3  https://sunlight.net/catalog/neck_decoration_3...        18161.5   \n",
       "4  https://sunlight.net/catalog/bracelets_340830....        23301.5   \n",
       "\n",
       "   price_for_gramm               price_case  \n",
       "0           4306.0            до 5 500 руб.  \n",
       "1          10832.0        свыше 10 000 руб.  \n",
       "2           5047.0            до 5 500 руб.  \n",
       "3           4949.0            до 5 500 руб.  \n",
       "4           6520.0  6 500 руб. - 7 000 руб.  "
      ]
     },
     "execution_count": 513,
     "metadata": {},
     "output_type": "execute_result"
    }
   ],
   "source": [
    "df_sunlight.head()"
   ]
  },
  {
   "cell_type": "code",
   "execution_count": 514,
   "id": "ca3486a6",
   "metadata": {},
   "outputs": [],
   "source": [
    "df_sunlight['insert'].fillna('Без вставки', inplace=True)"
   ]
  },
  {
   "cell_type": "code",
   "execution_count": 515,
   "id": "562c7946",
   "metadata": {
    "tags": []
   },
   "outputs": [],
   "source": [
    "df_sunlight.to_excel(r'\\\\gold585.int\\uk\\Общее хранилище файлов\\Служба аналитики\\МЮР\\tg_tn\\\\sunlight_14_3_2024.xlsx', index=False)"
   ]
  },
  {
   "cell_type": "code",
   "execution_count": 516,
   "id": "d3a7179a",
   "metadata": {},
   "outputs": [],
   "source": [
    "df_sunlight = df_sunlight.query('insert == \"Без вставки\"')"
   ]
  },
  {
   "cell_type": "code",
   "execution_count": 517,
   "id": "1001b61d-485c-4d21-90b3-933dba4538cc",
   "metadata": {
    "tags": []
   },
   "outputs": [],
   "source": [
    "# df_sunlight = df_sunlight[['competitor', 'weight', 'price_personal', 'group', 'price_for_gramm', 'price_case']]"
   ]
  },
  {
   "cell_type": "code",
   "execution_count": 518,
   "id": "330dcb03-029a-4181-a183-9ec39a31afa9",
   "metadata": {
    "tags": []
   },
   "outputs": [],
   "source": [
    "# df_sunlight['num_shop'] = '_' + df_sunlight['competitor']\n",
    "# # df_sunlight['num_diap'] = df_sunlight['price_case']"
   ]
  },
  {
   "cell_type": "code",
   "execution_count": 519,
   "id": "1b696a0c-b029-4b61-8974-c1706d4284a2",
   "metadata": {
    "tags": []
   },
   "outputs": [],
   "source": [
    "# df_sunlight.head(5)"
   ]
  },
  {
   "cell_type": "code",
   "execution_count": 520,
   "id": "5956447d",
   "metadata": {
    "tags": []
   },
   "outputs": [],
   "source": [
    "# df_sunlight['price_for_gramm'].describe()"
   ]
  },
  {
   "cell_type": "code",
   "execution_count": 521,
   "id": "717bdd39",
   "metadata": {
    "tags": []
   },
   "outputs": [
    {
     "name": "stdout",
     "output_type": "stream",
     "text": [
      "5603.0\n"
     ]
    }
   ],
   "source": [
    "print((df_sunlight['price_personal'].sum() / df_sunlight['weight'].sum()).round(0))"
   ]
  },
  {
   "cell_type": "code",
   "execution_count": null,
   "id": "2f56d357-4d19-4d82-ad44-2c651caa4a39",
   "metadata": {
    "tags": []
   },
   "outputs": [],
   "source": [
    "#df_sunlight.to_excel(r'\\\\gold585.int\\uk\\Общее хранилище файлов\\Дирекция Маркетинга и организации розничных продаж\\Отдел аналитики\\МЮР\\Мониторинг цен\\10.11.2023\\data_excel\\sunlight.xlsx', index=False)"
   ]
  },
  {
   "cell_type": "markdown",
   "id": "c74a9f58",
   "metadata": {},
   "source": [
    "# 3. Adamas"
   ]
  },
  {
   "cell_type": "code",
   "execution_count": 592,
   "id": "25a31d4b",
   "metadata": {
    "tags": []
   },
   "outputs": [],
   "source": [
    "df_adamas = pd.read_csv(r'C:\\Users\\Trenkin.Sergey\\Desktop\\parsers\\workspace\\\\adamas_all_14_3_2024.csv')"
   ]
  },
  {
   "cell_type": "code",
   "execution_count": 593,
   "id": "d76eff79",
   "metadata": {
    "tags": []
   },
   "outputs": [
    {
     "data": {
      "text/html": [
       "<div>\n",
       "<style scoped>\n",
       "    .dataframe tbody tr th:only-of-type {\n",
       "        vertical-align: middle;\n",
       "    }\n",
       "\n",
       "    .dataframe tbody tr th {\n",
       "        vertical-align: top;\n",
       "    }\n",
       "\n",
       "    .dataframe thead th {\n",
       "        text-align: right;\n",
       "    }\n",
       "</style>\n",
       "<table border=\"1\" class=\"dataframe\">\n",
       "  <thead>\n",
       "    <tr style=\"text-align: right;\">\n",
       "      <th></th>\n",
       "      <th>Дата парсинга</th>\n",
       "      <th>Наименование конкурента</th>\n",
       "      <th>Группа товаров</th>\n",
       "      <th>Артикул</th>\n",
       "      <th>Название изделия</th>\n",
       "      <th>Материал</th>\n",
       "      <th>Цвет металла</th>\n",
       "      <th>Проба</th>\n",
       "      <th>Вес</th>\n",
       "      <th>Размерный ряд</th>\n",
       "      <th>Вставка</th>\n",
       "      <th>Тип вставки</th>\n",
       "      <th>Прочая информация</th>\n",
       "      <th>Цена до скидок</th>\n",
       "      <th>Цена со скидками</th>\n",
       "      <th>Ссылка</th>\n",
       "    </tr>\n",
       "  </thead>\n",
       "  <tbody>\n",
       "    <tr>\n",
       "      <th>0</th>\n",
       "      <td>14.03.2024</td>\n",
       "      <td>Adamas</td>\n",
       "      <td>Кольца</td>\n",
       "      <td>1212150-А501Ф-01</td>\n",
       "      <td>Кольцо</td>\n",
       "      <td>Золото 585</td>\n",
       "      <td>Красный</td>\n",
       "      <td>585</td>\n",
       "      <td>3.30</td>\n",
       "      <td>Нет информации</td>\n",
       "      <td>Без вставки</td>\n",
       "      <td>Без вставки</td>\n",
       "      <td>{'Категория': 304, 'Тип кольца': 319, 'Цвет ме...</td>\n",
       "      <td>97290</td>\n",
       "      <td>58374</td>\n",
       "      <td>https://adamas.ru/catalog/rings/1212150-A501F-01/</td>\n",
       "    </tr>\n",
       "    <tr>\n",
       "      <th>1</th>\n",
       "      <td>14.03.2024</td>\n",
       "      <td>Adamas</td>\n",
       "      <td>Цепи</td>\n",
       "      <td>ЦГРП250СА6-А51</td>\n",
       "      <td>Цепь, плетение Гарибальди</td>\n",
       "      <td>Золото 585</td>\n",
       "      <td>Красный</td>\n",
       "      <td>585</td>\n",
       "      <td>7.91</td>\n",
       "      <td>Нет информации</td>\n",
       "      <td>Без вставки</td>\n",
       "      <td>Без вставки</td>\n",
       "      <td>{'Категория': 302, 'Вид плетения': 256, 'Плете...</td>\n",
       "      <td>60990</td>\n",
       "      <td>60990</td>\n",
       "      <td>https://adamas.ru/catalog/chains/TSGRP250SA6-A51/</td>\n",
       "    </tr>\n",
       "    <tr>\n",
       "      <th>2</th>\n",
       "      <td>14.03.2024</td>\n",
       "      <td>Adamas</td>\n",
       "      <td>Кольца</td>\n",
       "      <td>12039153/01-А50-01</td>\n",
       "      <td>Кольцо</td>\n",
       "      <td>Золото 585</td>\n",
       "      <td>Красный</td>\n",
       "      <td>585</td>\n",
       "      <td>1.81</td>\n",
       "      <td>Нет информации</td>\n",
       "      <td>Без вставки</td>\n",
       "      <td>Без вставки</td>\n",
       "      <td>{'Категория': 304, 'Тип кольца': 319, 'Цвет ме...</td>\n",
       "      <td>56690</td>\n",
       "      <td>34014</td>\n",
       "      <td>https://adamas.ru/catalog/rings/12039153-01-A5...</td>\n",
       "    </tr>\n",
       "    <tr>\n",
       "      <th>3</th>\n",
       "      <td>14.03.2024</td>\n",
       "      <td>Adamas</td>\n",
       "      <td>Кольца</td>\n",
       "      <td>1254553/01-А50Д-41</td>\n",
       "      <td>Обручальное кольцо из красного золота 585 проб...</td>\n",
       "      <td>Золото 585</td>\n",
       "      <td>Красный</td>\n",
       "      <td>585</td>\n",
       "      <td>2.38</td>\n",
       "      <td>Нет информации</td>\n",
       "      <td>3 Бриллиант Круг 57 0.009 200-400 4/6А;</td>\n",
       "      <td>Драг</td>\n",
       "      <td>{'Категория': 304, 'Тип кольца': 319, 'Цвет ме...</td>\n",
       "      <td>162490</td>\n",
       "      <td>64996</td>\n",
       "      <td>https://adamas.ru/catalog/rings/1254553-01-A50...</td>\n",
       "    </tr>\n",
       "    <tr>\n",
       "      <th>4</th>\n",
       "      <td>14.03.2024</td>\n",
       "      <td>Adamas</td>\n",
       "      <td>Серьги</td>\n",
       "      <td>2457923/01-А507Д-41</td>\n",
       "      <td>Серьги из красного золота 585 пробы с бриллиантом</td>\n",
       "      <td>Золото 585</td>\n",
       "      <td>Красный</td>\n",
       "      <td>585</td>\n",
       "      <td>3.71</td>\n",
       "      <td>Нет информации</td>\n",
       "      <td>40 бриллианты 0,11802ct 2/3А кр-17 ; 2 бриллиа...</td>\n",
       "      <td>Драг</td>\n",
       "      <td>{'Категория': 305, 'Тип серег': 321, 'Цвет мет...</td>\n",
       "      <td>64490</td>\n",
       "      <td>64490</td>\n",
       "      <td>https://adamas.ru/catalog/earrings/2457923-01-...</td>\n",
       "    </tr>\n",
       "  </tbody>\n",
       "</table>\n",
       "</div>"
      ],
      "text/plain": [
       "  Дата парсинга Наименование конкурента Группа товаров              Артикул  \\\n",
       "0    14.03.2024                  Adamas         Кольца     1212150-А501Ф-01   \n",
       "1    14.03.2024                  Adamas           Цепи       ЦГРП250СА6-А51   \n",
       "2    14.03.2024                  Adamas         Кольца   12039153/01-А50-01   \n",
       "3    14.03.2024                  Adamas         Кольца   1254553/01-А50Д-41   \n",
       "4    14.03.2024                  Adamas         Серьги  2457923/01-А507Д-41   \n",
       "\n",
       "                                    Название изделия    Материал Цвет металла  \\\n",
       "0                                             Кольцо  Золото 585      Красный   \n",
       "1                          Цепь, плетение Гарибальди  Золото 585      Красный   \n",
       "2                                             Кольцо  Золото 585      Красный   \n",
       "3  Обручальное кольцо из красного золота 585 проб...  Золото 585      Красный   \n",
       "4  Серьги из красного золота 585 пробы с бриллиантом  Золото 585      Красный   \n",
       "\n",
       "   Проба   Вес   Размерный ряд  \\\n",
       "0    585  3.30  Нет информации   \n",
       "1    585  7.91  Нет информации   \n",
       "2    585  1.81  Нет информации   \n",
       "3    585  2.38  Нет информации   \n",
       "4    585  3.71  Нет информации   \n",
       "\n",
       "                                             Вставка  Тип вставки  \\\n",
       "0                                        Без вставки  Без вставки   \n",
       "1                                        Без вставки  Без вставки   \n",
       "2                                        Без вставки  Без вставки   \n",
       "3            3 Бриллиант Круг 57 0.009 200-400 4/6А;         Драг   \n",
       "4  40 бриллианты 0,11802ct 2/3А кр-17 ; 2 бриллиа...         Драг   \n",
       "\n",
       "                                   Прочая информация  Цена до скидок  \\\n",
       "0  {'Категория': 304, 'Тип кольца': 319, 'Цвет ме...           97290   \n",
       "1  {'Категория': 302, 'Вид плетения': 256, 'Плете...           60990   \n",
       "2  {'Категория': 304, 'Тип кольца': 319, 'Цвет ме...           56690   \n",
       "3  {'Категория': 304, 'Тип кольца': 319, 'Цвет ме...          162490   \n",
       "4  {'Категория': 305, 'Тип серег': 321, 'Цвет мет...           64490   \n",
       "\n",
       "   Цена со скидками                                             Ссылка  \n",
       "0             58374  https://adamas.ru/catalog/rings/1212150-A501F-01/  \n",
       "1             60990  https://adamas.ru/catalog/chains/TSGRP250SA6-A51/  \n",
       "2             34014  https://adamas.ru/catalog/rings/12039153-01-A5...  \n",
       "3             64996  https://adamas.ru/catalog/rings/1254553-01-A50...  \n",
       "4             64490  https://adamas.ru/catalog/earrings/2457923-01-...  "
      ]
     },
     "execution_count": 593,
     "metadata": {},
     "output_type": "execute_result"
    }
   ],
   "source": [
    "df_adamas.head()"
   ]
  },
  {
   "cell_type": "code",
   "execution_count": 594,
   "id": "56057c35",
   "metadata": {},
   "outputs": [],
   "source": [
    "df_adamas['discount'] = 1"
   ]
  },
  {
   "cell_type": "code",
   "execution_count": 595,
   "id": "e7aabf41",
   "metadata": {},
   "outputs": [],
   "source": [
    "df_adamas = df_adamas[['Дата парсинга', 'Наименование конкурента', 'Название изделия', 'Группа товаров', 'Вес', 'Цена со скидками', 'Цена до скидок', 'discount', 'Вставка', 'Материал', 'Тип вставки',\n",
    "                        'Ссылка']]\n",
    "\n",
    "df_adamas.columns = ['data', 'competitor', 'name', 'group', 'weight', 'price_personal', 'price', 'discount', 'insert', 'metal', 'lock_type_or_weaving_type',\n",
    "                        'url']"
   ]
  },
  {
   "cell_type": "code",
   "execution_count": 596,
   "id": "2fac75ec",
   "metadata": {},
   "outputs": [],
   "source": [
    "df_adamas.to_excel(r'\\\\gold585.int\\uk\\Общее хранилище файлов\\Служба аналитики\\МЮР\\tg_tn\\\\adamas_14_3_2024.xlsx', index=False)"
   ]
  },
  {
   "cell_type": "code",
   "execution_count": 580,
   "id": "49c711b7-eca4-4fb3-becf-e76ea370364c",
   "metadata": {
    "tags": []
   },
   "outputs": [],
   "source": [
    "# Данные Adamas собираются абсолютно все с сайта, не только БК и ЦБ, поэтому первым делом нужно выделить именно БК и ЦБ"
   ]
  },
  {
   "cell_type": "code",
   "execution_count": 582,
   "id": "ee521446-c5d4-4a9d-a64f-143b33038cdd",
   "metadata": {
    "tags": []
   },
   "outputs": [],
   "source": [
    "# Отбираем только нужные столбцы для расчетом"
   ]
  },
  {
   "cell_type": "code",
   "execution_count": 597,
   "id": "b9e57349",
   "metadata": {
    "tags": []
   },
   "outputs": [
    {
     "data": {
      "text/html": [
       "<div>\n",
       "<style scoped>\n",
       "    .dataframe tbody tr th:only-of-type {\n",
       "        vertical-align: middle;\n",
       "    }\n",
       "\n",
       "    .dataframe tbody tr th {\n",
       "        vertical-align: top;\n",
       "    }\n",
       "\n",
       "    .dataframe thead th {\n",
       "        text-align: right;\n",
       "    }\n",
       "</style>\n",
       "<table border=\"1\" class=\"dataframe\">\n",
       "  <thead>\n",
       "    <tr style=\"text-align: right;\">\n",
       "      <th></th>\n",
       "      <th>data</th>\n",
       "      <th>competitor</th>\n",
       "      <th>name</th>\n",
       "      <th>group</th>\n",
       "      <th>weight</th>\n",
       "      <th>price_personal</th>\n",
       "      <th>price</th>\n",
       "      <th>discount</th>\n",
       "      <th>insert</th>\n",
       "      <th>metal</th>\n",
       "      <th>lock_type_or_weaving_type</th>\n",
       "      <th>url</th>\n",
       "    </tr>\n",
       "  </thead>\n",
       "  <tbody>\n",
       "    <tr>\n",
       "      <th>0</th>\n",
       "      <td>14.03.2024</td>\n",
       "      <td>Adamas</td>\n",
       "      <td>Кольцо</td>\n",
       "      <td>Кольца</td>\n",
       "      <td>3.30</td>\n",
       "      <td>58374</td>\n",
       "      <td>97290</td>\n",
       "      <td>1</td>\n",
       "      <td>Без вставки</td>\n",
       "      <td>Золото 585</td>\n",
       "      <td>Без вставки</td>\n",
       "      <td>https://adamas.ru/catalog/rings/1212150-A501F-01/</td>\n",
       "    </tr>\n",
       "    <tr>\n",
       "      <th>1</th>\n",
       "      <td>14.03.2024</td>\n",
       "      <td>Adamas</td>\n",
       "      <td>Цепь, плетение Гарибальди</td>\n",
       "      <td>Цепи</td>\n",
       "      <td>7.91</td>\n",
       "      <td>60990</td>\n",
       "      <td>60990</td>\n",
       "      <td>1</td>\n",
       "      <td>Без вставки</td>\n",
       "      <td>Золото 585</td>\n",
       "      <td>Без вставки</td>\n",
       "      <td>https://adamas.ru/catalog/chains/TSGRP250SA6-A51/</td>\n",
       "    </tr>\n",
       "    <tr>\n",
       "      <th>2</th>\n",
       "      <td>14.03.2024</td>\n",
       "      <td>Adamas</td>\n",
       "      <td>Кольцо</td>\n",
       "      <td>Кольца</td>\n",
       "      <td>1.81</td>\n",
       "      <td>34014</td>\n",
       "      <td>56690</td>\n",
       "      <td>1</td>\n",
       "      <td>Без вставки</td>\n",
       "      <td>Золото 585</td>\n",
       "      <td>Без вставки</td>\n",
       "      <td>https://adamas.ru/catalog/rings/12039153-01-A5...</td>\n",
       "    </tr>\n",
       "    <tr>\n",
       "      <th>3</th>\n",
       "      <td>14.03.2024</td>\n",
       "      <td>Adamas</td>\n",
       "      <td>Обручальное кольцо из красного золота 585 проб...</td>\n",
       "      <td>Кольца</td>\n",
       "      <td>2.38</td>\n",
       "      <td>64996</td>\n",
       "      <td>162490</td>\n",
       "      <td>1</td>\n",
       "      <td>3 Бриллиант Круг 57 0.009 200-400 4/6А;</td>\n",
       "      <td>Золото 585</td>\n",
       "      <td>Драг</td>\n",
       "      <td>https://adamas.ru/catalog/rings/1254553-01-A50...</td>\n",
       "    </tr>\n",
       "    <tr>\n",
       "      <th>4</th>\n",
       "      <td>14.03.2024</td>\n",
       "      <td>Adamas</td>\n",
       "      <td>Серьги из красного золота 585 пробы с бриллиантом</td>\n",
       "      <td>Серьги</td>\n",
       "      <td>3.71</td>\n",
       "      <td>64490</td>\n",
       "      <td>64490</td>\n",
       "      <td>1</td>\n",
       "      <td>40 бриллианты 0,11802ct 2/3А кр-17 ; 2 бриллиа...</td>\n",
       "      <td>Золото 585</td>\n",
       "      <td>Драг</td>\n",
       "      <td>https://adamas.ru/catalog/earrings/2457923-01-...</td>\n",
       "    </tr>\n",
       "  </tbody>\n",
       "</table>\n",
       "</div>"
      ],
      "text/plain": [
       "         data competitor                                               name  \\\n",
       "0  14.03.2024     Adamas                                             Кольцо   \n",
       "1  14.03.2024     Adamas                          Цепь, плетение Гарибальди   \n",
       "2  14.03.2024     Adamas                                             Кольцо   \n",
       "3  14.03.2024     Adamas  Обручальное кольцо из красного золота 585 проб...   \n",
       "4  14.03.2024     Adamas  Серьги из красного золота 585 пробы с бриллиантом   \n",
       "\n",
       "    group  weight  price_personal   price  discount  \\\n",
       "0  Кольца    3.30           58374   97290         1   \n",
       "1    Цепи    7.91           60990   60990         1   \n",
       "2  Кольца    1.81           34014   56690         1   \n",
       "3  Кольца    2.38           64996  162490         1   \n",
       "4  Серьги    3.71           64490   64490         1   \n",
       "\n",
       "                                              insert       metal  \\\n",
       "0                                        Без вставки  Золото 585   \n",
       "1                                        Без вставки  Золото 585   \n",
       "2                                        Без вставки  Золото 585   \n",
       "3            3 Бриллиант Круг 57 0.009 200-400 4/6А;  Золото 585   \n",
       "4  40 бриллианты 0,11802ct 2/3А кр-17 ; 2 бриллиа...  Золото 585   \n",
       "\n",
       "  lock_type_or_weaving_type                                                url  \n",
       "0               Без вставки  https://adamas.ru/catalog/rings/1212150-A501F-01/  \n",
       "1               Без вставки  https://adamas.ru/catalog/chains/TSGRP250SA6-A51/  \n",
       "2               Без вставки  https://adamas.ru/catalog/rings/12039153-01-A5...  \n",
       "3                      Драг  https://adamas.ru/catalog/rings/1254553-01-A50...  \n",
       "4                      Драг  https://adamas.ru/catalog/earrings/2457923-01-...  "
      ]
     },
     "execution_count": 597,
     "metadata": {},
     "output_type": "execute_result"
    }
   ],
   "source": [
    "df_adamas.head()"
   ]
  },
  {
   "cell_type": "code",
   "execution_count": 599,
   "id": "750dba35",
   "metadata": {
    "tags": []
   },
   "outputs": [],
   "source": [
    "df_adamas['price_for_gramm'] = (df_adamas['price_personal'] / df_adamas['weight']).round(0)"
   ]
  },
  {
   "cell_type": "code",
   "execution_count": 601,
   "id": "255b9e3f",
   "metadata": {
    "tags": []
   },
   "outputs": [],
   "source": [
    "df_adamas['price_case'] = np.where(\n",
    "    df_adamas['price_for_gramm'] <= 5500, 'до 5 500 руб.', \n",
    "    np.where(\n",
    "    (df_adamas['price_for_gramm'] <= 6000), '5 500 руб. - 6 000 руб.', \n",
    "    np.where(\n",
    "    (df_adamas['price_for_gramm'] <= 6500), '6 000 руб. - 6 500 руб.', \n",
    "    np.where(\n",
    "    (df_adamas['price_for_gramm'] <= 7000), '6 500 руб. - 7 000 руб.', \n",
    "    np.where(\n",
    "    (df_adamas['price_for_gramm'] <= 8000), '7 000 руб. - 8 000 руб.', \n",
    "    np.where(\n",
    "    (df_adamas['price_for_gramm'] <= 9000), '8 000 руб. - 9 000 руб.', \n",
    "    np.where(\n",
    "    (df_adamas['price_for_gramm'] <= 10000), '9 000 руб. - 10 000 руб.',  'свыше 10 000 руб.'\n",
    ")))))))"
   ]
  },
  {
   "cell_type": "code",
   "execution_count": 603,
   "id": "b2fe8e6f-dc0a-4a63-9a3b-a6be0071feee",
   "metadata": {
    "tags": []
   },
   "outputs": [],
   "source": [
    "df_adamas.to_excel(r'\\\\gold585.int\\uk\\Общее хранилище файлов\\Служба аналитики\\МЮР\\tg_tn\\\\adamas_14_3_2024.xlsx', index=False)"
   ]
  },
  {
   "cell_type": "code",
   "execution_count": 604,
   "id": "7fa11e98",
   "metadata": {
    "tags": []
   },
   "outputs": [
    {
     "name": "stdout",
     "output_type": "stream",
     "text": [
      "<class 'pandas.core.frame.DataFrame'>\n",
      "RangeIndex: 4322 entries, 0 to 4321\n",
      "Data columns (total 14 columns):\n",
      " #   Column                     Non-Null Count  Dtype  \n",
      "---  ------                     --------------  -----  \n",
      " 0   data                       4322 non-null   object \n",
      " 1   competitor                 4322 non-null   object \n",
      " 2   name                       4322 non-null   object \n",
      " 3   group                      4322 non-null   object \n",
      " 4   weight                     4322 non-null   float64\n",
      " 5   price_personal             4322 non-null   int64  \n",
      " 6   price                      4322 non-null   int64  \n",
      " 7   discount                   4322 non-null   int64  \n",
      " 8   insert                     4322 non-null   object \n",
      " 9   metal                      4322 non-null   object \n",
      " 10  lock_type_or_weaving_type  4322 non-null   object \n",
      " 11  url                        4322 non-null   object \n",
      " 12  price_for_gramm            4322 non-null   float64\n",
      " 13  price_case                 4322 non-null   object \n",
      "dtypes: float64(2), int64(3), object(9)\n",
      "memory usage: 472.8+ KB\n"
     ]
    }
   ],
   "source": [
    "df_adamas.info()"
   ]
  },
  {
   "cell_type": "code",
   "execution_count": 605,
   "id": "26f47ea1",
   "metadata": {
    "tags": []
   },
   "outputs": [],
   "source": [
    "df_adamas = df_adamas[(df_adamas['metal'] == 'Золото 585')]\n",
    "df_adamas = df_adamas[(df_adamas['insert'] == 'Без вставки')]"
   ]
  },
  {
   "cell_type": "code",
   "execution_count": 606,
   "id": "b3600468",
   "metadata": {
    "tags": []
   },
   "outputs": [
    {
     "name": "stdout",
     "output_type": "stream",
     "text": [
      "11927.0\n"
     ]
    }
   ],
   "source": [
    "print((df_adamas['price_personal'].sum() / df_adamas['weight'].sum()).round(0))"
   ]
  },
  {
   "cell_type": "markdown",
   "id": "5b10c2e6",
   "metadata": {},
   "source": [
    "# 4. WB"
   ]
  },
  {
   "cell_type": "code",
   "execution_count": 797,
   "id": "1ef81294",
   "metadata": {
    "tags": []
   },
   "outputs": [],
   "source": [
    "df_wb = pd.read_excel(r'\\\\gold585.int\\uk\\Общее хранилище файлов\\Служба аналитики\\МЮР\\tg_tn\\wildberries_14_3_2024 _bk_cb.xlsx')"
   ]
  },
  {
   "cell_type": "code",
   "execution_count": null,
   "id": "c55aa9a7",
   "metadata": {},
   "outputs": [],
   "source": []
  },
  {
   "cell_type": "code",
   "execution_count": 798,
   "id": "a60e6192",
   "metadata": {
    "scrolled": true,
    "tags": []
   },
   "outputs": [],
   "source": [
    "df_wb = df_wb[['data', 'competitor', 'name', 'group', 'weight', 'price', 'price_old', 'discount', 'insert', 'metal', 'lock',\n",
    "                        'article']]\n",
    "\n",
    "df_wb.columns = ['data', 'competitor', 'name', 'group', 'weight', 'price_personal', 'price', 'discount', 'insert', 'metal', 'lock_type_or_weaving_type',\n",
    "                        'url']"
   ]
  },
  {
   "cell_type": "code",
   "execution_count": 800,
   "id": "6743f520",
   "metadata": {
    "tags": []
   },
   "outputs": [
    {
     "data": {
      "text/html": [
       "<div>\n",
       "<style scoped>\n",
       "    .dataframe tbody tr th:only-of-type {\n",
       "        vertical-align: middle;\n",
       "    }\n",
       "\n",
       "    .dataframe tbody tr th {\n",
       "        vertical-align: top;\n",
       "    }\n",
       "\n",
       "    .dataframe thead th {\n",
       "        text-align: right;\n",
       "    }\n",
       "</style>\n",
       "<table border=\"1\" class=\"dataframe\">\n",
       "  <thead>\n",
       "    <tr style=\"text-align: right;\">\n",
       "      <th></th>\n",
       "      <th>data</th>\n",
       "      <th>competitor</th>\n",
       "      <th>name</th>\n",
       "      <th>group</th>\n",
       "      <th>weight</th>\n",
       "      <th>price_personal</th>\n",
       "      <th>price</th>\n",
       "      <th>discount</th>\n",
       "      <th>insert</th>\n",
       "      <th>metal</th>\n",
       "      <th>lock_type_or_weaving_type</th>\n",
       "      <th>url</th>\n",
       "    </tr>\n",
       "  </thead>\n",
       "  <tbody>\n",
       "    <tr>\n",
       "      <th>0</th>\n",
       "      <td>2024-03-14</td>\n",
       "      <td>KARATOV</td>\n",
       "      <td>золотое кольцо 585 пробы love</td>\n",
       "      <td>КОЛЬЦА</td>\n",
       "      <td>0.74</td>\n",
       "      <td>4772</td>\n",
       "      <td>5024</td>\n",
       "      <td>0.95</td>\n",
       "      <td>без вставки</td>\n",
       "      <td>золото красное</td>\n",
       "      <td>NaN</td>\n",
       "      <td>13140601</td>\n",
       "    </tr>\n",
       "    <tr>\n",
       "      <th>1</th>\n",
       "      <td>2024-03-14</td>\n",
       "      <td>KARATOV</td>\n",
       "      <td>кольцо обручальное 585 пробы</td>\n",
       "      <td>КОЛЬЦА</td>\n",
       "      <td>0.56</td>\n",
       "      <td>3517</td>\n",
       "      <td>3703</td>\n",
       "      <td>0.95</td>\n",
       "      <td>без вставки</td>\n",
       "      <td>золото красное</td>\n",
       "      <td>NaN</td>\n",
       "      <td>17641481</td>\n",
       "    </tr>\n",
       "    <tr>\n",
       "      <th>2</th>\n",
       "      <td>2024-03-14</td>\n",
       "      <td>KARATOV</td>\n",
       "      <td>кольцо обручальное золото 585 пробы</td>\n",
       "      <td>КОЛЬЦА</td>\n",
       "      <td>1.60</td>\n",
       "      <td>9245</td>\n",
       "      <td>9732</td>\n",
       "      <td>0.95</td>\n",
       "      <td>без вставки</td>\n",
       "      <td>золото красное</td>\n",
       "      <td>NaN</td>\n",
       "      <td>17641482</td>\n",
       "    </tr>\n",
       "    <tr>\n",
       "      <th>3</th>\n",
       "      <td>2024-03-14</td>\n",
       "      <td>SOKOLOV</td>\n",
       "      <td>обручальное кольцо золотое 585 пробы на свадьбу</td>\n",
       "      <td>КОЛЬЦА</td>\n",
       "      <td>1.13</td>\n",
       "      <td>5568</td>\n",
       "      <td>5862</td>\n",
       "      <td>0.95</td>\n",
       "      <td>без вставки</td>\n",
       "      <td>золото красное</td>\n",
       "      <td>NaN</td>\n",
       "      <td>2862915</td>\n",
       "    </tr>\n",
       "    <tr>\n",
       "      <th>4</th>\n",
       "      <td>2024-03-14</td>\n",
       "      <td>BAUKOFF jewelry</td>\n",
       "      <td>кольцо сердце золотое</td>\n",
       "      <td>КОЛЬЦА</td>\n",
       "      <td>0.70</td>\n",
       "      <td>4388</td>\n",
       "      <td>4619</td>\n",
       "      <td>0.95</td>\n",
       "      <td>без вставок; нет; без камней</td>\n",
       "      <td>золото красное; золото розовое</td>\n",
       "      <td>NaN</td>\n",
       "      <td>152931636</td>\n",
       "    </tr>\n",
       "  </tbody>\n",
       "</table>\n",
       "</div>"
      ],
      "text/plain": [
       "         data       competitor  \\\n",
       "0  2024-03-14          KARATOV   \n",
       "1  2024-03-14          KARATOV   \n",
       "2  2024-03-14          KARATOV   \n",
       "3  2024-03-14          SOKOLOV   \n",
       "4  2024-03-14  BAUKOFF jewelry   \n",
       "\n",
       "                                              name   group  weight  \\\n",
       "0                    золотое кольцо 585 пробы love  КОЛЬЦА    0.74   \n",
       "1                     кольцо обручальное 585 пробы  КОЛЬЦА    0.56   \n",
       "2              кольцо обручальное золото 585 пробы  КОЛЬЦА    1.60   \n",
       "3  обручальное кольцо золотое 585 пробы на свадьбу  КОЛЬЦА    1.13   \n",
       "4                            кольцо сердце золотое  КОЛЬЦА    0.70   \n",
       "\n",
       "   price_personal  price  discount                        insert  \\\n",
       "0            4772   5024      0.95                   без вставки   \n",
       "1            3517   3703      0.95                   без вставки   \n",
       "2            9245   9732      0.95                   без вставки   \n",
       "3            5568   5862      0.95                   без вставки   \n",
       "4            4388   4619      0.95  без вставок; нет; без камней   \n",
       "\n",
       "                            metal lock_type_or_weaving_type        url  \n",
       "0                  золото красное                       NaN   13140601  \n",
       "1                  золото красное                       NaN   17641481  \n",
       "2                  золото красное                       NaN   17641482  \n",
       "3                  золото красное                       NaN    2862915  \n",
       "4  золото красное; золото розовое                       NaN  152931636  "
      ]
     },
     "execution_count": 800,
     "metadata": {},
     "output_type": "execute_result"
    }
   ],
   "source": [
    "df_wb.head()"
   ]
  },
  {
   "cell_type": "code",
   "execution_count": 802,
   "id": "6050eff1",
   "metadata": {
    "tags": []
   },
   "outputs": [
    {
     "name": "stdout",
     "output_type": "stream",
     "text": [
      "<class 'pandas.core.frame.DataFrame'>\n",
      "RangeIndex: 5792 entries, 0 to 5791\n",
      "Data columns (total 12 columns):\n",
      " #   Column                     Non-Null Count  Dtype  \n",
      "---  ------                     --------------  -----  \n",
      " 0   data                       5792 non-null   object \n",
      " 1   competitor                 5760 non-null   object \n",
      " 2   name                       5790 non-null   object \n",
      " 3   group                      5792 non-null   object \n",
      " 4   weight                     5792 non-null   float64\n",
      " 5   price_personal             5792 non-null   int64  \n",
      " 6   price                      5792 non-null   int64  \n",
      " 7   discount                   5792 non-null   float64\n",
      " 8   insert                     5263 non-null   object \n",
      " 9   metal                      5770 non-null   object \n",
      " 10  lock_type_or_weaving_type  2771 non-null   object \n",
      " 11  url                        5792 non-null   int64  \n",
      "dtypes: float64(2), int64(3), object(7)\n",
      "memory usage: 543.1+ KB\n"
     ]
    }
   ],
   "source": [
    "df_wb.info()"
   ]
  },
  {
   "cell_type": "code",
   "execution_count": 803,
   "id": "066c75a6",
   "metadata": {
    "tags": []
   },
   "outputs": [],
   "source": [
    "df_wb['price_for_gramm'] = (df_wb['price_personal'] / df_wb['weight']).round(0)"
   ]
  },
  {
   "cell_type": "code",
   "execution_count": 804,
   "id": "b005430e",
   "metadata": {
    "tags": []
   },
   "outputs": [],
   "source": [
    "df_wb['price_case'] = np.where(\n",
    "    df_wb['price_for_gramm'] <= 5500, 'до 5 500 руб.', \n",
    "    np.where(\n",
    "    (df_wb['price_for_gramm'] <= 6000), '5 500 руб. - 6 000 руб.', \n",
    "    np.where(\n",
    "    (df_wb['price_for_gramm'] <= 6500), '6 000 руб. - 6 500 руб.', \n",
    "    np.where(\n",
    "    (df_wb['price_for_gramm'] <= 7000), '6 500 руб. - 7 000 руб.', \n",
    "    np.where(\n",
    "    (df_wb['price_for_gramm'] <= 8000), '7 000 руб. - 8 000 руб.', \n",
    "    np.where(\n",
    "    (df_wb['price_for_gramm'] <= 9000), '8 000 руб. - 9 000 руб.', \n",
    "    np.where(\n",
    "    (df_wb['price_for_gramm'] <= 10000), '9 000 руб. - 10 000 руб.',  'свыше 10 000 руб.'\n",
    ")))))))"
   ]
  },
  {
   "cell_type": "code",
   "execution_count": 805,
   "id": "26a3f0c2",
   "metadata": {
    "tags": []
   },
   "outputs": [
    {
     "data": {
      "text/plain": [
       "count     5792.000000\n",
       "mean      7680.856872\n",
       "std       2140.007426\n",
       "min       3155.000000\n",
       "1%        4441.000000\n",
       "50%       7165.000000\n",
       "99%      13984.440000\n",
       "max      14988.000000\n",
       "Name: price_for_gramm, dtype: float64"
      ]
     },
     "execution_count": 805,
     "metadata": {},
     "output_type": "execute_result"
    }
   ],
   "source": [
    "df_wb['price_for_gramm'].describe([0.01, 0.99])"
   ]
  },
  {
   "cell_type": "code",
   "execution_count": 807,
   "id": "ef846917-76b6-4110-b374-80a2caac5369",
   "metadata": {
    "tags": []
   },
   "outputs": [
    {
     "data": {
      "text/html": [
       "<div>\n",
       "<style scoped>\n",
       "    .dataframe tbody tr th:only-of-type {\n",
       "        vertical-align: middle;\n",
       "    }\n",
       "\n",
       "    .dataframe tbody tr th {\n",
       "        vertical-align: top;\n",
       "    }\n",
       "\n",
       "    .dataframe thead th {\n",
       "        text-align: right;\n",
       "    }\n",
       "</style>\n",
       "<table border=\"1\" class=\"dataframe\">\n",
       "  <thead>\n",
       "    <tr style=\"text-align: right;\">\n",
       "      <th></th>\n",
       "      <th>data</th>\n",
       "      <th>competitor</th>\n",
       "      <th>name</th>\n",
       "      <th>group</th>\n",
       "      <th>weight</th>\n",
       "      <th>price_personal</th>\n",
       "      <th>price</th>\n",
       "      <th>discount</th>\n",
       "      <th>insert</th>\n",
       "      <th>metal</th>\n",
       "      <th>lock_type_or_weaving_type</th>\n",
       "      <th>url</th>\n",
       "      <th>price_for_gramm</th>\n",
       "      <th>price_case</th>\n",
       "    </tr>\n",
       "  </thead>\n",
       "  <tbody>\n",
       "    <tr>\n",
       "      <th>0</th>\n",
       "      <td>2024-03-14</td>\n",
       "      <td>KARATOV</td>\n",
       "      <td>золотое кольцо 585 пробы love</td>\n",
       "      <td>КОЛЬЦА</td>\n",
       "      <td>0.74</td>\n",
       "      <td>4772</td>\n",
       "      <td>5024</td>\n",
       "      <td>0.95</td>\n",
       "      <td>без вставки</td>\n",
       "      <td>золото красное</td>\n",
       "      <td>NaN</td>\n",
       "      <td>13140601</td>\n",
       "      <td>6449.0</td>\n",
       "      <td>6 000 руб. - 6 500 руб.</td>\n",
       "    </tr>\n",
       "    <tr>\n",
       "      <th>1</th>\n",
       "      <td>2024-03-14</td>\n",
       "      <td>KARATOV</td>\n",
       "      <td>кольцо обручальное 585 пробы</td>\n",
       "      <td>КОЛЬЦА</td>\n",
       "      <td>0.56</td>\n",
       "      <td>3517</td>\n",
       "      <td>3703</td>\n",
       "      <td>0.95</td>\n",
       "      <td>без вставки</td>\n",
       "      <td>золото красное</td>\n",
       "      <td>NaN</td>\n",
       "      <td>17641481</td>\n",
       "      <td>6280.0</td>\n",
       "      <td>6 000 руб. - 6 500 руб.</td>\n",
       "    </tr>\n",
       "    <tr>\n",
       "      <th>2</th>\n",
       "      <td>2024-03-14</td>\n",
       "      <td>KARATOV</td>\n",
       "      <td>кольцо обручальное золото 585 пробы</td>\n",
       "      <td>КОЛЬЦА</td>\n",
       "      <td>1.60</td>\n",
       "      <td>9245</td>\n",
       "      <td>9732</td>\n",
       "      <td>0.95</td>\n",
       "      <td>без вставки</td>\n",
       "      <td>золото красное</td>\n",
       "      <td>NaN</td>\n",
       "      <td>17641482</td>\n",
       "      <td>5778.0</td>\n",
       "      <td>5 500 руб. - 6 000 руб.</td>\n",
       "    </tr>\n",
       "    <tr>\n",
       "      <th>3</th>\n",
       "      <td>2024-03-14</td>\n",
       "      <td>SOKOLOV</td>\n",
       "      <td>обручальное кольцо золотое 585 пробы на свадьбу</td>\n",
       "      <td>КОЛЬЦА</td>\n",
       "      <td>1.13</td>\n",
       "      <td>5568</td>\n",
       "      <td>5862</td>\n",
       "      <td>0.95</td>\n",
       "      <td>без вставки</td>\n",
       "      <td>золото красное</td>\n",
       "      <td>NaN</td>\n",
       "      <td>2862915</td>\n",
       "      <td>4927.0</td>\n",
       "      <td>до 5 500 руб.</td>\n",
       "    </tr>\n",
       "    <tr>\n",
       "      <th>4</th>\n",
       "      <td>2024-03-14</td>\n",
       "      <td>BAUKOFF jewelry</td>\n",
       "      <td>кольцо сердце золотое</td>\n",
       "      <td>КОЛЬЦА</td>\n",
       "      <td>0.70</td>\n",
       "      <td>4388</td>\n",
       "      <td>4619</td>\n",
       "      <td>0.95</td>\n",
       "      <td>без вставок; нет; без камней</td>\n",
       "      <td>золото красное; золото розовое</td>\n",
       "      <td>NaN</td>\n",
       "      <td>152931636</td>\n",
       "      <td>6269.0</td>\n",
       "      <td>6 000 руб. - 6 500 руб.</td>\n",
       "    </tr>\n",
       "  </tbody>\n",
       "</table>\n",
       "</div>"
      ],
      "text/plain": [
       "         data       competitor  \\\n",
       "0  2024-03-14          KARATOV   \n",
       "1  2024-03-14          KARATOV   \n",
       "2  2024-03-14          KARATOV   \n",
       "3  2024-03-14          SOKOLOV   \n",
       "4  2024-03-14  BAUKOFF jewelry   \n",
       "\n",
       "                                              name   group  weight  \\\n",
       "0                    золотое кольцо 585 пробы love  КОЛЬЦА    0.74   \n",
       "1                     кольцо обручальное 585 пробы  КОЛЬЦА    0.56   \n",
       "2              кольцо обручальное золото 585 пробы  КОЛЬЦА    1.60   \n",
       "3  обручальное кольцо золотое 585 пробы на свадьбу  КОЛЬЦА    1.13   \n",
       "4                            кольцо сердце золотое  КОЛЬЦА    0.70   \n",
       "\n",
       "   price_personal  price  discount                        insert  \\\n",
       "0            4772   5024      0.95                   без вставки   \n",
       "1            3517   3703      0.95                   без вставки   \n",
       "2            9245   9732      0.95                   без вставки   \n",
       "3            5568   5862      0.95                   без вставки   \n",
       "4            4388   4619      0.95  без вставок; нет; без камней   \n",
       "\n",
       "                            metal lock_type_or_weaving_type        url  \\\n",
       "0                  золото красное                       NaN   13140601   \n",
       "1                  золото красное                       NaN   17641481   \n",
       "2                  золото красное                       NaN   17641482   \n",
       "3                  золото красное                       NaN    2862915   \n",
       "4  золото красное; золото розовое                       NaN  152931636   \n",
       "\n",
       "   price_for_gramm               price_case  \n",
       "0           6449.0  6 000 руб. - 6 500 руб.  \n",
       "1           6280.0  6 000 руб. - 6 500 руб.  \n",
       "2           5778.0  5 500 руб. - 6 000 руб.  \n",
       "3           4927.0            до 5 500 руб.  \n",
       "4           6269.0  6 000 руб. - 6 500 руб.  "
      ]
     },
     "execution_count": 807,
     "metadata": {},
     "output_type": "execute_result"
    }
   ],
   "source": [
    "df_wb.head(5)"
   ]
  },
  {
   "cell_type": "code",
   "execution_count": 809,
   "id": "566665df",
   "metadata": {
    "tags": []
   },
   "outputs": [
    {
     "name": "stdout",
     "output_type": "stream",
     "text": [
      "7955.0\n"
     ]
    }
   ],
   "source": [
    "print((df_wb['price_personal'].sum() / df_wb['weight'].sum()).round(0))"
   ]
  },
  {
   "cell_type": "code",
   "execution_count": 810,
   "id": "ef13233d-9c8d-4522-92b4-3e8c29d3d39a",
   "metadata": {
    "tags": []
   },
   "outputs": [],
   "source": [
    "# df_wb.to_excel(r'\\\\gold585.int\\uk\\Общее хранилище файлов\\Служба аналитики\\МЮР\\tg_tn\\\\wildberries_14_3_2024 _bk_cb.xlsx', index=False)"
   ]
  },
  {
   "cell_type": "markdown",
   "id": "14147bf2",
   "metadata": {},
   "source": [
    "# 5. Линии любви"
   ]
  },
  {
   "cell_type": "code",
   "execution_count": 755,
   "id": "fac6a0c2-41f5-4983-9f9f-50598fa5678b",
   "metadata": {
    "tags": []
   },
   "outputs": [],
   "source": [
    "df_ll = pd.read_csv(r'C:\\Users\\Trenkin.Sergey\\Desktop\\parsers\\workspace\\linii_lubvi_14_3_2024.csv')"
   ]
  },
  {
   "cell_type": "code",
   "execution_count": 756,
   "id": "ab05c1d3",
   "metadata": {
    "tags": []
   },
   "outputs": [
    {
     "data": {
      "text/html": [
       "<div>\n",
       "<style scoped>\n",
       "    .dataframe tbody tr th:only-of-type {\n",
       "        vertical-align: middle;\n",
       "    }\n",
       "\n",
       "    .dataframe tbody tr th {\n",
       "        vertical-align: top;\n",
       "    }\n",
       "\n",
       "    .dataframe thead th {\n",
       "        text-align: right;\n",
       "    }\n",
       "</style>\n",
       "<table border=\"1\" class=\"dataframe\">\n",
       "  <thead>\n",
       "    <tr style=\"text-align: right;\">\n",
       "      <th></th>\n",
       "      <th>links</th>\n",
       "      <th>price</th>\n",
       "      <th>name</th>\n",
       "      <th>weight</th>\n",
       "      <th>group</th>\n",
       "      <th>params</th>\n",
       "    </tr>\n",
       "  </thead>\n",
       "  <tbody>\n",
       "    <tr>\n",
       "      <th>0</th>\n",
       "      <td>/catalog/product/kolca_2155372/</td>\n",
       "      <td>18390</td>\n",
       "      <td>Страна производитель</td>\n",
       "      <td>2.64</td>\n",
       "      <td>Кольца</td>\n",
       "      <td>{'Ширина': '5 мм', 'Металл': 'Золото (Красное)...</td>\n",
       "    </tr>\n",
       "    <tr>\n",
       "      <th>1</th>\n",
       "      <td>/catalog/product/kolca_2150980/</td>\n",
       "      <td>13690</td>\n",
       "      <td>Страна производитель</td>\n",
       "      <td>2.24</td>\n",
       "      <td>Кольца</td>\n",
       "      <td>{'Ширина': '4 мм', 'Металл': 'Золото (Красное)...</td>\n",
       "    </tr>\n",
       "    <tr>\n",
       "      <th>2</th>\n",
       "      <td>/catalog/product/kolca_2253156/</td>\n",
       "      <td>17590</td>\n",
       "      <td>Страна производитель</td>\n",
       "      <td>1.77</td>\n",
       "      <td>Кольца</td>\n",
       "      <td>{'Ширина': '4 мм', 'Металл': 'Золото (Мультицв...</td>\n",
       "    </tr>\n",
       "    <tr>\n",
       "      <th>3</th>\n",
       "      <td>/catalog/product/kolca_7248203/</td>\n",
       "      <td>19590</td>\n",
       "      <td>Страна производитель</td>\n",
       "      <td>2.83</td>\n",
       "      <td>Кольца</td>\n",
       "      <td>{'Ширина': '3 мм', 'Высота': '1 мм', 'Металл':...</td>\n",
       "    </tr>\n",
       "    <tr>\n",
       "      <th>4</th>\n",
       "      <td>/catalog/product/cepochki_2207738/</td>\n",
       "      <td>60820</td>\n",
       "      <td>Страна производитель</td>\n",
       "      <td>6.10</td>\n",
       "      <td>Цепи</td>\n",
       "      <td>{'Ширина': '2 мм', 'Металл': 'Золото (Красное)...</td>\n",
       "    </tr>\n",
       "  </tbody>\n",
       "</table>\n",
       "</div>"
      ],
      "text/plain": [
       "                                links  price                  name  weight  \\\n",
       "0     /catalog/product/kolca_2155372/  18390  Страна производитель    2.64   \n",
       "1     /catalog/product/kolca_2150980/  13690  Страна производитель    2.24   \n",
       "2     /catalog/product/kolca_2253156/  17590  Страна производитель    1.77   \n",
       "3     /catalog/product/kolca_7248203/  19590  Страна производитель    2.83   \n",
       "4  /catalog/product/cepochki_2207738/  60820  Страна производитель    6.10   \n",
       "\n",
       "    group                                             params  \n",
       "0  Кольца  {'Ширина': '5 мм', 'Металл': 'Золото (Красное)...  \n",
       "1  Кольца  {'Ширина': '4 мм', 'Металл': 'Золото (Красное)...  \n",
       "2  Кольца  {'Ширина': '4 мм', 'Металл': 'Золото (Мультицв...  \n",
       "3  Кольца  {'Ширина': '3 мм', 'Высота': '1 мм', 'Металл':...  \n",
       "4    Цепи  {'Ширина': '2 мм', 'Металл': 'Золото (Красное)...  "
      ]
     },
     "execution_count": 756,
     "metadata": {},
     "output_type": "execute_result"
    }
   ],
   "source": [
    "df_ll.head()"
   ]
  },
  {
   "cell_type": "code",
   "execution_count": 757,
   "id": "86e060db",
   "metadata": {
    "tags": []
   },
   "outputs": [
    {
     "data": {
      "text/plain": [
       "\"{'Ширина': '2 мм', 'Металл': 'Золото (Красное)', 'Проба': '585', 'Плетение': 'Нонна', 'Вид обработки': 'Алмазная грань', 'Вставка': '', 'Производитель': 'Каратов', 'Страна производитель': 'Россия'}\""
      ]
     },
     "execution_count": 757,
     "metadata": {},
     "output_type": "execute_result"
    }
   ],
   "source": [
    "df_ll['params'][4]"
   ]
  },
  {
   "cell_type": "code",
   "execution_count": 758,
   "id": "df917699",
   "metadata": {},
   "outputs": [
    {
     "data": {
      "text/html": [
       "<div>\n",
       "<style scoped>\n",
       "    .dataframe tbody tr th:only-of-type {\n",
       "        vertical-align: middle;\n",
       "    }\n",
       "\n",
       "    .dataframe tbody tr th {\n",
       "        vertical-align: top;\n",
       "    }\n",
       "\n",
       "    .dataframe thead th {\n",
       "        text-align: right;\n",
       "    }\n",
       "</style>\n",
       "<table border=\"1\" class=\"dataframe\">\n",
       "  <thead>\n",
       "    <tr style=\"text-align: right;\">\n",
       "      <th></th>\n",
       "      <th>links</th>\n",
       "      <th>price</th>\n",
       "      <th>name</th>\n",
       "      <th>weight</th>\n",
       "      <th>group</th>\n",
       "      <th>params</th>\n",
       "      <th>Страна производитель</th>\n",
       "      <th>Проба</th>\n",
       "      <th>Высота</th>\n",
       "      <th>Производитель</th>\n",
       "      <th>Плетение</th>\n",
       "      <th>Вид обработки</th>\n",
       "      <th>Длина</th>\n",
       "      <th>Металл</th>\n",
       "      <th>Приблизительный каратный вес (основной вставки)</th>\n",
       "      <th>Форма основной вставки</th>\n",
       "      <th>Ширина</th>\n",
       "      <th>Вставка</th>\n",
       "    </tr>\n",
       "  </thead>\n",
       "  <tbody>\n",
       "    <tr>\n",
       "      <th>0</th>\n",
       "      <td>/catalog/product/kolca_2155372/</td>\n",
       "      <td>18390</td>\n",
       "      <td>Страна производитель</td>\n",
       "      <td>2.640000</td>\n",
       "      <td>Кольца</td>\n",
       "      <td>{'Ширина': '5 мм', 'Металл': 'Золото (Красное)...</td>\n",
       "      <td>Россия</td>\n",
       "      <td>585</td>\n",
       "      <td>NaN</td>\n",
       "      <td>Каратов</td>\n",
       "      <td></td>\n",
       "      <td>NaN</td>\n",
       "      <td>NaN</td>\n",
       "      <td>Золото (Красное)</td>\n",
       "      <td>NaN</td>\n",
       "      <td>NaN</td>\n",
       "      <td>5 мм</td>\n",
       "      <td></td>\n",
       "    </tr>\n",
       "    <tr>\n",
       "      <th>1</th>\n",
       "      <td>/catalog/product/kolca_2150980/</td>\n",
       "      <td>13690</td>\n",
       "      <td>Страна производитель</td>\n",
       "      <td>2.240000</td>\n",
       "      <td>Кольца</td>\n",
       "      <td>{'Ширина': '4 мм', 'Металл': 'Золото (Красное)...</td>\n",
       "      <td>Россия</td>\n",
       "      <td>585</td>\n",
       "      <td>NaN</td>\n",
       "      <td>Каратов</td>\n",
       "      <td></td>\n",
       "      <td>NaN</td>\n",
       "      <td>NaN</td>\n",
       "      <td>Золото (Красное)</td>\n",
       "      <td>NaN</td>\n",
       "      <td>NaN</td>\n",
       "      <td>4 мм</td>\n",
       "      <td></td>\n",
       "    </tr>\n",
       "    <tr>\n",
       "      <th>2</th>\n",
       "      <td>/catalog/product/kolca_2253156/</td>\n",
       "      <td>17590</td>\n",
       "      <td>Страна производитель</td>\n",
       "      <td>1.770000</td>\n",
       "      <td>Кольца</td>\n",
       "      <td>{'Ширина': '4 мм', 'Металл': 'Золото (Мультицв...</td>\n",
       "      <td>Россия</td>\n",
       "      <td>585</td>\n",
       "      <td>NaN</td>\n",
       "      <td>Каратов</td>\n",
       "      <td></td>\n",
       "      <td>Алмазная грань</td>\n",
       "      <td>NaN</td>\n",
       "      <td>Золото (Мультицвет)</td>\n",
       "      <td>NaN</td>\n",
       "      <td>NaN</td>\n",
       "      <td>4 мм</td>\n",
       "      <td></td>\n",
       "    </tr>\n",
       "    <tr>\n",
       "      <th>3</th>\n",
       "      <td>/catalog/product/kolca_7248203/</td>\n",
       "      <td>19590</td>\n",
       "      <td>Страна производитель</td>\n",
       "      <td>2.830000</td>\n",
       "      <td>Кольца</td>\n",
       "      <td>{'Ширина': '3 мм', 'Высота': '1 мм', 'Металл':...</td>\n",
       "      <td>Россия</td>\n",
       "      <td>585</td>\n",
       "      <td>1 мм</td>\n",
       "      <td>Каратов</td>\n",
       "      <td></td>\n",
       "      <td>NaN</td>\n",
       "      <td>NaN</td>\n",
       "      <td>Золото (Красное)</td>\n",
       "      <td>NaN</td>\n",
       "      <td>NaN</td>\n",
       "      <td>3 мм</td>\n",
       "      <td></td>\n",
       "    </tr>\n",
       "    <tr>\n",
       "      <th>4</th>\n",
       "      <td>/catalog/product/cepochki_2207738/</td>\n",
       "      <td>60820</td>\n",
       "      <td>Страна производитель</td>\n",
       "      <td>6.100000</td>\n",
       "      <td>Цепи</td>\n",
       "      <td>{'Ширина': '2 мм', 'Металл': 'Золото (Красное)...</td>\n",
       "      <td>Россия</td>\n",
       "      <td>585</td>\n",
       "      <td>NaN</td>\n",
       "      <td>Каратов</td>\n",
       "      <td>Нонна</td>\n",
       "      <td>Алмазная грань</td>\n",
       "      <td>NaN</td>\n",
       "      <td>Золото (Красное)</td>\n",
       "      <td>NaN</td>\n",
       "      <td>NaN</td>\n",
       "      <td>2 мм</td>\n",
       "      <td></td>\n",
       "    </tr>\n",
       "    <tr>\n",
       "      <th>...</th>\n",
       "      <td>...</td>\n",
       "      <td>...</td>\n",
       "      <td>...</td>\n",
       "      <td>...</td>\n",
       "      <td>...</td>\n",
       "      <td>...</td>\n",
       "      <td>...</td>\n",
       "      <td>...</td>\n",
       "      <td>...</td>\n",
       "      <td>...</td>\n",
       "      <td>...</td>\n",
       "      <td>...</td>\n",
       "      <td>...</td>\n",
       "      <td>...</td>\n",
       "      <td>...</td>\n",
       "      <td>...</td>\n",
       "      <td>...</td>\n",
       "      <td>...</td>\n",
       "    </tr>\n",
       "    <tr>\n",
       "      <th>1583</th>\n",
       "      <td>/catalog/product/krestiki_8596824/</td>\n",
       "      <td>47590</td>\n",
       "      <td>Страна производитель</td>\n",
       "      <td>2.730000</td>\n",
       "      <td>Крестики</td>\n",
       "      <td>{'Длина': '28 мм', 'Ширина': '18 мм', 'Металл'...</td>\n",
       "      <td>Россия</td>\n",
       "      <td>585</td>\n",
       "      <td>NaN</td>\n",
       "      <td>Каратов</td>\n",
       "      <td></td>\n",
       "      <td>NaN</td>\n",
       "      <td>28 мм</td>\n",
       "      <td>Золото (Красное)</td>\n",
       "      <td>NaN</td>\n",
       "      <td>Круг</td>\n",
       "      <td>18 мм</td>\n",
       "      <td>3 фианит 1,5 Круг ; 0 эмаль черный</td>\n",
       "    </tr>\n",
       "    <tr>\n",
       "      <th>1584</th>\n",
       "      <td>/catalog/product/cepochki_10340676/</td>\n",
       "      <td>98230</td>\n",
       "      <td>Страна производитель</td>\n",
       "      <td>2.264909</td>\n",
       "      <td>Цепи</td>\n",
       "      <td>{'Металл': 'Золото (Красное)', 'Проба': '585',...</td>\n",
       "      <td>Россия</td>\n",
       "      <td>585</td>\n",
       "      <td>NaN</td>\n",
       "      <td>Каратов</td>\n",
       "      <td></td>\n",
       "      <td>Алмазная грань</td>\n",
       "      <td>NaN</td>\n",
       "      <td>Золото (Красное)</td>\n",
       "      <td>NaN</td>\n",
       "      <td>NaN</td>\n",
       "      <td>NaN</td>\n",
       "      <td></td>\n",
       "    </tr>\n",
       "    <tr>\n",
       "      <th>1585</th>\n",
       "      <td>/catalog/product/braslety_9638820/</td>\n",
       "      <td>21390</td>\n",
       "      <td>Страна производитель</td>\n",
       "      <td>1.460000</td>\n",
       "      <td>Браслеты</td>\n",
       "      <td>{'Металл': 'Золото (Красное)', 'Проба': '585',...</td>\n",
       "      <td>Россия</td>\n",
       "      <td>585</td>\n",
       "      <td>NaN</td>\n",
       "      <td>Каратов</td>\n",
       "      <td></td>\n",
       "      <td>NaN</td>\n",
       "      <td>NaN</td>\n",
       "      <td>Золото (Красное)</td>\n",
       "      <td>NaN</td>\n",
       "      <td>Круг</td>\n",
       "      <td>NaN</td>\n",
       "      <td>9 фианит 3,0 Круг</td>\n",
       "    </tr>\n",
       "    <tr>\n",
       "      <th>1586</th>\n",
       "      <td>/catalog/product/kolca_9556127/</td>\n",
       "      <td>35890</td>\n",
       "      <td>Страна производитель</td>\n",
       "      <td>2.670000</td>\n",
       "      <td>Кольца</td>\n",
       "      <td>{'Длина': '20 мм', 'Ширина': '12 мм', 'Металл'...</td>\n",
       "      <td>Россия</td>\n",
       "      <td>585</td>\n",
       "      <td>NaN</td>\n",
       "      <td>Каратов</td>\n",
       "      <td></td>\n",
       "      <td>NaN</td>\n",
       "      <td>20 мм</td>\n",
       "      <td>Золото</td>\n",
       "      <td>0 ct</td>\n",
       "      <td>Овал</td>\n",
       "      <td>12 мм</td>\n",
       "      <td>6 бриллианты 30-40 кр-57 ; 1 сапфир натур. (О)...</td>\n",
       "    </tr>\n",
       "    <tr>\n",
       "      <th>1587</th>\n",
       "      <td>/catalog/product/kolca_9172226/</td>\n",
       "      <td>305190</td>\n",
       "      <td>Страна производитель</td>\n",
       "      <td>1.610000</td>\n",
       "      <td>Кольца</td>\n",
       "      <td>{'Длина': '21 мм', 'Ширина': '4 мм', 'Металл':...</td>\n",
       "      <td>Россия</td>\n",
       "      <td>585</td>\n",
       "      <td>NaN</td>\n",
       "      <td>Каратов</td>\n",
       "      <td></td>\n",
       "      <td>Родирование</td>\n",
       "      <td>21 мм</td>\n",
       "      <td>Золото (Красное)</td>\n",
       "      <td>0.345 ct</td>\n",
       "      <td>Круг</td>\n",
       "      <td>4 мм</td>\n",
       "      <td>1 бриллианты 0.30-0.39 кр-57</td>\n",
       "    </tr>\n",
       "  </tbody>\n",
       "</table>\n",
       "<p>1588 rows × 18 columns</p>\n",
       "</div>"
      ],
      "text/plain": [
       "                                    links   price                  name  \\\n",
       "0         /catalog/product/kolca_2155372/   18390  Страна производитель   \n",
       "1         /catalog/product/kolca_2150980/   13690  Страна производитель   \n",
       "2         /catalog/product/kolca_2253156/   17590  Страна производитель   \n",
       "3         /catalog/product/kolca_7248203/   19590  Страна производитель   \n",
       "4      /catalog/product/cepochki_2207738/   60820  Страна производитель   \n",
       "...                                   ...     ...                   ...   \n",
       "1583   /catalog/product/krestiki_8596824/   47590  Страна производитель   \n",
       "1584  /catalog/product/cepochki_10340676/   98230  Страна производитель   \n",
       "1585   /catalog/product/braslety_9638820/   21390  Страна производитель   \n",
       "1586      /catalog/product/kolca_9556127/   35890  Страна производитель   \n",
       "1587      /catalog/product/kolca_9172226/  305190  Страна производитель   \n",
       "\n",
       "        weight     group                                             params  \\\n",
       "0     2.640000    Кольца  {'Ширина': '5 мм', 'Металл': 'Золото (Красное)...   \n",
       "1     2.240000    Кольца  {'Ширина': '4 мм', 'Металл': 'Золото (Красное)...   \n",
       "2     1.770000    Кольца  {'Ширина': '4 мм', 'Металл': 'Золото (Мультицв...   \n",
       "3     2.830000    Кольца  {'Ширина': '3 мм', 'Высота': '1 мм', 'Металл':...   \n",
       "4     6.100000      Цепи  {'Ширина': '2 мм', 'Металл': 'Золото (Красное)...   \n",
       "...        ...       ...                                                ...   \n",
       "1583  2.730000  Крестики  {'Длина': '28 мм', 'Ширина': '18 мм', 'Металл'...   \n",
       "1584  2.264909      Цепи  {'Металл': 'Золото (Красное)', 'Проба': '585',...   \n",
       "1585  1.460000  Браслеты  {'Металл': 'Золото (Красное)', 'Проба': '585',...   \n",
       "1586  2.670000    Кольца  {'Длина': '20 мм', 'Ширина': '12 мм', 'Металл'...   \n",
       "1587  1.610000    Кольца  {'Длина': '21 мм', 'Ширина': '4 мм', 'Металл':...   \n",
       "\n",
       "     Страна производитель Проба Высота Производитель Плетение   Вид обработки  \\\n",
       "0                  Россия   585    NaN       Каратов                      NaN   \n",
       "1                  Россия   585    NaN       Каратов                      NaN   \n",
       "2                  Россия   585    NaN       Каратов           Алмазная грань   \n",
       "3                  Россия   585   1 мм       Каратов                      NaN   \n",
       "4                  Россия   585    NaN       Каратов    Нонна  Алмазная грань   \n",
       "...                   ...   ...    ...           ...      ...             ...   \n",
       "1583               Россия   585    NaN       Каратов                      NaN   \n",
       "1584               Россия   585    NaN       Каратов           Алмазная грань   \n",
       "1585               Россия   585    NaN       Каратов                      NaN   \n",
       "1586               Россия   585    NaN       Каратов                      NaN   \n",
       "1587               Россия   585    NaN       Каратов              Родирование   \n",
       "\n",
       "      Длина               Металл  \\\n",
       "0       NaN     Золото (Красное)   \n",
       "1       NaN     Золото (Красное)   \n",
       "2       NaN  Золото (Мультицвет)   \n",
       "3       NaN     Золото (Красное)   \n",
       "4       NaN     Золото (Красное)   \n",
       "...     ...                  ...   \n",
       "1583  28 мм     Золото (Красное)   \n",
       "1584    NaN     Золото (Красное)   \n",
       "1585    NaN     Золото (Красное)   \n",
       "1586  20 мм               Золото   \n",
       "1587  21 мм     Золото (Красное)   \n",
       "\n",
       "     Приблизительный каратный вес (основной вставки) Форма основной вставки  \\\n",
       "0                                                NaN                    NaN   \n",
       "1                                                NaN                    NaN   \n",
       "2                                                NaN                    NaN   \n",
       "3                                                NaN                    NaN   \n",
       "4                                                NaN                    NaN   \n",
       "...                                              ...                    ...   \n",
       "1583                                             NaN                   Круг   \n",
       "1584                                             NaN                    NaN   \n",
       "1585                                             NaN                   Круг   \n",
       "1586                                            0 ct                   Овал   \n",
       "1587                                        0.345 ct                   Круг   \n",
       "\n",
       "     Ширина                                            Вставка  \n",
       "0      5 мм                                                     \n",
       "1      4 мм                                                     \n",
       "2      4 мм                                                     \n",
       "3      3 мм                                                     \n",
       "4      2 мм                                                     \n",
       "...     ...                                                ...  \n",
       "1583  18 мм                 3 фианит 1,5 Круг ; 0 эмаль черный  \n",
       "1584    NaN                                                     \n",
       "1585    NaN                                  9 фианит 3,0 Круг  \n",
       "1586  12 мм  6 бриллианты 30-40 кр-57 ; 1 сапфир натур. (О)...  \n",
       "1587   4 мм                       1 бриллианты 0.30-0.39 кр-57  \n",
       "\n",
       "[1588 rows x 18 columns]"
      ]
     },
     "execution_count": 758,
     "metadata": {},
     "output_type": "execute_result"
    }
   ],
   "source": [
    "df_ll['params'] = df_ll['params'].apply(lambda x: eval(x))\n",
    "get_params_from_dic(df_ll)"
   ]
  },
  {
   "cell_type": "code",
   "execution_count": 759,
   "id": "c1e55ae5",
   "metadata": {},
   "outputs": [],
   "source": [
    "df_ll['data'] = date_now\n",
    "df_ll['data'] = pd.to_datetime(df_ll['data'], format='%d.%m.%Y')"
   ]
  },
  {
   "cell_type": "code",
   "execution_count": 760,
   "id": "30e4ed2e",
   "metadata": {
    "tags": []
   },
   "outputs": [],
   "source": [
    "df_ll.insert(0, \"competitor\", \"Линии любви\")"
   ]
  },
  {
   "cell_type": "code",
   "execution_count": 761,
   "id": "8b520c48",
   "metadata": {
    "tags": []
   },
   "outputs": [
    {
     "data": {
      "text/plain": [
       "group\n",
       "Серьги                  584\n",
       "Кольца                  477\n",
       "Подвески и кулоны       166\n",
       "Крестики                 92\n",
       "Браслеты                 83\n",
       "Колье                    72\n",
       "Цепи                     67\n",
       "Бриллиантовое ателье     20\n",
       "Пирсинги                 11\n",
       "Иконки                   10\n",
       "Броши                     6\n",
       "Name: count, dtype: int64"
      ]
     },
     "execution_count": 761,
     "metadata": {},
     "output_type": "execute_result"
    }
   ],
   "source": [
    "df_ll['group'].value_counts()"
   ]
  },
  {
   "cell_type": "code",
   "execution_count": 762,
   "id": "f15154ba-aa1a-489a-8a83-fd9c321300ff",
   "metadata": {
    "tags": []
   },
   "outputs": [],
   "source": [
    "# Удаляем все пропуски так как при сборе данных попадаются ссылки, которые не верные и у нас появляются Nan"
   ]
  },
  {
   "cell_type": "code",
   "execution_count": 763,
   "id": "9f833fe4",
   "metadata": {},
   "outputs": [
    {
     "data": {
      "text/plain": [
       "Index(['competitor', 'links', 'price', 'name', 'weight', 'group', 'params',\n",
       "       'Страна производитель', 'Проба', 'Высота', 'Производитель', 'Плетение',\n",
       "       'Вид обработки', 'Длина', 'Металл',\n",
       "       'Приблизительный каратный вес (основной вставки)',\n",
       "       'Форма основной вставки', 'Ширина', 'Вставка', 'data'],\n",
       "      dtype='object')"
      ]
     },
     "execution_count": 763,
     "metadata": {},
     "output_type": "execute_result"
    }
   ],
   "source": [
    "df_ll.columns"
   ]
  },
  {
   "cell_type": "code",
   "execution_count": 764,
   "id": "251697f3",
   "metadata": {},
   "outputs": [],
   "source": [
    "df_ll['discount'] = 0.9"
   ]
  },
  {
   "cell_type": "code",
   "execution_count": 765,
   "id": "dbf9f1ba",
   "metadata": {
    "tags": []
   },
   "outputs": [],
   "source": [
    "df_ll['price_personal'] = df_ll['price'] * df_ll['discount']"
   ]
  },
  {
   "cell_type": "code",
   "execution_count": 766,
   "id": "1327dc29",
   "metadata": {},
   "outputs": [],
   "source": [
    "df_ll = df_ll[['data', 'competitor', 'name', 'group', 'weight', 'price_personal', 'price',  'discount', 'Вставка', 'Металл', 'Плетение',\n",
    "                        'links']]\n",
    "\n",
    "df_ll.columns = ['data', 'competitor', 'name', 'group', 'weight', 'price_personal', 'price', 'discount', 'insert', 'metal', 'lock_type_or_weaving_type',\n",
    "                        'url']"
   ]
  },
  {
   "cell_type": "code",
   "execution_count": 767,
   "id": "61d51f39",
   "metadata": {
    "tags": []
   },
   "outputs": [],
   "source": [
    "df_ll = df_ll.dropna()"
   ]
  },
  {
   "cell_type": "code",
   "execution_count": 768,
   "id": "aa5b759b",
   "metadata": {
    "tags": []
   },
   "outputs": [
    {
     "data": {
      "text/html": [
       "<div>\n",
       "<style scoped>\n",
       "    .dataframe tbody tr th:only-of-type {\n",
       "        vertical-align: middle;\n",
       "    }\n",
       "\n",
       "    .dataframe tbody tr th {\n",
       "        vertical-align: top;\n",
       "    }\n",
       "\n",
       "    .dataframe thead th {\n",
       "        text-align: right;\n",
       "    }\n",
       "</style>\n",
       "<table border=\"1\" class=\"dataframe\">\n",
       "  <thead>\n",
       "    <tr style=\"text-align: right;\">\n",
       "      <th></th>\n",
       "      <th>data</th>\n",
       "      <th>competitor</th>\n",
       "      <th>name</th>\n",
       "      <th>group</th>\n",
       "      <th>weight</th>\n",
       "      <th>price_personal</th>\n",
       "      <th>price</th>\n",
       "      <th>discount</th>\n",
       "      <th>insert</th>\n",
       "      <th>metal</th>\n",
       "      <th>lock_type_or_weaving_type</th>\n",
       "      <th>url</th>\n",
       "    </tr>\n",
       "  </thead>\n",
       "  <tbody>\n",
       "    <tr>\n",
       "      <th>0</th>\n",
       "      <td>2024-03-15</td>\n",
       "      <td>Линии любви</td>\n",
       "      <td>Страна производитель</td>\n",
       "      <td>Кольца</td>\n",
       "      <td>2.64</td>\n",
       "      <td>16551.0</td>\n",
       "      <td>18390</td>\n",
       "      <td>0.9</td>\n",
       "      <td></td>\n",
       "      <td>Золото (Красное)</td>\n",
       "      <td></td>\n",
       "      <td>/catalog/product/kolca_2155372/</td>\n",
       "    </tr>\n",
       "    <tr>\n",
       "      <th>1</th>\n",
       "      <td>2024-03-15</td>\n",
       "      <td>Линии любви</td>\n",
       "      <td>Страна производитель</td>\n",
       "      <td>Кольца</td>\n",
       "      <td>2.24</td>\n",
       "      <td>12321.0</td>\n",
       "      <td>13690</td>\n",
       "      <td>0.9</td>\n",
       "      <td></td>\n",
       "      <td>Золото (Красное)</td>\n",
       "      <td></td>\n",
       "      <td>/catalog/product/kolca_2150980/</td>\n",
       "    </tr>\n",
       "    <tr>\n",
       "      <th>2</th>\n",
       "      <td>2024-03-15</td>\n",
       "      <td>Линии любви</td>\n",
       "      <td>Страна производитель</td>\n",
       "      <td>Кольца</td>\n",
       "      <td>1.77</td>\n",
       "      <td>15831.0</td>\n",
       "      <td>17590</td>\n",
       "      <td>0.9</td>\n",
       "      <td></td>\n",
       "      <td>Золото (Мультицвет)</td>\n",
       "      <td></td>\n",
       "      <td>/catalog/product/kolca_2253156/</td>\n",
       "    </tr>\n",
       "    <tr>\n",
       "      <th>3</th>\n",
       "      <td>2024-03-15</td>\n",
       "      <td>Линии любви</td>\n",
       "      <td>Страна производитель</td>\n",
       "      <td>Кольца</td>\n",
       "      <td>2.83</td>\n",
       "      <td>17631.0</td>\n",
       "      <td>19590</td>\n",
       "      <td>0.9</td>\n",
       "      <td></td>\n",
       "      <td>Золото (Красное)</td>\n",
       "      <td></td>\n",
       "      <td>/catalog/product/kolca_7248203/</td>\n",
       "    </tr>\n",
       "    <tr>\n",
       "      <th>4</th>\n",
       "      <td>2024-03-15</td>\n",
       "      <td>Линии любви</td>\n",
       "      <td>Страна производитель</td>\n",
       "      <td>Цепи</td>\n",
       "      <td>6.10</td>\n",
       "      <td>54738.0</td>\n",
       "      <td>60820</td>\n",
       "      <td>0.9</td>\n",
       "      <td></td>\n",
       "      <td>Золото (Красное)</td>\n",
       "      <td>Нонна</td>\n",
       "      <td>/catalog/product/cepochki_2207738/</td>\n",
       "    </tr>\n",
       "  </tbody>\n",
       "</table>\n",
       "</div>"
      ],
      "text/plain": [
       "        data   competitor                  name   group  weight  \\\n",
       "0 2024-03-15  Линии любви  Страна производитель  Кольца    2.64   \n",
       "1 2024-03-15  Линии любви  Страна производитель  Кольца    2.24   \n",
       "2 2024-03-15  Линии любви  Страна производитель  Кольца    1.77   \n",
       "3 2024-03-15  Линии любви  Страна производитель  Кольца    2.83   \n",
       "4 2024-03-15  Линии любви  Страна производитель    Цепи    6.10   \n",
       "\n",
       "   price_personal  price  discount insert                metal  \\\n",
       "0         16551.0  18390       0.9            Золото (Красное)   \n",
       "1         12321.0  13690       0.9            Золото (Красное)   \n",
       "2         15831.0  17590       0.9         Золото (Мультицвет)   \n",
       "3         17631.0  19590       0.9            Золото (Красное)   \n",
       "4         54738.0  60820       0.9            Золото (Красное)   \n",
       "\n",
       "  lock_type_or_weaving_type                                 url  \n",
       "0                               /catalog/product/kolca_2155372/  \n",
       "1                               /catalog/product/kolca_2150980/  \n",
       "2                               /catalog/product/kolca_2253156/  \n",
       "3                               /catalog/product/kolca_7248203/  \n",
       "4                     Нонна  /catalog/product/cepochki_2207738/  "
      ]
     },
     "execution_count": 768,
     "metadata": {},
     "output_type": "execute_result"
    }
   ],
   "source": [
    "df_ll.head()"
   ]
  },
  {
   "cell_type": "code",
   "execution_count": 769,
   "id": "e8636d43",
   "metadata": {},
   "outputs": [],
   "source": [
    "def input_insert(ins):\n",
    "    try:\n",
    "        int(ins[0])\n",
    "        return ins \n",
    "    except:\n",
    "        return 'Без вставки'"
   ]
  },
  {
   "cell_type": "code",
   "execution_count": 770,
   "id": "17b62030",
   "metadata": {},
   "outputs": [],
   "source": [
    "df_ll['insert'] = df_ll['insert'].apply(input_insert)"
   ]
  },
  {
   "cell_type": "code",
   "execution_count": 771,
   "id": "020ca977",
   "metadata": {
    "tags": []
   },
   "outputs": [],
   "source": [
    "df_ll['weight'] = df_ll['weight'].astype('float')\n",
    "df_ll['price'] = df_ll['price'].astype('int')"
   ]
  },
  {
   "cell_type": "code",
   "execution_count": 772,
   "id": "4bd3ad83-3b96-40cb-9996-d33a992a8080",
   "metadata": {
    "tags": []
   },
   "outputs": [],
   "source": [
    "# У некоторых позиций бывает на сайте вес равные нулю, убираем их"
   ]
  },
  {
   "cell_type": "code",
   "execution_count": 774,
   "id": "0b19cf86",
   "metadata": {
    "tags": []
   },
   "outputs": [],
   "source": [
    "df_ll = df_ll[(df_ll['weight'] != 0)]"
   ]
  },
  {
   "cell_type": "code",
   "execution_count": 775,
   "id": "81c3559e",
   "metadata": {
    "tags": []
   },
   "outputs": [],
   "source": [
    "df_ll['price_for_gramm'] = (df_ll['price_personal'] / df_ll['weight']).round(0)"
   ]
  },
  {
   "cell_type": "code",
   "execution_count": 776,
   "id": "1d07d63d",
   "metadata": {
    "tags": []
   },
   "outputs": [],
   "source": [
    "df_ll['price_case'] = np.where(\n",
    "    df_ll['price_for_gramm'] <= 5500, 'до 5 500 руб.', \n",
    "    np.where(\n",
    "    (df_ll['price_for_gramm'] <= 6000), '5 500 руб. - 6 000 руб.', \n",
    "    np.where(\n",
    "    (df_ll['price_for_gramm'] <= 6500), '6 000 руб. - 6 500 руб.', \n",
    "    np.where(\n",
    "    (df_ll['price_for_gramm'] <= 7000), '6 500 руб. - 7 000 руб.', \n",
    "    np.where(\n",
    "    (df_ll['price_for_gramm'] <= 8000), '7 000 руб. - 8 000 руб.', \n",
    "    np.where(\n",
    "    (df_ll['price_for_gramm'] <= 9000), '8 000 руб. - 9 000 руб.', \n",
    "    np.where(\n",
    "    (df_ll['price_for_gramm'] <= 10000), '9 000 руб. - 10 000 руб.',  'свыше 10 000 руб.'\n",
    ")))))))"
   ]
  },
  {
   "cell_type": "code",
   "execution_count": 781,
   "id": "3bb1ca70",
   "metadata": {},
   "outputs": [],
   "source": [
    "day, month, year = dt.datetime.today().day, dt.datetime.today().month, dt.datetime.today().year"
   ]
  },
  {
   "cell_type": "code",
   "execution_count": 782,
   "id": "b78f51d9",
   "metadata": {},
   "outputs": [],
   "source": [
    "df_ll.to_excel(rf'\\\\gold585.int\\uk\\Общее хранилище файлов\\Служба аналитики\\МЮР\\tg_tn\\\\linii_lubvy_{day}_{month}_{year}.xlsx', index =False)"
   ]
  },
  {
   "cell_type": "code",
   "execution_count": 783,
   "id": "59f1a234",
   "metadata": {},
   "outputs": [],
   "source": [
    "df_ll = df_ll.query(\"insert == 'Без вставки'\")"
   ]
  },
  {
   "cell_type": "code",
   "execution_count": 786,
   "id": "fe7df57f",
   "metadata": {
    "tags": []
   },
   "outputs": [
    {
     "data": {
      "text/plain": [
       "count      397.000000\n",
       "mean      9500.795970\n",
       "std       4685.162929\n",
       "min       1160.000000\n",
       "25%       5846.000000\n",
       "50%       8901.000000\n",
       "75%      13075.000000\n",
       "max      39033.000000\n",
       "Name: price_for_gramm, dtype: float64"
      ]
     },
     "execution_count": 786,
     "metadata": {},
     "output_type": "execute_result"
    }
   ],
   "source": [
    "df_ll['price_for_gramm'].describe()"
   ]
  },
  {
   "cell_type": "code",
   "execution_count": 788,
   "id": "bdbb4bb7",
   "metadata": {
    "tags": []
   },
   "outputs": [
    {
     "name": "stdout",
     "output_type": "stream",
     "text": [
      "9243.0\n"
     ]
    }
   ],
   "source": [
    "print((df_ll['price'].sum() / df_ll['weight'].sum()).round(0))"
   ]
  },
  {
   "cell_type": "markdown",
   "id": "682b5081",
   "metadata": {},
   "source": [
    "# 6. 585 Gold"
   ]
  },
  {
   "cell_type": "code",
   "execution_count": 171,
   "id": "f41ba60f-32d9-4d68-90c7-f35f8048a0b6",
   "metadata": {
    "tags": []
   },
   "outputs": [],
   "source": [
    "all_filenames = ['585_gold_1.csv', '585_gold_2.csv', '585_gold_3.csv', '585_gold_4.csv']"
   ]
  },
  {
   "cell_type": "code",
   "execution_count": null,
   "id": "3735198f-56cf-4292-801a-a267a4b9ffb3",
   "metadata": {
    "tags": []
   },
   "outputs": [],
   "source": [
    "data = pd.DataFrame()\n",
    "for name  in all_filenames:\n",
    "    df = pd.read_csv(name)\n",
    "    data = data.append(df).reset_index(drop=True)"
   ]
  },
  {
   "cell_type": "code",
   "execution_count": null,
   "id": "f5e20170-8c8b-45f5-9289-684f569c27bf",
   "metadata": {
    "tags": []
   },
   "outputs": [],
   "source": [
    "data.info()"
   ]
  },
  {
   "cell_type": "code",
   "execution_count": null,
   "id": "8c3f0457-ce1d-4e84-b776-a4956717b0b8",
   "metadata": {
    "tags": []
   },
   "outputs": [],
   "source": [
    "df_gold = data"
   ]
  },
  {
   "cell_type": "code",
   "execution_count": null,
   "id": "e88eb03b",
   "metadata": {
    "tags": []
   },
   "outputs": [],
   "source": [
    "df_gold.head()"
   ]
  },
  {
   "cell_type": "code",
   "execution_count": null,
   "id": "4fd376fa",
   "metadata": {
    "tags": []
   },
   "outputs": [],
   "source": [
    "df_gold = df_gold.dropna()"
   ]
  },
  {
   "cell_type": "code",
   "execution_count": null,
   "id": "52896b0d",
   "metadata": {
    "tags": []
   },
   "outputs": [],
   "source": [
    "df_gold = df_gold[['competitor', 'name', 'group', 'price', 'weight', 'url']]"
   ]
  },
  {
   "cell_type": "code",
   "execution_count": null,
   "id": "b6375d40",
   "metadata": {
    "tags": []
   },
   "outputs": [],
   "source": [
    "df_gold['price'] = df_gold['price'].str.replace(' ₽', '')\n",
    "df_gold['price'] = df_gold['price'].str.replace(' ', '')"
   ]
  },
  {
   "cell_type": "code",
   "execution_count": null,
   "id": "8a2318e9",
   "metadata": {
    "tags": []
   },
   "outputs": [],
   "source": [
    "df_gold['price'] = df_gold['price'].astype('int')\n",
    "df_gold['weight'] = df_gold['weight'].astype('float')"
   ]
  },
  {
   "cell_type": "code",
   "execution_count": null,
   "id": "c2277c9c-f89d-4633-8562-04986cee5147",
   "metadata": {
    "tags": []
   },
   "outputs": [],
   "source": [
    "df_gold.info()"
   ]
  },
  {
   "cell_type": "code",
   "execution_count": null,
   "id": "9350eb12",
   "metadata": {
    "tags": []
   },
   "outputs": [],
   "source": [
    "df_gold['price_per_gramm'] = (df_gold['price'] / df_gold['weight']).round(0)"
   ]
  },
  {
   "cell_type": "code",
   "execution_count": null,
   "id": "e33b3838",
   "metadata": {
    "tags": []
   },
   "outputs": [],
   "source": [
    "df_gold.columns = ['competitor', 'name', 'group', 'price', 'weight', 'url',\n",
    "       'price_for_gramm']"
   ]
  },
  {
   "cell_type": "code",
   "execution_count": null,
   "id": "735ce61f",
   "metadata": {
    "tags": []
   },
   "outputs": [],
   "source": [
    "df_gold['price_case'] = np.where(\n",
    "    df_gold['price_for_gramm'] <= 5500, 'до 5 500 руб.', \n",
    "    np.where(\n",
    "    (df_gold['price_for_gramm'] <= 6000), '5 500 руб. - 6 000 руб.', \n",
    "    np.where(\n",
    "    (df_gold['price_for_gramm'] <= 6500), '6 000 руб. - 6 500 руб.', \n",
    "    np.where(\n",
    "    (df_gold['price_for_gramm'] <= 7000), '6 500 руб. - 7 000 руб.', \n",
    "    np.where(\n",
    "    (df_gold['price_for_gramm'] <= 8000), '7 000 руб. - 8 000 руб.', \n",
    "    np.where(\n",
    "    (df_gold['price_for_gramm'] <= 9000), '8 000 руб. - 9 000 руб.', \n",
    "    np.where(\n",
    "    (df_gold['price_for_gramm'] <= 5500), '9 000 руб. -10 000 руб.',  'свыше 10 000 руб.'\n",
    ")))))))"
   ]
  },
  {
   "cell_type": "code",
   "execution_count": null,
   "id": "f0007f07",
   "metadata": {
    "tags": []
   },
   "outputs": [],
   "source": [
    "df_gold['price_for_gramm'].mean()"
   ]
  },
  {
   "cell_type": "code",
   "execution_count": null,
   "id": "3533ad43-4ea7-46d1-bb6e-4e13a1433a99",
   "metadata": {
    "tags": []
   },
   "outputs": [],
   "source": [
    "df_gold = df_gold[['competitor', 'weight', 'price', 'group', 'price_for_gramm', 'price_case']]"
   ]
  },
  {
   "cell_type": "code",
   "execution_count": null,
   "id": "1e14a496-8122-4210-ab00-2b3ea195ae6a",
   "metadata": {
    "tags": []
   },
   "outputs": [],
   "source": [
    "df_gold['num_shop'] = '_' + df_gold['competitor']\n",
    "df_gold['num_diap'] = df_gold['price_case']"
   ]
  },
  {
   "cell_type": "code",
   "execution_count": null,
   "id": "7620f8db-ca88-49a1-ba0c-426239756a5e",
   "metadata": {
    "scrolled": true,
    "tags": []
   },
   "outputs": [],
   "source": [
    "df_gold.head(5)"
   ]
  },
  {
   "cell_type": "code",
   "execution_count": null,
   "id": "b48af35c",
   "metadata": {
    "tags": []
   },
   "outputs": [],
   "source": [
    "df_gold['price_for_gramm'].describe()"
   ]
  },
  {
   "cell_type": "code",
   "execution_count": null,
   "id": "4fe35d56-6613-4175-90fd-7e1cc37b637e",
   "metadata": {
    "tags": []
   },
   "outputs": [],
   "source": [
    "df_gold['price'] = df_gold['price'] + 500"
   ]
  },
  {
   "cell_type": "code",
   "execution_count": null,
   "id": "19da8799",
   "metadata": {
    "tags": []
   },
   "outputs": [],
   "source": [
    "print((df_gold['price'].sum() / df_gold['weight'].sum()).round(0))"
   ]
  },
  {
   "cell_type": "code",
   "execution_count": null,
   "id": "bbcadb69",
   "metadata": {
    "tags": []
   },
   "outputs": [],
   "source": [
    "df_gold.to_excel(r'\\\\gold585.int\\uk\\Общее хранилище файлов\\Дирекция Маркетинга и организации розничных продаж\\Отдел аналитики\\МЮР\\Мониторинг цен\\10.11.2023\\data_excel\\gold_585.xlsx', index=False)"
   ]
  },
  {
   "cell_type": "markdown",
   "id": "54de28db",
   "metadata": {},
   "source": [
    "# 7. 585*Золотой офлайн"
   ]
  },
  {
   "cell_type": "code",
   "execution_count": 172,
   "id": "d4c9fbb6",
   "metadata": {
    "tags": []
   },
   "outputs": [],
   "source": [
    "df_zolotoy = pd.read_csv('zolotoy_offline.csv')"
   ]
  },
  {
   "cell_type": "code",
   "execution_count": 173,
   "id": "e0ca6098",
   "metadata": {
    "tags": []
   },
   "outputs": [],
   "source": [
    "df_zolotoy.insert(0, 'competitor', '585*Золотой_офлайн')"
   ]
  },
  {
   "cell_type": "code",
   "execution_count": 174,
   "id": "cf99c9b3",
   "metadata": {
    "tags": []
   },
   "outputs": [
    {
     "data": {
      "text/html": [
       "<div>\n",
       "<style scoped>\n",
       "    .dataframe tbody tr th:only-of-type {\n",
       "        vertical-align: middle;\n",
       "    }\n",
       "\n",
       "    .dataframe tbody tr th {\n",
       "        vertical-align: top;\n",
       "    }\n",
       "\n",
       "    .dataframe thead th {\n",
       "        text-align: right;\n",
       "    }\n",
       "</style>\n",
       "<table border=\"1\" class=\"dataframe\">\n",
       "  <thead>\n",
       "    <tr style=\"text-align: right;\">\n",
       "      <th></th>\n",
       "      <th>competitor</th>\n",
       "      <th>Название товара</th>\n",
       "      <th>Тип изделия 1</th>\n",
       "      <th>Товарное направление</th>\n",
       "      <th>Цена после промо_1</th>\n",
       "      <th>Чистый вес</th>\n",
       "      <th>Цена после ПЛ</th>\n",
       "    </tr>\n",
       "  </thead>\n",
       "  <tbody>\n",
       "    <tr>\n",
       "      <th>0</th>\n",
       "      <td>585*Золотой_офлайн</td>\n",
       "      <td>Кольцо</td>\n",
       "      <td>КОЛЬЦО</td>\n",
       "      <td>БК</td>\n",
       "      <td>12125.09700</td>\n",
       "      <td>1.720</td>\n",
       "      <td>12763.260</td>\n",
       "    </tr>\n",
       "    <tr>\n",
       "      <th>1</th>\n",
       "      <td>585*Золотой_офлайн</td>\n",
       "      <td>Крест</td>\n",
       "      <td>ПОДВЕС КУЛЬТОВЫЙ</td>\n",
       "      <td>БК</td>\n",
       "      <td>5996.37150</td>\n",
       "      <td>0.840</td>\n",
       "      <td>6311.970</td>\n",
       "    </tr>\n",
       "    <tr>\n",
       "      <th>2</th>\n",
       "      <td>585*Золотой_офлайн</td>\n",
       "      <td>Крест</td>\n",
       "      <td>ПОДВЕС КУЛЬТОВЫЙ</td>\n",
       "      <td>БК</td>\n",
       "      <td>7500.06000</td>\n",
       "      <td>1.200</td>\n",
       "      <td>7894.800</td>\n",
       "    </tr>\n",
       "    <tr>\n",
       "      <th>3</th>\n",
       "      <td>585*Золотой_офлайн</td>\n",
       "      <td>Крест</td>\n",
       "      <td>ПОДВЕС КУЛЬТОВЫЙ</td>\n",
       "      <td>БК</td>\n",
       "      <td>7312.55850</td>\n",
       "      <td>1.170</td>\n",
       "      <td>7697.430</td>\n",
       "    </tr>\n",
       "    <tr>\n",
       "      <th>4</th>\n",
       "      <td>585*Золотой_офлайн</td>\n",
       "      <td>ЦЕПЬ ПАНЦИРЬ</td>\n",
       "      <td>ЦЕПЬ</td>\n",
       "      <td>ЦБ</td>\n",
       "      <td>4693.05225</td>\n",
       "      <td>0.739</td>\n",
       "      <td>4940.055</td>\n",
       "    </tr>\n",
       "  </tbody>\n",
       "</table>\n",
       "</div>"
      ],
      "text/plain": [
       "           competitor Название товара     Тип изделия 1 Товарное направление  \\\n",
       "0  585*Золотой_офлайн         Кольцо             КОЛЬЦО                   БК   \n",
       "1  585*Золотой_офлайн          Крест   ПОДВЕС КУЛЬТОВЫЙ                   БК   \n",
       "2  585*Золотой_офлайн          Крест   ПОДВЕС КУЛЬТОВЫЙ                   БК   \n",
       "3  585*Золотой_офлайн          Крест   ПОДВЕС КУЛЬТОВЫЙ                   БК   \n",
       "4  585*Золотой_офлайн    ЦЕПЬ ПАНЦИРЬ              ЦЕПЬ                   ЦБ   \n",
       "\n",
       "   Цена после промо_1  Чистый вес  Цена после ПЛ  \n",
       "0         12125.09700       1.720      12763.260  \n",
       "1          5996.37150       0.840       6311.970  \n",
       "2          7500.06000       1.200       7894.800  \n",
       "3          7312.55850       1.170       7697.430  \n",
       "4          4693.05225       0.739       4940.055  "
      ]
     },
     "execution_count": 174,
     "metadata": {},
     "output_type": "execute_result"
    }
   ],
   "source": [
    "df_zolotoy.head()"
   ]
  },
  {
   "cell_type": "code",
   "execution_count": 175,
   "id": "4ce8f102",
   "metadata": {
    "tags": []
   },
   "outputs": [],
   "source": [
    "df_zolotoy = df_zolotoy[['competitor', 'Название товара',\n",
    "       'Товарное направление', 'Чистый вес',\n",
    "       'Цена после ПЛ']]"
   ]
  },
  {
   "cell_type": "code",
   "execution_count": 176,
   "id": "1d6c48eb",
   "metadata": {
    "tags": []
   },
   "outputs": [],
   "source": [
    "df_zolotoy['price_case'] = np.where(\n",
    "    df_zolotoy['Цена после ПЛ'] <= 5500, 'до 5 500 руб.', \n",
    "    np.where(\n",
    "    (df_zolotoy['Цена после ПЛ'] <= 6000), '5 500 руб. - 6 000 руб.', \n",
    "    np.where(\n",
    "    (df_zolotoy['Цена после ПЛ'] <= 6500), '6 000 руб. - 6 500 руб.', \n",
    "    np.where(\n",
    "    (df_zolotoy['Цена после ПЛ'] <= 7000), '6 500 руб. - 7 000 руб.', \n",
    "    np.where(\n",
    "    (df_zolotoy['Цена после ПЛ'] <= 8000), '7 000 руб. - 8 000 руб.', \n",
    "    np.where(\n",
    "    (df_zolotoy['Цена после ПЛ'] <= 9000), '8 000 руб. - 9 000 руб.', \n",
    "    np.where(\n",
    "    (df_zolotoy['Цена после ПЛ'] <= 5500), '9 000 руб. -10 000 руб.',  'свыше 10 000 руб.'\n",
    ")))))))"
   ]
  },
  {
   "cell_type": "code",
   "execution_count": 177,
   "id": "b945f31d",
   "metadata": {
    "tags": []
   },
   "outputs": [
    {
     "data": {
      "text/plain": [
       "Index(['competitor', 'Название товара', 'Товарное направление', 'Чистый вес',\n",
       "       'Цена после ПЛ', 'price_case'],\n",
       "      dtype='object')"
      ]
     },
     "execution_count": 177,
     "metadata": {},
     "output_type": "execute_result"
    }
   ],
   "source": [
    "df_zolotoy.columns"
   ]
  },
  {
   "cell_type": "code",
   "execution_count": 178,
   "id": "b6153d9e-7579-4a68-8c34-0e4bfb35e03a",
   "metadata": {
    "tags": []
   },
   "outputs": [
    {
     "data": {
      "text/html": [
       "<div>\n",
       "<style scoped>\n",
       "    .dataframe tbody tr th:only-of-type {\n",
       "        vertical-align: middle;\n",
       "    }\n",
       "\n",
       "    .dataframe tbody tr th {\n",
       "        vertical-align: top;\n",
       "    }\n",
       "\n",
       "    .dataframe thead th {\n",
       "        text-align: right;\n",
       "    }\n",
       "</style>\n",
       "<table border=\"1\" class=\"dataframe\">\n",
       "  <thead>\n",
       "    <tr style=\"text-align: right;\">\n",
       "      <th></th>\n",
       "      <th>competitor</th>\n",
       "      <th>Название товара</th>\n",
       "      <th>Товарное направление</th>\n",
       "      <th>Чистый вес</th>\n",
       "      <th>Цена после ПЛ</th>\n",
       "      <th>price_case</th>\n",
       "    </tr>\n",
       "  </thead>\n",
       "  <tbody>\n",
       "    <tr>\n",
       "      <th>0</th>\n",
       "      <td>585*Золотой_офлайн</td>\n",
       "      <td>Кольцо</td>\n",
       "      <td>БК</td>\n",
       "      <td>1.720</td>\n",
       "      <td>12763.260</td>\n",
       "      <td>свыше 10 000 руб.</td>\n",
       "    </tr>\n",
       "    <tr>\n",
       "      <th>1</th>\n",
       "      <td>585*Золотой_офлайн</td>\n",
       "      <td>Крест</td>\n",
       "      <td>БК</td>\n",
       "      <td>0.840</td>\n",
       "      <td>6311.970</td>\n",
       "      <td>6 000 руб. - 6 500 руб.</td>\n",
       "    </tr>\n",
       "    <tr>\n",
       "      <th>2</th>\n",
       "      <td>585*Золотой_офлайн</td>\n",
       "      <td>Крест</td>\n",
       "      <td>БК</td>\n",
       "      <td>1.200</td>\n",
       "      <td>7894.800</td>\n",
       "      <td>7 000 руб. - 8 000 руб.</td>\n",
       "    </tr>\n",
       "    <tr>\n",
       "      <th>3</th>\n",
       "      <td>585*Золотой_офлайн</td>\n",
       "      <td>Крест</td>\n",
       "      <td>БК</td>\n",
       "      <td>1.170</td>\n",
       "      <td>7697.430</td>\n",
       "      <td>7 000 руб. - 8 000 руб.</td>\n",
       "    </tr>\n",
       "    <tr>\n",
       "      <th>4</th>\n",
       "      <td>585*Золотой_офлайн</td>\n",
       "      <td>ЦЕПЬ ПАНЦИРЬ</td>\n",
       "      <td>ЦБ</td>\n",
       "      <td>0.739</td>\n",
       "      <td>4940.055</td>\n",
       "      <td>до 5 500 руб.</td>\n",
       "    </tr>\n",
       "  </tbody>\n",
       "</table>\n",
       "</div>"
      ],
      "text/plain": [
       "           competitor Название товара Товарное направление  Чистый вес  \\\n",
       "0  585*Золотой_офлайн         Кольцо                    БК       1.720   \n",
       "1  585*Золотой_офлайн          Крест                    БК       0.840   \n",
       "2  585*Золотой_офлайн          Крест                    БК       1.200   \n",
       "3  585*Золотой_офлайн          Крест                    БК       1.170   \n",
       "4  585*Золотой_офлайн    ЦЕПЬ ПАНЦИРЬ                   ЦБ       0.739   \n",
       "\n",
       "   Цена после ПЛ               price_case  \n",
       "0      12763.260        свыше 10 000 руб.  \n",
       "1       6311.970  6 000 руб. - 6 500 руб.  \n",
       "2       7894.800  7 000 руб. - 8 000 руб.  \n",
       "3       7697.430  7 000 руб. - 8 000 руб.  \n",
       "4       4940.055            до 5 500 руб.  "
      ]
     },
     "execution_count": 178,
     "metadata": {},
     "output_type": "execute_result"
    }
   ],
   "source": [
    "df_zolotoy.head()"
   ]
  },
  {
   "cell_type": "code",
   "execution_count": 179,
   "id": "3bf03e1f",
   "metadata": {
    "tags": []
   },
   "outputs": [],
   "source": [
    "df_zolotoy.columns = ['competitor', 'name', 'group', 'weight',\n",
    "       'price', 'price_case']"
   ]
  },
  {
   "cell_type": "code",
   "execution_count": 180,
   "id": "d88490d8-b90f-437a-b9f3-204996c67620",
   "metadata": {
    "tags": []
   },
   "outputs": [],
   "source": [
    "df_zolotoy['price_for_gramm'] = df_zolotoy['price'] / df_zolotoy['weight']"
   ]
  },
  {
   "cell_type": "code",
   "execution_count": 181,
   "id": "97c2e917",
   "metadata": {
    "tags": []
   },
   "outputs": [],
   "source": [
    "df_zolotoy['price_for_gramm'] = df_zolotoy['price_for_gramm'].round(0)"
   ]
  },
  {
   "cell_type": "code",
   "execution_count": 182,
   "id": "e5ebe305-6218-4b3b-9ccd-7fed85adb9ed",
   "metadata": {
    "tags": []
   },
   "outputs": [],
   "source": [
    "df_zolotoy['num_shop'] = '_' + df_zolotoy['competitor']\n",
    "df_zolotoy['num_diap'] = df_zolotoy['price_case']"
   ]
  },
  {
   "cell_type": "code",
   "execution_count": 183,
   "id": "5ea985d0-b032-45f3-8c1c-3c4e7de227bf",
   "metadata": {
    "tags": []
   },
   "outputs": [],
   "source": [
    "df_zolotoy = df_zolotoy[['competitor', 'weight', 'price', 'group', 'price_for_gramm', 'price_case', 'num_shop', 'num_diap']]"
   ]
  },
  {
   "cell_type": "code",
   "execution_count": 184,
   "id": "aebb0856-63d0-463f-b60c-8fcfe2cad1c3",
   "metadata": {
    "tags": []
   },
   "outputs": [
    {
     "data": {
      "text/html": [
       "<div>\n",
       "<style scoped>\n",
       "    .dataframe tbody tr th:only-of-type {\n",
       "        vertical-align: middle;\n",
       "    }\n",
       "\n",
       "    .dataframe tbody tr th {\n",
       "        vertical-align: top;\n",
       "    }\n",
       "\n",
       "    .dataframe thead th {\n",
       "        text-align: right;\n",
       "    }\n",
       "</style>\n",
       "<table border=\"1\" class=\"dataframe\">\n",
       "  <thead>\n",
       "    <tr style=\"text-align: right;\">\n",
       "      <th></th>\n",
       "      <th>competitor</th>\n",
       "      <th>weight</th>\n",
       "      <th>price</th>\n",
       "      <th>group</th>\n",
       "      <th>price_for_gramm</th>\n",
       "      <th>price_case</th>\n",
       "      <th>num_shop</th>\n",
       "      <th>num_diap</th>\n",
       "    </tr>\n",
       "  </thead>\n",
       "  <tbody>\n",
       "    <tr>\n",
       "      <th>0</th>\n",
       "      <td>585*Золотой_офлайн</td>\n",
       "      <td>1.720</td>\n",
       "      <td>12763.260</td>\n",
       "      <td>БК</td>\n",
       "      <td>7420.0</td>\n",
       "      <td>свыше 10 000 руб.</td>\n",
       "      <td>_585*Золотой_офлайн</td>\n",
       "      <td>свыше 10 000 руб.</td>\n",
       "    </tr>\n",
       "    <tr>\n",
       "      <th>1</th>\n",
       "      <td>585*Золотой_офлайн</td>\n",
       "      <td>0.840</td>\n",
       "      <td>6311.970</td>\n",
       "      <td>БК</td>\n",
       "      <td>7514.0</td>\n",
       "      <td>6 000 руб. - 6 500 руб.</td>\n",
       "      <td>_585*Золотой_офлайн</td>\n",
       "      <td>6 000 руб. - 6 500 руб.</td>\n",
       "    </tr>\n",
       "    <tr>\n",
       "      <th>2</th>\n",
       "      <td>585*Золотой_офлайн</td>\n",
       "      <td>1.200</td>\n",
       "      <td>7894.800</td>\n",
       "      <td>БК</td>\n",
       "      <td>6579.0</td>\n",
       "      <td>7 000 руб. - 8 000 руб.</td>\n",
       "      <td>_585*Золотой_офлайн</td>\n",
       "      <td>7 000 руб. - 8 000 руб.</td>\n",
       "    </tr>\n",
       "    <tr>\n",
       "      <th>3</th>\n",
       "      <td>585*Золотой_офлайн</td>\n",
       "      <td>1.170</td>\n",
       "      <td>7697.430</td>\n",
       "      <td>БК</td>\n",
       "      <td>6579.0</td>\n",
       "      <td>7 000 руб. - 8 000 руб.</td>\n",
       "      <td>_585*Золотой_офлайн</td>\n",
       "      <td>7 000 руб. - 8 000 руб.</td>\n",
       "    </tr>\n",
       "    <tr>\n",
       "      <th>4</th>\n",
       "      <td>585*Золотой_офлайн</td>\n",
       "      <td>0.739</td>\n",
       "      <td>4940.055</td>\n",
       "      <td>ЦБ</td>\n",
       "      <td>6685.0</td>\n",
       "      <td>до 5 500 руб.</td>\n",
       "      <td>_585*Золотой_офлайн</td>\n",
       "      <td>до 5 500 руб.</td>\n",
       "    </tr>\n",
       "  </tbody>\n",
       "</table>\n",
       "</div>"
      ],
      "text/plain": [
       "           competitor  weight      price group  price_for_gramm  \\\n",
       "0  585*Золотой_офлайн   1.720  12763.260    БК           7420.0   \n",
       "1  585*Золотой_офлайн   0.840   6311.970    БК           7514.0   \n",
       "2  585*Золотой_офлайн   1.200   7894.800    БК           6579.0   \n",
       "3  585*Золотой_офлайн   1.170   7697.430    БК           6579.0   \n",
       "4  585*Золотой_офлайн   0.739   4940.055    ЦБ           6685.0   \n",
       "\n",
       "                price_case             num_shop                 num_diap  \n",
       "0        свыше 10 000 руб.  _585*Золотой_офлайн        свыше 10 000 руб.  \n",
       "1  6 000 руб. - 6 500 руб.  _585*Золотой_офлайн  6 000 руб. - 6 500 руб.  \n",
       "2  7 000 руб. - 8 000 руб.  _585*Золотой_офлайн  7 000 руб. - 8 000 руб.  \n",
       "3  7 000 руб. - 8 000 руб.  _585*Золотой_офлайн  7 000 руб. - 8 000 руб.  \n",
       "4            до 5 500 руб.  _585*Золотой_офлайн            до 5 500 руб.  "
      ]
     },
     "execution_count": 184,
     "metadata": {},
     "output_type": "execute_result"
    }
   ],
   "source": [
    "df_zolotoy.head(5)"
   ]
  },
  {
   "cell_type": "code",
   "execution_count": 185,
   "id": "d09d3843-457e-4b8d-92a1-fdf124436a48",
   "metadata": {
    "tags": []
   },
   "outputs": [
    {
     "name": "stdout",
     "output_type": "stream",
     "text": [
      "6557.0\n"
     ]
    }
   ],
   "source": [
    "print((df_zolotoy['price'].sum() / df_zolotoy['weight'].sum()).round(0))"
   ]
  },
  {
   "cell_type": "markdown",
   "id": "c4949294",
   "metadata": {},
   "source": [
    "# 8. 585*Золотой онлайн"
   ]
  },
  {
   "cell_type": "code",
   "execution_count": 186,
   "id": "acc81be1",
   "metadata": {
    "tags": []
   },
   "outputs": [],
   "source": [
    "df_zolotoy_ecom = pd.read_csv('zolotoy_online.csv')"
   ]
  },
  {
   "cell_type": "code",
   "execution_count": 187,
   "id": "6f54323e",
   "metadata": {
    "tags": []
   },
   "outputs": [
    {
     "data": {
      "text/html": [
       "<div>\n",
       "<style scoped>\n",
       "    .dataframe tbody tr th:only-of-type {\n",
       "        vertical-align: middle;\n",
       "    }\n",
       "\n",
       "    .dataframe tbody tr th {\n",
       "        vertical-align: top;\n",
       "    }\n",
       "\n",
       "    .dataframe thead th {\n",
       "        text-align: right;\n",
       "    }\n",
       "</style>\n",
       "<table border=\"1\" class=\"dataframe\">\n",
       "  <thead>\n",
       "    <tr style=\"text-align: right;\">\n",
       "      <th></th>\n",
       "      <th>vendor_article</th>\n",
       "      <th>tg</th>\n",
       "      <th>ext_id</th>\n",
       "      <th>name</th>\n",
       "      <th>article</th>\n",
       "      <th>discount_price</th>\n",
       "      <th>price</th>\n",
       "      <th>avg_net_weight</th>\n",
       "      <th>proba</th>\n",
       "      <th>material</th>\n",
       "      <th>size</th>\n",
       "      <th>final_price</th>\n",
       "      <th>final_price_2</th>\n",
       "    </tr>\n",
       "  </thead>\n",
       "  <tbody>\n",
       "    <tr>\n",
       "      <th>0</th>\n",
       "      <td>47-00-0000-80119</td>\n",
       "      <td>ЦБ БРАСЛЕТЫ</td>\n",
       "      <td>ТОВ1259569</td>\n",
       "      <td>Браслет декор.</td>\n",
       "      <td>1000477</td>\n",
       "      <td>29320.0</td>\n",
       "      <td>75720.0</td>\n",
       "      <td>3.249248</td>\n",
       "      <td>585</td>\n",
       "      <td>Золото</td>\n",
       "      <td>19.0</td>\n",
       "      <td>29320.0</td>\n",
       "      <td>29320.0</td>\n",
       "    </tr>\n",
       "    <tr>\n",
       "      <th>1</th>\n",
       "      <td>47-00-0000-80119</td>\n",
       "      <td>ЦБ БРАСЛЕТЫ</td>\n",
       "      <td>ТОВ1259567</td>\n",
       "      <td>Браслет декор.</td>\n",
       "      <td>1000477</td>\n",
       "      <td>28700.0</td>\n",
       "      <td>74140.0</td>\n",
       "      <td>3.182229</td>\n",
       "      <td>585</td>\n",
       "      <td>Золото</td>\n",
       "      <td>17.0</td>\n",
       "      <td>28700.0</td>\n",
       "      <td>28700.0</td>\n",
       "    </tr>\n",
       "    <tr>\n",
       "      <th>2</th>\n",
       "      <td>47-00-0000-80119</td>\n",
       "      <td>ЦБ БРАСЛЕТЫ</td>\n",
       "      <td>ТОВ1259568</td>\n",
       "      <td>Браслет декор.</td>\n",
       "      <td>1000477</td>\n",
       "      <td>29040.0</td>\n",
       "      <td>75020.0</td>\n",
       "      <td>3.226195</td>\n",
       "      <td>585</td>\n",
       "      <td>Золото</td>\n",
       "      <td>18.0</td>\n",
       "      <td>29040.0</td>\n",
       "      <td>29040.0</td>\n",
       "    </tr>\n",
       "    <tr>\n",
       "      <th>3</th>\n",
       "      <td>47-00-0000-80119</td>\n",
       "      <td>ЦБ БРАСЛЕТЫ</td>\n",
       "      <td>ТОВ1259566</td>\n",
       "      <td>Браслет декор.</td>\n",
       "      <td>1000477</td>\n",
       "      <td>28000.0</td>\n",
       "      <td>72320.0</td>\n",
       "      <td>3.104712</td>\n",
       "      <td>585</td>\n",
       "      <td>Золото</td>\n",
       "      <td>16.0</td>\n",
       "      <td>28000.0</td>\n",
       "      <td>28000.0</td>\n",
       "    </tr>\n",
       "    <tr>\n",
       "      <th>4</th>\n",
       "      <td>18-01-0000-10360</td>\n",
       "      <td>БК СЕРЬГИ</td>\n",
       "      <td>ТОВ1241863</td>\n",
       "      <td>Серьги</td>\n",
       "      <td>1001070</td>\n",
       "      <td>18740.0</td>\n",
       "      <td>38040.0</td>\n",
       "      <td>2.468235</td>\n",
       "      <td>585</td>\n",
       "      <td>Золото</td>\n",
       "      <td>NaN</td>\n",
       "      <td>18740.0</td>\n",
       "      <td>18740.0</td>\n",
       "    </tr>\n",
       "  </tbody>\n",
       "</table>\n",
       "</div>"
      ],
      "text/plain": [
       "     vendor_article           tg      ext_id            name  article  \\\n",
       "0  47-00-0000-80119  ЦБ БРАСЛЕТЫ  ТОВ1259569  Браслет декор.  1000477   \n",
       "1  47-00-0000-80119  ЦБ БРАСЛЕТЫ  ТОВ1259567  Браслет декор.  1000477   \n",
       "2  47-00-0000-80119  ЦБ БРАСЛЕТЫ  ТОВ1259568  Браслет декор.  1000477   \n",
       "3  47-00-0000-80119  ЦБ БРАСЛЕТЫ  ТОВ1259566  Браслет декор.  1000477   \n",
       "4  18-01-0000-10360    БК СЕРЬГИ  ТОВ1241863          Серьги  1001070   \n",
       "\n",
       "   discount_price    price  avg_net_weight  proba material  size  final_price  \\\n",
       "0         29320.0  75720.0        3.249248    585   Золото  19.0      29320.0   \n",
       "1         28700.0  74140.0        3.182229    585   Золото  17.0      28700.0   \n",
       "2         29040.0  75020.0        3.226195    585   Золото  18.0      29040.0   \n",
       "3         28000.0  72320.0        3.104712    585   Золото  16.0      28000.0   \n",
       "4         18740.0  38040.0        2.468235    585   Золото   NaN      18740.0   \n",
       "\n",
       "   final_price_2  \n",
       "0        29320.0  \n",
       "1        28700.0  \n",
       "2        29040.0  \n",
       "3        28000.0  \n",
       "4        18740.0  "
      ]
     },
     "execution_count": 187,
     "metadata": {},
     "output_type": "execute_result"
    }
   ],
   "source": [
    "df_zolotoy_ecom.head()"
   ]
  },
  {
   "cell_type": "code",
   "execution_count": 188,
   "id": "38deedab",
   "metadata": {
    "tags": []
   },
   "outputs": [],
   "source": [
    "df_zolotoy_ecom.insert(0, 'competitor', '585*Золотой_онлайн')"
   ]
  },
  {
   "cell_type": "code",
   "execution_count": 189,
   "id": "700cf69d-f156-4990-8cda-01a671abec70",
   "metadata": {
    "tags": []
   },
   "outputs": [],
   "source": [
    "df_zolotoy_ecom['group'] = df_zolotoy_ecom['tg']"
   ]
  },
  {
   "cell_type": "code",
   "execution_count": 190,
   "id": "9e7a69d8-5c18-4f60-af92-6486fa2ee496",
   "metadata": {
    "tags": []
   },
   "outputs": [],
   "source": [
    "df_zolotoy_ecom = df_zolotoy_ecom[['competitor', 'name', 'group', 'tg', 'final_price_2', 'avg_net_weight']]"
   ]
  },
  {
   "cell_type": "code",
   "execution_count": 191,
   "id": "ac9b7f2d-0654-4397-93d6-c117cf99c6eb",
   "metadata": {
    "tags": []
   },
   "outputs": [
    {
     "data": {
      "text/html": [
       "<div>\n",
       "<style scoped>\n",
       "    .dataframe tbody tr th:only-of-type {\n",
       "        vertical-align: middle;\n",
       "    }\n",
       "\n",
       "    .dataframe tbody tr th {\n",
       "        vertical-align: top;\n",
       "    }\n",
       "\n",
       "    .dataframe thead th {\n",
       "        text-align: right;\n",
       "    }\n",
       "</style>\n",
       "<table border=\"1\" class=\"dataframe\">\n",
       "  <thead>\n",
       "    <tr style=\"text-align: right;\">\n",
       "      <th></th>\n",
       "      <th>competitor</th>\n",
       "      <th>name</th>\n",
       "      <th>group</th>\n",
       "      <th>tg</th>\n",
       "      <th>final_price_2</th>\n",
       "      <th>avg_net_weight</th>\n",
       "    </tr>\n",
       "  </thead>\n",
       "  <tbody>\n",
       "    <tr>\n",
       "      <th>0</th>\n",
       "      <td>585*Золотой_онлайн</td>\n",
       "      <td>Браслет декор.</td>\n",
       "      <td>ЦБ БРАСЛЕТЫ</td>\n",
       "      <td>ЦБ БРАСЛЕТЫ</td>\n",
       "      <td>29320.0</td>\n",
       "      <td>3.249248</td>\n",
       "    </tr>\n",
       "    <tr>\n",
       "      <th>1</th>\n",
       "      <td>585*Золотой_онлайн</td>\n",
       "      <td>Браслет декор.</td>\n",
       "      <td>ЦБ БРАСЛЕТЫ</td>\n",
       "      <td>ЦБ БРАСЛЕТЫ</td>\n",
       "      <td>28700.0</td>\n",
       "      <td>3.182229</td>\n",
       "    </tr>\n",
       "    <tr>\n",
       "      <th>2</th>\n",
       "      <td>585*Золотой_онлайн</td>\n",
       "      <td>Браслет декор.</td>\n",
       "      <td>ЦБ БРАСЛЕТЫ</td>\n",
       "      <td>ЦБ БРАСЛЕТЫ</td>\n",
       "      <td>29040.0</td>\n",
       "      <td>3.226195</td>\n",
       "    </tr>\n",
       "    <tr>\n",
       "      <th>3</th>\n",
       "      <td>585*Золотой_онлайн</td>\n",
       "      <td>Браслет декор.</td>\n",
       "      <td>ЦБ БРАСЛЕТЫ</td>\n",
       "      <td>ЦБ БРАСЛЕТЫ</td>\n",
       "      <td>28000.0</td>\n",
       "      <td>3.104712</td>\n",
       "    </tr>\n",
       "    <tr>\n",
       "      <th>4</th>\n",
       "      <td>585*Золотой_онлайн</td>\n",
       "      <td>Серьги</td>\n",
       "      <td>БК СЕРЬГИ</td>\n",
       "      <td>БК СЕРЬГИ</td>\n",
       "      <td>18740.0</td>\n",
       "      <td>2.468235</td>\n",
       "    </tr>\n",
       "  </tbody>\n",
       "</table>\n",
       "</div>"
      ],
      "text/plain": [
       "           competitor            name        group           tg  \\\n",
       "0  585*Золотой_онлайн  Браслет декор.  ЦБ БРАСЛЕТЫ  ЦБ БРАСЛЕТЫ   \n",
       "1  585*Золотой_онлайн  Браслет декор.  ЦБ БРАСЛЕТЫ  ЦБ БРАСЛЕТЫ   \n",
       "2  585*Золотой_онлайн  Браслет декор.  ЦБ БРАСЛЕТЫ  ЦБ БРАСЛЕТЫ   \n",
       "3  585*Золотой_онлайн  Браслет декор.  ЦБ БРАСЛЕТЫ  ЦБ БРАСЛЕТЫ   \n",
       "4  585*Золотой_онлайн          Серьги    БК СЕРЬГИ    БК СЕРЬГИ   \n",
       "\n",
       "   final_price_2  avg_net_weight  \n",
       "0        29320.0        3.249248  \n",
       "1        28700.0        3.182229  \n",
       "2        29040.0        3.226195  \n",
       "3        28000.0        3.104712  \n",
       "4        18740.0        2.468235  "
      ]
     },
     "execution_count": 191,
     "metadata": {},
     "output_type": "execute_result"
    }
   ],
   "source": [
    "df_zolotoy_ecom.head()"
   ]
  },
  {
   "cell_type": "code",
   "execution_count": 192,
   "id": "04e744b7-4912-45d6-924e-820fd6e622cf",
   "metadata": {
    "tags": []
   },
   "outputs": [],
   "source": [
    "df_zolotoy_ecom['price_for_gramm'] = (df_zolotoy_ecom['final_price_2'] / df_zolotoy_ecom['avg_net_weight']).round(0)"
   ]
  },
  {
   "cell_type": "code",
   "execution_count": 193,
   "id": "e78be677",
   "metadata": {
    "tags": []
   },
   "outputs": [],
   "source": [
    "df_zolotoy_ecom.columns = ['competitor', 'name', 'group', 'tg', 'price', 'weight', 'price_for_gramm']"
   ]
  },
  {
   "cell_type": "code",
   "execution_count": 194,
   "id": "db43216a",
   "metadata": {
    "tags": []
   },
   "outputs": [],
   "source": [
    "df_zolotoy_ecom['weight'] = df_zolotoy_ecom['weight'].round(2)\n",
    "df_zolotoy_ecom['price_for_gramm'] = df_zolotoy_ecom['price_for_gramm'].round(0)"
   ]
  },
  {
   "cell_type": "code",
   "execution_count": 195,
   "id": "c08b0090",
   "metadata": {
    "scrolled": true,
    "tags": []
   },
   "outputs": [],
   "source": [
    "df_zolotoy_ecom['price_case'] = np.where(\n",
    "    df_zolotoy_ecom['price_for_gramm'] <= 5500, 'до 5 500 руб.', \n",
    "    np.where(\n",
    "    (df_zolotoy_ecom['price_for_gramm'] <= 6000), '5 500 руб. - 6 000 руб.', \n",
    "    np.where(\n",
    "    (df_zolotoy_ecom['price_for_gramm'] <= 6500), '6 000 руб. - 6 500 руб.', \n",
    "    np.where(\n",
    "    (df_zolotoy_ecom['price_for_gramm'] <= 7000), '6 500 руб. - 7 000 руб.', \n",
    "    np.where(\n",
    "    (df_zolotoy_ecom['price_for_gramm'] <= 8000), '7 000 руб. - 8 000 руб.', \n",
    "    np.where(\n",
    "    (df_zolotoy_ecom['price_for_gramm'] <= 9000), '8 000 руб. - 9 000 руб.', \n",
    "    np.where(\n",
    "    (df_zolotoy_ecom['price_for_gramm'] <= 5500), '9 000 руб. -10 000 руб.',  'свыше 10 000 руб.'\n",
    ")))))))"
   ]
  },
  {
   "cell_type": "code",
   "execution_count": 196,
   "id": "288cfc7a",
   "metadata": {
    "tags": []
   },
   "outputs": [
    {
     "data": {
      "text/html": [
       "<div>\n",
       "<style scoped>\n",
       "    .dataframe tbody tr th:only-of-type {\n",
       "        vertical-align: middle;\n",
       "    }\n",
       "\n",
       "    .dataframe tbody tr th {\n",
       "        vertical-align: top;\n",
       "    }\n",
       "\n",
       "    .dataframe thead th {\n",
       "        text-align: right;\n",
       "    }\n",
       "</style>\n",
       "<table border=\"1\" class=\"dataframe\">\n",
       "  <thead>\n",
       "    <tr style=\"text-align: right;\">\n",
       "      <th></th>\n",
       "      <th>competitor</th>\n",
       "      <th>name</th>\n",
       "      <th>group</th>\n",
       "      <th>tg</th>\n",
       "      <th>price</th>\n",
       "      <th>weight</th>\n",
       "      <th>price_for_gramm</th>\n",
       "      <th>price_case</th>\n",
       "    </tr>\n",
       "  </thead>\n",
       "  <tbody>\n",
       "    <tr>\n",
       "      <th>0</th>\n",
       "      <td>585*Золотой_онлайн</td>\n",
       "      <td>Браслет декор.</td>\n",
       "      <td>ЦБ БРАСЛЕТЫ</td>\n",
       "      <td>ЦБ БРАСЛЕТЫ</td>\n",
       "      <td>29320.0</td>\n",
       "      <td>3.25</td>\n",
       "      <td>9024.0</td>\n",
       "      <td>свыше 10 000 руб.</td>\n",
       "    </tr>\n",
       "    <tr>\n",
       "      <th>1</th>\n",
       "      <td>585*Золотой_онлайн</td>\n",
       "      <td>Браслет декор.</td>\n",
       "      <td>ЦБ БРАСЛЕТЫ</td>\n",
       "      <td>ЦБ БРАСЛЕТЫ</td>\n",
       "      <td>28700.0</td>\n",
       "      <td>3.18</td>\n",
       "      <td>9019.0</td>\n",
       "      <td>свыше 10 000 руб.</td>\n",
       "    </tr>\n",
       "    <tr>\n",
       "      <th>2</th>\n",
       "      <td>585*Золотой_онлайн</td>\n",
       "      <td>Браслет декор.</td>\n",
       "      <td>ЦБ БРАСЛЕТЫ</td>\n",
       "      <td>ЦБ БРАСЛЕТЫ</td>\n",
       "      <td>29040.0</td>\n",
       "      <td>3.23</td>\n",
       "      <td>9001.0</td>\n",
       "      <td>свыше 10 000 руб.</td>\n",
       "    </tr>\n",
       "    <tr>\n",
       "      <th>3</th>\n",
       "      <td>585*Золотой_онлайн</td>\n",
       "      <td>Браслет декор.</td>\n",
       "      <td>ЦБ БРАСЛЕТЫ</td>\n",
       "      <td>ЦБ БРАСЛЕТЫ</td>\n",
       "      <td>28000.0</td>\n",
       "      <td>3.10</td>\n",
       "      <td>9019.0</td>\n",
       "      <td>свыше 10 000 руб.</td>\n",
       "    </tr>\n",
       "    <tr>\n",
       "      <th>4</th>\n",
       "      <td>585*Золотой_онлайн</td>\n",
       "      <td>Серьги</td>\n",
       "      <td>БК СЕРЬГИ</td>\n",
       "      <td>БК СЕРЬГИ</td>\n",
       "      <td>18740.0</td>\n",
       "      <td>2.47</td>\n",
       "      <td>7592.0</td>\n",
       "      <td>7 000 руб. - 8 000 руб.</td>\n",
       "    </tr>\n",
       "  </tbody>\n",
       "</table>\n",
       "</div>"
      ],
      "text/plain": [
       "           competitor            name        group           tg    price  \\\n",
       "0  585*Золотой_онлайн  Браслет декор.  ЦБ БРАСЛЕТЫ  ЦБ БРАСЛЕТЫ  29320.0   \n",
       "1  585*Золотой_онлайн  Браслет декор.  ЦБ БРАСЛЕТЫ  ЦБ БРАСЛЕТЫ  28700.0   \n",
       "2  585*Золотой_онлайн  Браслет декор.  ЦБ БРАСЛЕТЫ  ЦБ БРАСЛЕТЫ  29040.0   \n",
       "3  585*Золотой_онлайн  Браслет декор.  ЦБ БРАСЛЕТЫ  ЦБ БРАСЛЕТЫ  28000.0   \n",
       "4  585*Золотой_онлайн          Серьги    БК СЕРЬГИ    БК СЕРЬГИ  18740.0   \n",
       "\n",
       "   weight  price_for_gramm               price_case  \n",
       "0    3.25           9024.0        свыше 10 000 руб.  \n",
       "1    3.18           9019.0        свыше 10 000 руб.  \n",
       "2    3.23           9001.0        свыше 10 000 руб.  \n",
       "3    3.10           9019.0        свыше 10 000 руб.  \n",
       "4    2.47           7592.0  7 000 руб. - 8 000 руб.  "
      ]
     },
     "execution_count": 196,
     "metadata": {},
     "output_type": "execute_result"
    }
   ],
   "source": [
    "df_zolotoy_ecom.head()"
   ]
  },
  {
   "cell_type": "code",
   "execution_count": 197,
   "id": "975507bc-9cd8-494b-9420-4561acf45024",
   "metadata": {
    "tags": []
   },
   "outputs": [],
   "source": [
    "df_zolotoy_ecom['num_shop'] = '_' + df_zolotoy_ecom['competitor']\n",
    "df_zolotoy_ecom['num_diap'] = df_zolotoy_ecom['price_case']"
   ]
  },
  {
   "cell_type": "code",
   "execution_count": 198,
   "id": "c76dd558-464e-4f43-b510-ea74a1f02313",
   "metadata": {
    "tags": []
   },
   "outputs": [],
   "source": [
    "df_zolotoy_ecom = df_zolotoy_ecom[['competitor', 'weight', 'price', 'group', 'price_for_gramm', 'price_case', 'num_shop', 'num_diap']]"
   ]
  },
  {
   "cell_type": "code",
   "execution_count": 199,
   "id": "5422b39b-fac2-44f2-90c3-7f1f6bc0b741",
   "metadata": {
    "tags": []
   },
   "outputs": [
    {
     "data": {
      "text/html": [
       "<div>\n",
       "<style scoped>\n",
       "    .dataframe tbody tr th:only-of-type {\n",
       "        vertical-align: middle;\n",
       "    }\n",
       "\n",
       "    .dataframe tbody tr th {\n",
       "        vertical-align: top;\n",
       "    }\n",
       "\n",
       "    .dataframe thead th {\n",
       "        text-align: right;\n",
       "    }\n",
       "</style>\n",
       "<table border=\"1\" class=\"dataframe\">\n",
       "  <thead>\n",
       "    <tr style=\"text-align: right;\">\n",
       "      <th></th>\n",
       "      <th>competitor</th>\n",
       "      <th>weight</th>\n",
       "      <th>price</th>\n",
       "      <th>group</th>\n",
       "      <th>price_for_gramm</th>\n",
       "      <th>price_case</th>\n",
       "      <th>num_shop</th>\n",
       "      <th>num_diap</th>\n",
       "    </tr>\n",
       "  </thead>\n",
       "  <tbody>\n",
       "    <tr>\n",
       "      <th>0</th>\n",
       "      <td>585*Золотой_онлайн</td>\n",
       "      <td>3.25</td>\n",
       "      <td>29320.0</td>\n",
       "      <td>ЦБ БРАСЛЕТЫ</td>\n",
       "      <td>9024.0</td>\n",
       "      <td>свыше 10 000 руб.</td>\n",
       "      <td>_585*Золотой_онлайн</td>\n",
       "      <td>свыше 10 000 руб.</td>\n",
       "    </tr>\n",
       "    <tr>\n",
       "      <th>1</th>\n",
       "      <td>585*Золотой_онлайн</td>\n",
       "      <td>3.18</td>\n",
       "      <td>28700.0</td>\n",
       "      <td>ЦБ БРАСЛЕТЫ</td>\n",
       "      <td>9019.0</td>\n",
       "      <td>свыше 10 000 руб.</td>\n",
       "      <td>_585*Золотой_онлайн</td>\n",
       "      <td>свыше 10 000 руб.</td>\n",
       "    </tr>\n",
       "    <tr>\n",
       "      <th>2</th>\n",
       "      <td>585*Золотой_онлайн</td>\n",
       "      <td>3.23</td>\n",
       "      <td>29040.0</td>\n",
       "      <td>ЦБ БРАСЛЕТЫ</td>\n",
       "      <td>9001.0</td>\n",
       "      <td>свыше 10 000 руб.</td>\n",
       "      <td>_585*Золотой_онлайн</td>\n",
       "      <td>свыше 10 000 руб.</td>\n",
       "    </tr>\n",
       "    <tr>\n",
       "      <th>3</th>\n",
       "      <td>585*Золотой_онлайн</td>\n",
       "      <td>3.10</td>\n",
       "      <td>28000.0</td>\n",
       "      <td>ЦБ БРАСЛЕТЫ</td>\n",
       "      <td>9019.0</td>\n",
       "      <td>свыше 10 000 руб.</td>\n",
       "      <td>_585*Золотой_онлайн</td>\n",
       "      <td>свыше 10 000 руб.</td>\n",
       "    </tr>\n",
       "    <tr>\n",
       "      <th>4</th>\n",
       "      <td>585*Золотой_онлайн</td>\n",
       "      <td>2.47</td>\n",
       "      <td>18740.0</td>\n",
       "      <td>БК СЕРЬГИ</td>\n",
       "      <td>7592.0</td>\n",
       "      <td>7 000 руб. - 8 000 руб.</td>\n",
       "      <td>_585*Золотой_онлайн</td>\n",
       "      <td>7 000 руб. - 8 000 руб.</td>\n",
       "    </tr>\n",
       "  </tbody>\n",
       "</table>\n",
       "</div>"
      ],
      "text/plain": [
       "           competitor  weight    price        group  price_for_gramm  \\\n",
       "0  585*Золотой_онлайн    3.25  29320.0  ЦБ БРАСЛЕТЫ           9024.0   \n",
       "1  585*Золотой_онлайн    3.18  28700.0  ЦБ БРАСЛЕТЫ           9019.0   \n",
       "2  585*Золотой_онлайн    3.23  29040.0  ЦБ БРАСЛЕТЫ           9001.0   \n",
       "3  585*Золотой_онлайн    3.10  28000.0  ЦБ БРАСЛЕТЫ           9019.0   \n",
       "4  585*Золотой_онлайн    2.47  18740.0    БК СЕРЬГИ           7592.0   \n",
       "\n",
       "                price_case             num_shop                 num_diap  \n",
       "0        свыше 10 000 руб.  _585*Золотой_онлайн        свыше 10 000 руб.  \n",
       "1        свыше 10 000 руб.  _585*Золотой_онлайн        свыше 10 000 руб.  \n",
       "2        свыше 10 000 руб.  _585*Золотой_онлайн        свыше 10 000 руб.  \n",
       "3        свыше 10 000 руб.  _585*Золотой_онлайн        свыше 10 000 руб.  \n",
       "4  7 000 руб. - 8 000 руб.  _585*Золотой_онлайн  7 000 руб. - 8 000 руб.  "
      ]
     },
     "execution_count": 199,
     "metadata": {},
     "output_type": "execute_result"
    }
   ],
   "source": [
    "df_zolotoy_ecom.head(5)"
   ]
  },
  {
   "cell_type": "code",
   "execution_count": 200,
   "id": "6f77cf89",
   "metadata": {
    "tags": []
   },
   "outputs": [],
   "source": [
    "new_columns = ['Наименование конкурента', 'Вес', 'Цена со скидками', 'ТН',\n",
    "       'Цена за грамм', 'Ценовой диапазон', 'num_shop', 'num_diap']"
   ]
  },
  {
   "cell_type": "code",
   "execution_count": 201,
   "id": "89fcf6f3",
   "metadata": {
    "tags": []
   },
   "outputs": [
    {
     "data": {
      "text/plain": [
       "7031.0"
      ]
     },
     "execution_count": 201,
     "metadata": {},
     "output_type": "execute_result"
    }
   ],
   "source": [
    "(df_zolotoy_ecom['price'].sum() / df_zolotoy_ecom['weight'].sum()).round(0)"
   ]
  },
  {
   "cell_type": "markdown",
   "id": "8ad29a21-aeca-4c64-999c-fe1cabbc4eba",
   "metadata": {},
   "source": [
    "# 9. Региональны сети (оффлайн мониторинг) предобработка для соединения таблиц"
   ]
  },
  {
   "cell_type": "code",
   "execution_count": null,
   "id": "f6cb4d87-93ec-4acc-aa09-dd9cb04d7c1a",
   "metadata": {
    "tags": []
   },
   "outputs": [],
   "source": [
    "region = pd.read_excel('offline_monitoring.xlsx')"
   ]
  },
  {
   "cell_type": "code",
   "execution_count": null,
   "id": "584b6057-9f3c-474a-96b1-e69a5ffcb730",
   "metadata": {
    "tags": []
   },
   "outputs": [],
   "source": [
    "region.head()"
   ]
  },
  {
   "cell_type": "code",
   "execution_count": null,
   "id": "64127692-b5a2-4d94-8f90-964303408a80",
   "metadata": {
    "tags": []
   },
   "outputs": [],
   "source": [
    "region_cb = region[['Средняя цена ЦБ за грамм, руб/гр']]"
   ]
  },
  {
   "cell_type": "code",
   "execution_count": null,
   "id": "62706c0c-00c7-4972-9a5d-a25ac550cace",
   "metadata": {
    "tags": []
   },
   "outputs": [],
   "source": [
    "region_cb.head()"
   ]
  },
  {
   "cell_type": "code",
   "execution_count": null,
   "id": "ea2d1fc9-6b46-4467-9438-056a0e35a60b",
   "metadata": {
    "tags": []
   },
   "outputs": [],
   "source": [
    "region_cb.insert(0, 'competitor', 'Региональные сети')\n",
    "region_cb.insert(1, 'Вес', 5)\n",
    "region_cb.insert(2, 'Цена со скидками', 5)\n",
    "region_cb.insert(3, 'ТН', 'ЦБ')"
   ]
  },
  {
   "cell_type": "code",
   "execution_count": null,
   "id": "eaaec365-7893-4c41-87f1-cca1f2e649b8",
   "metadata": {
    "tags": []
   },
   "outputs": [],
   "source": [
    "region_cb['price_case'] = np.where(\n",
    "    region_cb['Средняя цена ЦБ за грамм, руб/гр'] <= 5500, 'до 5 500 руб.', \n",
    "    np.where(\n",
    "    (region_cb['Средняя цена ЦБ за грамм, руб/гр'] <= 6000), '5 500 руб. - 6 000 руб.', \n",
    "    np.where(\n",
    "    (region_cb['Средняя цена ЦБ за грамм, руб/гр'] <= 6500), '6 000 руб. - 6 500 руб.', \n",
    "    np.where(\n",
    "    (region_cb['Средняя цена ЦБ за грамм, руб/гр'] <= 7000), '6 500 руб. - 7 000 руб.', \n",
    "    np.where(\n",
    "    (region_cb['Средняя цена ЦБ за грамм, руб/гр'] <= 8000), '7 000 руб. - 8 000 руб.', \n",
    "    np.where(\n",
    "    (region_cb['Средняя цена ЦБ за грамм, руб/гр'] <= 9000), '8 000 руб. - 9 000 руб.', \n",
    "    np.where(\n",
    "    (region_cb['Средняя цена ЦБ за грамм, руб/гр'] <= 5500), '9 000 руб. -10 000 руб.',  'свыше 10 000 руб.'\n",
    ")))))))"
   ]
  },
  {
   "cell_type": "code",
   "execution_count": null,
   "id": "4983a032-1427-4193-9741-2548f55eca30",
   "metadata": {
    "tags": []
   },
   "outputs": [],
   "source": [
    "new_columns = ['Наименование конкурента', 'Вес', 'Цена со скидками', 'ТН',\n",
    "       'Цена за грамм', 'Ценовой диапазон', 'num_shop', 'num_diap']"
   ]
  },
  {
   "cell_type": "code",
   "execution_count": null,
   "id": "2be2360c-b0b6-418f-a7da-72c0c99ea54f",
   "metadata": {
    "tags": []
   },
   "outputs": [],
   "source": [
    "region_cb.head()"
   ]
  },
  {
   "cell_type": "code",
   "execution_count": null,
   "id": "d82dcb73-a197-4cfd-a8d4-67c0fee799b0",
   "metadata": {
    "tags": []
   },
   "outputs": [],
   "source": [
    "region_cb['num_shop'] = '_' + region_cb['competitor']\n",
    "region_cb['num_diap'] = region_cb['price_case']"
   ]
  },
  {
   "cell_type": "code",
   "execution_count": null,
   "id": "7db55100-c070-41fe-bb72-0001c33f1170",
   "metadata": {
    "tags": []
   },
   "outputs": [],
   "source": [
    "region_cb.columns = new_columns"
   ]
  },
  {
   "cell_type": "code",
   "execution_count": null,
   "id": "fdd7171e-069e-4906-aa9a-8fab425a0e9f",
   "metadata": {
    "tags": []
   },
   "outputs": [],
   "source": [
    "region_cb = region_cb.dropna()"
   ]
  },
  {
   "cell_type": "code",
   "execution_count": null,
   "id": "dabf04ba-03fc-42c6-b686-e9b48d54d8cc",
   "metadata": {
    "tags": []
   },
   "outputs": [],
   "source": [
    "region_bk = region[['Средняя цена БК за грамм, руб/гр']]\n",
    "region_bk.insert(0, 'competitor', 'Региональные сети')\n",
    "region_bk.insert(1, 'Вес', 5)\n",
    "region_bk.insert(2, 'Цена со скидками', 5)\n",
    "region_bk.insert(3, 'ТН', 'БК')"
   ]
  },
  {
   "cell_type": "code",
   "execution_count": null,
   "id": "c06f626d-addc-4c83-ad21-a8a39b2196ee",
   "metadata": {
    "tags": []
   },
   "outputs": [],
   "source": [
    "region_bk.head()"
   ]
  },
  {
   "cell_type": "code",
   "execution_count": null,
   "id": "957b3669-cf65-4e2a-a7cc-a37d02e64893",
   "metadata": {
    "tags": []
   },
   "outputs": [],
   "source": [
    "region_bk['price_case'] = np.where(\n",
    "    region_bk['Средняя цена БК за грамм, руб/гр'] <= 5500, 'до 5 500 руб.', \n",
    "    np.where(\n",
    "    (region_bk['Средняя цена БК за грамм, руб/гр'] <= 6000), '5 500 руб. - 6 000 руб.', \n",
    "    np.where(\n",
    "    (region_bk['Средняя цена БК за грамм, руб/гр'] <= 6500), '6 000 руб. - 6 500 руб.', \n",
    "    np.where(\n",
    "    (region_bk['Средняя цена БК за грамм, руб/гр'] <= 7000), '6 500 руб. - 7 000 руб.', \n",
    "    np.where(\n",
    "    (region_bk['Средняя цена БК за грамм, руб/гр'] <= 8000), '7 000 руб. - 8 000 руб.', \n",
    "    np.where(\n",
    "    (region_bk['Средняя цена БК за грамм, руб/гр'] <= 9000), '8 000 руб. - 9 000 руб.', \n",
    "    np.where(\n",
    "    (region_bk['Средняя цена БК за грамм, руб/гр'] <= 5500), '9 000 руб. -10 000 руб.',  'свыше 10 000 руб.'\n",
    ")))))))"
   ]
  },
  {
   "cell_type": "code",
   "execution_count": null,
   "id": "06ab210f-665b-4923-b9f2-1d55d5b1a1fe",
   "metadata": {
    "tags": []
   },
   "outputs": [],
   "source": [
    "region_bk['num_shop'] = '_' + region_bk['competitor']\n",
    "region_bk['num_diap'] = region_bk['price_case']"
   ]
  },
  {
   "cell_type": "code",
   "execution_count": null,
   "id": "08d277d3-fb96-4262-a3a4-3e1da4d4a19d",
   "metadata": {
    "tags": []
   },
   "outputs": [],
   "source": [
    "region_bk.columns = new_columns"
   ]
  },
  {
   "cell_type": "code",
   "execution_count": null,
   "id": "1c0cfc49-eca0-4c9d-b244-331b9e1bc1ea",
   "metadata": {
    "tags": []
   },
   "outputs": [],
   "source": [
    "region = pd.concat([region_cb, region_bk], ignore_index=True)"
   ]
  },
  {
   "cell_type": "code",
   "execution_count": null,
   "id": "03d11560-9191-4cfd-b5e0-30bd56aed849",
   "metadata": {
    "scrolled": true,
    "tags": []
   },
   "outputs": [],
   "source": [
    "region.head()"
   ]
  },
  {
   "cell_type": "code",
   "execution_count": null,
   "id": "7d9f285b",
   "metadata": {
    "tags": []
   },
   "outputs": [],
   "source": [
    "region['Цена со скидками'] = (region['Цена за грамм'] * region['Вес']).round(0)"
   ]
  },
  {
   "cell_type": "code",
   "execution_count": null,
   "id": "226d9f52-3fce-4784-996e-56f3571c6af4",
   "metadata": {
    "tags": []
   },
   "outputs": [],
   "source": [
    "region['Цена за грамм'].mean()"
   ]
  },
  {
   "cell_type": "markdown",
   "id": "4f857a85",
   "metadata": {},
   "source": [
    "# Соединение таблиц для дашборда"
   ]
  },
  {
   "cell_type": "code",
   "execution_count": 837,
   "id": "1cfe2538",
   "metadata": {},
   "outputs": [],
   "source": [
    "df_wb['competitor'] = 'Wildberries'"
   ]
  },
  {
   "cell_type": "code",
   "execution_count": 838,
   "id": "fba5a040",
   "metadata": {
    "tags": []
   },
   "outputs": [],
   "source": [
    "data_all = pd.concat([df_sokolov, df_sunlight, df_adamas, df_wb, df_ll], ignore_index=True)"
   ]
  },
  {
   "cell_type": "code",
   "execution_count": 839,
   "id": "c87b9971-ad53-4bd6-b429-a6d6041b16c7",
   "metadata": {
    "tags": []
   },
   "outputs": [],
   "source": [
    "data_all = data_all.drop(columns=['product_group(ТГ)', 'product_direction(ТН)', 'discount_flag'])"
   ]
  },
  {
   "cell_type": "code",
   "execution_count": 840,
   "id": "b4dc5600-be71-488d-9208-58bdb3693a30",
   "metadata": {
    "tags": []
   },
   "outputs": [],
   "source": [
    "data_all = data_all.reset_index()"
   ]
  },
  {
   "cell_type": "code",
   "execution_count": 841,
   "id": "ffeb9b21",
   "metadata": {},
   "outputs": [],
   "source": [
    "data_all = data_all.drop(columns=['index'])"
   ]
  },
  {
   "cell_type": "code",
   "execution_count": 843,
   "id": "e367afd8",
   "metadata": {
    "tags": []
   },
   "outputs": [],
   "source": [
    "data_all.to_excel(rf'\\\\gold585.int\\uk\\Общее хранилище файлов\\Служба аналитики\\Тренкин Сергей\\stock_all_data\\\\all_data_{day}_{month}_{year}.xlsx', index=False)"
   ]
  },
  {
   "cell_type": "code",
   "execution_count": 844,
   "id": "93234cc3-f521-47c8-9d77-cf9bc641bdfa",
   "metadata": {
    "tags": []
   },
   "outputs": [],
   "source": [
    "# Группируем общую таблицу для добавления данных о изменении стоимости за грамм по дате"
   ]
  },
  {
   "cell_type": "code",
   "execution_count": 859,
   "id": "a4db0570-f36d-421e-b8eb-f4fd5d8f8eb6",
   "metadata": {
    "tags": []
   },
   "outputs": [],
   "source": [
    "data_history = data_all.groupby('competitor', as_index=False)[['weight', 'price_personal']].agg('sum')"
   ]
  },
  {
   "cell_type": "code",
   "execution_count": 860,
   "id": "55ee46e5-2fbf-41e2-be6d-a58ef446f0a9",
   "metadata": {
    "tags": []
   },
   "outputs": [],
   "source": [
    "data_history['avg_price_per_gramm'] = (data_history['price_personal'] / data_history['weight']).round(0)"
   ]
  },
  {
   "cell_type": "code",
   "execution_count": 864,
   "id": "41cb6285-c737-4330-ba67-446bf541efca",
   "metadata": {
    "tags": []
   },
   "outputs": [],
   "source": [
    "data_history['data'] = f'{day}.{month}.{year}'"
   ]
  },
  {
   "cell_type": "code",
   "execution_count": 865,
   "id": "4c77eeb1",
   "metadata": {},
   "outputs": [
    {
     "data": {
      "text/html": [
       "<div>\n",
       "<style scoped>\n",
       "    .dataframe tbody tr th:only-of-type {\n",
       "        vertical-align: middle;\n",
       "    }\n",
       "\n",
       "    .dataframe tbody tr th {\n",
       "        vertical-align: top;\n",
       "    }\n",
       "\n",
       "    .dataframe thead th {\n",
       "        text-align: right;\n",
       "    }\n",
       "</style>\n",
       "<table border=\"1\" class=\"dataframe\">\n",
       "  <thead>\n",
       "    <tr style=\"text-align: right;\">\n",
       "      <th></th>\n",
       "      <th>competitor</th>\n",
       "      <th>weight</th>\n",
       "      <th>price_personal</th>\n",
       "      <th>avg_price_per_gramm</th>\n",
       "      <th>data</th>\n",
       "    </tr>\n",
       "  </thead>\n",
       "  <tbody>\n",
       "    <tr>\n",
       "      <th>0</th>\n",
       "      <td>Adamas</td>\n",
       "      <td>1471.340000</td>\n",
       "      <td>1.754871e+07</td>\n",
       "      <td>11927.0</td>\n",
       "      <td>15.3.2024</td>\n",
       "    </tr>\n",
       "    <tr>\n",
       "      <th>1</th>\n",
       "      <td>Sokolov</td>\n",
       "      <td>3554.810000</td>\n",
       "      <td>2.997233e+07</td>\n",
       "      <td>8431.0</td>\n",
       "      <td>15.3.2024</td>\n",
       "    </tr>\n",
       "    <tr>\n",
       "      <th>2</th>\n",
       "      <td>Sunlight</td>\n",
       "      <td>13617.730000</td>\n",
       "      <td>7.630641e+07</td>\n",
       "      <td>5603.0</td>\n",
       "      <td>15.3.2024</td>\n",
       "    </tr>\n",
       "    <tr>\n",
       "      <th>3</th>\n",
       "      <td>Wildberries</td>\n",
       "      <td>14303.896630</td>\n",
       "      <td>1.137875e+08</td>\n",
       "      <td>7955.0</td>\n",
       "      <td>15.3.2024</td>\n",
       "    </tr>\n",
       "    <tr>\n",
       "      <th>4</th>\n",
       "      <td>Линии любви</td>\n",
       "      <td>1377.181807</td>\n",
       "      <td>1.145661e+07</td>\n",
       "      <td>8319.0</td>\n",
       "      <td>15.3.2024</td>\n",
       "    </tr>\n",
       "  </tbody>\n",
       "</table>\n",
       "</div>"
      ],
      "text/plain": [
       "    competitor        weight  price_personal  avg_price_per_gramm       data\n",
       "0       Adamas   1471.340000    1.754871e+07              11927.0  15.3.2024\n",
       "1      Sokolov   3554.810000    2.997233e+07               8431.0  15.3.2024\n",
       "2     Sunlight  13617.730000    7.630641e+07               5603.0  15.3.2024\n",
       "3  Wildberries  14303.896630    1.137875e+08               7955.0  15.3.2024\n",
       "4  Линии любви   1377.181807    1.145661e+07               8319.0  15.3.2024"
      ]
     },
     "execution_count": 865,
     "metadata": {},
     "output_type": "execute_result"
    }
   ],
   "source": [
    "data_history"
   ]
  },
  {
   "cell_type": "code",
   "execution_count": 863,
   "id": "daf4b5a4-aa4b-4c7f-9b18-3762399b83ca",
   "metadata": {
    "tags": []
   },
   "outputs": [],
   "source": [
    "data_history.to_excel(rf'\\\\gold585.int\\uk\\Общее хранилище файлов\\Служба аналитики\\Тренкин Сергей\\data_history_bk_cb_per_gramm\\\\ppg_{day}_{month}_{year}.xlsx', index=False)"
   ]
  }
 ],
 "metadata": {
  "kernelspec": {
   "display_name": "Python 3 (ipykernel)",
   "language": "python",
   "name": "python3"
  },
  "language_info": {
   "codemirror_mode": {
    "name": "ipython",
    "version": 3
   },
   "file_extension": ".py",
   "mimetype": "text/x-python",
   "name": "python",
   "nbconvert_exporter": "python",
   "pygments_lexer": "ipython3",
   "version": "3.12.0"
  }
 },
 "nbformat": 4,
 "nbformat_minor": 5
}
