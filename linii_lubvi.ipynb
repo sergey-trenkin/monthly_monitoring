{
 "cells": [
  {
   "cell_type": "code",
   "execution_count": 316,
   "metadata": {},
   "outputs": [],
   "source": [
    "import json\n",
    "import time\n",
    "import requests\n",
    "import numpy as np\n",
    "from tqdm.auto import tqdm\n",
    "from datetime import datetime\n",
    "from bs4 import BeautifulSoup as bs\n",
    "from selenium.webdriver.common.by import By\n",
    "from fake_useragent import UserAgent\n",
    "import pandas as pd\n",
    "import warnings\n",
    "warnings.filterwarnings('ignore')"
   ]
  },
  {
   "cell_type": "code",
   "execution_count": 317,
   "metadata": {},
   "outputs": [],
   "source": [
    "current_datetime = datetime.now()"
   ]
  },
  {
   "cell_type": "code",
   "execution_count": 318,
   "metadata": {},
   "outputs": [],
   "source": [
    "filename = f'linii_lubvi_{current_datetime.day}_{current_datetime.month}.xlsx'"
   ]
  },
  {
   "cell_type": "code",
   "execution_count": 319,
   "metadata": {},
   "outputs": [],
   "source": [
    "cookies = {\n",
    "    '__ddgid_': 'JX58qbbb3PHdWZ43',\n",
    "    '__ddg2_': 'SasnCXcXaSPjKfkF',\n",
    "    '__ddg1_': 'wLWQw8kuYGGbgxttlHm2',\n",
    "    'experimentVariantId_ll8': '11',\n",
    "    'subscribe-popup': 'cookiesubscribe',\n",
    "    'rrpvid': '822158495319251',\n",
    "    '_ym_uid': '1698041660594023635',\n",
    "    '_ym_d': '1698041660',\n",
    "    'tmr_lvid': '53c65497a757cbb85074d9e298748caa',\n",
    "    'tmr_lvidTS': '1698041659870',\n",
    "    'rcuid': '6527aace80057fba2add642e',\n",
    "    'BX_USER_ID': '6d8e8ec7412fc8bf94b4e13d087ffa5f',\n",
    "    '_userGUID': '0:lo2i5umr:ORWCpvmo~q0hArF1bVbRQxprFHm4mxD2',\n",
    "    'popmechanic_sbjs_migrations': 'popmechanic_1418474375998%3D1%7C%7C%7C1471519752600%3D1%7C%7C%7C1471519752605%3D1',\n",
    "    'BITRIX_SM_UIDH': 'ba56e56642279fea4b479ba31d92b4e5',\n",
    "    'BITRIX_SM_UIDL': 'LL_79093180245',\n",
    "    'BITRIX_SM_SALE_UID': '0',\n",
    "    '__utmz': '117815316.1706506202.10.2.utmcsr=google|utmccn=(organic)|utmcmd=organic|utmctr=(not%20provided)',\n",
    "    'advcake_track_id': 'ed260e2f-f044-66c5-ec29-60132d81d363',\n",
    "    'advcake_session_id': '9ea27407-3a65-709f-99e7-01d641ed886b',\n",
    "    '_gid': 'GA1.2.475253905.1709724082',\n",
    "    '_ym_isad': '1',\n",
    "    'BITRIX_SM_SOUND_LOGIN_PLAYED': 'Y',\n",
    "    '_ga_cid': '378912807.1698041660',\n",
    "    'BITRIX_CONVERSION_CONTEXT_od': '%7B%22ID%22%3A1%2C%22EXPIRE%22%3A1709845140%2C%22UNIQUE%22%3A%5B%22conversion_visit_day%22%5D%7D',\n",
    "    '__utma': '117815316.378912807.1698041660.1709724083.1709793716.16',\n",
    "    '__utmc': '117815316',\n",
    "    '__utmt_UA-32426418-13': '1',\n",
    "    'dSesn': '927bd3c3-6e52-4584-f940-cb41aaf2414e',\n",
    "    '_dvs': '0:ltgv1742:55CGZykIuGpd4ewHt~U8PMQbUD3aUZ2L',\n",
    "    'digi_uc': 'W1sidiIsIjEwMDE5OTY5IiwxNzA5NzI1MzMwNzU0XSxbInYiLCI4NDQ5OTQ2IiwxNzA5NzkzNzE2NTU3XSxbInYiLCIxMDM1OTQ2MyIsMTcwOTI4MzA0OTUyMV0sWyJ2IiwiMTAzNTkzNzUiLDE3MDkyODMwNDI5MjNdLFsidiIsIjEwMzU5MzczIiwxNzA5MjgzMDM0ODQzXV0=',\n",
    "    'full': '0',\n",
    "    'PHPSESSID': '1qop03lqnadl6slqja15k3bbsf',\n",
    "    '_gat': '1',\n",
    "    '_ga_Q2GKTC7MRN': 'GS1.1.1709793716.18.1.1709793812.0.0.0',\n",
    "    '_ga': 'GA1.1.378912807.1698041660',\n",
    "    '__utmb': '117815316.9.10.1709793716',\n",
    "    '_ga_P3KP5WRTY8': 'GS1.2.1709793716.15.1.1709793812.47.0.0',\n",
    "    'tmr_detect': '1%7C1709793812253',\n",
    "    'mindboxDeviceUUID': '6e9424e5-a80e-43b6-b480-b1d86e4084fd',\n",
    "    'directCrm-session': '%7B%22deviceGuid%22%3A%226e9424e5-a80e-43b6-b480-b1d86e4084fd%22%7D',\n",
    "}\n",
    "headers = {'user-agent': UserAgent().random}"
   ]
  },
  {
   "cell_type": "code",
   "execution_count": 320,
   "metadata": {},
   "outputs": [],
   "source": [
    "response = requests.get(f'https://liniilubvi.ru/catalog/zolotye/proba_585/', headers=headers, cookies=cookies)"
   ]
  },
  {
   "cell_type": "code",
   "execution_count": 324,
   "metadata": {},
   "outputs": [],
   "source": [
    "soup = bs(response.content, 'html.parser')\n",
    "pages = soup.find_all('a', class_='pager-item')[-1].get('href')\n",
    "id = pages.find('=')\n",
    "total = int(pages[id+1:])\n",
    "\n",
    "paginator = pages.find('?')\n",
    "paginator = pages[paginator:pages.find('=')+1]"
   ]
  },
  {
   "cell_type": "code",
   "execution_count": 325,
   "metadata": {},
   "outputs": [],
   "source": [
    "urls = list()\n",
    "prices = list()"
   ]
  },
  {
   "cell_type": "code",
   "execution_count": 326,
   "metadata": {},
   "outputs": [
    {
     "data": {
      "application/vnd.jupyter.widget-view+json": {
       "model_id": "870e89d5ab234b2f8192ef41d6a247a5",
       "version_major": 2,
       "version_minor": 0
      },
      "text/plain": [
       "  0%|          | 0/132 [00:00<?, ?it/s]"
      ]
     },
     "metadata": {},
     "output_type": "display_data"
    }
   ],
   "source": [
    "for page in tqdm(range(1, total + 1)):\n",
    "    response = requests.get(f'https://liniilubvi.ru/catalog/zolotye/proba_585/{paginator}{page}', headers=headers, cookies=cookies)\n",
    "    soup = bs(response.content, 'html.parser')\n",
    "    links = soup.find_all('div', class_='b-fade-slider mob-hide-1024')\n",
    "    prices_ = soup.find_all('span', class_='carusel-wrap-line-center-item-list-item-price price_rub')\n",
    "    if len(prices_) == len(links):\n",
    "        for link in links:\n",
    "            urls.append(link.get('href'))\n",
    "        for price in prices_:\n",
    "            prices.append(price.text.strip())"
   ]
  },
  {
   "cell_type": "code",
   "execution_count": 327,
   "metadata": {},
   "outputs": [],
   "source": [
    "df = pd.DataFrame({'links': urls, 'price': prices}).drop_duplicates(ignore_index=True)"
   ]
  },
  {
   "cell_type": "code",
   "execution_count": 328,
   "metadata": {},
   "outputs": [],
   "source": [
    "groups = list()\n",
    "names = list()\n",
    "weights = list()\n",
    "params = list()"
   ]
  },
  {
   "cell_type": "code",
   "execution_count": 329,
   "metadata": {},
   "outputs": [
    {
     "data": {
      "application/vnd.jupyter.widget-view+json": {
       "model_id": "eaa524cf213649fb820fd685c647d41a",
       "version_major": 2,
       "version_minor": 0
      },
      "text/plain": [
       "  0%|          | 0/1733 [00:00<?, ?it/s]"
      ]
     },
     "metadata": {},
     "output_type": "display_data"
    }
   ],
   "source": [
    "for link in tqdm(df['links'].tolist()):\n",
    "    try:\n",
    "        response = requests.get(f'https://liniilubvi.ru{link}', headers=headers, cookies=cookies).content\n",
    "    except Exception as ex:\n",
    "        print(ex)\n",
    "        groups.append(np.nan)\n",
    "        names.append(np.nan)\n",
    "        weights.append(np.nan)\n",
    "        prices.append(np.nan)\n",
    "        params.append(np.nan)\n",
    "        continue\n",
    "    \n",
    "    soup = bs(response, 'html.parser')\n",
    "    \n",
    "    try:\n",
    "        group = soup.find('span', class_=\"breadcrumbs__item-text\").text\n",
    "    except:\n",
    "        group = np.nan\n",
    "        \n",
    "    try:\n",
    "        price = soup.find('a', class_=\"btn red btn--block\").text.strip()\n",
    "        try:\n",
    "            price = soup.find('div', class_=\"pro-price-block\").find('span', class_=\"pro-price-item\").text\n",
    "        except:\n",
    "            price = np.nan\n",
    "    except:\n",
    "        price = np.nan\n",
    "        \n",
    "    try:\n",
    "        name = soup.find('div', class_=\"title-border title-border--mb\").find('h1', {'itemprop': 'name'}).text\n",
    "    except:\n",
    "        name = np.nan\n",
    "\n",
    "    try:\n",
    "        weight = soup.find('div', class_=\"param-item-right middle-weight\").text\n",
    "    except:\n",
    "        weight = np.nan\n",
    "    \n",
    "    # params_names = []\n",
    "    # params_values = []\n",
    "    # param = soup.find_all('li', class_='param-item clearfix')\n",
    "    # len_params = len(param)\n",
    "    # for i in range(len_params):\n",
    "    #     try:\n",
    "    #         name = params[i].find('div', class_='param-item-left').text\n",
    "    #         params_names.append(name)\n",
    "    #     except:\n",
    "    #         params_names.append(np.nan)\n",
    "    #     try:\n",
    "    #         value = params[i].find('div', class_='param-item-right 111').text\n",
    "    #         params_values.append(value)\n",
    "    #     except:\n",
    "    #         params_values.append(np.nan)\n",
    "\n",
    "    # linii_params = dict(zip(params_names, params_values))\n",
    "    \n",
    "    groups.append(group)\n",
    "    names.append(name)\n",
    "    weights.append(weight)\n",
    "    prices.append(price)\n",
    "    # params.append(linii_params)    "
   ]
  },
  {
   "cell_type": "code",
   "execution_count": 330,
   "metadata": {},
   "outputs": [],
   "source": [
    "cards = pd.DataFrame({'name': names, 'weight': weights, 'group': groups})"
   ]
  },
  {
   "cell_type": "code",
   "execution_count": 332,
   "metadata": {},
   "outputs": [],
   "source": [
    "df = pd.concat([df, cards], axis=True)"
   ]
  },
  {
   "cell_type": "code",
   "execution_count": 352,
   "metadata": {},
   "outputs": [],
   "source": [
    "def fill_weight(weight):\n",
    "    try:\n",
    "        int(weight[0])\n",
    "        return float(weight)\n",
    "    except:\n",
    "        return -1"
   ]
  },
  {
   "cell_type": "code",
   "execution_count": null,
   "metadata": {},
   "outputs": [],
   "source": [
    "df['weight'] = df['weight'].str.replace(' г', '')\n",
    "df['weight'] = df['weight'].apply(fill_weight)\n",
    "df['price'] = df['price'].str.replace(' ', '').astype('int')"
   ]
  },
  {
   "cell_type": "code",
   "execution_count": 356,
   "metadata": {},
   "outputs": [],
   "source": [
    "df_test = df[df['weight'] > -1]"
   ]
  },
  {
   "cell_type": "code",
   "execution_count": 362,
   "metadata": {},
   "outputs": [],
   "source": [
    "def fill_mean(weight):\n",
    "    if weight < 1:\n",
    "        return df_test['weight'].mean()\n",
    "    return weight"
   ]
  },
  {
   "cell_type": "code",
   "execution_count": 363,
   "metadata": {},
   "outputs": [],
   "source": [
    "df['weight'] = df['weight'].apply(fill_mean)"
   ]
  },
  {
   "cell_type": "code",
   "execution_count": 364,
   "metadata": {},
   "outputs": [
    {
     "name": "stdout",
     "output_type": "stream",
     "text": [
      "<class 'pandas.core.frame.DataFrame'>\n",
      "RangeIndex: 1733 entries, 0 to 1732\n",
      "Data columns (total 6 columns):\n",
      " #   Column  Non-Null Count  Dtype  \n",
      "---  ------  --------------  -----  \n",
      " 0   links   1733 non-null   object \n",
      " 1   price   1733 non-null   int32  \n",
      " 2   name    1733 non-null   object \n",
      " 3   weight  1733 non-null   float64\n",
      " 4   group   1733 non-null   object \n",
      " 5   params  1733 non-null   object \n",
      "dtypes: float64(1), int32(1), object(4)\n",
      "memory usage: 74.6+ KB\n"
     ]
    }
   ],
   "source": [
    "df.info()"
   ]
  },
  {
   "cell_type": "code",
   "execution_count": 365,
   "metadata": {},
   "outputs": [],
   "source": [
    "df.to_excel(f'C:\\\\Users\\Trenkin.Sergey\\Desktop\\parsers\\workspace\\{filename}')"
   ]
  },
  {
   "cell_type": "code",
   "execution_count": null,
   "metadata": {},
   "outputs": [],
   "source": []
  }
 ],
 "metadata": {
  "kernelspec": {
   "display_name": "Python 3",
   "language": "python",
   "name": "python3"
  },
  "language_info": {
   "codemirror_mode": {
    "name": "ipython",
    "version": 3
   },
   "file_extension": ".py",
   "mimetype": "text/x-python",
   "name": "python",
   "nbconvert_exporter": "python",
   "pygments_lexer": "ipython3",
   "version": "3.12.0"
  }
 },
 "nbformat": 4,
 "nbformat_minor": 2
}
